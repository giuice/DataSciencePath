{
 "cells": [
  {
   "cell_type": "markdown",
   "metadata": {},
   "source": [
    "<a><img src=\"https://miro.medium.com/max/2600/1*UgtAVUCzrnAVEpz-if-0gA.png\" width=\"800\" align=\"center\"></a>\n",
    "\n",
    "<h1 align=\"center\"><font size=\"5\">Data Visualization and Analysis of COVID-19 in Mexico</font></h1>"
   ]
  },
  {
   "cell_type": "markdown",
   "metadata": {},
   "source": [
    "<p align=\"justify\" style=\"text-align:justify\"><font size=\"3\">The purpose of this notebook is to describe the general panorama of the current situation in Mexico with the most affected states in Mexico and the most hit countries. This can serve to help people take useful social and health measures to slow or stop the spread of COVID-19 at the national or local level.</font></p>"
   ]
  },
  {
   "cell_type": "markdown",
   "metadata": {},
   "source": [
    "**Keywords:** COVID-19, Data Visualization, Data Analysis"
   ]
  },
  {
   "cell_type": "markdown",
   "metadata": {},
   "source": [
    "# Introduction"
   ]
  },
  {
   "cell_type": "markdown",
   "metadata": {},
   "source": [
    "<p align=\"justify\" style=\"text-align:justify\"><font size=\"3\">Since late December 2019, an outbreak of a novel coronavirus disease (COVID-19; previously known as 2019-nCoV) was reported in Wuhan, China, which has subsequently affected 210 countries worldwide. In general, COVID-19 is an acute resolved disease but it can also be deadly, with a 2% case fatality rate [1]. As of August 10, 2020, about 480 k cases have been confirmed, with over 52,298 deaths and 322 k recovered in Mexico.</font></p>\n"
   ]
  },
  {
   "cell_type": "markdown",
   "metadata": {},
   "source": [
    "<p align=\"justify\" style=\"text-align:justify\"><font size=\"3\">Severe disease onset might result in death due to massive alveolar damage and progressive respiratory failure. The Covid-19 pandemic is of high risk for patients on chronic hemodialysis due to their immunosuppressed state, advanced age, and the coexistence of significant comorbidities, in particular cardiovascular disease, diabetes mellitus, and others. Also remarkable is that cardiovascular risk factors are highly common among the Mexican population and increasing at alarming rates. Cardiovascular diseases represent the first cause of death in Mexico [2].</font></p>"
   ]
  },
  {
   "cell_type": "markdown",
   "metadata": {},
   "source": [
    "# Data Processing"
   ]
  },
  {
   "cell_type": "markdown",
   "metadata": {},
   "source": [
    "<p align=\"justify\" style=\"text-align:justify\"><font size=\"3\">Data processing occurs when data is collected and translated into usable information. Data almost never comes in a form that is ready for us. It is important for data processing to be done correctly as not to negatively affect the data output [2].</font></p>"
   ]
  },
  {
   "cell_type": "markdown",
   "metadata": {},
   "source": [
    "# Data Collection"
   ]
  },
  {
   "cell_type": "markdown",
   "metadata": {},
   "source": [
    "<p align=\"justify\" style=\"text-align:justify\"><font size=\"3\">Collecting data is the first step in the data processing. Data is pulled from available sources. It is important that the data sources available are trustworthy and well-built so that the data collected (and later used as information) is of the highest possible quality [2].</font></p>"
   ]
  },
  {
   "cell_type": "markdown",
   "metadata": {},
   "source": [
    "<p align=\"justify\" style=\"text-align:justify\"><font size=\"3\">Novel Coronavirus (COVID-19) epidemiological data has been around since 22 January, 2020. Data loaded from the John Hopkins CSSE data repository comes from various sources including the World Health Organization (WHO), DXY.cn. The data is updated twice on a daily basis.</font></p>"
   ]
  },
  {
   "cell_type": "markdown",
   "metadata": {},
   "source": [
    "[John Hopkins CSSE data repository](https://github.com/CSSEGISandData/COVID-19/tree/master/csse_covid_19_data/csse_covid_19_time_series)"
   ]
  },
  {
   "cell_type": "markdown",
   "metadata": {},
   "source": [
    "<p align=\"justify\" style=\"text-align:justify\"><font size=\"3\">Fields available in the data include Province/State, Country/Region, Last Update, Confirmed, Suspected, Recovered, and Deaths.</font></p>"
   ]
  },
  {
   "cell_type": "markdown",
   "metadata": {},
   "source": [
    "<p align=\"justify\" style=\"text-align:justify\"><font size=\"3\">On 23 March, 2020, a new data structure was released. The current resources for the latest time-series data are:</font></p>"
   ]
  },
  {
   "cell_type": "markdown",
   "metadata": {},
   "source": [
    "- time_series_covid19_confirmed_global.csv\n",
    "- time_series_covid19_deaths_global.csv\n",
    "- time_series_covid19_recovered_global.csv"
   ]
  },
  {
   "cell_type": "markdown",
   "metadata": {},
   "source": [
    "### Import the modules "
   ]
  },
  {
   "cell_type": "code",
   "execution_count": null,
   "metadata": {},
   "outputs": [],
   "source": [
    "!pip install pandas\n",
    "!pip install seaborn\n",
    "!pip install plotly\n",
    "!pip install altair"
   ]
  },
  {
   "cell_type": "code",
   "execution_count": 1,
   "metadata": {},
   "outputs": [
    {
     "name": "stdout",
     "output_type": "stream",
     "text": [
      "Modules are imported.\n"
     ]
    }
   ],
   "source": [
    "import pandas as pd \n",
    "import numpy as np \n",
    "import seaborn as sns\n",
    "\n",
    "from ipywidgets import interact, interactive, fixed, interact_manual\n",
    "from IPython.core.display import display, HTML\n",
    "import matplotlib.pyplot as plt \n",
    "import ipywidgets as widgets\n",
    "import plotly.express as px\n",
    "import plotly.graph_objects as go\n",
    "import pandas as pd\n",
    "import altair as alt\n",
    "print('Modules are imported.')"
   ]
  },
  {
   "cell_type": "markdown",
   "metadata": {},
   "source": [
    "### Import the data "
   ]
  },
  {
   "cell_type": "code",
   "execution_count": 2,
   "metadata": {},
   "outputs": [],
   "source": [
    "df_confirmed = pd.read_csv('https://raw.githubusercontent.com/CSSEGISandData/COVID-19/master/csse_covid_19_data/csse_covid_19_time_series/time_series_covid19_confirmed_global.csv')\n",
    "df_recovered = pd.read_csv('https://raw.githubusercontent.com/CSSEGISandData/COVID-19/master/csse_covid_19_data/csse_covid_19_time_series/time_series_covid19_recovered_global.csv')\n",
    "df_death = pd.read_csv('https://raw.githubusercontent.com/CSSEGISandData/COVID-19/master/csse_covid_19_data/csse_covid_19_time_series/time_series_covid19_deaths_global.csv')\n",
    "df_country = pd.read_csv('https://raw.githubusercontent.com/CSSEGISandData/COVID-19/web-data/data/cases_country.csv')"
   ]
  },
  {
   "cell_type": "markdown",
   "metadata": {},
   "source": [
    "# Data Preparation"
   ]
  },
  {
   "cell_type": "markdown",
   "metadata": {},
   "source": [
    "<p align=\"justify\" style=\"text-align:justify\"><font size=\"3\">Once the data is collected, it then enters the data preparation stage. Data preparation, often referred to as “pre-processing,” is the stage at which raw data is cleaned up and organized for the following stage of data processing. During preparation, raw data is diligently checked for any errors. The purpose of this step is to eliminate bad data (redundant, incomplete, or incorrect data).</font></p>"
   ]
  },
  {
   "cell_type": "code",
   "execution_count": 3,
   "metadata": {},
   "outputs": [],
   "source": [
    "df_death['Country/Region'] = df_death['Country/Region'].replace('Mainland China', 'China')\n",
    "df_confirmed['Country/Region'] = df_confirmed['Country/Region'].replace('Mainland China', 'China')\n",
    "df_recovered['Country/Region'] = df_recovered['Country/Region'].replace('Mainland China', 'China')"
   ]
  },
  {
   "cell_type": "code",
   "execution_count": 4,
   "metadata": {},
   "outputs": [],
   "source": [
    "df_confirmed.columns = map(str.lower, df_confirmed.columns)\n",
    "df_recovered.columns = map(str.lower, df_recovered.columns)\n",
    "df_death.columns = map(str.lower, df_death.columns)\n",
    "df_country.columns = map(str.lower, df_country.columns)"
   ]
  },
  {
   "cell_type": "code",
   "execution_count": 5,
   "metadata": {},
   "outputs": [],
   "source": [
    "df_confirmed = df_confirmed.rename(columns={'province/state': 'state', 'country/region': 'country'})\n",
    "df_recovered = df_recovered.rename(columns={'province/state': 'state', 'country/region': 'country'})\n",
    "df_death = df_death.rename(columns={'province/state': 'state', 'country/region': 'country'})\n",
    "df_country = df_country.rename(columns={'country_region': 'country'})"
   ]
  },
  {
   "cell_type": "markdown",
   "metadata": {},
   "source": [
    "# Data Input"
   ]
  },
  {
   "cell_type": "markdown",
   "metadata": {},
   "source": [
    "<p align=\"justify\" style=\"text-align:justify\"><font size=\"3\">Data input is the first stage in which raw data begins to take the form of usable information.</font></p>"
   ]
  },
  {
   "cell_type": "code",
   "execution_count": 6,
   "metadata": {},
   "outputs": [],
   "source": [
    "sorted_country = df_country.sort_values('confirmed', ascending=False).head(10)\n",
    "sorted_recovered = df_country.sort_values('recovered', ascending=False).head(10)"
   ]
  },
  {
   "cell_type": "code",
   "execution_count": 7,
   "metadata": {},
   "outputs": [],
   "source": [
    "confirmed_total = int(df_country['confirmed'].sum())\n",
    "deaths_total = int(df_country['deaths'].sum())\n",
    "recovered_total = int(df_country['recovered'].sum())\n",
    "active_total = int(df_country['active'].sum())"
   ]
  },
  {
   "cell_type": "markdown",
   "metadata": {},
   "source": [
    "<p align=\"justify\" style=\"text-align:justify\"><font size=\"3\">As the coronavirus reaches more than 170 countries and the WHO declares nCoV as a global pandemic, the following are lists of the top ten countries affected by COVID-19.</font></p>"
   ]
  },
  {
   "cell_type": "markdown",
   "metadata": {},
   "source": [
    "### Sort the countries with the most mortality rate"
   ]
  },
  {
   "cell_type": "code",
   "execution_count": 8,
   "metadata": {},
   "outputs": [
    {
     "data": {
      "text/html": [
       "<div>\n",
       "<style scoped>\n",
       "    .dataframe tbody tr th:only-of-type {\n",
       "        vertical-align: middle;\n",
       "    }\n",
       "\n",
       "    .dataframe tbody tr th {\n",
       "        vertical-align: top;\n",
       "    }\n",
       "\n",
       "    .dataframe thead th {\n",
       "        text-align: right;\n",
       "    }\n",
       "</style>\n",
       "<table border=\"1\" class=\"dataframe\">\n",
       "  <thead>\n",
       "    <tr style=\"text-align: right;\">\n",
       "      <th></th>\n",
       "      <th>country</th>\n",
       "      <th>last_update</th>\n",
       "      <th>lat</th>\n",
       "      <th>long_</th>\n",
       "      <th>confirmed</th>\n",
       "      <th>deaths</th>\n",
       "      <th>recovered</th>\n",
       "      <th>active</th>\n",
       "      <th>incident_rate</th>\n",
       "      <th>people_tested</th>\n",
       "      <th>people_hospitalized</th>\n",
       "      <th>mortality_rate</th>\n",
       "      <th>uid</th>\n",
       "      <th>iso3</th>\n",
       "    </tr>\n",
       "  </thead>\n",
       "  <tbody>\n",
       "    <tr>\n",
       "      <th>189</th>\n",
       "      <td>Yemen</td>\n",
       "      <td>2021-02-03 14:22:58</td>\n",
       "      <td>15.552727</td>\n",
       "      <td>48.516388</td>\n",
       "      <td>2122.0</td>\n",
       "      <td>615.0</td>\n",
       "      <td>1427.0</td>\n",
       "      <td>80.0</td>\n",
       "      <td>7.114606</td>\n",
       "      <td>NaN</td>\n",
       "      <td>NaN</td>\n",
       "      <td>28.982092</td>\n",
       "      <td>887</td>\n",
       "      <td>YEM</td>\n",
       "    </tr>\n",
       "    <tr>\n",
       "      <th>104</th>\n",
       "      <td>MS Zaandam</td>\n",
       "      <td>2021-02-03 14:22:58</td>\n",
       "      <td>NaN</td>\n",
       "      <td>NaN</td>\n",
       "      <td>9.0</td>\n",
       "      <td>2.0</td>\n",
       "      <td>7.0</td>\n",
       "      <td>0.0</td>\n",
       "      <td>NaN</td>\n",
       "      <td>NaN</td>\n",
       "      <td>NaN</td>\n",
       "      <td>22.222222</td>\n",
       "      <td>8888</td>\n",
       "      <td>NaN</td>\n",
       "    </tr>\n",
       "    <tr>\n",
       "      <th>114</th>\n",
       "      <td>Mexico</td>\n",
       "      <td>2021-02-03 14:22:58</td>\n",
       "      <td>23.634500</td>\n",
       "      <td>-102.552800</td>\n",
       "      <td>1874092.0</td>\n",
       "      <td>159533.0</td>\n",
       "      <td>1436482.0</td>\n",
       "      <td>278077.0</td>\n",
       "      <td>1466.514184</td>\n",
       "      <td>NaN</td>\n",
       "      <td>NaN</td>\n",
       "      <td>8.512549</td>\n",
       "      <td>484</td>\n",
       "      <td>MEX</td>\n",
       "    </tr>\n",
       "    <tr>\n",
       "      <th>168</th>\n",
       "      <td>Syria</td>\n",
       "      <td>2021-02-03 14:22:58</td>\n",
       "      <td>34.802075</td>\n",
       "      <td>38.996815</td>\n",
       "      <td>14142.0</td>\n",
       "      <td>929.0</td>\n",
       "      <td>7725.0</td>\n",
       "      <td>5488.0</td>\n",
       "      <td>80.808395</td>\n",
       "      <td>NaN</td>\n",
       "      <td>NaN</td>\n",
       "      <td>6.569085</td>\n",
       "      <td>760</td>\n",
       "      <td>SYR</td>\n",
       "    </tr>\n",
       "    <tr>\n",
       "      <th>164</th>\n",
       "      <td>Sudan</td>\n",
       "      <td>2021-02-03 14:22:58</td>\n",
       "      <td>12.862800</td>\n",
       "      <td>30.217600</td>\n",
       "      <td>29536.0</td>\n",
       "      <td>1829.0</td>\n",
       "      <td>21614.0</td>\n",
       "      <td>6093.0</td>\n",
       "      <td>67.358021</td>\n",
       "      <td>NaN</td>\n",
       "      <td>NaN</td>\n",
       "      <td>6.192443</td>\n",
       "      <td>729</td>\n",
       "      <td>SDN</td>\n",
       "    </tr>\n",
       "  </tbody>\n",
       "</table>\n",
       "</div>"
      ],
      "text/plain": [
       "        country          last_update        lat       long_  confirmed  \\\n",
       "189       Yemen  2021-02-03 14:22:58  15.552727   48.516388     2122.0   \n",
       "104  MS Zaandam  2021-02-03 14:22:58        NaN         NaN        9.0   \n",
       "114      Mexico  2021-02-03 14:22:58  23.634500 -102.552800  1874092.0   \n",
       "168       Syria  2021-02-03 14:22:58  34.802075   38.996815    14142.0   \n",
       "164       Sudan  2021-02-03 14:22:58  12.862800   30.217600    29536.0   \n",
       "\n",
       "       deaths  recovered    active  incident_rate  people_tested  \\\n",
       "189     615.0     1427.0      80.0       7.114606            NaN   \n",
       "104       2.0        7.0       0.0            NaN            NaN   \n",
       "114  159533.0  1436482.0  278077.0    1466.514184            NaN   \n",
       "168     929.0     7725.0    5488.0      80.808395            NaN   \n",
       "164    1829.0    21614.0    6093.0      67.358021            NaN   \n",
       "\n",
       "     people_hospitalized  mortality_rate   uid iso3  \n",
       "189                  NaN       28.982092   887  YEM  \n",
       "104                  NaN       22.222222  8888  NaN  \n",
       "114                  NaN        8.512549   484  MEX  \n",
       "168                  NaN        6.569085   760  SYR  \n",
       "164                  NaN        6.192443   729  SDN  "
      ]
     },
     "execution_count": 8,
     "metadata": {},
     "output_type": "execute_result"
    }
   ],
   "source": [
    "sorted_mortality = df_country.sort_values('mortality_rate', ascending=False)\n",
    "sorted_mortality.head(5)"
   ]
  },
  {
   "cell_type": "code",
   "execution_count": 9,
   "metadata": {},
   "outputs": [
    {
     "data": {
      "application/vnd.jupyter.widget-view+json": {
       "model_id": "58e27673d66f406aaf45ff11d51cc817",
       "version_major": 2,
       "version_minor": 0
      },
      "text/plain": [
       "interactive(children=(Text(value='mortality_rate', description='column'), IntSlider(value=10, description='n',…"
      ]
     },
     "metadata": {},
     "output_type": "display_data"
    },
    {
     "data": {
      "application/vnd.jupyter.widget-view+json": {
       "model_id": "8bb6d1e433064f11a053abc94aafcd2b",
       "version_major": 2,
       "version_minor": 0
      },
      "text/plain": [
       "VBox(children=(FigureWidget({\n",
       "    'data': [], 'layout': {'template': '...'}\n",
       "}),), layout=Layout(border='solid …"
      ]
     },
     "metadata": {},
     "output_type": "display_data"
    }
   ],
   "source": [
    "def covid_bubble_chart_1( column, n):\n",
    "    df = sorted_mortality.head(n)\n",
    "    fig = px.scatter(df, x=\"country\", y=column, size=column, color=\"country\",\n",
    "               hover_name=\"country\", size_max=90)\n",
    "    fig.update_layout(\n",
    "    title=\"The top Worst hit countries- \" + column,\n",
    "    xaxis_title=\"Countries\",\n",
    "    yaxis_title=column,\n",
    "    width = 700\n",
    "    )\n",
    "    fig.show();\n",
    "    \n",
    "    #fig.write_image(\"images/fig1.png\")\n",
    "fig = go.FigureWidget( layout=go.Layout() )\n",
    "interact(covid_bubble_chart_1,column=\"mortality_rate\",n=10)\n",
    "\n",
    "ipywLayout = widgets.Layout(border='solid 2px green')\n",
    "ipywLayout.display='none'\n",
    "widgets.VBox([fig], layout=ipywLayout)"
   ]
  },
  {
   "cell_type": "markdown",
   "metadata": {},
   "source": [
    "### Sort the countries with the most confirmed cases"
   ]
  },
  {
   "cell_type": "code",
   "execution_count": 10,
   "metadata": {},
   "outputs": [
    {
     "data": {
      "text/html": [
       "<div>\n",
       "<style scoped>\n",
       "    .dataframe tbody tr th:only-of-type {\n",
       "        vertical-align: middle;\n",
       "    }\n",
       "\n",
       "    .dataframe tbody tr th {\n",
       "        vertical-align: top;\n",
       "    }\n",
       "\n",
       "    .dataframe thead th {\n",
       "        text-align: right;\n",
       "    }\n",
       "</style>\n",
       "<table border=\"1\" class=\"dataframe\">\n",
       "  <thead>\n",
       "    <tr style=\"text-align: right;\">\n",
       "      <th></th>\n",
       "      <th>country</th>\n",
       "      <th>last_update</th>\n",
       "      <th>lat</th>\n",
       "      <th>long_</th>\n",
       "      <th>confirmed</th>\n",
       "      <th>deaths</th>\n",
       "      <th>recovered</th>\n",
       "      <th>active</th>\n",
       "      <th>incident_rate</th>\n",
       "      <th>people_tested</th>\n",
       "      <th>people_hospitalized</th>\n",
       "      <th>mortality_rate</th>\n",
       "      <th>uid</th>\n",
       "      <th>iso3</th>\n",
       "    </tr>\n",
       "  </thead>\n",
       "  <tbody>\n",
       "    <tr>\n",
       "      <th>178</th>\n",
       "      <td>US</td>\n",
       "      <td>2021-02-03 14:22:58</td>\n",
       "      <td>40.000000</td>\n",
       "      <td>-100.000000</td>\n",
       "      <td>26437262.0</td>\n",
       "      <td>446913.0</td>\n",
       "      <td>NaN</td>\n",
       "      <td>25990349.0</td>\n",
       "      <td>8024.269361</td>\n",
       "      <td>NaN</td>\n",
       "      <td>NaN</td>\n",
       "      <td>1.690466</td>\n",
       "      <td>840</td>\n",
       "      <td>USA</td>\n",
       "    </tr>\n",
       "    <tr>\n",
       "      <th>79</th>\n",
       "      <td>India</td>\n",
       "      <td>2021-02-03 14:22:58</td>\n",
       "      <td>20.593684</td>\n",
       "      <td>78.962880</td>\n",
       "      <td>10777284.0</td>\n",
       "      <td>154596.0</td>\n",
       "      <td>10462631.0</td>\n",
       "      <td>160057.0</td>\n",
       "      <td>780.960127</td>\n",
       "      <td>NaN</td>\n",
       "      <td>NaN</td>\n",
       "      <td>1.434462</td>\n",
       "      <td>356</td>\n",
       "      <td>IND</td>\n",
       "    </tr>\n",
       "    <tr>\n",
       "      <th>23</th>\n",
       "      <td>Brazil</td>\n",
       "      <td>2021-02-03 14:22:58</td>\n",
       "      <td>-14.235000</td>\n",
       "      <td>-51.925300</td>\n",
       "      <td>9283418.0</td>\n",
       "      <td>226309.0</td>\n",
       "      <td>8258074.0</td>\n",
       "      <td>799035.0</td>\n",
       "      <td>4367.446279</td>\n",
       "      <td>NaN</td>\n",
       "      <td>NaN</td>\n",
       "      <td>2.437777</td>\n",
       "      <td>76</td>\n",
       "      <td>BRA</td>\n",
       "    </tr>\n",
       "    <tr>\n",
       "      <th>182</th>\n",
       "      <td>United Kingdom</td>\n",
       "      <td>2021-02-03 14:22:58</td>\n",
       "      <td>55.000000</td>\n",
       "      <td>-3.000000</td>\n",
       "      <td>3863757.0</td>\n",
       "      <td>108225.0</td>\n",
       "      <td>9818.0</td>\n",
       "      <td>3745640.0</td>\n",
       "      <td>5691.536948</td>\n",
       "      <td>NaN</td>\n",
       "      <td>NaN</td>\n",
       "      <td>2.801030</td>\n",
       "      <td>826</td>\n",
       "      <td>GBR</td>\n",
       "    </tr>\n",
       "    <tr>\n",
       "      <th>142</th>\n",
       "      <td>Russia</td>\n",
       "      <td>2021-02-03 14:22:58</td>\n",
       "      <td>61.524000</td>\n",
       "      <td>105.318800</td>\n",
       "      <td>3858367.0</td>\n",
       "      <td>73497.0</td>\n",
       "      <td>3328696.0</td>\n",
       "      <td>456174.0</td>\n",
       "      <td>2643.903983</td>\n",
       "      <td>NaN</td>\n",
       "      <td>NaN</td>\n",
       "      <td>1.904873</td>\n",
       "      <td>643</td>\n",
       "      <td>RUS</td>\n",
       "    </tr>\n",
       "    <tr>\n",
       "      <th>62</th>\n",
       "      <td>France</td>\n",
       "      <td>2021-02-03 14:22:58</td>\n",
       "      <td>46.227600</td>\n",
       "      <td>2.213700</td>\n",
       "      <td>3283696.0</td>\n",
       "      <td>77383.0</td>\n",
       "      <td>233102.0</td>\n",
       "      <td>2973160.0</td>\n",
       "      <td>5030.671553</td>\n",
       "      <td>NaN</td>\n",
       "      <td>NaN</td>\n",
       "      <td>2.356582</td>\n",
       "      <td>250</td>\n",
       "      <td>FRA</td>\n",
       "    </tr>\n",
       "    <tr>\n",
       "      <th>162</th>\n",
       "      <td>Spain</td>\n",
       "      <td>2021-02-03 14:22:58</td>\n",
       "      <td>40.463667</td>\n",
       "      <td>-3.749220</td>\n",
       "      <td>2851869.0</td>\n",
       "      <td>59805.0</td>\n",
       "      <td>150376.0</td>\n",
       "      <td>2641688.0</td>\n",
       "      <td>6099.630491</td>\n",
       "      <td>NaN</td>\n",
       "      <td>NaN</td>\n",
       "      <td>2.097046</td>\n",
       "      <td>724</td>\n",
       "      <td>ESP</td>\n",
       "    </tr>\n",
       "    <tr>\n",
       "      <th>85</th>\n",
       "      <td>Italy</td>\n",
       "      <td>2021-02-03 14:22:58</td>\n",
       "      <td>41.871900</td>\n",
       "      <td>12.567400</td>\n",
       "      <td>2570608.0</td>\n",
       "      <td>89344.0</td>\n",
       "      <td>2043499.0</td>\n",
       "      <td>437765.0</td>\n",
       "      <td>4251.621370</td>\n",
       "      <td>NaN</td>\n",
       "      <td>NaN</td>\n",
       "      <td>3.475598</td>\n",
       "      <td>380</td>\n",
       "      <td>ITA</td>\n",
       "    </tr>\n",
       "    <tr>\n",
       "      <th>177</th>\n",
       "      <td>Turkey</td>\n",
       "      <td>2021-02-03 14:22:58</td>\n",
       "      <td>38.963700</td>\n",
       "      <td>35.243300</td>\n",
       "      <td>2492977.0</td>\n",
       "      <td>26237.0</td>\n",
       "      <td>2379070.0</td>\n",
       "      <td>87670.0</td>\n",
       "      <td>2955.898243</td>\n",
       "      <td>NaN</td>\n",
       "      <td>NaN</td>\n",
       "      <td>1.052437</td>\n",
       "      <td>792</td>\n",
       "      <td>TUR</td>\n",
       "    </tr>\n",
       "    <tr>\n",
       "      <th>66</th>\n",
       "      <td>Germany</td>\n",
       "      <td>2021-02-03 14:22:58</td>\n",
       "      <td>51.165691</td>\n",
       "      <td>10.451526</td>\n",
       "      <td>2245948.0</td>\n",
       "      <td>59051.0</td>\n",
       "      <td>1986596.0</td>\n",
       "      <td>200301.0</td>\n",
       "      <td>2680.642455</td>\n",
       "      <td>NaN</td>\n",
       "      <td>NaN</td>\n",
       "      <td>2.629224</td>\n",
       "      <td>276</td>\n",
       "      <td>DEU</td>\n",
       "    </tr>\n",
       "  </tbody>\n",
       "</table>\n",
       "</div>"
      ],
      "text/plain": [
       "            country          last_update        lat       long_   confirmed  \\\n",
       "178              US  2021-02-03 14:22:58  40.000000 -100.000000  26437262.0   \n",
       "79            India  2021-02-03 14:22:58  20.593684   78.962880  10777284.0   \n",
       "23           Brazil  2021-02-03 14:22:58 -14.235000  -51.925300   9283418.0   \n",
       "182  United Kingdom  2021-02-03 14:22:58  55.000000   -3.000000   3863757.0   \n",
       "142          Russia  2021-02-03 14:22:58  61.524000  105.318800   3858367.0   \n",
       "62           France  2021-02-03 14:22:58  46.227600    2.213700   3283696.0   \n",
       "162           Spain  2021-02-03 14:22:58  40.463667   -3.749220   2851869.0   \n",
       "85            Italy  2021-02-03 14:22:58  41.871900   12.567400   2570608.0   \n",
       "177          Turkey  2021-02-03 14:22:58  38.963700   35.243300   2492977.0   \n",
       "66          Germany  2021-02-03 14:22:58  51.165691   10.451526   2245948.0   \n",
       "\n",
       "       deaths   recovered      active  incident_rate  people_tested  \\\n",
       "178  446913.0         NaN  25990349.0    8024.269361            NaN   \n",
       "79   154596.0  10462631.0    160057.0     780.960127            NaN   \n",
       "23   226309.0   8258074.0    799035.0    4367.446279            NaN   \n",
       "182  108225.0      9818.0   3745640.0    5691.536948            NaN   \n",
       "142   73497.0   3328696.0    456174.0    2643.903983            NaN   \n",
       "62    77383.0    233102.0   2973160.0    5030.671553            NaN   \n",
       "162   59805.0    150376.0   2641688.0    6099.630491            NaN   \n",
       "85    89344.0   2043499.0    437765.0    4251.621370            NaN   \n",
       "177   26237.0   2379070.0     87670.0    2955.898243            NaN   \n",
       "66    59051.0   1986596.0    200301.0    2680.642455            NaN   \n",
       "\n",
       "     people_hospitalized  mortality_rate  uid iso3  \n",
       "178                  NaN        1.690466  840  USA  \n",
       "79                   NaN        1.434462  356  IND  \n",
       "23                   NaN        2.437777   76  BRA  \n",
       "182                  NaN        2.801030  826  GBR  \n",
       "142                  NaN        1.904873  643  RUS  \n",
       "62                   NaN        2.356582  250  FRA  \n",
       "162                  NaN        2.097046  724  ESP  \n",
       "85                   NaN        3.475598  380  ITA  \n",
       "177                  NaN        1.052437  792  TUR  \n",
       "66                   NaN        2.629224  276  DEU  "
      ]
     },
     "execution_count": 10,
     "metadata": {},
     "output_type": "execute_result"
    }
   ],
   "source": [
    "sorted_confirmed = df_country.sort_values('confirmed', ascending=False).head(10)\n",
    "sorted_confirmed.head(10)"
   ]
  },
  {
   "cell_type": "markdown",
   "metadata": {},
   "source": [
    "### Data table with the top hit confirmed cases"
   ]
  },
  {
   "cell_type": "code",
   "execution_count": 11,
   "metadata": {},
   "outputs": [],
   "source": [
    "df = sorted_confirmed.head(10)"
   ]
  },
  {
   "cell_type": "code",
   "execution_count": 12,
   "metadata": {},
   "outputs": [],
   "source": [
    "data_table = pd.DataFrame()\n",
    "data_table[\"Country\"] = df['country']\n",
    "data_table[\"Confirmed\"] = df['confirmed']\n",
    "data_table[\"Deaths\"] = df['deaths']\n",
    "data_table[\"Recovered\"] = df['recovered']"
   ]
  },
  {
   "cell_type": "code",
   "execution_count": 13,
   "metadata": {},
   "outputs": [
    {
     "data": {
      "text/html": [
       "<style  type=\"text/css\" >\n",
       "#T_ee33e_row0_col0,#T_ee33e_row1_col0,#T_ee33e_row2_col0,#T_ee33e_row3_col0,#T_ee33e_row4_col0,#T_ee33e_row5_col0,#T_ee33e_row6_col0,#T_ee33e_row7_col0,#T_ee33e_row8_col0,#T_ee33e_row9_col0{\n",
       "            text-align:  right;\n",
       "        }#T_ee33e_row0_col1,#T_ee33e_row0_col2,#T_ee33e_row1_col3{\n",
       "            text-align:  right;\n",
       "            background-color:  #67000d;\n",
       "            color:  #f1f1f1;\n",
       "        }#T_ee33e_row0_col3{\n",
       "            text-align:  right;\n",
       "            background-color:  #000000;\n",
       "            color:  #f1f1f1;\n",
       "        }#T_ee33e_row1_col1{\n",
       "            text-align:  right;\n",
       "            background-color:  #fc997a;\n",
       "            color:  #000000;\n",
       "        }#T_ee33e_row1_col2{\n",
       "            text-align:  right;\n",
       "            background-color:  #fca98c;\n",
       "            color:  #000000;\n",
       "        }#T_ee33e_row2_col1{\n",
       "            text-align:  right;\n",
       "            background-color:  #fcae92;\n",
       "            color:  #000000;\n",
       "        }#T_ee33e_row2_col2{\n",
       "            text-align:  right;\n",
       "            background-color:  #fb7252;\n",
       "            color:  #000000;\n",
       "        }#T_ee33e_row2_col3{\n",
       "            text-align:  right;\n",
       "            background-color:  #be151a;\n",
       "            color:  #f1f1f1;\n",
       "        }#T_ee33e_row3_col1,#T_ee33e_row4_col1{\n",
       "            text-align:  right;\n",
       "            background-color:  #feeae0;\n",
       "            color:  #000000;\n",
       "        }#T_ee33e_row3_col2,#T_ee33e_row7_col3{\n",
       "            text-align:  right;\n",
       "            background-color:  #fdccb8;\n",
       "            color:  #000000;\n",
       "        }#T_ee33e_row3_col3,#T_ee33e_row8_col2,#T_ee33e_row9_col1{\n",
       "            text-align:  right;\n",
       "            background-color:  #fff5f0;\n",
       "            color:  #000000;\n",
       "        }#T_ee33e_row4_col2{\n",
       "            text-align:  right;\n",
       "            background-color:  #fee3d6;\n",
       "            color:  #000000;\n",
       "        }#T_ee33e_row4_col3{\n",
       "            text-align:  right;\n",
       "            background-color:  #fca588;\n",
       "            color:  #000000;\n",
       "        }#T_ee33e_row5_col1{\n",
       "            text-align:  right;\n",
       "            background-color:  #ffeee7;\n",
       "            color:  #000000;\n",
       "        }#T_ee33e_row5_col2{\n",
       "            text-align:  right;\n",
       "            background-color:  #fee1d3;\n",
       "            color:  #000000;\n",
       "        }#T_ee33e_row5_col3{\n",
       "            text-align:  right;\n",
       "            background-color:  #fff2eb;\n",
       "            color:  #000000;\n",
       "        }#T_ee33e_row6_col1{\n",
       "            text-align:  right;\n",
       "            background-color:  #fff1ea;\n",
       "            color:  #000000;\n",
       "        }#T_ee33e_row6_col2{\n",
       "            text-align:  right;\n",
       "            background-color:  #fee8dd;\n",
       "            color:  #000000;\n",
       "        }#T_ee33e_row6_col3,#T_ee33e_row7_col1{\n",
       "            text-align:  right;\n",
       "            background-color:  #fff3ed;\n",
       "            color:  #000000;\n",
       "        }#T_ee33e_row7_col2{\n",
       "            text-align:  right;\n",
       "            background-color:  #fed9c9;\n",
       "            color:  #000000;\n",
       "        }#T_ee33e_row8_col1{\n",
       "            text-align:  right;\n",
       "            background-color:  #fff4ee;\n",
       "            color:  #000000;\n",
       "        }#T_ee33e_row8_col3{\n",
       "            text-align:  right;\n",
       "            background-color:  #fcc2aa;\n",
       "            color:  #000000;\n",
       "        }#T_ee33e_row9_col2{\n",
       "            text-align:  right;\n",
       "            background-color:  #fee8de;\n",
       "            color:  #000000;\n",
       "        }#T_ee33e_row9_col3{\n",
       "            text-align:  right;\n",
       "            background-color:  #fdcdb9;\n",
       "            color:  #000000;\n",
       "        }</style><table id=\"T_ee33e_\" ><caption>Top 10 countries most affected by coronavirus</caption><thead>    <tr>        <th class=\"col_heading level0 col0\" >Country</th>        <th class=\"col_heading level0 col1\" >Confirmed</th>        <th class=\"col_heading level0 col2\" >Deaths</th>        <th class=\"col_heading level0 col3\" >Recovered</th>    </tr></thead><tbody>\n",
       "                <tr>\n",
       "                                <td id=\"T_ee33e_row0_col0\" class=\"data row0 col0\" >US</td>\n",
       "                        <td id=\"T_ee33e_row0_col1\" class=\"data row0 col1\" >26437262.000000</td>\n",
       "                        <td id=\"T_ee33e_row0_col2\" class=\"data row0 col2\" >446913.000000</td>\n",
       "                        <td id=\"T_ee33e_row0_col3\" class=\"data row0 col3\" >nan</td>\n",
       "            </tr>\n",
       "            <tr>\n",
       "                                <td id=\"T_ee33e_row1_col0\" class=\"data row1 col0\" >India</td>\n",
       "                        <td id=\"T_ee33e_row1_col1\" class=\"data row1 col1\" >10777284.000000</td>\n",
       "                        <td id=\"T_ee33e_row1_col2\" class=\"data row1 col2\" >154596.000000</td>\n",
       "                        <td id=\"T_ee33e_row1_col3\" class=\"data row1 col3\" >10462631.000000</td>\n",
       "            </tr>\n",
       "            <tr>\n",
       "                                <td id=\"T_ee33e_row2_col0\" class=\"data row2 col0\" >Brazil</td>\n",
       "                        <td id=\"T_ee33e_row2_col1\" class=\"data row2 col1\" >9283418.000000</td>\n",
       "                        <td id=\"T_ee33e_row2_col2\" class=\"data row2 col2\" >226309.000000</td>\n",
       "                        <td id=\"T_ee33e_row2_col3\" class=\"data row2 col3\" >8258074.000000</td>\n",
       "            </tr>\n",
       "            <tr>\n",
       "                                <td id=\"T_ee33e_row3_col0\" class=\"data row3 col0\" >United Kingdom</td>\n",
       "                        <td id=\"T_ee33e_row3_col1\" class=\"data row3 col1\" >3863757.000000</td>\n",
       "                        <td id=\"T_ee33e_row3_col2\" class=\"data row3 col2\" >108225.000000</td>\n",
       "                        <td id=\"T_ee33e_row3_col3\" class=\"data row3 col3\" >9818.000000</td>\n",
       "            </tr>\n",
       "            <tr>\n",
       "                                <td id=\"T_ee33e_row4_col0\" class=\"data row4 col0\" >Russia</td>\n",
       "                        <td id=\"T_ee33e_row4_col1\" class=\"data row4 col1\" >3858367.000000</td>\n",
       "                        <td id=\"T_ee33e_row4_col2\" class=\"data row4 col2\" >73497.000000</td>\n",
       "                        <td id=\"T_ee33e_row4_col3\" class=\"data row4 col3\" >3328696.000000</td>\n",
       "            </tr>\n",
       "            <tr>\n",
       "                                <td id=\"T_ee33e_row5_col0\" class=\"data row5 col0\" >France</td>\n",
       "                        <td id=\"T_ee33e_row5_col1\" class=\"data row5 col1\" >3283696.000000</td>\n",
       "                        <td id=\"T_ee33e_row5_col2\" class=\"data row5 col2\" >77383.000000</td>\n",
       "                        <td id=\"T_ee33e_row5_col3\" class=\"data row5 col3\" >233102.000000</td>\n",
       "            </tr>\n",
       "            <tr>\n",
       "                                <td id=\"T_ee33e_row6_col0\" class=\"data row6 col0\" >Spain</td>\n",
       "                        <td id=\"T_ee33e_row6_col1\" class=\"data row6 col1\" >2851869.000000</td>\n",
       "                        <td id=\"T_ee33e_row6_col2\" class=\"data row6 col2\" >59805.000000</td>\n",
       "                        <td id=\"T_ee33e_row6_col3\" class=\"data row6 col3\" >150376.000000</td>\n",
       "            </tr>\n",
       "            <tr>\n",
       "                                <td id=\"T_ee33e_row7_col0\" class=\"data row7 col0\" >Italy</td>\n",
       "                        <td id=\"T_ee33e_row7_col1\" class=\"data row7 col1\" >2570608.000000</td>\n",
       "                        <td id=\"T_ee33e_row7_col2\" class=\"data row7 col2\" >89344.000000</td>\n",
       "                        <td id=\"T_ee33e_row7_col3\" class=\"data row7 col3\" >2043499.000000</td>\n",
       "            </tr>\n",
       "            <tr>\n",
       "                                <td id=\"T_ee33e_row8_col0\" class=\"data row8 col0\" >Turkey</td>\n",
       "                        <td id=\"T_ee33e_row8_col1\" class=\"data row8 col1\" >2492977.000000</td>\n",
       "                        <td id=\"T_ee33e_row8_col2\" class=\"data row8 col2\" >26237.000000</td>\n",
       "                        <td id=\"T_ee33e_row8_col3\" class=\"data row8 col3\" >2379070.000000</td>\n",
       "            </tr>\n",
       "            <tr>\n",
       "                                <td id=\"T_ee33e_row9_col0\" class=\"data row9 col0\" >Germany</td>\n",
       "                        <td id=\"T_ee33e_row9_col1\" class=\"data row9 col1\" >2245948.000000</td>\n",
       "                        <td id=\"T_ee33e_row9_col2\" class=\"data row9 col2\" >59051.000000</td>\n",
       "                        <td id=\"T_ee33e_row9_col3\" class=\"data row9 col3\" >1986596.000000</td>\n",
       "            </tr>\n",
       "    </tbody></table>"
      ],
      "text/plain": [
       "<pandas.io.formats.style.Styler at 0x21574a01760>"
      ]
     },
     "execution_count": 13,
     "metadata": {},
     "output_type": "execute_result"
    }
   ],
   "source": [
    "#hide_input\n",
    "(data_table.style.set_properties(**{'text-align': 'right'}).background_gradient(cmap='Reds').hide_index()).set_caption(\n",
    "    'Top 10 countries most affected by coronavirus')"
   ]
  },
  {
   "cell_type": "markdown",
   "metadata": {},
   "source": [
    "# Data Exploration"
   ]
  },
  {
   "cell_type": "markdown",
   "metadata": {},
   "source": [
    "<p align=\"justify\" style=\"text-align:justify\"><font size=\"3\">The output/interpretation stage is the stage at which data is finally usable to non-data scientists. It is translated, readable, and often in the form of graphs, videos, images, plain text, etc.</font></p>"
   ]
  },
  {
   "cell_type": "code",
   "execution_count": null,
   "metadata": {},
   "outputs": [],
   "source": [
    "df_sorted_country = df_country.sort_values('mortality_rate', ascending= False)"
   ]
  },
  {
   "cell_type": "markdown",
   "metadata": {},
   "source": [
    "### Bubble chart with the top 10 worst hit countries - confirmed"
   ]
  },
  {
   "cell_type": "code",
   "execution_count": null,
   "metadata": {},
   "outputs": [],
   "source": [
    "def covid_bubble_chart(n):\n",
    "    df = df_sorted_country.head(n)\n",
    "    fig = px.scatter(df, x=\"country\", y=\"mortality_rate\", size=\"mortality_rate\", color=\"country\",\n",
    "               hover_name=\"country\", size_max=90)\n",
    "    fig.update_layout(\n",
    "    title=\"The top 10 Worst hit countries- Confirmed\",\n",
    "    xaxis_title=\"Countries\",\n",
    "    yaxis_title=\"Mortality\",\n",
    "    width = 700\n",
    "    )\n",
    "    fig.show();\n",
    "    \n",
    "    #fig.write_image(\"images/fig1.png\")\n",
    "fig = go.FigureWidget( layout=go.Layout() )\n",
    "interact(covid_bubble_chart, n=10)\n",
    "\n",
    "ipywLayout = widgets.Layout(border='solid 2px green')\n",
    "ipywLayout.display='none'\n",
    "widgets.VBox([fig], layout=ipywLayout)"
   ]
  },
  {
   "cell_type": "markdown",
   "metadata": {},
   "source": [
    "### Treemap with the top 30 worst hit countries - confirmed"
   ]
  },
  {
   "cell_type": "code",
   "execution_count": null,
   "metadata": {},
   "outputs": [],
   "source": [
    "fig = px.treemap(df_sorted_country.head(30), \n",
    "                 path=[\"country\"], \n",
    "                 values=\"mortality_rate\", height=700,\n",
    "                 title='The top 30 worst affected countries - by Lethality',\n",
    "                 color_discrete_sequence = px.colors.qualitative.Prism)\n",
    "\n",
    "fig.data[0].textinfo = 'label+text+value'\n",
    "#fig.write_image(\"images/fig2.png\")\n",
    "\n",
    "fig.show()\n"
   ]
  },
  {
   "cell_type": "markdown",
   "metadata": {},
   "source": [
    "### Top 30 Countries lower mortality"
   ]
  },
  {
   "cell_type": "code",
   "execution_count": null,
   "metadata": {},
   "outputs": [],
   "source": [
    "df_ascending_mortality = df_country[df_country['mortality_rate'].notna()].sort_values('mortality_rate', ascending= True)"
   ]
  },
  {
   "cell_type": "code",
   "execution_count": null,
   "metadata": {},
   "outputs": [],
   "source": [
    "fig = px.treemap(df_ascending_mortality.head(30), \n",
    "                 path=[\"country\"], \n",
    "                 values=\"mortality_rate\", height=700,\n",
    "                 title='The top 30 lower affected countries - by Lethality',\n",
    "                 color_discrete_sequence = px.colors.qualitative.Prism)\n",
    "\n",
    "fig.data[0].textinfo = 'label+text+value'\n",
    "#fig.write_image(\"images/fig2.png\")\n",
    "\n",
    "fig.show()"
   ]
  },
  {
   "cell_type": "markdown",
   "metadata": {},
   "source": [
    "### Bar chart with the top 10 worst hit countries - confirmed"
   ]
  },
  {
   "cell_type": "code",
   "execution_count": null,
   "metadata": {},
   "outputs": [],
   "source": [
    "fig = px.bar(sorted_confirmed,\n",
    "    x = \"country\",\n",
    "    y = \"confirmed\",\n",
    "    title= \"The Top 10 worst affected countries - Confirmed\", \n",
    "    color_discrete_sequence=[\"orange\"], \n",
    "    height=600,\n",
    "    width=1000\n",
    ")\n",
    "\n",
    "#fig.write_image(\"images/fig3.png\")\n",
    "fig.show()"
   ]
  },
  {
   "cell_type": "markdown",
   "metadata": {},
   "source": [
    "### Sort the countries with the most cases of death"
   ]
  },
  {
   "cell_type": "code",
   "execution_count": null,
   "metadata": {},
   "outputs": [],
   "source": [
    "sorted_deaths = df_country.sort_values('deaths', ascending=False).head(10)\n",
    "sorted_deaths.head(10)"
   ]
  },
  {
   "cell_type": "markdown",
   "metadata": {},
   "source": [
    "### Bar chart with the top 10 worst hit countries - Death Cases"
   ]
  },
  {
   "cell_type": "code",
   "execution_count": null,
   "metadata": {},
   "outputs": [],
   "source": [
    "figura = px.bar(\n",
    "    sorted_deaths,\n",
    "    x = \"country\",\n",
    "    y = \"deaths\",\n",
    "    title= \"The top 10 worst hit countries - Death cases\", # the axis names\n",
    "    color_discrete_sequence=[\"red\"], \n",
    "    height=600,\n",
    "    width=1000\n",
    ")\n",
    "\n",
    "\n",
    "#figura.write_image(\"images/fig4.png\")\n",
    "figura.show()"
   ]
  },
  {
   "cell_type": "markdown",
   "metadata": {},
   "source": [
    "### Sort the countries with the most deaths cases"
   ]
  },
  {
   "cell_type": "code",
   "execution_count": null,
   "metadata": {},
   "outputs": [],
   "source": [
    "sorted_recovered = df_country.sort_values('recovered', ascending=False).head(10)\n",
    "sorted_recovered.head(10)"
   ]
  },
  {
   "cell_type": "markdown",
   "metadata": {},
   "source": [
    "### Bar chart with the top 10 worst hit countries - confirmed"
   ]
  },
  {
   "cell_type": "code",
   "execution_count": null,
   "metadata": {},
   "outputs": [],
   "source": [
    "figura = px.bar(\n",
    "    sorted_recovered,\n",
    "    x = \"country\",\n",
    "    y = \"recovered\",\n",
    "    title= \"Top 10 recovered countries\", # the axis names\n",
    "    color_discrete_sequence=[\"green\"], \n",
    "    height=600,\n",
    "    width=1000\n",
    ")\n",
    "\n",
    "#figura.write_image(\"images/fig5.png\")\n",
    "figura.show()"
   ]
  },
  {
   "cell_type": "markdown",
   "metadata": {},
   "source": [
    "# Time Series COVID-19 Mexico"
   ]
  },
  {
   "cell_type": "markdown",
   "metadata": {},
   "source": [
    "<p align=\"justify\" style=\"text-align:justify\"><font size=\"3\">A time-series data that contains the counts on infected cases, deaths, and recoveries across countries is also given. The time-series data has individual files for each case and needs to be processed before visualization. The country coordinates are also provided for time-series visualization on geoplots such as Choropleth Maps.</font></p>"
   ]
  },
  {
   "cell_type": "markdown",
   "metadata": {},
   "source": [
    "### Confirmed cases and deaths time series in Mexico"
   ]
  },
  {
   "cell_type": "code",
   "execution_count": null,
   "metadata": {},
   "outputs": [],
   "source": [
    "def confirmedDeathsCases(country):\n",
    "    labels = ['confirmed', 'deaths']\n",
    "    colors = ['blue', 'red']\n",
    "    mode_size = [6, 8]\n",
    "    line_size = [4, 5]\n",
    "    \n",
    "    df_list = [df_confirmed, df_death]\n",
    "    \n",
    "    \n",
    "    fig = go.Figure();\n",
    "    \n",
    "    for i, df in enumerate(df_list):\n",
    "        if country == 'World' or country == 'world':\n",
    "            x_data = np.array(list(df.iloc[:, 20:].columns))\n",
    "            y_data = np.sum(np.asarray(df.iloc[:,4:]),axis = 0)\n",
    "            \n",
    "        else:    \n",
    "            x_data = np.array(list(df.iloc[:, 20:].columns))\n",
    "            y_data = np.sum(np.asarray(df[df['country'] == country].iloc[:,20:]),axis = 0)\n",
    "            \n",
    "        fig.add_trace(go.Scatter(x=x_data, y=y_data, mode='lines+markers',\n",
    "        name=labels[i],\n",
    "        line=dict(color=colors[i], width=line_size[i]),\n",
    "        connectgaps=True,\n",
    "        text = \"Total \" + str(labels[i]) +\": \"+ str(y_data[-1])\n",
    "        ));\n",
    "    \n",
    "    fig.update_layout(\n",
    "        title=\"COVID 19 cases of \" + country,\n",
    "        xaxis_title='Date',\n",
    "        yaxis_title='No. of Confirmed Cases',\n",
    "        margin=dict(l=20, r=20, t=40, b=20),\n",
    "        paper_bgcolor=\"lightgrey\",\n",
    "        width = 800,\n",
    "        \n",
    "    );\n",
    "    \n",
    "    fig.update_yaxes(type=\"linear\")\n",
    "    fig.show();\n",
    "    \n",
    "    #fig.write_image(\"images/fig6.png\")\n",
    "    \n",
    "    \n"
   ]
  },
  {
   "cell_type": "code",
   "execution_count": null,
   "metadata": {},
   "outputs": [],
   "source": [
    "interact(confirmedDeathsCases, country='Brazil')\n",
    "ipywLayout = widgets.Layout(border='solid 2px green')"
   ]
  },
  {
   "cell_type": "markdown",
   "metadata": {},
   "source": [
    "### Confirmed and recovered cases time series in Mexico"
   ]
  },
  {
   "cell_type": "code",
   "execution_count": null,
   "metadata": {},
   "outputs": [],
   "source": [
    "def confirmedRecoveredCases(country):\n",
    "    labels = ['confirmed', 'recovered']\n",
    "    colors = ['blue', 'green']\n",
    "    mode_size = [6, 8]\n",
    "    line_size = [4, 5]\n",
    "    \n",
    "    df_list = [df_confirmed, df_death]\n",
    "    \n",
    "    \n",
    "    fig = go.Figure();\n",
    "    \n",
    "    for i, df in enumerate(df_list):\n",
    "        if country == 'World' or country == 'world':\n",
    "            x_data = np.array(list(df.iloc[:, 20:].columns))\n",
    "            y_data = np.sum(np.asarray(df.iloc[:,4:]),axis = 0)\n",
    "            \n",
    "        else:    \n",
    "            x_data = np.array(list(df.iloc[:, 20:].columns))\n",
    "            y_data = np.sum(np.asarray(df[df['country'] == country].iloc[:,20:]),axis = 0)\n",
    "            \n",
    "        fig.add_trace(go.Scatter(x=x_data, y=y_data, mode='lines+markers',\n",
    "        name=labels[i],\n",
    "        line=dict(color=colors[i], width=line_size[i]),\n",
    "        connectgaps=True,\n",
    "        text = \"Total \" + str(labels[i]) +\": \"+ str(y_data[-1])\n",
    "        ));\n",
    "    \n",
    "    fig.update_layout(\n",
    "        title=\"COVID 19 cases of \" + country,\n",
    "        xaxis_title='Date',\n",
    "        yaxis_title='No. of Confirmed Cases',\n",
    "        margin=dict(l=20, r=20, t=40, b=20),\n",
    "        paper_bgcolor=\"lightgrey\",\n",
    "        width = 800,\n",
    "        \n",
    "    );\n",
    "    \n",
    "    fig.update_yaxes(type=\"linear\")\n",
    "    fig.show();\n",
    "    \n",
    "    #fig.write_image(\"images/fig7.png\")\n",
    "    \n",
    "    \n"
   ]
  },
  {
   "cell_type": "code",
   "execution_count": null,
   "metadata": {},
   "outputs": [],
   "source": [
    "interact(confirmedRecoveredCases, country='Mexico')\n",
    "ipywLayout = widgets.Layout(border='solid 2px green')"
   ]
  },
  {
   "cell_type": "markdown",
   "metadata": {},
   "source": [
    "### Import the data "
   ]
  },
  {
   "cell_type": "code",
   "execution_count": null,
   "metadata": {},
   "outputs": [],
   "source": [
    "deaths_df = pd.read_csv('https://raw.githubusercontent.com/CSSEGISandData/COVID-19/master/csse_covid_19_data/csse_covid_19_time_series/time_series_covid19_deaths_global.csv')\n",
    "confirmed_df = pd.read_csv('https://raw.githubusercontent.com/CSSEGISandData/COVID-19/master/csse_covid_19_data/csse_covid_19_time_series/time_series_covid19_confirmed_global.csv')\n",
    "recovered_df = pd.read_csv('https://raw.githubusercontent.com/CSSEGISandData/COVID-19/master/csse_covid_19_data/csse_covid_19_time_series/time_series_covid19_recovered_global.csv')\n",
    "country_df = pd.read_csv('https://raw.githubusercontent.com/CSSEGISandData/COVID-19/web-data/data/cases_country.csv')"
   ]
  },
  {
   "cell_type": "markdown",
   "metadata": {},
   "source": [
    "# Data Preparation"
   ]
  },
  {
   "cell_type": "code",
   "execution_count": null,
   "metadata": {},
   "outputs": [],
   "source": [
    "dates = confirmed_df.columns[4:]\n",
    "\n",
    "confirmed_df_long = confirmed_df.melt(\n",
    "    id_vars=['Province/State', 'Country/Region', 'Lat', 'Long'], \n",
    "    value_vars=dates, \n",
    "    var_name='Date', \n",
    "    value_name='Confirmed'\n",
    ")\n",
    "\n",
    "deaths_df_long = deaths_df.melt(\n",
    "    id_vars=['Province/State', 'Country/Region', 'Lat', 'Long'], \n",
    "    value_vars=dates, \n",
    "    var_name='Date', \n",
    "    value_name='Deaths'\n",
    ")\n",
    "\n",
    "recovered_df_long = recovered_df.melt(\n",
    "    id_vars=['Province/State', 'Country/Region', 'Lat', 'Long'], \n",
    "    value_vars=dates, \n",
    "    var_name='Date', \n",
    "    value_name='Recovered'\n",
    ")"
   ]
  },
  {
   "cell_type": "code",
   "execution_count": null,
   "metadata": {},
   "outputs": [],
   "source": [
    "recovered_df_long = recovered_df_long[recovered_df_long['Country/Region']!='Canada']\n",
    "\n",
    "full_table = confirmed_df_long.merge(\n",
    "  right=deaths_df_long, \n",
    "  how='left',\n",
    "  on=['Province/State', 'Country/Region', 'Date', 'Lat', 'Long']\n",
    ")\n",
    "\n",
    "full_table = full_table.merge(\n",
    "  right=recovered_df_long, \n",
    "  how='left',\n",
    "  on=['Province/State', 'Country/Region', 'Date', 'Lat', 'Long']\n",
    ")"
   ]
  },
  {
   "cell_type": "code",
   "execution_count": null,
   "metadata": {},
   "outputs": [],
   "source": [
    "full_table['Date'] = pd.to_datetime(full_table['Date'])"
   ]
  },
  {
   "cell_type": "code",
   "execution_count": null,
   "metadata": {},
   "outputs": [],
   "source": [
    "full_table['Recovered'] = full_table['Recovered'].fillna(0)"
   ]
  },
  {
   "cell_type": "code",
   "execution_count": null,
   "metadata": {},
   "outputs": [],
   "source": [
    "ship_rows = full_table['Province/State'].str.contains('Grand Princess') | full_table['Province/State'].str.contains('Diamond Princess') | full_table['Country/Region'].str.contains('Diamond Princess') | full_table['Country/Region'].str.contains('MS Zaandam')\n",
    "full_ship = full_table[ship_rows]"
   ]
  },
  {
   "cell_type": "code",
   "execution_count": null,
   "metadata": {},
   "outputs": [],
   "source": [
    "full_table = full_table[~(ship_rows)]"
   ]
  },
  {
   "cell_type": "code",
   "execution_count": null,
   "metadata": {},
   "outputs": [],
   "source": [
    "full_table['Active'] = full_table['Confirmed'] - full_table['Deaths'] - full_table['Recovered']"
   ]
  },
  {
   "cell_type": "code",
   "execution_count": null,
   "metadata": {},
   "outputs": [],
   "source": [
    "full_grouped = full_table.groupby(['Date', 'Country/Region'])['Confirmed', 'Deaths', 'Recovered', 'Active'].sum().reset_index()"
   ]
  },
  {
   "cell_type": "code",
   "execution_count": null,
   "metadata": {},
   "outputs": [],
   "source": [
    "temp = full_grouped.groupby(['Country/Region', 'Date', ])['Confirmed', 'Deaths', 'Recovered']\n",
    "temp = temp.sum().diff().reset_index()\n",
    "mask = temp['Country/Region'] != temp['Country/Region'].shift(1)\n",
    "temp.loc[mask, 'Confirmed'] = np.nan\n",
    "temp.loc[mask, 'Deaths'] = np.nan\n",
    "temp.loc[mask, 'Recovered'] = np.nan\n",
    "\n",
    "temp.columns = ['Country/Region', 'Date', 'New cases', 'New deaths', 'New recovered']\n",
    "\n",
    "full_grouped = pd.merge(full_grouped, temp, on=['Country/Region', 'Date'])\n",
    "\n",
    "full_grouped = full_grouped.fillna(0)\n",
    "\n",
    "cols = ['New cases', 'New deaths', 'New recovered']\n",
    "full_grouped[cols] = full_grouped[cols].astype('int')\n",
    "\n",
    "full_grouped['New cases'] = full_grouped['New cases'].apply(lambda x: 0 if x<0 else x)"
   ]
  },
  {
   "cell_type": "code",
   "execution_count": null,
   "metadata": {},
   "outputs": [],
   "source": [
    "full_grouped.to_csv('COVID-19-time-series-clean-complete.csv')\n",
    "full_clean_data = pd.read_csv('COVID-19-time-series-clean-complete.csv', parse_dates=['Date'])"
   ]
  },
  {
   "cell_type": "markdown",
   "metadata": {},
   "source": [
    "# Data Exploration"
   ]
  },
  {
   "cell_type": "markdown",
   "metadata": {},
   "source": [
    "### Select time series of Mexico"
   ]
  },
  {
   "cell_type": "code",
   "execution_count": null,
   "metadata": {},
   "outputs": [],
   "source": [
    "countries = ['Brazil']\n",
    "\n",
    "selected_data = full_clean_data[full_clean_data['Country/Region'].isin(countries)]"
   ]
  },
  {
   "cell_type": "markdown",
   "metadata": {},
   "source": [
    "### Confirmed cases time series in Mexico"
   ]
  },
  {
   "cell_type": "code",
   "execution_count": null,
   "metadata": {},
   "outputs": [],
   "source": [
    "interval = alt.selection_interval()\n",
    "\n",
    "circle = alt.Chart(selected_data).mark_circle().encode(\n",
    "    x='monthdate(Date):O',\n",
    "    y='Country/Region',\n",
    "    color=alt.condition(interval, 'Country/Region', alt.value('lightgray')),\n",
    "    size=alt.Size('Confirmed:Q',\n",
    "        scale=alt.Scale(range=[0, 3000]),\n",
    "        legend=alt.Legend(title='Confirmed Cases')\n",
    "    )\n",
    "    \n",
    ").properties(\n",
    "    width=1000,\n",
    "    height=300,\n",
    "    selection=interval\n",
    ")"
   ]
  },
  {
   "cell_type": "code",
   "execution_count": null,
   "metadata": {},
   "outputs": [],
   "source": [
    "bars = alt.Chart(selected_data).mark_bar().encode(\n",
    "    y='Country/Region',\n",
    "    color='Country/Region',\n",
    "    x='sum(Confirmed):Q'\n",
    ").properties(\n",
    "    width=1000\n",
    ").transform_filter(\n",
    "    interval\n",
    ")\n",
    "\n",
    "circle"
   ]
  },
  {
   "cell_type": "markdown",
   "metadata": {},
   "source": [
    "### Confirmed cases time series in Mexico"
   ]
  },
  {
   "cell_type": "code",
   "execution_count": null,
   "metadata": {},
   "outputs": [],
   "source": [
    "circle & bars"
   ]
  },
  {
   "cell_type": "code",
   "execution_count": null,
   "metadata": {},
   "outputs": [],
   "source": [
    "full_grouped = pd.read_csv('COVID-19-time-series-clean-complete.csv', parse_dates=['Date'])\n",
    "mexico = full_grouped[full_grouped['Country/Region'] == 'Brazil']"
   ]
  },
  {
   "cell_type": "code",
   "execution_count": null,
   "metadata": {},
   "outputs": [],
   "source": [
    "base = alt.Chart(mexico).mark_bar().encode(\n",
    "    x='monthdate(Date):O',\n",
    ").properties(\n",
    "    width=700\n",
    ")\n",
    "\n",
    "## colors of the charts\n",
    "red = alt.value('#f54242')\n",
    "green = alt.value('#32CD32')"
   ]
  },
  {
   "cell_type": "markdown",
   "metadata": {},
   "source": [
    "### Total confirmed cases time series in Mexico"
   ]
  },
  {
   "cell_type": "code",
   "execution_count": null,
   "metadata": {},
   "outputs": [],
   "source": [
    "base.encode(y='Confirmed').properties(title='Total confirmed')"
   ]
  },
  {
   "cell_type": "markdown",
   "metadata": {},
   "source": [
    "### Total death cases time series in Mexico"
   ]
  },
  {
   "cell_type": "code",
   "execution_count": null,
   "metadata": {},
   "outputs": [],
   "source": [
    "base.encode(y='Deaths',color=red).properties(title='Total Deaths') "
   ]
  },
  {
   "cell_type": "markdown",
   "metadata": {},
   "source": [
    "### Total recovered cases time series in Mexico"
   ]
  },
  {
   "cell_type": "code",
   "execution_count": null,
   "metadata": {},
   "outputs": [],
   "source": [
    "base.encode(y='Recovered',color=green).properties(title='Total Recovered')"
   ]
  },
  {
   "cell_type": "markdown",
   "metadata": {},
   "source": [
    "# Data Visualization and Analysis of Covid-19 in Mexico by State"
   ]
  },
  {
   "cell_type": "code",
   "execution_count": null,
   "metadata": {},
   "outputs": [],
   "source": [
    "dataset = pd.read_csv('https://raw.githubusercontent.com/DiegoHurtad0/Covid-19-Dataset-Mexico/master/datasetCovid19Mexico.csv')"
   ]
  },
  {
   "cell_type": "markdown",
   "metadata": {},
   "source": [
    "### Data table of Covid-19 in Mexico"
   ]
  },
  {
   "cell_type": "code",
   "execution_count": null,
   "metadata": {},
   "outputs": [],
   "source": [
    "data_mex = pd.DataFrame()\n",
    "data_mex[\"State\"] = dataset['Ubicación']\n",
    "data_mex[\"Confirmed\"] = dataset['Confirmados']\n",
    "data_mex[\"Recovered\"] = dataset['Personas recuperadas']\n",
    "data_mex[\"Deaths\"] = dataset['Muertes']"
   ]
  },
  {
   "cell_type": "markdown",
   "metadata": {},
   "source": [
    "### Data table with the confirmed, recovered, and death cases"
   ]
  },
  {
   "cell_type": "code",
   "execution_count": null,
   "metadata": {},
   "outputs": [],
   "source": [
    "#hide_input\n",
    "(data_mex.style.set_properties(**{'text-align': 'right'}).background_gradient(cmap='Reds').hide_index()).set_caption(\n",
    "    'Confirmed, deaths and recovered cases')"
   ]
  },
  {
   "cell_type": "markdown",
   "metadata": {},
   "source": [
    "### Sort the states with the most confirmed cases"
   ]
  },
  {
   "cell_type": "code",
   "execution_count": null,
   "metadata": {},
   "outputs": [],
   "source": [
    "sorted_confirmed = dataset.sort_values('Confirmados', ascending=False).head(10)\n",
    "sorted_confirmed.index = np.arange(1,len(sorted_confirmed)+1)\n",
    "sorted_confirmed.head(10)"
   ]
  },
  {
   "cell_type": "markdown",
   "metadata": {},
   "source": [
    "### Bar chart with the top 10 worst hit states - confirmed"
   ]
  },
  {
   "cell_type": "code",
   "execution_count": null,
   "metadata": {},
   "outputs": [],
   "source": [
    "fig = px.bar(sorted_confirmed,\n",
    "    x = \"Ubicación\",\n",
    "    y = \"Confirmados\",\n",
    "    title= \"The Top 10 worst affected states - Confirmed\", # the axis names\n",
    "    color_discrete_sequence=[\"orange\"], \n",
    "    height=600,\n",
    "    width=1000\n",
    ")\n",
    "\n",
    "\n",
    "#fig.write_image(\"images/fig8.png\")\n",
    "fig.show()"
   ]
  },
  {
   "cell_type": "code",
   "execution_count": null,
   "metadata": {},
   "outputs": [],
   "source": [
    "figura = px.bar(sorted_confirmed, \n",
    "             x=\"Confirmados\", y=\"Ubicación\", \n",
    "                title='The Top 10 worst affected states - Confirmed', \n",
    "                text='Confirmados', orientation='h', \n",
    "                color_discrete_sequence=[\"orange\"], \n",
    "             width=800, height=700, range_x = [0, max(sorted_confirmed['Confirmados'])])\n",
    "\n",
    "# fig.update_traces(marker_color=dth, opacity=0.6, textposition='outside')\n",
    "\n",
    "#figura.write_image(\"images/fig9.png\")\n",
    "figura.show()"
   ]
  },
  {
   "cell_type": "markdown",
   "metadata": {},
   "source": [
    "### Treemap with the top 10 worst hit states in Mexico - confirmed"
   ]
  },
  {
   "cell_type": "code",
   "execution_count": null,
   "metadata": {},
   "outputs": [],
   "source": [
    "figura = px.treemap(sorted_confirmed, \n",
    "                 path=[\"Ubicación\"], \n",
    "                 values=\"Confirmados\", height=800,\n",
    "                 title='The Top 10 worst affected states - Confirmeds',\n",
    "                 color_discrete_sequence = px.colors.qualitative.Prism)\n",
    "figura.data[0].textinfo = 'label+text+value'\n",
    "\n",
    "#figura.write_image(\"images/fig10.png\")\n",
    "figura.show()"
   ]
  },
  {
   "cell_type": "markdown",
   "metadata": {},
   "source": [
    "### Sort the states with the most cases of death"
   ]
  },
  {
   "cell_type": "code",
   "execution_count": null,
   "metadata": {},
   "outputs": [],
   "source": [
    "sorted_death = dataset.sort_values('Muertes', ascending=False).head(10)\n",
    "sorted_death.index = np.arange(1,len(sorted_death)+1)\n",
    "sorted_death.head(10)"
   ]
  },
  {
   "cell_type": "markdown",
   "metadata": {},
   "source": [
    "### Bar chart with the top 10 worst hit states - deaths"
   ]
  },
  {
   "cell_type": "code",
   "execution_count": null,
   "metadata": {},
   "outputs": [],
   "source": [
    "figura = px.bar(\n",
    "    sorted_death,\n",
    "    x = \"Ubicación\",\n",
    "    y = \"Muertes\",\n",
    "    title= \"the top 10 Worst hit states - Deaths\", # the axis names\n",
    "    color_discrete_sequence=[\"red\"], \n",
    "    height=600,\n",
    "    width=1000\n",
    ")\n",
    "\n",
    "#figura.write_image(\"images/fig11.png\")\n",
    "figura.show()"
   ]
  },
  {
   "cell_type": "code",
   "execution_count": null,
   "metadata": {},
   "outputs": [],
   "source": [
    "figura = px.bar(sorted_death, \n",
    "             x=\"Muertes\", y=\"Ubicación\", \n",
    "                title='the top 10 Worst hit states - Deaths', text='Muertes', orientation='h', \n",
    "                color_discrete_sequence=[\"red\"], \n",
    "             width=800, height=700, range_x = [0, max(sorted_death['Muertes'])])\n",
    "\n",
    "\n",
    "#figura.write_image(\"images/fig12.png\")\n",
    "figura.show()"
   ]
  },
  {
   "cell_type": "markdown",
   "metadata": {},
   "source": [
    "### Treemap with the top 10 worst hit states in Mexico - deaths"
   ]
  },
  {
   "cell_type": "code",
   "execution_count": null,
   "metadata": {},
   "outputs": [],
   "source": [
    "figura = px.treemap(sorted_death, \n",
    "                 path=[\"Ubicación\"], \n",
    "                 values=\"Muertes\", height=800,\n",
    "                 title='top 10 Worst hit States in Mexico - Deaths',\n",
    "                 color_discrete_sequence = px.colors.qualitative.Prism)\n",
    "figura.data[0].textinfo = 'label+text+value'\n",
    "\n",
    "#figura.write_image(\"images/fig13.png\")\n",
    "figura.show()"
   ]
  },
  {
   "cell_type": "markdown",
   "metadata": {},
   "source": [
    "### Sort the states with the most recovered cases"
   ]
  },
  {
   "cell_type": "code",
   "execution_count": null,
   "metadata": {},
   "outputs": [],
   "source": [
    "sorted_recovered = dataset.sort_values('Personas recuperadas', ascending=False).head(10)\n",
    "sorted_recovered.index = np.arange(1,len(sorted_recovered)+1)\n",
    "sorted_recovered.head(10)"
   ]
  },
  {
   "cell_type": "markdown",
   "metadata": {},
   "source": [
    "### Bar chart with the top 10 worst hit states - recovered"
   ]
  },
  {
   "cell_type": "code",
   "execution_count": null,
   "metadata": {},
   "outputs": [],
   "source": [
    "figura = px.bar(\n",
    "    sorted_recovered,\n",
    "    x = \"Ubicación\",\n",
    "    y = \"Personas recuperadas\",\n",
    "    title= \"top 10 States in Mexico with most recovered cases\", # the axis names\n",
    "    color_discrete_sequence=[\"green\"], \n",
    "    height=600,\n",
    "    width=1000\n",
    ")\n",
    "\n",
    "#figura.write_image(\"images/fig14.png\")\n",
    "figura.show()"
   ]
  },
  {
   "cell_type": "code",
   "execution_count": null,
   "metadata": {},
   "outputs": [],
   "source": [
    "figura = px.bar(sorted_recovered, \n",
    "             x=\"Personas recuperadas\", y=\"Ubicación\", \n",
    "                title='top 10 States in Mexico with most recovered cases', text='Personas recuperadas', orientation='h', \n",
    "                color_discrete_sequence=[\"green\"], \n",
    "             width=800, height=700, range_x = [0, max(sorted_recovered['Personas recuperadas'])])\n",
    "\n",
    "# fig.update_traces(marker_color=dth, opacity=0.6, textposition='outside')\n",
    "\n",
    "#figura.write_image(\"images/fig15.png\")\n",
    "figura.show()"
   ]
  },
  {
   "cell_type": "markdown",
   "metadata": {},
   "source": [
    "### Treemap with the top 10 states in Mexico with the most recovered cases"
   ]
  },
  {
   "cell_type": "code",
   "execution_count": null,
   "metadata": {},
   "outputs": [],
   "source": [
    "figura = px.treemap(sorted_recovered, \n",
    "                 path=[\"Ubicación\"], \n",
    "                 values=\"Personas recuperadas\", height=800,\n",
    "                 title='Top 10 States in Mexico with most recovered cases',\n",
    "                 color_discrete_sequence = px.colors.qualitative.Prism)\n",
    "figura.data[0].textinfo = 'label+text+value'\n",
    "\n",
    "#figura.write_image(\"images/fig16.png\")\n",
    "figura.show()"
   ]
  },
  {
   "cell_type": "markdown",
   "metadata": {},
   "source": [
    "# Time Series of Covid-19 in Mexico by State"
   ]
  },
  {
   "cell_type": "markdown",
   "metadata": {},
   "source": [
    "### Import the data"
   ]
  },
  {
   "cell_type": "code",
   "execution_count": null,
   "metadata": {},
   "outputs": [],
   "source": [
    "df_Defunciones = pd.read_csv('https://raw.githubusercontent.com/DiegoHurtad0/Covid-19-Dataset-Mexico/master/time_series_covid19_deaths_Mexico.csv')\n",
    "df_confirmados = pd.read_csv('https://raw.githubusercontent.com/DiegoHurtad0/Covid-19-Dataset-Mexico/master/time_series_covid19_confirmed_Mexico.csv')\n",
    "poblacion = df_confirmados[df_confirmados.columns[1]]"
   ]
  },
  {
   "cell_type": "code",
   "execution_count": null,
   "metadata": {},
   "outputs": [],
   "source": [
    "df_confirmados = df_confirmados.iloc[:32]\n",
    "poblacion = poblacion[:-1]"
   ]
  },
  {
   "cell_type": "markdown",
   "metadata": {},
   "source": [
    "### Total confirmed cases time series in Mexico by state"
   ]
  },
  {
   "cell_type": "code",
   "execution_count": null,
   "metadata": {},
   "outputs": [],
   "source": [
    "total_confirmed = df_confirmados.values.tolist()\n",
    "#time series for each state\n",
    "lista_mexico = []\n",
    "lista_confirmed = []\n",
    "for i in range(len(df_confirmados)):\n",
    "    lista = total_confirmed[i]\n",
    "    del lista[:3]\n",
    "    #time series for each state\n",
    "    lista_mexico.append(lista)\n",
    "    #sum of each state\n",
    "    lista_confirmed.append(sum(lista_mexico[i]))"
   ]
  },
  {
   "cell_type": "markdown",
   "metadata": {},
   "source": [
    "### Total cases of death time series in Mexico by state"
   ]
  },
  {
   "cell_type": "code",
   "execution_count": null,
   "metadata": {},
   "outputs": [],
   "source": [
    "#dataframe to list\n",
    "total_Defunciones = df_Defunciones.values.tolist()\n",
    "#time series for each state\n",
    "lista_deathstates = []\n",
    "lista_Defunciones = []\n",
    "for i in range(len(total_Defunciones)):\n",
    "    lista = total_Defunciones[i]\n",
    "    del lista[:3]\n",
    "    #time series for each state\n",
    "    lista_deathstates.append(lista)\n",
    "    #sum of each state\n",
    "    lista_Defunciones.append(sum(lista_deathstates[i]))"
   ]
  },
  {
   "cell_type": "markdown",
   "metadata": {},
   "source": [
    "### Delete Mexico total cases"
   ]
  },
  {
   "cell_type": "code",
   "execution_count": null,
   "metadata": {},
   "outputs": [],
   "source": [
    "lista_Defunciones = lista_Defunciones[:-1]"
   ]
  },
  {
   "cell_type": "markdown",
   "metadata": {},
   "source": [
    "### Data table with the confirmed, recovered, and death cases by state in Mexico"
   ]
  },
  {
   "cell_type": "code",
   "execution_count": null,
   "metadata": {},
   "outputs": [],
   "source": [
    "data_table = pd.DataFrame()\n",
    "data_table[\"Region\"] = df_confirmados[df_confirmados.columns[2]]\n",
    "data_table[\"Confirmed cases\"] = lista_confirmed\n",
    "data_table[\"Confirmed cases per 100,000 people\"] = np.round(100000*(data_table[\"Confirmed cases\"] / poblacion), decimals=1).values\n",
    "data_table[\"Confirmed deaths\"] = lista_Defunciones\n",
    "data_table[\"Confirmed deaths per 100.000 people\"] = \\\n",
    "np.round(100000*data_table[\"Confirmed deaths\"]/(poblacion), decimals=1)"
   ]
  },
  {
   "cell_type": "markdown",
   "metadata": {},
   "source": [
    "### Plot table"
   ]
  },
  {
   "cell_type": "code",
   "execution_count": null,
   "metadata": {},
   "outputs": [],
   "source": [
    "#hide_input\n",
    "(data_table.style.set_properties(**{'text-align': 'right'}).background_gradient(cmap='Reds').hide_index()).set_caption(\n",
    "    'Statistics by region: Confirmed cases and confirmed deaths')"
   ]
  },
  {
   "cell_type": "code",
   "execution_count": null,
   "metadata": {},
   "outputs": [],
   "source": [
    "df_confirmados = pd.read_csv('https://raw.githubusercontent.com/DiegoHurtad0/Covid-19-Dataset-Mexico/master/time_series_covid19_confirmed_Mexico.csv')"
   ]
  },
  {
   "cell_type": "code",
   "execution_count": null,
   "metadata": {},
   "outputs": [],
   "source": [
    "states = df_confirmados[df_confirmados.columns[2]]"
   ]
  },
  {
   "cell_type": "code",
   "execution_count": null,
   "metadata": {},
   "outputs": [],
   "source": [
    "df_confirmados.head(5)\n",
    "df_confirmados = df_confirmados.iloc[:31]"
   ]
  },
  {
   "cell_type": "markdown",
   "metadata": {},
   "source": [
    "### Delete useless columns "
   ]
  },
  {
   "cell_type": "code",
   "execution_count": null,
   "metadata": {},
   "outputs": [],
   "source": [
    "del df_confirmados['cve_ent']\n",
    "del df_confirmados['poblacion']"
   ]
  },
  {
   "cell_type": "code",
   "execution_count": null,
   "metadata": {},
   "outputs": [],
   "source": [
    "df_confirmados.reset_index(drop=True, inplace=True)"
   ]
  },
  {
   "cell_type": "code",
   "execution_count": null,
   "metadata": {},
   "outputs": [],
   "source": [
    "df_confirmados.head(5)\n",
    "df_confirmados.to_csv('df_confirmados.csv', index=False)"
   ]
  },
  {
   "cell_type": "code",
   "execution_count": null,
   "metadata": {},
   "outputs": [],
   "source": [
    "states = df_confirmados[df_confirmados.columns[1]]"
   ]
  },
  {
   "cell_type": "code",
   "execution_count": null,
   "metadata": {},
   "outputs": [],
   "source": [
    "df_confirmados = pd.read_csv('df_confirmados.csv', index_col=0)"
   ]
  },
  {
   "cell_type": "code",
   "execution_count": null,
   "metadata": {},
   "outputs": [],
   "source": [
    "data = pd.DataFrame()\n",
    "i = 0\n",
    "for date in df_confirmados.keys():\n",
    "    for n, nombre in enumerate(df_confirmados.index):\n",
    "        data[i] = date,nombre,df_confirmados[date].loc[nombre], n\n",
    "        i += 1\n",
    "\n",
    "data.head(4)"
   ]
  },
  {
   "cell_type": "code",
   "execution_count": null,
   "metadata": {},
   "outputs": [],
   "source": [
    "#hide\n",
    "df_confirmados = df_confirmados.reset_index()\n",
    "regiones = df_confirmados['nombre'].values\n",
    "data = data.T\n",
    "data = data.rename(columns={0: \"date\", 1: \"region\", 2: \"casos\", 3: \"codigo region\"})"
   ]
  },
  {
   "cell_type": "code",
   "execution_count": null,
   "metadata": {},
   "outputs": [],
   "source": [
    "#disable max rows of the chart\n",
    "alt.data_transformers.disable_max_rows()"
   ]
  },
  {
   "cell_type": "code",
   "execution_count": null,
   "metadata": {},
   "outputs": [],
   "source": [
    "#hide\n",
    "data[\"casos\"] = data[\"casos\"].astype(int)"
   ]
  },
  {
   "cell_type": "markdown",
   "metadata": {},
   "source": [
    "## Chart with the total confirmed cases by state"
   ]
  },
  {
   "cell_type": "code",
   "execution_count": null,
   "metadata": {},
   "outputs": [],
   "source": [
    "#hide_input\n",
    "input_dropdown = alt.binding_select(options=data['region'].unique())\n",
    "selection1 = alt.selection_single(fields=['region'], bind=input_dropdown, name=' ')\n",
    "selection2 = alt.selection_multi(fields=['region'], on='mouseover')\n",
    "color = alt.condition(selection1 | selection2,\n",
    "                    alt.Color('region:N', scale=alt.Scale(scheme='tableau20'), legend=None),\n",
    "                    alt.value('lightgray'))\n",
    "\n",
    "chart = alt.Chart(data).mark_bar().encode(\n",
    "    x=alt.X('date:O', axis=alt.Axis(title='Date')),\n",
    "    y=alt.Y('casos', axis=alt.Axis(title='Confirmed cases')),\n",
    "    color=color,\n",
    "    tooltip=['date', 'region', 'casos'],\n",
    "    order=alt.Order(\n",
    "    \n",
    "    'codigo region',\n",
    "    sort='descending'\n",
    "    )\n",
    "    \n",
    ").properties(\n",
    "    title='COVID-19 in Mexico: Total confirmed cases by State'\n",
    ").add_selection(\n",
    "    selection1, selection2\n",
    ").transform_filter(\n",
    "    selection1\n",
    ")\n",
    "\n",
    "legend = alt.Chart(data).mark_point().encode(\n",
    "    y=alt.Y('region:N', axis=alt.Axis(orient='right'), sort=regiones),\n",
    "    color=color\n",
    ").add_selection(\n",
    "    selection1, selection2\n",
    ")\n",
    "\n",
    "chart.properties(width=900, height=700) | legend"
   ]
  },
  {
   "cell_type": "markdown",
   "metadata": {},
   "source": [
    "### Import time series of deaths cases"
   ]
  },
  {
   "cell_type": "code",
   "execution_count": null,
   "metadata": {},
   "outputs": [],
   "source": [
    "link = ''\n",
    "df_Defunciones = pd.read_csv('https://raw.githubusercontent.com/DiegoHurtad0/Covid-19-Dataset-Mexico/master/time_series_covid19_deaths_Mexico.csv')"
   ]
  },
  {
   "cell_type": "code",
   "execution_count": null,
   "metadata": {},
   "outputs": [],
   "source": [
    "df_Defunciones = df_Defunciones.iloc[:31]"
   ]
  },
  {
   "cell_type": "code",
   "execution_count": null,
   "metadata": {},
   "outputs": [],
   "source": [
    "del df_Defunciones['cve_ent']\n",
    "del df_Defunciones['poblacion']\n",
    "df_Defunciones.head(5)"
   ]
  },
  {
   "cell_type": "code",
   "execution_count": null,
   "metadata": {},
   "outputs": [],
   "source": [
    "del df_Defunciones['17-03-2020']\n",
    "df_Defunciones.head(5)"
   ]
  },
  {
   "cell_type": "code",
   "execution_count": null,
   "metadata": {},
   "outputs": [],
   "source": [
    "df_Defunciones.to_csv('df_Defunciones.csv', index=False)"
   ]
  },
  {
   "cell_type": "code",
   "execution_count": null,
   "metadata": {},
   "outputs": [],
   "source": [
    "df_Defunciones = pd.read_csv('df_Defunciones.csv', index_col=0)"
   ]
  },
  {
   "cell_type": "code",
   "execution_count": null,
   "metadata": {},
   "outputs": [],
   "source": [
    "df_Defunciones.head(5)"
   ]
  },
  {
   "cell_type": "code",
   "execution_count": null,
   "metadata": {},
   "outputs": [],
   "source": [
    "#hide\n",
    "new_data = pd.DataFrame()\n",
    "i = 0\n",
    "for date in df_Defunciones.keys():\n",
    "    for n, nombre in enumerate(df_Defunciones.index):\n",
    "        new_data[i] = date, nombre, df_Defunciones[date].loc[nombre], n\n",
    "        i += 1"
   ]
  },
  {
   "cell_type": "code",
   "execution_count": null,
   "metadata": {},
   "outputs": [],
   "source": [
    "#hide\n",
    "data = df_Defunciones.reset_index()\n",
    "regiones = data['nombre'].values\n",
    "new_data = new_data.T\n",
    "new_data = new_data.rename(columns={0: \"date\", 1: \"region\", 2: \"fallecidos\", 3: \"codigo region\"})"
   ]
  },
  {
   "cell_type": "code",
   "execution_count": null,
   "metadata": {},
   "outputs": [],
   "source": [
    "#hide\n",
    "new_data[\"fallecidos\"] = new_data[\"fallecidos\"].astype(int)"
   ]
  },
  {
   "cell_type": "markdown",
   "metadata": {},
   "source": [
    "## Chart with the total cases of death by state"
   ]
  },
  {
   "cell_type": "code",
   "execution_count": null,
   "metadata": {},
   "outputs": [],
   "source": [
    "#hide_input\n",
    "\n",
    "input_dropdown = alt.binding_select(options=new_data['region'].unique())\n",
    "selection1 = alt.selection_single(fields=['region'], bind=input_dropdown, name=' ')\n",
    "selection2 = alt.selection_multi(fields=['region'], on='mouseover')\n",
    "\n",
    "color = alt.condition(selection1 | selection2,\n",
    "                    alt.Color('region:N', scale=alt.Scale(scheme='tableau20'), legend=None),\n",
    "                    alt.value('lightgray'))\n",
    "\n",
    "bars = alt.Chart(new_data).mark_bar().encode(\n",
    "    x=alt.X('date:O', axis=alt.Axis(title='Date')),\n",
    "    y=alt.Y('fallecidos', axis=alt.Axis(title='Confirmed deaths')),\n",
    "    color=color,\n",
    "    tooltip=['date', 'region', 'fallecidos'],\n",
    "    order=alt.Order(\n",
    "    # Sort the segments of the bars by this field\n",
    "    'codigo region',\n",
    "    sort='descending'\n",
    "    )\n",
    "    ).properties(\n",
    "    title='COVID-19 in Mexico: Total confirmed deaths by states'\n",
    ").add_selection(\n",
    "    selection1, selection2\n",
    ").transform_filter(\n",
    "    selection1\n",
    ")\n",
    "\n",
    "legend = alt.Chart(new_data).mark_point().encode(\n",
    "    y=alt.Y('region:N', axis=alt.Axis(orient='right'), sort=regiones),\n",
    "    color=color\n",
    ").add_selection(\n",
    "    selection1, selection2\n",
    ")\n",
    "\n",
    "bars.properties(width=800, height=600) | legend"
   ]
  },
  {
   "cell_type": "code",
   "execution_count": null,
   "metadata": {},
   "outputs": [],
   "source": [
    "display(HTML(\"<div style = 'background-color: #504e4e; padding: 30px '>\" +\n",
    "             \"<span style='color: #FF8000; font-size:30px;'></span>\" +\n",
    "             \"<span style='color: #FF0000; font-size:30px;margin-left:20px;'></span>\"+\n",
    "             \"<span style='color: #66CC00; font-size:30px; margin-left:20px;'></span>\"+\n",
    "             \"</div>\")\n",
    "       )"
   ]
  },
  {
   "cell_type": "code",
   "execution_count": null,
   "metadata": {},
   "outputs": [],
   "source": []
  },
  {
   "cell_type": "code",
   "execution_count": null,
   "metadata": {},
   "outputs": [],
   "source": []
  }
 ],
 "metadata": {
  "kernelspec": {
   "display_name": "Python 3",
   "language": "python",
   "name": "python3"
  },
  "language_info": {
   "codemirror_mode": {
    "name": "ipython",
    "version": 3
   },
   "file_extension": ".py",
   "mimetype": "text/x-python",
   "name": "python",
   "nbconvert_exporter": "python",
   "pygments_lexer": "ipython3",
   "version": "3.9.1"
  }
 },
 "nbformat": 4,
 "nbformat_minor": 4
}
