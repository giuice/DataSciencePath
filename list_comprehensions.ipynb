{
 "cells": [
  {
   "cell_type": "markdown",
   "metadata": {},
   "source": [
    "# List Comprehensions and Lambda Functions\n",
    "So far, we've learned how to use regular expressions to make cleaning and analyzing text data easier.\n",
    "\n",
    "In this mission, we'll learn some tips and syntax shortcuts we can use on top of everything we've learned, including:\n",
    "\n",
    "- Creating list comprehensions to replace loops with a single line of code.\n",
    "- Creating single use functions called lambda functions.\n",
    "\n",
    "The data set we'll use in this mission is in a format called JavaScript Object Notation (JSON). As the name indicates, JSON originated from the JavaScript language, but has now become a language-independent format.\n",
    "\n",
    "From a Python perspective, JSON can be thought as a collection of Python objects nested inside each other.\n",
    "\n",
    "\n",
    "The JSON under is a list, where each element in the list is a dictionary. Each of the dictionaries have the same keys, and one of the values of each dictionary is itself a list.\n",
    "\n",
    "The Python json module contains a number of functions to make working with JSON objects easier. We can use the json.loads() method to convert JSON data contained in a string to the equivalent set of Python objects:\n",
    "```python\n",
    "json_string = \"\"\"\n",
    "[\n",
    "  {\n",
    "    \"name\": \"Sabine\",\n",
    "    \"age\": 36,\n",
    "    \"favorite_foods\": [\"Pumpkin\", \"Oatmeal\"]\n",
    "  },\n",
    "  {\n",
    "    \"name\": \"Zoe\",\n",
    "    \"age\": 40,\n",
    "    \"favorite_foods\": [\"Chicken\", \"Pizza\", \"Chocolate\"]\n",
    "  },\n",
    "  {\n",
    "    \"name\": \"Heidi\",\n",
    "    \"age\": 40,\n",
    "    \"favorite_foods\": [\"Caesar Salad\"]\n",
    "  }\n",
    "]\n",
    "\"\"\"\n",
    "​\n",
    "import json\n",
    "json_obj = json.loads(json_string)\n",
    "print(type(json_obj))\n",
    "class 'list'\n",
    "We can see that json_string has turned into a list. Let's take a look at the values in the list:\n",
    "\n",
    "print(json_obj)\n",
    "[{'age': 36, 'favorite_foods': ['Pumpkin', 'Oatmeal'], 'name': 'Sabine'},\n",
    " {'age': 40, 'favorite_foods': ['Chicken', 'Pizza', 'Chocolate'], 'name': 'Zoe'},\n",
    " {'age': 40, 'favorite_foods': ['Caesar Salad'], 'name': 'Heidi'}]\n",
    "We can observe a few things:\n",
    "```\n",
    "The formatting from our original string is gone. This is because printing Python lists and dictionaries has a simple formatting structure.\n",
    "The order of the keys in the dictionary have changed. This is because (prior to version 3.6) Python dictionaries don't have fixed order.\n",
    "Let's practice using json.loads() to convert JSON data from a string to Python objects!\n",
    "\n",
    "1. Import the json module.\n",
    "2. Use json.loads() to convert world_cup_str to a Python object. Assign the result to world_cup_obj."
   ]
  },
  {
   "cell_type": "code",
   "execution_count": 14,
   "metadata": {},
   "outputs": [],
   "source": [
    "import pandas as pd\n",
    "import numpy as np"
   ]
  },
  {
   "cell_type": "code",
   "execution_count": 2,
   "metadata": {},
   "outputs": [
    {
     "data": {
      "text/plain": [
       "[{'team_1': 'France',\n",
       "  'team_2': 'Croatia',\n",
       "  'game_type': 'Final',\n",
       "  'score': [4, 2]},\n",
       " {'team_1': 'Belgium',\n",
       "  'team_2': 'England',\n",
       "  'game_type': '3rd/4th Playoff',\n",
       "  'score': [2, 0]}]"
      ]
     },
     "execution_count": 2,
     "metadata": {},
     "output_type": "execute_result"
    }
   ],
   "source": [
    "import json\n",
    "world_cup_str = \"\"\"\n",
    "[\n",
    "    {\n",
    "        \"team_1\": \"France\",\n",
    "        \"team_2\": \"Croatia\",\n",
    "        \"game_type\": \"Final\",\n",
    "        \"score\" : [4, 2]\n",
    "    },\n",
    "    {\n",
    "        \"team_1\": \"Belgium\",\n",
    "        \"team_2\": \"England\",\n",
    "        \"game_type\": \"3rd/4th Playoff\",\n",
    "        \"score\" : [2, 0]\n",
    "    }\n",
    "]\n",
    "\"\"\"\n",
    "world_cup_obj = json.loads(world_cup_str)\n",
    "world_cup_obj"
   ]
  },
  {
   "cell_type": "markdown",
   "metadata": {},
   "source": [
    "One of the places where the JSON format is commonly used is in the results returned by an Application programming interface (API). APIs are interfaces that can be used to send and transmit data between different computer systems. We'll learn about how to work with APIs in a later course.\n",
    "\n",
    "The data set from this mission — hn_2014.json — was downloaded from the Hacker News API. It's a different set of data from the CSV we've been using in the previous two missions, and it contains data about stories from Hacker News in 2014.\n",
    "\n",
    "To read a file from JSON format, we use the json.load() function. Note that the function is json.load() without an \"s\" at the end. The json.loads() function is used for loading JSON data from a string (\"loads\" is short for \"load string\"), whereas the json.load() function is used to load from a file object. Let's look at how we would read that in our data:\n",
    "```python\n",
    "import json\n",
    "file = open(\"hn_2014.json\")\n",
    "hn = json.load(file)\n",
    "​\n",
    "print(type(hn))\n",
    "class 'list'\n",
    "Our hn variable is a list. Let's find out how many objects are in the list, and the type of the first object (which will almost always be the type of every object in the list in JSON data):\n",
    "\n",
    "print(len(hn))\n",
    "print(type(hn[0]))\n",
    "35806\n",
    "class 'dict'\n",
    "```\n",
    "Our data set contains 35,806 dictionary objects, each representing a Hacker News story. In order to understand the format of our data set, we'll print the keys of the first dictionary:\n",
    "\n",
    "```python\n",
    "print(hn[0].keys())\n",
    "dict_keys(['createdAtI', 'numComments', 'objectId', 'createdAt',\n",
    "           'tags', 'title', 'points', 'author', 'storyText', 'url'])\n",
    "```\n",
    "\n",
    "If we recall the data set we used in the previous two missions, we can see some similarities. There are keys representing the title, URL, points, number of comments, and date, as well as some others that are less familiar to us. Here is a summary of the keys and the data that they contain:\n",
    "<pre>\n",
    "author: The username of the person who submitted the story.\n",
    "createdAt: The date and time at which the story was created.\n",
    "createdAtI: An integer value representing the date and time at which the story was created.\n",
    "numComments: The number of comments that were made on the story.\n",
    "objectId: The unique identifier from Hacker News for the story.\n",
    "points: The number of points the story acquired, calculated as the total number of upvotes minus the total number of downvotes.\n",
    "storyText: The text of the story (if the story contains text).\n",
    "tags: A list of tags associated with the story.\n",
    "title: The title of the story.\n",
    "url: The URL that the story links to (if the story links to a URL).\n",
    "</pre>\n",
    "Let's start by reading our Hacker News JSON file:\n",
    "\n",
    "*Instructions*\n",
    "\n",
    "1. Use the open() function to open the hn_2014.json file as a file object.\n",
    "2. Use the json.load() function to parse the file object and assign the result to hn."
   ]
  },
  {
   "cell_type": "code",
   "execution_count": 4,
   "metadata": {},
   "outputs": [
    {
     "data": {
      "text/plain": [
       "{'author': 'dragongraphics',\n",
       " 'numComments': 0,\n",
       " 'points': 2,\n",
       " 'url': 'http://ashleynolan.co.uk/blog/are-we-getting-too-sassy',\n",
       " 'storyText': '',\n",
       " 'createdAt': '2014-05-29T08:07:50Z',\n",
       " 'tags': ['story', 'author_dragongraphics', 'story_7815238'],\n",
       " 'createdAtI': 1401350870,\n",
       " 'title': 'Are we getting too Sassy? Weighing up micro-optimisation vs. maintainability',\n",
       " 'objectId': '7815238'}"
      ]
     },
     "execution_count": 4,
     "metadata": {},
     "output_type": "execute_result"
    }
   ],
   "source": [
    "file = open('data/hn_2014.json')\n",
    "hn = json.load(file)\n",
    "hn[0]"
   ]
  },
  {
   "cell_type": "markdown",
   "metadata": {},
   "source": [
    "Let's look at the first dictionary in full. To make it easier to understand, we're going to create a function which will print a JSON object with formatting to make it easier to read.\n",
    "\n",
    "The function will use the json.dumps() function (\"dump string\") which does the opposite of the json.loads() function — it takes a JSON object and returns a string version of it. The json.dumps() function accepts arguments that can specify formatting for the string, which we'll use to make things easier to read:\n",
    "```python\n",
    "def jprint(obj):\n",
    "    # create a formatted string of the Python JSON object\n",
    "    text = json.dumps(obj, sort_keys=True, indent=4)\n",
    "    print(text)\n",
    "​\n",
    "first_story = hn[0]\n",
    "jprint(first_story)\n",
    "\n",
    "    ],\n",
    "    \"title\": \"Are we getting too Sassy? Weighing up micro-optimisation vs. maintainability\",\n",
    "    \"url\": \"http://ashleynolan.co.uk/blog/are-we-getting-too-sassy\"\n",
    "}\n",
    "{\n",
    "    \"author\": \"dragongraphics\",\n",
    "    \"createdAt\": \"2014-05-29T08:07:50Z\",\n",
    "    \"createdAtI\": 1401350870,\n",
    "    \"numComments\": 0,\n",
    "    \"objectId\": \"7815238\",\n",
    "    \"points\": 2,\n",
    "    \"storyText\": \"\",\n",
    "    \"tags\": [\n",
    "        \"story\",\n",
    "        \"author_dragongraphics\",\n",
    "        \"story_7815238\"\n",
    "    ],\n",
    "    \"title\": \"Are we getting too Sassy? Weighing up micro-optimisation vs. maintainability\",\n",
    "    \"url\": \"http://ashleynolan.co.uk/blog/are-we-getting-too-sassy\"\n",
    "}\n",
    "```\n",
    "You may notice that the createdAt and createdAtI keys both have the date and time data in two different formats. Because the format of createdAt is much easier to understand, let's do some data cleaning by deleting the createdAtI key from every dictionary.\n",
    "\n",
    "To delete a key from a dictionary, we can use the del statement. Let's learn the syntax by looking at a simple example:\n",
    "```python\n",
    "d = {'a': 1, 'b': 2, 'c': 3}\n",
    "del d['a']\n",
    "print(d)\n",
    "{'b': 2, 'c': 3}\n",
    "```\n",
    "We can create a function using del that will return a copy of our dictionary with the key removed:\n",
    "```python\n",
    "def del_key(dict_, key):\n",
    "    # create a copy so we don't\n",
    "    # modify the original dict\n",
    "    modified_dict = dict_.copy()\n",
    "    del modified_dict[key]\n",
    "    return modified_dict\n",
    "#Let's use this function to delete the createdAtI key from first_story:\n",
    "\n",
    "first_story = del_key(first_story, 'createdAtI')\n",
    "jprint(first_story)\n",
    "{\n",
    "    \"author\": \"dragongraphics\",\n",
    "    \"createdAt\": \"2014-05-29T08:07:50Z\",\n",
    "    \"numComments\": 0,\n",
    "    \"objectId\": \"7815238\",\n",
    "    \"points\": 2,\n",
    "    \"storyText\": \"\",\n",
    "    \"tags\": [\n",
    "        \"story\",\n",
    "        \"author_dragongraphics\",\n",
    "        \"story_7815238\"\n",
    "    ],\n",
    "    \"title\": \"Are we getting too Sassy? Weighing up micro-optimisation vs. maintainability\",\n",
    "    \"url\": \"http://ashleynolan.co.uk/blog/are-we-getting-too-sassy\"\n",
    "}\n",
    "```\n",
    "The dictionary returned by the function no longer includes the createdAtI key.\n",
    "\n",
    "Let's use a loop and the del_key() function to remove the createdAtI key from every story in our Hacker News data set:\n",
    "\n",
    "*Instructions*\n",
    "\n",
    "We have provided the code for the del_key() function.\n",
    "\n",
    "1. Create an empty list, hn_clean to store the cleaned data set.\n",
    "2. Loop over the dictionaries in the hn list. In each iteration:\n",
    "3. Use the del_key() function to delete the createdAtI key from the dictionary.\n",
    "4. Append the cleaned dictionary to hn_clean."
   ]
  },
  {
   "cell_type": "code",
   "execution_count": 11,
   "metadata": {},
   "outputs": [
    {
     "data": {
      "text/plain": [
       "{'author': 'dragongraphics',\n",
       " 'numComments': 0,\n",
       " 'points': 2,\n",
       " 'url': 'http://ashleynolan.co.uk/blog/are-we-getting-too-sassy',\n",
       " 'storyText': '',\n",
       " 'createdAt': '2014-05-29T08:07:50Z',\n",
       " 'tags': ['story', 'author_dragongraphics', 'story_7815238'],\n",
       " 'title': 'Are we getting too Sassy? Weighing up micro-optimisation vs. maintainability',\n",
       " 'objectId': '7815238'}"
      ]
     },
     "execution_count": 11,
     "metadata": {},
     "output_type": "execute_result"
    }
   ],
   "source": [
    "def del_key(dict_, key):\n",
    "    # create a copy so we don't\n",
    "    # modify the original dict\n",
    "    modified_dict = dict_.copy()\n",
    "    del modified_dict[key]\n",
    "    return modified_dict\n",
    "hn_clean = []\n",
    "\n",
    "for dic in hn:\n",
    "    hn_clean.append(del_key(dic,'createdAtI'))\n",
    "\n",
    "hn_clean[0]"
   ]
  },
  {
   "cell_type": "markdown",
   "metadata": {},
   "source": [
    "The task we performed is an extremely common one. Specifically, we:\n",
    "\n",
    "1. Iterated over values in a list.\n",
    "2. Performed a transformation on those values.\n",
    "3. Assigned the result to a new list.\n",
    "\n",
    "Python includes a special syntax shortcut for tasks that meet these criteria: List Comprehensions. A list comprehension provides a concise way of creating lists in a single line of code.\n",
    "\n",
    "List comprehensions can look complex at first, but we are simply reordering the elements of our for loop code. To keep things simple, we'll start with a basic example, where we want to add 1 to each item in a list of integers.\n",
    "```python\n",
    "ints = [1, 2, 3, 4]\n",
    "​\n",
    "plus_one = []\n",
    "for i in ints:\n",
    "    plus_one.append(i + 1)\n",
    "​\n",
    "print(plus_one)\n",
    "[2, 3, 4, 5]\n",
    "```\n",
    "Let's start by labeling the three main parts of our loop:\n",
    "\n",
    "<img src='images/loop_components.svg' />\n",
    "\n",
    "To transform this structure into a list comprehension, we do the following within brackets:\n",
    "\n",
    "- Start with the code that transforms each item.\n",
    "- Continue with our for statement (without a colon).\n",
    "- We can then assign the list comprehension to a variable name. The animation below shows how we convert the manual loop version to a list comprehension.\n",
    "\n",
    "<img src='images/list_comp_anim.svg' />\n",
    "\n",
    "Let's look at a second example, where we want to multiply each item in the list by 10:\n",
    "```python\n",
    "times_ten = []\n",
    "for i in ints:\n",
    "    times_ten.append(i * 10)\n",
    "​\n",
    "print(times_ten)\n",
    "[10, 20, 30, 40]\n",
    "```\n",
    "To convert this to a list comprehension, we follow the same pattern:\n",
    "\n",
    "<img src='images/loop_vs_lc_2.svg' />\n",
    "\n",
    "- The \"transformation\" step of our list comprehension can be anything, including a function or method. In the example below, we are applying a function to a list of floats to round them to integers:\n",
    "```python\n",
    "floats = [2.1, 8.7, 4.2, 8.9]\n",
    "​\n",
    "rounded = []\n",
    "for f in floats:\n",
    "    rounded.append(round(f))\n",
    "​\n",
    "print(rounded)\n",
    "[2, 9, 4, 9]\n",
    "```\n",
    "To convert to a list comprehension, we simply rearrange the components:\n",
    "\n",
    "<img src='images/loop_vs_lc_3.svg' />\n",
    "\n",
    "Just like in a normal loop, we can use any name for our iterator variable. Here, we have used f.\n",
    "\n",
    "For the last example, we'll apply a method to each string in a list to capitalize it. We won't color the different components, so we can get used to how that looks.\n",
    "```python\n",
    "letters = ['a', 'b', 'c', 'd']\n",
    "​\n",
    "caps = []\n",
    "for l in letters:\n",
    "    caps.append(l.upper())\n",
    "Even though we've used a different kind of transformation, the ordering of the list comprehension remains the same:\n",
    "\n",
    "caps = [l.upper() for l in letters]\n",
    "print(caps)\n",
    "['A', 'B', 'C', 'D']\n",
    "```\n",
    "Let's recap what we have learned so far. A list comprehension can be used where we:\n",
    "\n",
    "- Iterated over values in a list.\n",
    "- Performed a transformation on those values.\n",
    "- Assigned the result to a new list.\n",
    "- To transform a loop to a list comprehension, in brackets we:\n",
    "\n",
    "1. Start with the code that transforms each item.\n",
    "2. Continue with our for statement (without a colon).\n",
    "\n",
    "We are going to write a list comprehension version of the code from the previous screen. To help, we've provided a copy of the code with the components labeled.\n",
    "\n",
    "*Instructions*\n",
    "\n",
    "1. Create a list comprehension representation of the loop from the previous screen:\n",
    "2. Call the del_key() function to remove the createdAtI value from each dictionary in the hn list.\n",
    "3. Assign the results to a new list, hn_clean."
   ]
  },
  {
   "cell_type": "code",
   "execution_count": 12,
   "metadata": {},
   "outputs": [],
   "source": [
    "hn_clean = [del_key(d,'createdAtI')  for d in hn]"
   ]
  },
  {
   "cell_type": "code",
   "execution_count": 15,
   "metadata": {},
   "outputs": [
    {
     "name": "stdout",
     "output_type": "stream",
     "text": [
      "   col_1  col_2  col_3  col_4\n",
      "0    0.0    0.0    0.0    0.0\n",
      "1    0.0    0.0    0.0    0.0\n",
      "2    0.0    0.0    0.0    0.0\n",
      "3    0.0    0.0    0.0    0.0\n"
     ]
    }
   ],
   "source": [
    "#We can then use this to create an empty dataframe with labels:\n",
    "cols = [\"col_{}\".format(i) for i in range(1,5)]\n",
    "data = np.zeros((4,4))\n",
    "df = pd.DataFrame(data, columns=cols)\n",
    "print(df)"
   ]
  },
  {
   "cell_type": "code",
   "execution_count": 20,
   "metadata": {},
   "outputs": [
    {
     "data": {
      "text/plain": [
       "['http://ashleynolan.co.uk/blog/are-we-getting-too-sassy',\n",
       " 'http://spectrum.ieee.org/automaton/robotics/home-robots/telemba-telepresence-robot',\n",
       " 'http://online.wsj.com/articles/apple-to-buy-beats-1401308971',\n",
       " 'http://alexsblog.org/2014/05/29/dont-wait-for-inspiration/',\n",
       " 'http://techcrunch.com/2014/05/28/hackerone-get-9m-in-series-a-funding-to-build-bug-tracking-bounty-programs/']"
      ]
     },
     "execution_count": 20,
     "metadata": {},
     "output_type": "execute_result"
    }
   ],
   "source": [
    "#Use a list comprehension to extract the url value from each dictionary in hn_clean. Assign the result to urls.\n",
    "urls = [d['url'] for d in hn_clean]\n",
    "urls[0:5]"
   ]
  },
  {
   "cell_type": "markdown",
   "metadata": {},
   "source": [
    "The last common application of list comprehensions is reducing a list. Let's say we had a list of integers and we wanted to remove any integers that were smaller than 50. We could do this by adding an if statement to our loop:"
   ]
  },
  {
   "cell_type": "code",
   "execution_count": 22,
   "metadata": {},
   "outputs": [
    {
     "name": "stdout",
     "output_type": "stream",
     "text": [
      "[78, 80]\n"
     ]
    }
   ],
   "source": [
    "ints = [1, 3, 50, 78, 80]\n",
    "big_ints = [i for i in ints if i > 50]\n",
    "print(big_ints)"
   ]
  },
  {
   "cell_type": "markdown",
   "metadata": {},
   "source": [
    "Let's use list comprehension to count how many stories have more than 1,000 points.\n",
    "\n",
    "*Instructions*\n",
    "\n",
    "1. Use list comprehension to create a new list, thousand_points:\n",
    "2. The list should contain values from hn_clean where the points key has a value greater than 1000.\n",
    "3. Count the number of values in thousand_points and assign the result to num_thousand_points."
   ]
  },
  {
   "cell_type": "code",
   "execution_count": 25,
   "metadata": {},
   "outputs": [
    {
     "data": {
      "text/plain": [
       "8"
      ]
     },
     "execution_count": 25,
     "metadata": {},
     "output_type": "execute_result"
    }
   ],
   "source": [
    "thousand_points = [d for d in hn_clean if d['points'] > 1000]\n",
    "num_thousand_points = len(thousand_points)\n",
    "num_thousand_points"
   ]
  },
  {
   "cell_type": "markdown",
   "metadata": {},
   "source": [
    "Let's define a very simple function as an example:\n",
    "```python\n",
    "def greet():\n",
    "    return \"hello\"\n",
    "​\n",
    "greet()\n",
    "'hello'\n",
    "```\n",
    "If we try to examine the type of our function, we are unsuccessful:\n",
    "```python\n",
    "t = type(greet())\n",
    "print(t)\n",
    "str\n",
    "```\n",
    "We need to find a way to look at the function itself, rather than the result of the function. The key to this is the parentheses: ().\n",
    "\n",
    "The parentheses are what tells Python to execute the function, so if we omit the parentheses we can treat a function like a variable, rather than working with the output of the function:\n",
    "```python\n",
    "t = type(greet)\n",
    "print(t)\n",
    "```\n",
    "\n",
    "There are other variable-like behaviors we can also use when we omit the parentheses from a function. For instance, we can assign a function to a new variable name:\n",
    "```python\n",
    "greet_2 = greet\n",
    "​\n",
    "greet_2()\n",
    "'hello'\n",
    "```\n",
    "Now that we understand how to treat a function as variable, let's look at how we can run a function inside another function by passing it as an argument:\n",
    "```python\n",
    "def run_func(func):\n",
    "    print(\"RUNNING FUNCTION: {}\".format(func))\n",
    "    return func()\n",
    "run_func(greet)\n",
    "RUNNING FUNCTION: function greet at 0x12a64c400\n",
    "'hello'\n",
    "```\n",
    "passing a function as an argument\n",
    "Now that we have some intuition on how to pass functions as arguments, let's see how we use a function to control the behavior of the sorted() function:\n",
    "\n",
    "sorting a list of lists using a key function\n",
    "Let's look at the same thing in code form:\n",
    "```python\n",
    "def get_age(json_dict):\n",
    "    return json_dict['age']\n",
    "​\n",
    "youngest = min(json_obj, key=get_age)\n",
    "jprint(youngest)\n",
    "{\n",
    "    \"age\": 36,\n",
    "    \"favorite_foods\": [\"Pumpkin\", \"Oatmeal\"],\n",
    "    \"name\": \"Sabine\"\n",
    "}\n",
    "```\n",
    "Let's use this technique to find the story that has the greatest number of comments.\n",
    "\n",
    "*Instructions*\n",
    "\n",
    "1. Create a \"key function\" that accepts a single dictionary and returns the value from the numComments key.\n",
    "2. Use the max() function with the \"key function\" you just created to find the value from the hn_clean list with the most comments:\n",
    "3. Assign the result to the variable most_comments."
   ]
  },
  {
   "cell_type": "code",
   "execution_count": 27,
   "metadata": {},
   "outputs": [
    {
     "data": {
      "text/plain": [
       "{'author': 'platz',\n",
       " 'numComments': 1208,\n",
       " 'points': 889,\n",
       " 'url': 'https://blog.mozilla.org/blog/2014/04/03/brendan-eich-steps-down-as-mozilla-ceo/',\n",
       " 'storyText': None,\n",
       " 'createdAt': '2014-04-03T19:02:53Z',\n",
       " 'tags': ['story', 'author_platz', 'story_7525198'],\n",
       " 'title': 'Brendan Eich Steps Down as Mozilla CEO',\n",
       " 'objectId': '7525198'}"
      ]
     },
     "execution_count": 27,
     "metadata": {},
     "output_type": "execute_result"
    }
   ],
   "source": [
    "def key_function(d):\n",
    "    return d['numComments']\n",
    "most_comments = max(hn_clean, key=key_function)\n",
    "most_comments"
   ]
  },
  {
   "cell_type": "markdown",
   "metadata": {},
   "source": [
    "### Now we will learn lambdas:\n",
    "<img src='images/lambda_2_comparison.svg' />\n",
    "\n",
    "<img src='images/lambda_2_comparison.svg' />\n",
    "\n",
    "If a function is particularly complex, it may be a better choice to define a regular function rather than create a lambda, even if it will only be used once. For instance, this function below, which extracts digits from a string and then adds one to the resultant integer:\n",
    "\n",
    "```python\n",
    "def extract_and_increment(string):\n",
    "    digits = re.search(r\"\\d+\", string).group()\n",
    "    incremented = int(digits) + 1\n",
    "    return incremented\n",
    "\n",
    "#It becomes tough to understand in its lambda form:\n",
    "\n",
    "extract_and_increment = lambda string: int(re.search(r\"\\d+\", string).group()) + 1\n",
    "```\n",
    "Being mindful of this will ensure our code remains easy to read and understand.\n",
    "\n",
    "Let's practice creating a lambda function version of a simple function:\n",
    "\n",
    "*Instructions*\n",
    "\n",
    "1. In the display code, we have defined (in comments) a function multiply() using traditional syntax.\n",
    "2. Create a lambda function that performs the same operation. Assign it to the variable name multiply."
   ]
  },
  {
   "cell_type": "code",
   "execution_count": 30,
   "metadata": {},
   "outputs": [
    {
     "data": {
      "text/plain": [
       "6"
      ]
     },
     "execution_count": 30,
     "metadata": {},
     "output_type": "execute_result"
    }
   ],
   "source": [
    "#ef multiply(a, b):\n",
    "#   return a * b\n",
    "multiply = lambda a,b: a*b\n",
    "multiply(2,3)"
   ]
  },
  {
   "cell_type": "code",
   "execution_count": 33,
   "metadata": {},
   "outputs": [
    {
     "data": {
      "text/plain": [
       "[{'author': 'dragongraphics',\n",
       "  'numComments': 0,\n",
       "  'points': 2,\n",
       "  'url': 'http://ashleynolan.co.uk/blog/are-we-getting-too-sassy',\n",
       "  'storyText': '',\n",
       "  'createdAt': '2014-05-29T08:07:50Z',\n",
       "  'tags': ['story', 'author_dragongraphics', 'story_7815238'],\n",
       "  'title': 'Are we getting too Sassy? Weighing up micro-optimisation vs. maintainability',\n",
       "  'objectId': '7815238'},\n",
       " {'author': 'jcr',\n",
       "  'numComments': 0,\n",
       "  'points': 1,\n",
       "  'url': 'http://spectrum.ieee.org/automaton/robotics/home-robots/telemba-telepresence-robot',\n",
       "  'storyText': '',\n",
       "  'createdAt': '2014-05-29T08:05:58Z',\n",
       "  'tags': ['story', 'author_jcr', 'story_7815234'],\n",
       "  'title': 'Telemba Turns Your Old Roomba and Tablet Into a Telepresence Robot',\n",
       "  'objectId': '7815234'}]"
      ]
     },
     "execution_count": 33,
     "metadata": {},
     "output_type": "execute_result"
    }
   ],
   "source": [
    "#Let's look at how this works in common usage with min(), max(), and sorted().\n",
    "sorted(hn_clean[0:2], key=lambda d: d['points'], reverse=True)"
   ]
  },
  {
   "cell_type": "markdown",
   "metadata": {},
   "source": [
    "Over the past three screens, we have:\n",
    "\n",
    "- Learned that functions can be passed as arguments.\n",
    "- Created functions and used them to calculate the minimum, maximum, and to sort lists of lists.\n",
    "- Learned about lambda functions and how to create them.\n",
    "- Learned how to use a lambda function to pass an argument in place when calculating minimums, maximums, and sorting lists of lists.\n",
    "\n",
    "We can now apply all of this new knowledge to our Hacker News data to calculate the posts that had the most points in 2014!\n",
    "1. Using sorted() and a lambda function, sort the hn_clean JSON list by the number of points (dictionary key points) from highest to lowest:\n",
    "2. Check the documentation for sorted() to see how to reverse the order to highest to lowest.\n",
    "3. Assign the result to hn_sorted_points.\n",
    "4. Use a list comprehension to return a list of the five post titles (dictionary key title) that have the most points in our data set:\n",
    "5. Assign the result to top_5_titles."
   ]
  },
  {
   "cell_type": "code",
   "execution_count": 35,
   "metadata": {},
   "outputs": [
    {
     "data": {
      "text/plain": [
       "['2048',\n",
       " 'Today is The Day We Fight Back',\n",
       " 'Wozniak: “Actually, the movie was largely a lie about me”',\n",
       " 'Microsoft Open Sources C# Compiler',\n",
       " 'Elon Musk: To the People of New Jersey']"
      ]
     },
     "execution_count": 35,
     "metadata": {},
     "output_type": "execute_result"
    }
   ],
   "source": [
    "hn_sorted_points = sorted(hn_clean, key=lambda d: d['points'], reverse=True)\n",
    "top_5_titles = [d['title'] for d in hn_sorted_points[0:5]]\n",
    "top_5_titles"
   ]
  },
  {
   "cell_type": "markdown",
   "metadata": {},
   "source": [
    "We can use the pandas.DataFrame() constructor and pass the list of dictionaries directly to it to convert the JSON to a dataframe:\n",
    "```python\n",
    "json_df = pd.DataFrame(json_obj)\n",
    "print(json_df)\n",
    "age                 favorite_foods    name\n",
    "0   36             [Pumpkin, Oatmeal]  Sabine\n",
    "1   40    [Chicken, Pizza, Chocolate]     Zoe\n",
    "2   40                 [Caesar Salad]   Heidi\n",
    "```\n",
    "In this case, the favorite_foods column contains the list from the JSON. We'll see a similar thing with the tags column for our Hacker News data. We'll learn how to correct that on the next screen, but for now, let's convert our data to a pandas dataframe.\n",
    "\n",
    "1. Import the pandas library.\n",
    "2. Use the pandas.DataFrame() constructor to create a dataframe version of the hn_clean JSON list. Assign the result to hn_df."
   ]
  },
  {
   "cell_type": "code",
   "execution_count": 36,
   "metadata": {},
   "outputs": [
    {
     "data": {
      "text/html": [
       "<div>\n",
       "<style scoped>\n",
       "    .dataframe tbody tr th:only-of-type {\n",
       "        vertical-align: middle;\n",
       "    }\n",
       "\n",
       "    .dataframe tbody tr th {\n",
       "        vertical-align: top;\n",
       "    }\n",
       "\n",
       "    .dataframe thead th {\n",
       "        text-align: right;\n",
       "    }\n",
       "</style>\n",
       "<table border=\"1\" class=\"dataframe\">\n",
       "  <thead>\n",
       "    <tr style=\"text-align: right;\">\n",
       "      <th></th>\n",
       "      <th>author</th>\n",
       "      <th>numComments</th>\n",
       "      <th>points</th>\n",
       "      <th>url</th>\n",
       "      <th>storyText</th>\n",
       "      <th>createdAt</th>\n",
       "      <th>tags</th>\n",
       "      <th>title</th>\n",
       "      <th>objectId</th>\n",
       "    </tr>\n",
       "  </thead>\n",
       "  <tbody>\n",
       "    <tr>\n",
       "      <td>0</td>\n",
       "      <td>dragongraphics</td>\n",
       "      <td>0</td>\n",
       "      <td>2</td>\n",
       "      <td>http://ashleynolan.co.uk/blog/are-we-getting-t...</td>\n",
       "      <td></td>\n",
       "      <td>2014-05-29T08:07:50Z</td>\n",
       "      <td>[story, author_dragongraphics, story_7815238]</td>\n",
       "      <td>Are we getting too Sassy? Weighing up micro-op...</td>\n",
       "      <td>7815238</td>\n",
       "    </tr>\n",
       "  </tbody>\n",
       "</table>\n",
       "</div>"
      ],
      "text/plain": [
       "           author  numComments  points  \\\n",
       "0  dragongraphics            0       2   \n",
       "\n",
       "                                                 url storyText  \\\n",
       "0  http://ashleynolan.co.uk/blog/are-we-getting-t...             \n",
       "\n",
       "              createdAt                                           tags  \\\n",
       "0  2014-05-29T08:07:50Z  [story, author_dragongraphics, story_7815238]   \n",
       "\n",
       "                                               title objectId  \n",
       "0  Are we getting too Sassy? Weighing up micro-op...  7815238  "
      ]
     },
     "execution_count": 36,
     "metadata": {},
     "output_type": "execute_result"
    }
   ],
   "source": [
    "hn_df = pd.DataFrame(hn_clean)\n",
    "hn_df.head(1)"
   ]
  },
  {
   "cell_type": "markdown",
   "metadata": {},
   "source": [
    "At first glance, it looks like each values in this JSON list contain three items:\n",
    "\n",
    "- The string story\n",
    "- The name of the author\n",
    "- The story ID\n",
    "- If that's the case, then the column doesn't contain any unique data, and we can remove it. We're going to analyze this column to make - sure that's the case.\n",
    "\n",
    "Let's start by exploring how pandas is storing that data. First, we'll extract the column as a series, and check its type:\n",
    "```python\n",
    "tags = hn_df['tags']\n",
    "print(tags.dtype)\n",
    "```\n",
    "\n",
    "The tags column is stored as an object type. Whenever pandas uses the object type, each item in the series uses a Python object to store the data. Most commonly we see this type used for string data.\n",
    "\n",
    "We previously learned that we could use the Series.apply() method to apply a function to every item in a series. Let's look at what we get when we pass the type() function as an argument to the column:\n",
    "\n",
    "```python\n",
    "tags_types = tags.apply(type)\n",
    "type_counts = tags_types.value_counts(dropna=False)\n",
    "print(type_counts)\n",
    "class 'list'    35806\n",
    "Name: tags, dtype: int64\n",
    "All 35,806 items in the column are a Python list type.\n",
    "```\n",
    "\n",
    "Next, let's use Series.apply() to check the length of each of those lists. If our hypothesis from earlier is correct, every row will have a list containing three items:\n",
    "\n",
    "```python\n",
    "tags_types = tags.apply(len)\n",
    "type_lengths = tags_types.value_counts(dropna=False)\n",
    "print(type_lengths)\n",
    "3    33459\n",
    "4     2347\n",
    "Name: tags, dtype: int64\n",
    "```\n",
    "While most of the item have three values in the list, about 2,000 values contain four values. Let's use a boolean mask to look at the items where the list has four items:\n",
    "\n",
    "1. Use Series.apply() and len() to create a boolean mask based on whether each item in tags has a length of 4.\n",
    "2. Use the boolean mask to filter tags. Assign the result to four_tags."
   ]
  },
  {
   "cell_type": "code",
   "execution_count": 41,
   "metadata": {},
   "outputs": [
    {
     "data": {
      "text/plain": [
       "43     [story, author_alamgir_mand, story_7813869, sh...\n",
       "86       [story, author_cweagans, story_7812404, ask_hn]\n",
       "104    [story, author_nightstrike789, story_7812099, ...\n",
       "107    [story, author_ISeemToBeAVerb, story_7812048, ...\n",
       "109       [story, author_Swizec, story_7812018, show_hn]\n",
       "Name: tags, dtype: object"
      ]
     },
     "execution_count": 41,
     "metadata": {},
     "output_type": "execute_result"
    }
   ],
   "source": [
    "tags = hn_df.tags\n",
    "four_tags = tags[tags.apply(len) > 3]\n",
    "four_tags.head(5)"
   ]
  },
  {
   "cell_type": "markdown",
   "metadata": {},
   "source": [
    "It looks like whenever there are four tags, the extra tag is the last of the four. In this final exercise of the mission, we're going to use a lambda function to extract this fourth value in cases where there is one. To do this for any single list, we'll need to:\n",
    "\n",
    "- Check the length of the list.\n",
    "- If the length of the list is equal to four, return the last value.\n",
    "- If the length of the list isn't equal to four, return a null value.\n",
    "- This is how we could create this as a standard function:\n",
    "```python\n",
    "def extract_tag(l):\n",
    "    if len(l) == 4:\n",
    "        return l[-1]\n",
    "    else:\n",
    "        return None\n",
    "```\n",
    "We could use Series.apply() to apply this function as is, but to practice working with lambda functions, let's look at how we can complete this operation in a single line.\n",
    "\n",
    "To achieve this, we'll have to use a special version of an if statement known as a ternary operator. You can use the ternary operator whenever you need to return one of two values depending on a boolean expression. The syntax is as follows:\n",
    "<pre>\n",
    "[on_true] if [expression] else [on_false]\n",
    "</pre>\n",
    "\n",
    "The diagram below shows our function using an if statement and its ternary operator equivalent:\n",
    "\n",
    "<img src='images/ternary_operator_eg.svg' /> \n",
    "\n",
    "Let's finish by creating a lambda function version of this function and using apply to extract the tags.\n",
    "\n",
    "We have provided a function that uses a ternary operator to provide the logic to extract the tags.\n",
    "\n",
    "- Use Series.apply() and a lambda function to extract the tag data from tags:\n",
    "    - Where the item is a list with length four, return the last item.\n",
    "    - In all other cases, return None.\n",
    "    - Assign the result to cleaned_tags.\n",
    "    - Assign the cleaned_tags series to the tags column of the hn_df dataframe."
   ]
  },
  {
   "cell_type": "code",
   "execution_count": 42,
   "metadata": {},
   "outputs": [
    {
     "data": {
      "text/plain": [
       "0        None\n",
       "1        None\n",
       "2        None\n",
       "3        None\n",
       "4        None\n",
       "         ... \n",
       "35801    None\n",
       "35802    None\n",
       "35803    None\n",
       "35804    None\n",
       "35805    None\n",
       "Name: tags, Length: 35806, dtype: object"
      ]
     },
     "execution_count": 42,
     "metadata": {},
     "output_type": "execute_result"
    }
   ],
   "source": [
    "# def extract_tag(l):\n",
    "#     return l[-1] if len(l) == 4 else None\n",
    "tags.apply(lambda d: d[-1] if len(d) > 3 else None)"
   ]
  },
  {
   "cell_type": "code",
   "execution_count": null,
   "metadata": {},
   "outputs": [],
   "source": []
  },
  {
   "cell_type": "code",
   "execution_count": null,
   "metadata": {},
   "outputs": [],
   "source": []
  },
  {
   "cell_type": "code",
   "execution_count": null,
   "metadata": {},
   "outputs": [],
   "source": []
  },
  {
   "cell_type": "code",
   "execution_count": null,
   "metadata": {},
   "outputs": [],
   "source": []
  },
  {
   "cell_type": "code",
   "execution_count": null,
   "metadata": {},
   "outputs": [],
   "source": []
  },
  {
   "cell_type": "code",
   "execution_count": null,
   "metadata": {},
   "outputs": [],
   "source": []
  },
  {
   "cell_type": "code",
   "execution_count": null,
   "metadata": {},
   "outputs": [],
   "source": []
  },
  {
   "cell_type": "code",
   "execution_count": null,
   "metadata": {},
   "outputs": [],
   "source": []
  },
  {
   "cell_type": "code",
   "execution_count": null,
   "metadata": {},
   "outputs": [],
   "source": []
  },
  {
   "cell_type": "code",
   "execution_count": null,
   "metadata": {},
   "outputs": [],
   "source": []
  },
  {
   "cell_type": "code",
   "execution_count": null,
   "metadata": {},
   "outputs": [],
   "source": []
  },
  {
   "cell_type": "code",
   "execution_count": null,
   "metadata": {},
   "outputs": [],
   "source": []
  },
  {
   "cell_type": "code",
   "execution_count": null,
   "metadata": {},
   "outputs": [],
   "source": []
  }
 ],
 "metadata": {
  "kernelspec": {
   "display_name": "Python 3",
   "language": "python",
   "name": "python3"
  },
  "language_info": {
   "codemirror_mode": {
    "name": "ipython",
    "version": 3
   },
   "file_extension": ".py",
   "mimetype": "text/x-python",
   "name": "python",
   "nbconvert_exporter": "python",
   "pygments_lexer": "ipython3",
   "version": "3.7.3"
  }
 },
 "nbformat": 4,
 "nbformat_minor": 4
}
