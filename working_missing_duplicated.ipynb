{
 "cells": [
  {
   "cell_type": "markdown",
   "metadata": {},
   "source": [
    "# Working With Missing And Duplicate Data\n",
    "We've already read in the modified 2015, 2016, and 2017 World Happiness Reports to the variables happiness2015, happiness2016, and happiness2017, respectively. We also updated each dataframe so that each contain the same countries, as described above.\n",
    "\n",
    "- Use the DataFrame.shape attribute to confirm the number of rows and columns for happiness2015, happiness2016, and happiness2017.\n",
    "    - Assign the result for happiness2015 to shape_2015.\n",
    "    - Assign the result for happiness2016 to shape_2016.\n",
    "    - Assign the result for happiness2017 to shape_2017."
   ]
  },
  {
   "cell_type": "code",
   "execution_count": 1,
   "metadata": {},
   "outputs": [
    {
     "name": "stdout",
     "output_type": "stream",
     "text": [
      "(164, 13) (164, 14) (164, 13)\n"
     ]
    }
   ],
   "source": [
    "import pandas as pd\n",
    "import numpy as np\n",
    "import matplotlib.pyplot as plt\n",
    "plt.style.use('ggplot')\n",
    "\n",
    "happiness2015 = pd.read_csv('wh_2015.csv')\n",
    "happiness2016 = pd.read_csv('wh_2016.csv')\n",
    "happiness2017 = pd.read_csv('wh_2017.csv')\n",
    "shape_2015 = happiness2015.shape\n",
    "shape_2016 = happiness2016.shape\n",
    "shape_2017 = happiness2017.shape\n",
    "print(shape_2015,shape_2016,shape_2017)"
   ]
  },
  {
   "cell_type": "markdown",
   "metadata": {},
   "source": [
    "- Use the DataFrame.isnull() and DataFrame.sum() methods to confirm the number of missing values in happiness2016. Assign the result to missing_2016.\n",
    "- Use the DataFrame.isnull() and DataFrame.sum() methods to confirm the number of missing values in happiness2017. Assign the result to missing_2017."
   ]
  },
  {
   "cell_type": "code",
   "execution_count": 2,
   "metadata": {},
   "outputs": [],
   "source": [
    "missing_2016 = happiness2016.isnull().sum()\n",
    "missing_2017 = happiness2017.isnull().sum()"
   ]
  },
  {
   "cell_type": "markdown",
   "metadata": {},
   "source": [
    "If we do introduce missing values after transforming data, we'll have to determine if the data is really missing or if it's the result of some kind of error. As we progress through this mission, we'll use the following workflow to clean our missing values, starting with checking for errors:\n",
    "\n",
    "1. Check for errors in data cleaning/transformation.\n",
    "2. Use data from additional sources to fill missing values.\n",
    "3. Drop row/column.\n",
    "4. Fill missing values with reasonable estimates computed from the available data.\n",
    "\n",
    "Let's return to a task we completed in a previous mission - combining the 2015, 2016, and 2017 World Happiness Reports. Recall that we can use the pd.concat() function to combine them:\n",
    "\n"
   ]
  },
  {
   "cell_type": "code",
   "execution_count": 3,
   "metadata": {},
   "outputs": [
    {
     "data": {
      "text/plain": [
       "Country                            0\n",
       "Region                           177\n",
       "Happiness Rank                   177\n",
       "Happiness Score                  177\n",
       "Standard Error                   334\n",
       "Economy (GDP per Capita)         177\n",
       "Family                            22\n",
       "Health (Life Expectancy)         177\n",
       "Freedom                           22\n",
       "Trust (Government Corruption)    177\n",
       "Generosity                        22\n",
       "Dystopia Residual                177\n",
       "Year                               0\n",
       "Lower Confidence Interval        335\n",
       "Upper Confidence Interval        335\n",
       "Happiness.Rank                   337\n",
       "Happiness.Score                  337\n",
       "Whisker.high                     337\n",
       "Whisker.low                      337\n",
       "Economy..GDP.per.Capita.         337\n",
       "Health..Life.Expectancy.         337\n",
       "Trust..Government.Corruption.    337\n",
       "Dystopia.Residual                337\n",
       "dtype: int64"
      ]
     },
     "execution_count": 3,
     "metadata": {},
     "output_type": "execute_result"
    }
   ],
   "source": [
    "pd.concat([happiness2015, happiness2016, happiness2017], ignore_index=True, sort=False).isnull().sum()"
   ]
  },
  {
   "cell_type": "markdown",
   "metadata": {},
   "source": [
    "We can see above that our dataframe has many missing values and these missing values follow a pattern. Most columns fall into one of the following categories:\n",
    "\n",
    "177 missing values (about 1/3 of the total values)\n",
    "337 missing values (about 2/3 of the total values)\n",
    "You may have also noticed that some of the column names differ only by punctuation, which caused the dataframes to be combined incorrectly:\n",
    "\n",
    "Trust (Government Corruption)\n",
    "Trust..Government.Corruption.\n",
    "In the next exercise, we'll update the column names to make them uniform and combine the dataframes again. To clean the column names, we recommend using a technique we haven't covered yet, described in this Stack Overflow answer.\n",
    "\n",
    "As you start to work on more data cleaning tasks, you'll inevitably encounter scenarios you don't know specifically how to handle. Stack Overflow is a great place to reference to get answers for these questions, as other people have likely already asked the same question and solicited answers.\n",
    "\n",
    "As a reminder, below is a list of common string methods you can use to clean the columns:\n",
    "<table class=\"tg\">\n",
    "<tbody><tr>\n",
    "<th>Method</th>\n",
    "<th>Description</th>\n",
    "</tr>\n",
    "<tr>\n",
    "<td>Series.str.split()</td>\n",
    "<td>Splits each element in the Series.</td>\n",
    "</tr>\n",
    "<tr>\n",
    "<td>Series.str.strip()</td>\n",
    "<td>Strips whitespace from each string in the Series.</td>\n",
    "</tr>\n",
    "<tr>\n",
    "<td>Series.str.lower()</td>\n",
    "<td>Converts strings in the Series to lowercase.</td>\n",
    "</tr>\n",
    "<tr>\n",
    "<td>Series.str.upper()</td>\n",
    "<td>Converts strings in the Series to uppercase.</td>\n",
    "</tr>\n",
    "<tr>\n",
    "<td>Series.str.get()</td>\n",
    "<td>Retrieves the ith element of each element in the Series.</td>\n",
    "</tr>\n",
    "<tr>\n",
    "<td><span style=\"font-weight:300;font-style:normal\">Series.str.replace()</span></td>\n",
    "<td><span style=\"font-weight:300;font-style:normal\">Replaces a regex or string in the Series with another string.</span></td>\n",
    "</tr>\n",
    "<tr>\n",
    "<td>Series.str.cat()</td>\n",
    "<td>Concatenates strings in a Series.</td>\n",
    "</tr>\n",
    "<tr>\n",
    "<td><span style=\"font-weight:300;font-style:normal\">Series.str.extract()</span></td>\n",
    "<td><span style=\"font-weight:300;font-style:normal\">Extracts substrings from the Series matching a regex pattern.</span></td>\n",
    "</tr>\n",
    "</tbody></table>\n",
    "\n",
    "- Update the columns names forhappiness2015 and happiness2016 to match the formatting of the column names in happiness2017. Use the following criteria to rename the columns:\n",
    "    - All letters should be uppercase.\n",
    "    - There should be only one space between words.\n",
    "    - There should be no parentheses in column names\n",
    "    - For example, the Health (Life Expectancy) columns should both be renamed to HEALTH LIFE EXPECTANCY.\n",
    "- Use the pd.concat() function to combine happiness2015, happpiness2016, and happiness2017. Set the ignore_index argument equal to True to reset the index in the resulting dataframe. Assign the result to combined.\n",
    "- Use the DataFrame.isnull() and DataFrame.sum() methods to check for missing values. Assign the result to a variable named missing.\n"
   ]
  },
  {
   "cell_type": "code",
   "execution_count": 4,
   "metadata": {},
   "outputs": [],
   "source": [
    "happiness2017.columns = happiness2017.columns.str.replace('.', ' ')\\\n",
    "                        .str.replace('\\s+', ' ').str.strip().str.upper()\n",
    "happiness2015.columns = happiness2015.columns.str.replace('.', ' ')\\\n",
    "                        .str.replace('(','').str.replace(')','')\\\n",
    "                        .str.replace('\\s+',' ').str.strip().str.upper()\n",
    "happiness2016.columns = happiness2016.columns.str.replace('.', ' ')\\\n",
    "                        .str.replace('(','').str.replace(')','')\\\n",
    "                        .str.replace('\\s+',' ').str.strip().str.upper()\n",
    "combined = pd.concat([happiness2015, happiness2016, happiness2017], ignore_index=True, sort=False)"
   ]
  },
  {
   "cell_type": "code",
   "execution_count": 5,
   "metadata": {},
   "outputs": [],
   "source": [
    "missing = combined.isnull().sum()"
   ]
  },
  {
   "cell_type": "code",
   "execution_count": 6,
   "metadata": {},
   "outputs": [
    {
     "data": {
      "text/plain": [
       "COUNTRY                          0\n",
       "REGION                         177\n",
       "HAPPINESS RANK                  22\n",
       "HAPPINESS SCORE                 22\n",
       "STANDARD ERROR                 334\n",
       "ECONOMY GDP PER CAPITA          22\n",
       "FAMILY                          22\n",
       "HEALTH LIFE EXPECTANCY          22\n",
       "FREEDOM                         22\n",
       "TRUST GOVERNMENT CORRUPTION     22\n",
       "GENEROSITY                      22\n",
       "DYSTOPIA RESIDUAL               22\n",
       "YEAR                             0\n",
       "LOWER CONFIDENCE INTERVAL      335\n",
       "UPPER CONFIDENCE INTERVAL      335\n",
       "WHISKER HIGH                   337\n",
       "WHISKER LOW                    337\n",
       "dtype: int64"
      ]
     },
     "execution_count": 6,
     "metadata": {},
     "output_type": "execute_result"
    }
   ],
   "source": [
    "missing"
   ]
  },
  {
   "cell_type": "code",
   "execution_count": 7,
   "metadata": {},
   "outputs": [
    {
     "data": {
      "text/plain": [
       "<matplotlib.axes._subplots.AxesSubplot at 0x1d8b256c048>"
      ]
     },
     "execution_count": 7,
     "metadata": {},
     "output_type": "execute_result"
    },
    {
     "data": {
      "image/png": "[encoded data removed]",
      "text/plain": [
       "<Figure size 432x288 with 1 Axes>"
      ]
     },
     "metadata": {
      "needs_background": "light"
     },
     "output_type": "display_data"
    }
   ],
   "source": [
    "import seaborn as sns\n",
    "combined_updated = combined.set_index('YEAR')\n",
    "sns.heatmap(combined_updated.isnull(), cbar=False)"
   ]
  },
  {
   "cell_type": "markdown",
   "metadata": {},
   "source": [
    "to understand this visualization, imagine we took combined, highlighted missing values in light gray and all other values in black, and then shrunk it so that was could easily view the entire dataframe at once.\n",
    "\n",
    "Since we concatenated happiness2015, happiness2016, and happiness2017 by stacking them, note that the top third of the dataframe corresponds to the 2015 data, the second third corresponds to the 2016 data, and the bottom third corresponds to the 2017 data.\n",
    "\n",
    "We can make the following observations:\n",
    "\n",
    "- No values are missing in the COUNTRY column.\n",
    "- There are some rows in the 2015, 2016, and 2017 data with missing values in all columns EXCEPT the COUNTRY column.\n",
    "- Some columns only have data populated for one year.\n",
    "- It looks like the REGION data is missing for the year 2017.\n",
    "\n",
    "Let's check that the last statement is correct in the next exercise.\n",
    "- Confirm that the REGION column is missing from the 2017 data. Recall that there are 164 rows for the year 2017.\n",
    "    - Select just the rows in combined in which the YEAR column equals 2017. Then, select just the REGION column. Assign the result to regions_2017.\n",
    "    - Use the Series.isnull() and Series.sum() to calculate the total number of missing values in regions_2017, the REGION column for 2017. Assign the result to missing.\n",
    "- Use the variable inspector to view the results of missing. Are all 164 region values missing for the year 2017?"
   ]
  },
  {
   "cell_type": "code",
   "execution_count": 8,
   "metadata": {},
   "outputs": [
    {
     "data": {
      "text/plain": [
       "164"
      ]
     },
     "execution_count": 8,
     "metadata": {},
     "output_type": "execute_result"
    }
   ],
   "source": [
    "regions_2017 = combined[combined['YEAR'] == 2017].REGION\n",
    "missing = regions_2017.isnull().sum()\n",
    "missing"
   ]
  },
  {
   "cell_type": "markdown",
   "metadata": {},
   "source": [
    "Before we drop or replace any values, let's first see if there's a way we can use other available data to correct the values.\n",
    "\n",
    "1. Check for errors in data cleaning/transformation.\n",
    "2. Use data from additional sources to fill missing values.\n",
    "3. Drop row/column.\n",
    "4. Fill missing values with reasonable estimates computed from the available data.\n",
    "\n",
    "Recall once more that each year contains the same countries. Since the regions are fixed values - the region a country was assigned to in 2015 or 2016 won't change - we should be able to assign the 2015 or 2016 region to the 2017 row.\n",
    "\n",
    "In order to do so, we'll use the following strategy:\n",
    "\n",
    "1. Create a dataframe containing all of the countries and corresponding regions from the happiness2015 and happiness2016 dataframes.\n",
    "2. Use the pd.merge() function to assign the REGION in the dataframe above to the corresponding country in combined.\n",
    "3. The result will have two region columns - the original column with missing values will be named REGION_x. The updated column without missing values will be named REGION_y. We'll drop REGION_x to eliminate confusion.\n",
    "\n",
    "Note that there are other ways to complete this task. We encourage you to explore them on your own.\n",
    "We've already created a dataframe named regions containing all of the countries and corresponding regions from the happiness2015 and happiness2016 dataframes.\n",
    "\n",
    "- Use the pd.merge() function to assign the REGION in the regions dataframe to the corresponding country in combined.\n",
    "    - Set the left parameter equal to combined.\n",
    "    - Set the right parameter equal to regions.\n",
    "    - Set the on parameter equal to 'COUNTRY'.\n",
    "    - Set the how parameter equal to 'left' to make sure we don't drop any rows from combined.\n",
    "    - Assign the result back to combined.\n",
    "- Use the DataFrame.drop() method to drop the original region column with missing values, now named REGION_x.\n",
    "    - Pass 'REGION_x' into the df.drop() method.\n",
    "    - Set the axis parameter equal to 1.\n",
    "    - Assign the result back to combined.\n",
    "- Use the DataFrame.isnull() and DataFrame.sum() methods to check for missing values. Assign the result to a variable named missing."
   ]
  },
  {
   "cell_type": "code",
   "execution_count": 9,
   "metadata": {},
   "outputs": [
    {
     "data": {
      "text/plain": [
       "COUNTRY                          0\n",
       "HAPPINESS RANK                  44\n",
       "HAPPINESS SCORE                 44\n",
       "STANDARD ERROR                 668\n",
       "ECONOMY GDP PER CAPITA          44\n",
       "FAMILY                          44\n",
       "HEALTH LIFE EXPECTANCY          44\n",
       "FREEDOM                         44\n",
       "TRUST GOVERNMENT CORRUPTION     44\n",
       "GENEROSITY                      44\n",
       "DYSTOPIA RESIDUAL               44\n",
       "YEAR                             0\n",
       "LOWER CONFIDENCE INTERVAL      670\n",
       "UPPER CONFIDENCE INTERVAL      670\n",
       "WHISKER HIGH                   674\n",
       "WHISKER LOW                    674\n",
       "REGION_y                        39\n",
       "dtype: int64"
      ]
     },
     "execution_count": 9,
     "metadata": {},
     "output_type": "execute_result"
    }
   ],
   "source": [
    "regions = combined[(combined['YEAR'] == 2016) | (combined['YEAR'] == 2015)][['COUNTRY','REGION']]\n",
    "combined = pd.merge(left=combined, right=regions, on='COUNTRY', how='left')\n",
    "combined = combined.drop('REGION_x', axis=1)\n",
    "combined.isnull().sum()"
   ]
  },
  {
   "cell_type": "markdown",
   "metadata": {},
   "source": [
    "- Standardize the capitalization so that all the values in the COUNTRY column in combined are uppercase.\n",
    "    - As an example, 'India' should be changed to 'INDIA'.\n",
    "- Use the df.duplicated() method to identify any rows that have the same value in the COUNTRY and YEAR columns. Assign your result to dups.\n",
    "- Use dups to index combined. Print the results."
   ]
  },
  {
   "cell_type": "code",
   "execution_count": 10,
   "metadata": {},
   "outputs": [],
   "source": [
    "combined.COUNTRY = combined.COUNTRY.str.upper()"
   ]
  },
  {
   "cell_type": "code",
   "execution_count": 11,
   "metadata": {},
   "outputs": [
    {
     "data": {
      "text/html": [
       "<div>\n",
       "<style scoped>\n",
       "    .dataframe tbody tr th:only-of-type {\n",
       "        vertical-align: middle;\n",
       "    }\n",
       "\n",
       "    .dataframe tbody tr th {\n",
       "        vertical-align: top;\n",
       "    }\n",
       "\n",
       "    .dataframe thead th {\n",
       "        text-align: right;\n",
       "    }\n",
       "</style>\n",
       "<table border=\"1\" class=\"dataframe\">\n",
       "  <thead>\n",
       "    <tr style=\"text-align: right;\">\n",
       "      <th></th>\n",
       "      <th>COUNTRY</th>\n",
       "      <th>HAPPINESS RANK</th>\n",
       "      <th>HAPPINESS SCORE</th>\n",
       "      <th>STANDARD ERROR</th>\n",
       "      <th>ECONOMY GDP PER CAPITA</th>\n",
       "      <th>FAMILY</th>\n",
       "      <th>HEALTH LIFE EXPECTANCY</th>\n",
       "      <th>FREEDOM</th>\n",
       "      <th>TRUST GOVERNMENT CORRUPTION</th>\n",
       "      <th>GENEROSITY</th>\n",
       "      <th>DYSTOPIA RESIDUAL</th>\n",
       "      <th>YEAR</th>\n",
       "      <th>LOWER CONFIDENCE INTERVAL</th>\n",
       "      <th>UPPER CONFIDENCE INTERVAL</th>\n",
       "      <th>WHISKER HIGH</th>\n",
       "      <th>WHISKER LOW</th>\n",
       "      <th>REGION_y</th>\n",
       "    </tr>\n",
       "  </thead>\n",
       "  <tbody>\n",
       "    <tr>\n",
       "      <th>1</th>\n",
       "      <td>SWITZERLAND</td>\n",
       "      <td>1.0</td>\n",
       "      <td>7.587</td>\n",
       "      <td>0.03411</td>\n",
       "      <td>1.39651</td>\n",
       "      <td>1.34951</td>\n",
       "      <td>0.94143</td>\n",
       "      <td>0.66557</td>\n",
       "      <td>0.41978</td>\n",
       "      <td>0.29678</td>\n",
       "      <td>2.51738</td>\n",
       "      <td>2015</td>\n",
       "      <td>NaN</td>\n",
       "      <td>NaN</td>\n",
       "      <td>NaN</td>\n",
       "      <td>NaN</td>\n",
       "      <td>Western Europe</td>\n",
       "    </tr>\n",
       "    <tr>\n",
       "      <th>3</th>\n",
       "      <td>ICELAND</td>\n",
       "      <td>2.0</td>\n",
       "      <td>7.561</td>\n",
       "      <td>0.04884</td>\n",
       "      <td>1.30232</td>\n",
       "      <td>1.40223</td>\n",
       "      <td>0.94784</td>\n",
       "      <td>0.62877</td>\n",
       "      <td>0.14145</td>\n",
       "      <td>0.43630</td>\n",
       "      <td>2.70201</td>\n",
       "      <td>2015</td>\n",
       "      <td>NaN</td>\n",
       "      <td>NaN</td>\n",
       "      <td>NaN</td>\n",
       "      <td>NaN</td>\n",
       "      <td>Western Europe</td>\n",
       "    </tr>\n",
       "    <tr>\n",
       "      <th>5</th>\n",
       "      <td>DENMARK</td>\n",
       "      <td>3.0</td>\n",
       "      <td>7.527</td>\n",
       "      <td>0.03328</td>\n",
       "      <td>1.32548</td>\n",
       "      <td>1.36058</td>\n",
       "      <td>0.87464</td>\n",
       "      <td>0.64938</td>\n",
       "      <td>0.48357</td>\n",
       "      <td>0.34139</td>\n",
       "      <td>2.49204</td>\n",
       "      <td>2015</td>\n",
       "      <td>NaN</td>\n",
       "      <td>NaN</td>\n",
       "      <td>NaN</td>\n",
       "      <td>NaN</td>\n",
       "      <td>Western Europe</td>\n",
       "    </tr>\n",
       "    <tr>\n",
       "      <th>7</th>\n",
       "      <td>NORWAY</td>\n",
       "      <td>4.0</td>\n",
       "      <td>7.522</td>\n",
       "      <td>0.03880</td>\n",
       "      <td>1.45900</td>\n",
       "      <td>1.33095</td>\n",
       "      <td>0.88521</td>\n",
       "      <td>0.66973</td>\n",
       "      <td>0.36503</td>\n",
       "      <td>0.34699</td>\n",
       "      <td>2.46531</td>\n",
       "      <td>2015</td>\n",
       "      <td>NaN</td>\n",
       "      <td>NaN</td>\n",
       "      <td>NaN</td>\n",
       "      <td>NaN</td>\n",
       "      <td>Western Europe</td>\n",
       "    </tr>\n",
       "    <tr>\n",
       "      <th>9</th>\n",
       "      <td>CANADA</td>\n",
       "      <td>5.0</td>\n",
       "      <td>7.427</td>\n",
       "      <td>0.03553</td>\n",
       "      <td>1.32629</td>\n",
       "      <td>1.32261</td>\n",
       "      <td>0.90563</td>\n",
       "      <td>0.63297</td>\n",
       "      <td>0.32957</td>\n",
       "      <td>0.45811</td>\n",
       "      <td>2.45176</td>\n",
       "      <td>2015</td>\n",
       "      <td>NaN</td>\n",
       "      <td>NaN</td>\n",
       "      <td>NaN</td>\n",
       "      <td>NaN</td>\n",
       "      <td>North America</td>\n",
       "    </tr>\n",
       "  </tbody>\n",
       "</table>\n",
       "</div>"
      ],
      "text/plain": [
       "       COUNTRY  HAPPINESS RANK  HAPPINESS SCORE  STANDARD ERROR  \\\n",
       "1  SWITZERLAND             1.0            7.587         0.03411   \n",
       "3      ICELAND             2.0            7.561         0.04884   \n",
       "5      DENMARK             3.0            7.527         0.03328   \n",
       "7       NORWAY             4.0            7.522         0.03880   \n",
       "9       CANADA             5.0            7.427         0.03553   \n",
       "\n",
       "   ECONOMY GDP PER CAPITA   FAMILY  HEALTH LIFE EXPECTANCY  FREEDOM  \\\n",
       "1                 1.39651  1.34951                 0.94143  0.66557   \n",
       "3                 1.30232  1.40223                 0.94784  0.62877   \n",
       "5                 1.32548  1.36058                 0.87464  0.64938   \n",
       "7                 1.45900  1.33095                 0.88521  0.66973   \n",
       "9                 1.32629  1.32261                 0.90563  0.63297   \n",
       "\n",
       "   TRUST GOVERNMENT CORRUPTION  GENEROSITY  DYSTOPIA RESIDUAL  YEAR  \\\n",
       "1                      0.41978     0.29678            2.51738  2015   \n",
       "3                      0.14145     0.43630            2.70201  2015   \n",
       "5                      0.48357     0.34139            2.49204  2015   \n",
       "7                      0.36503     0.34699            2.46531  2015   \n",
       "9                      0.32957     0.45811            2.45176  2015   \n",
       "\n",
       "   LOWER CONFIDENCE INTERVAL  UPPER CONFIDENCE INTERVAL  WHISKER HIGH  \\\n",
       "1                        NaN                        NaN           NaN   \n",
       "3                        NaN                        NaN           NaN   \n",
       "5                        NaN                        NaN           NaN   \n",
       "7                        NaN                        NaN           NaN   \n",
       "9                        NaN                        NaN           NaN   \n",
       "\n",
       "   WHISKER LOW        REGION_y  \n",
       "1          NaN  Western Europe  \n",
       "3          NaN  Western Europe  \n",
       "5          NaN  Western Europe  \n",
       "7          NaN  Western Europe  \n",
       "9          NaN   North America  "
      ]
     },
     "execution_count": 11,
     "metadata": {},
     "output_type": "execute_result"
    }
   ],
   "source": [
    "dups = combined.loc[:,['COUNTRY','YEAR']].duplicated()\n",
    "combined[dups].head()"
   ]
  },
  {
   "cell_type": "markdown",
   "metadata": {},
   "source": [
    "- Use the df.drop_duplicates() method to drop rows with more than one country for each year. Assign the result back to combined.\n",
    "- Pass a list containing the COUNTRY and YEAR columns into the drop_duplicates() method."
   ]
  },
  {
   "cell_type": "code",
   "execution_count": 12,
   "metadata": {},
   "outputs": [],
   "source": [
    "combined['COUNTRY'] = combined['COUNTRY'].str.upper()\n",
    "combined = combined.drop_duplicates(['COUNTRY','YEAR'])"
   ]
  },
  {
   "cell_type": "markdown",
   "metadata": {},
   "source": [
    "Since missing values make up more than half of the following columns and we don't need them to accomplish our end goal, we'll drop them:\n",
    "\n",
    "- STANDARD ERROR\n",
    "- LOWER CONFIDENCE INTERVAL\n",
    "- UPPER CONFIDENCE INTERVAL\n",
    "- WHISKER HIGH\n",
    "- WHISKER LOW\n",
    "We'll use the DataFrame.drop() method to drop them next.\n",
    "\n",
    "### Instructions\n",
    "\n",
    "- Use the df.drop() method to drop the columns in columns_to_drop.\n",
    "    - Pass columns_to_drop into the df.drop() method.\n",
    "    - Set the axis parameter equal to 1.\n",
    "    - Assign the result back to combined.\n",
    "- Use the df.isnull() and df.sum() methods to calculate the number of missing values for each column. Assign the result to missing."
   ]
  },
  {
   "cell_type": "code",
   "execution_count": 13,
   "metadata": {},
   "outputs": [
    {
     "data": {
      "text/plain": [
       "COUNTRY                         0\n",
       "HAPPINESS RANK                 19\n",
       "HAPPINESS SCORE                19\n",
       "ECONOMY GDP PER CAPITA         19\n",
       "FAMILY                         19\n",
       "HEALTH LIFE EXPECTANCY         19\n",
       "FREEDOM                        19\n",
       "TRUST GOVERNMENT CORRUPTION    19\n",
       "GENEROSITY                     19\n",
       "DYSTOPIA RESIDUAL              19\n",
       "YEAR                            0\n",
       "REGION_y                       17\n",
       "dtype: int64"
      ]
     },
     "execution_count": 13,
     "metadata": {},
     "output_type": "execute_result"
    }
   ],
   "source": [
    "columns_to_drop = ['LOWER CONFIDENCE INTERVAL', 'STANDARD ERROR', 'UPPER CONFIDENCE INTERVAL', 'WHISKER HIGH', 'WHISKER LOW']\n",
    "combined = combined.drop(columns_to_drop, axis=1)\n",
    "combined.isnull().sum()"
   ]
  },
  {
   "cell_type": "markdown",
   "metadata": {},
   "source": [
    "- Use the df.dropna() method to drop all columns in combined with 159 or less non null values.\n",
    "- Set the thresh argument equal to 159 and the axis parameter equal to 1.\n",
    "- Use the df.isnull() and df.sum() methods to calculate the number of missing values for each column. Assign the result to missing."
   ]
  },
  {
   "cell_type": "code",
   "execution_count": 16,
   "metadata": {},
   "outputs": [
    {
     "data": {
      "text/plain": [
       "COUNTRY                         0\n",
       "HAPPINESS RANK                 19\n",
       "HAPPINESS SCORE                19\n",
       "ECONOMY GDP PER CAPITA         19\n",
       "FAMILY                         19\n",
       "HEALTH LIFE EXPECTANCY         19\n",
       "FREEDOM                        19\n",
       "TRUST GOVERNMENT CORRUPTION    19\n",
       "GENEROSITY                     19\n",
       "DYSTOPIA RESIDUAL              19\n",
       "YEAR                            0\n",
       "REGION_y                       17\n",
       "dtype: int64"
      ]
     },
     "execution_count": 16,
     "metadata": {},
     "output_type": "execute_result"
    }
   ],
   "source": [
    "combined = combined.dropna(thresh=159, axis=1)\n",
    "combined.isnull().sum()"
   ]
  },
  {
   "cell_type": "code",
   "execution_count": 21,
   "metadata": {},
   "outputs": [],
   "source": [
    "combined.rename({'REGION_y':'REGION'},axis=1, inplace=True)"
   ]
  },
  {
   "cell_type": "code",
   "execution_count": 22,
   "metadata": {},
   "outputs": [
    {
     "data": {
      "text/plain": [
       "<matplotlib.axes._subplots.AxesSubplot at 0x1d8b55a3cf8>"
      ]
     },
     "execution_count": 22,
     "metadata": {},
     "output_type": "execute_result"
    },
    {
     "data": {
      "image/png": "[encoded data removed]",
      "text/plain": [
       "<Figure size 432x288 with 1 Axes>"
      ]
     },
     "metadata": {
      "needs_background": "light"
     },
     "output_type": "display_data"
    }
   ],
   "source": [
    "sorted = combined.set_index('REGION').sort_values(['REGION', 'HAPPINESS SCORE'])\n",
    "sns.heatmap(sorted.isnull(), cbar=False)"
   ]
  },
  {
   "cell_type": "markdown",
   "metadata": {},
   "source": [
    "- Use the Series.mean() method to calculate the mean of the HAPPINESS SCORE column. Assign the result to happiness_mean. Print happiness_mean.\n",
    "- Use the Series.fillna() method to replace all the missing values in the HAPPINESS SCORE column with happiness_mean. Assign the result to a new column named HAPPINESS SCORE UPDATED.\n",
    "- Print the mean of HAPPINESS SCORE UPDATED.\n",
    "- Based on the results of this exercise, try to answer the question below:\n",
    "    - Did replacing missing values with the mean of a series cause the mean to change?"
   ]
  },
  {
   "cell_type": "code",
   "execution_count": 23,
   "metadata": {},
   "outputs": [
    {
     "name": "stdout",
     "output_type": "stream",
     "text": [
      "0      7.587000\n",
      "2      7.561000\n",
      "4      7.527000\n",
      "6      7.522000\n",
      "8      7.427000\n",
      "         ...   \n",
      "972    5.370728\n",
      "974    5.370728\n",
      "976    5.370728\n",
      "980    5.370728\n",
      "982    5.370728\n",
      "Name: HAPPINESS SCORE_UPDATED, Length: 489, dtype: float64\n"
     ]
    }
   ],
   "source": [
    "happiness_mean = combined['HAPPINESS SCORE'].mean()\n",
    "combined['HAPPINESS SCORE_UPDATED'] = combined['HAPPINESS SCORE'].fillna(happiness_mean)\n",
    "print(combined['HAPPINESS SCORE_UPDATED'])"
   ]
  },
  {
   "cell_type": "markdown",
   "metadata": {},
   "source": [
    "- Use the DataFrame.dropna() method to drop any remaining rows with missing values. Assign the result back to combined.\n",
    "- Use the df.isnull() and df.sum() methods to confirm there are no missing values left in combined. Assign the result to missing."
   ]
  },
  {
   "cell_type": "code",
   "execution_count": 24,
   "metadata": {},
   "outputs": [
    {
     "data": {
      "text/plain": [
       "COUNTRY                        0\n",
       "HAPPINESS RANK                 0\n",
       "HAPPINESS SCORE                0\n",
       "ECONOMY GDP PER CAPITA         0\n",
       "FAMILY                         0\n",
       "HEALTH LIFE EXPECTANCY         0\n",
       "FREEDOM                        0\n",
       "TRUST GOVERNMENT CORRUPTION    0\n",
       "GENEROSITY                     0\n",
       "DYSTOPIA RESIDUAL              0\n",
       "YEAR                           0\n",
       "REGION                         0\n",
       "HAPPINESS SCORE_UPDATED        0\n",
       "dtype: int64"
      ]
     },
     "execution_count": 24,
     "metadata": {},
     "output_type": "execute_result"
    }
   ],
   "source": [
    "combined = combined.dropna()\n",
    "combined.isnull().sum()"
   ]
  },
  {
   "cell_type": "code",
   "execution_count": null,
   "metadata": {},
   "outputs": [],
   "source": []
  },
  {
   "cell_type": "code",
   "execution_count": null,
   "metadata": {},
   "outputs": [],
   "source": []
  },
  {
   "cell_type": "code",
   "execution_count": null,
   "metadata": {},
   "outputs": [],
   "source": []
  }
 ],
 "metadata": {
  "kernelspec": {
   "display_name": "Python 3",
   "language": "python",
   "name": "python3"
  },
  "language_info": {
   "codemirror_mode": {
    "name": "ipython",
    "version": 3
   },
   "file_extension": ".py",
   "mimetype": "text/x-python",
   "name": "python",
   "nbconvert_exporter": "python",
   "pygments_lexer": "ipython3",
   "version": "3.7.3"
  }
 },
 "nbformat": 4,
 "nbformat_minor": 4
}
