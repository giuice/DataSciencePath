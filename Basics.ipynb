{
 "cells": [
  {
   "cell_type": "markdown",
   "metadata": {
    "collapsed": true
   },
   "source": [
    "# Hacker News Posts Analysis"
   ]
  },
  {
   "cell_type": "code",
   "execution_count": 1,
   "metadata": {
    "collapsed": false,
    "pycharm": {
     "is_executing": false
    }
   },
   "outputs": [
    {
     "data": {
      "text/plain": "[['id', 'title', 'url', 'num_points', 'num_comments', 'author', 'created_at'],\n ['12224879',\n  'Interactive Dynamic Video',\n  'http://www.interactivedynamicvideo.com/',\n  '386',\n  '52',\n  'ne0phyte',\n  '8/4/2016 11:52'],\n ['10975351',\n  'How to Use Open Source and Shut the Fuck Up at the Same Time',\n  'http://hueniverse.com/2016/01/26/how-to-use-open-source-and-shut-the-fuck-up-at-the-same-time/',\n  '39',\n  '10',\n  'josep2',\n  '1/26/2016 19:30'],\n ['11964716',\n  \"Florida DJs May Face Felony for April Fools' Water Joke\",\n  'http://www.thewire.com/entertainment/2013/04/florida-djs-april-fools-water-joke/63798/',\n  '2',\n  '1',\n  'vezycash',\n  '6/23/2016 22:20'],\n ['11919867',\n  'Technology ventures: From Idea to Enterprise',\n  'https://www.amazon.com/Technology-Ventures-Enterprise-Thomas-Byers/dp/0073523429',\n  '3',\n  '1',\n  'hswarna',\n  '6/17/2016 0:01']]"
     },
     "metadata": {},
     "output_type": "execute_result",
     "execution_count": 1
    }
   ],
   "source": [
    "from csv import reader\n",
    "hn = open('data/hacker_news.csv')\n",
    "hn = list(reader(hn))\n",
    "hn[0:5]"
   ]
  },
  {
   "cell_type": "code",
   "execution_count": 9,
   "metadata": {
    "collapsed": false
   },
   "outputs": [
    {
     "data": {
      "text/plain": [
       "(['id', 'title', 'url', 'num_points', 'num_comments', 'author', 'created_at'],\n",
       " [['12224879',\n",
       "   'Interactive Dynamic Video',\n",
       "   'http://www.interactivedynamicvideo.com/',\n",
       "   '386',\n",
       "   '52',\n",
       "   'ne0phyte',\n",
       "   '8/4/2016 11:52'],\n",
       "  ['10975351',\n",
       "   'How to Use Open Source and Shut the Fuck Up at the Same Time',\n",
       "   'http://hueniverse.com/2016/01/26/how-to-use-open-source-and-shut-the-fuck-up-at-the-same-time/',\n",
       "   '39',\n",
       "   '10',\n",
       "   'josep2',\n",
       "   '1/26/2016 19:30'],\n",
       "  ['11964716',\n",
       "   \"Florida DJs May Face Felony for April Fools' Water Joke\",\n",
       "   'http://www.thewire.com/entertainment/2013/04/florida-djs-april-fools-water-joke/63798/',\n",
       "   '2',\n",
       "   '1',\n",
       "   'vezycash',\n",
       "   '6/23/2016 22:20'],\n",
       "  ['11919867',\n",
       "   'Technology ventures: From Idea to Enterprise',\n",
       "   'https://www.amazon.com/Technology-Ventures-Enterprise-Thomas-Byers/dp/0073523429',\n",
       "   '3',\n",
       "   '1',\n",
       "   'hswarna',\n",
       "   '6/17/2016 0:01'],\n",
       "  ['10301696',\n",
       "   'Note by Note: The Making of Steinway L1037 (2007)',\n",
       "   'http://www.nytimes.com/2007/11/07/movies/07stein.html?_r=0',\n",
       "   '8',\n",
       "   '2',\n",
       "   'walterbell',\n",
       "   '9/30/2015 4:12']])"
      ]
     },
     "execution_count": 9,
     "metadata": {},
     "output_type": "execute_result"
    }
   ],
   "source": [
    "headers = hn[0]\n",
    "hn = hn[1:]\n",
    "headers, hn[0:5]"
   ]
  },
  {
   "cell_type": "code",
   "execution_count": 13,
   "metadata": {
    "collapsed": false
   },
   "outputs": [
    {
     "data": {
      "text/plain": [
       "(1744, 1162, 17194)"
      ]
     },
     "execution_count": 13,
     "metadata": {},
     "output_type": "execute_result"
    }
   ],
   "source": [
    "ask_posts, show_posts, other_posts = [],[],[]\n",
    "for row in hn:\n",
    "    title = row[1].lower()\n",
    "    if title.startswith('ask hn'):\n",
    "        ask_posts.append(row)\n",
    "    elif title.startswith('show hn'):\n",
    "        show_posts.append(row)\n",
    "    else:\n",
    "        other_posts.append(row)\n",
    "len(ask_posts), len(show_posts), len(other_posts) "
   ]
  },
  {
   "cell_type": "code",
   "execution_count": 16,
   "metadata": {
    "collapsed": false
   },
   "outputs": [
    {
     "name": "stdout",
     "output_type": "stream",
     "text": [
      "14.038417431192661\n",
      "10.31669535283993\n"
     ]
    }
   ],
   "source": [
    "total_ask_comments = 0\n",
    "for row in ask_posts:\n",
    "    comments = int(row[4])\n",
    "    total_ask_comments += comments\n",
    "\n",
    "avg_ask_comments = total_ask_comments/len(ask_posts)\n",
    "print(avg_ask_comments)\n",
    "total_show_comments = 0\n",
    "for row in show_posts:\n",
    "    comments = int(row[4])\n",
    "    total_show_comments += comments\n",
    "\n",
    "avg_show_comments = total_show_comments/len(show_posts)\n",
    "print(avg_show_comments)"
   ]
  },
  {
   "cell_type": "markdown",
   "metadata": {},
   "source": [
    "### With this average we can note that Ask comments are 40% greater than Show comments"
   ]
  },
  {
   "cell_type": "code",
   "execution_count": 26,
   "metadata": {
    "collapsed": false
   },
   "outputs": [
    {
     "data": {
      "text/plain": [
       "({'00': 55,\n",
       "  '01': 60,\n",
       "  '02': 58,\n",
       "  '03': 54,\n",
       "  '04': 47,\n",
       "  '05': 46,\n",
       "  '06': 44,\n",
       "  '07': 34,\n",
       "  '08': 48,\n",
       "  '09': 45,\n",
       "  '10': 59,\n",
       "  '11': 58,\n",
       "  '12': 73,\n",
       "  '13': 85,\n",
       "  '14': 107,\n",
       "  '15': 116,\n",
       "  '16': 108,\n",
       "  '17': 100,\n",
       "  '18': 109,\n",
       "  '19': 110,\n",
       "  '20': 80,\n",
       "  '21': 109,\n",
       "  '22': 71,\n",
       "  '23': 68},\n",
       " {'00': 447,\n",
       "  '01': 683,\n",
       "  '02': 1381,\n",
       "  '03': 421,\n",
       "  '04': 337,\n",
       "  '05': 464,\n",
       "  '06': 397,\n",
       "  '07': 267,\n",
       "  '08': 492,\n",
       "  '09': 251,\n",
       "  '10': 793,\n",
       "  '11': 641,\n",
       "  '12': 687,\n",
       "  '13': 1253,\n",
       "  '14': 1416,\n",
       "  '15': 4477,\n",
       "  '16': 1814,\n",
       "  '17': 1146,\n",
       "  '18': 1439,\n",
       "  '19': 1188,\n",
       "  '20': 1722,\n",
       "  '21': 1745,\n",
       "  '22': 479,\n",
       "  '23': 543})"
      ]
     },
     "execution_count": 26,
     "metadata": {},
     "output_type": "execute_result"
    }
   ],
   "source": [
    "import datetime as dt\n",
    "result_list = []\n",
    "for row in ask_posts:\n",
    "    result_list.append([row[6], int(row[4])])\n",
    "\n",
    "\n",
    "\n",
    "counts_by_hour, comments_by_hour = {},{}\n",
    "for row in result_list:\n",
    "    date = dt.datetime.strptime(row[0], '%m/%d/%Y %H:%M')\n",
    "    hour = dt.datetime.strftime(date, '%H')\n",
    "    if hour not in counts_by_hour:\n",
    "        counts_by_hour[hour] = 1\n",
    "        comments_by_hour[hour] = row[1]\n",
    "    else:\n",
    "        counts_by_hour[hour] += 1\n",
    "        comments_by_hour[hour] += row[1]\n",
    "        \n",
    "counts_by_hour, comments_by_hour\n",
    "    \n"
   ]
  },
  {
   "cell_type": "code",
   "execution_count": 30,
   "metadata": {
    "collapsed": false
   },
   "outputs": [
    {
     "data": {
      "text/plain": [
       "[['20', 21.525],\n",
       " ['02', 23.810344827586206],\n",
       " ['10', 13.440677966101696],\n",
       " ['12', 9.41095890410959],\n",
       " ['03', 7.796296296296297],\n",
       " ['05', 10.08695652173913],\n",
       " ['01', 11.383333333333333],\n",
       " ['06', 9.022727272727273],\n",
       " ['23', 7.985294117647059],\n",
       " ['00', 8.127272727272727],\n",
       " ['11', 11.051724137931034],\n",
       " ['15', 38.5948275862069],\n",
       " ['04', 7.170212765957447],\n",
       " ['07', 7.852941176470588],\n",
       " ['22', 6.746478873239437],\n",
       " ['08', 10.25],\n",
       " ['16', 16.796296296296298],\n",
       " ['18', 13.20183486238532],\n",
       " ['14', 13.233644859813085],\n",
       " ['19', 10.8],\n",
       " ['09', 5.5777777777777775],\n",
       " ['21', 16.009174311926607],\n",
       " ['17', 11.46],\n",
       " ['13', 14.741176470588234]]"
      ]
     },
     "execution_count": 30,
     "metadata": {},
     "output_type": "execute_result"
    }
   ],
   "source": [
    "avg_by_hour = []\n",
    "for hour in counts_by_hour:\n",
    "    avg_by_hour.append([hour, comments_by_hour[hour]/counts_by_hour[hour]])\n",
    "avg_by_hour"
   ]
  },
  {
   "cell_type": "code",
   "execution_count": 37,
   "metadata": {
    "collapsed": false
   },
   "outputs": [
    {
     "name": "stdout",
     "output_type": "stream",
     "text": [
      "Top 5 Hours for Ask Posts Comments\n",
      "15:00: 38.59 average comments per post\n",
      "02:00: 23.81 average comments per post\n",
      "20:00: 21.52 average comments per post\n",
      "16:00: 16.80 average comments per post\n",
      "21:00: 16.01 average comments per post\n"
     ]
    }
   ],
   "source": [
    "swap_avg_by_hour = []\n",
    "for row in avg_by_hour:\n",
    "    swap_avg_by_hour.append([row[1],row[0]])\n",
    "#print(swap_avg_by_hour)\n",
    "sorted_swap = sorted(swap_avg_by_hour, reverse=True)\n",
    "print(\"Top 5 Hours for Ask Posts Comments\")\n",
    "for row in sorted_swap[0:5]:\n",
    "    hour = dt.datetime.strftime(dt.datetime.strptime(row[1],'%H'),'%H:%M')\n",
    "    print('{0:}: {1:.2f} average comments per post'.format(hour,row[0]))"
   ]
  },
  {
   "cell_type": "markdown",
   "metadata": {},
   "source": [
    "## Converting easter datetime USA to Brasil(+1)\n"
   ]
  },
  {
   "cell_type": "code",
   "execution_count": 39,
   "metadata": {
    "collapsed": false
   },
   "outputs": [
    {
     "name": "stdout",
     "output_type": "stream",
     "text": [
      "Top 5 Hours for Ask Posts Comments\n",
      "16:00: 38.59 average comments per post\n",
      "03:00: 23.81 average comments per post\n",
      "21:00: 21.52 average comments per post\n",
      "17:00: 16.80 average comments per post\n",
      "22:00: 16.01 average comments per post\n"
     ]
    }
   ],
   "source": [
    "print(\"Top 5 Hours for Ask Posts Comments\")\n",
    "for row in sorted_swap[0:5]:\n",
    "    hour = dt.datetime.strftime(dt.datetime.strptime(row[1],'%H') + dt.timedelta(hours=1),'%H:%M')\n",
    "    print('{0:}: {1:.2f} average comments per post'.format(hour,row[0]))"
   ]
  },
  {
   "cell_type": "markdown",
   "metadata": {},
   "source": [
    "## Nice! we found that it´s better post near 16 o clock for better chance of more comments"
   ]
  }
 ],
 "metadata": {
  "kernelspec": {
   "display_name": "Python 3",
   "language": "python",
   "name": "python3"
  },
  "language_info": {
   "codemirror_mode": {
    "name": "ipython",
    "version": 3
   },
   "file_extension": ".py",
   "mimetype": "text/x-python",
   "name": "python",
   "nbconvert_exporter": "python",
   "pygments_lexer": "ipython3",
   "version": "3.4.3"
  },
  "pycharm": {
   "stem_cell": {
    "cell_type": "raw",
    "source": [],
    "metadata": {
     "collapsed": false
    }
   }
  }
 },
 "nbformat": 4,
 "nbformat_minor": 2
}