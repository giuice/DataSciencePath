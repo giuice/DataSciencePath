{
 "cells": [
  {
   "cell_type": "markdown",
   "metadata": {},
   "source": [
    "# Visualizing Geographic Data"
   ]
  },
  {
   "cell_type": "markdown",
   "metadata": {},
   "source": [
    "From scientific fields like meteorology and climatology, through to the software on our smartphones like Google Maps and Facebook check-ins, geographic data is always present in our everyday lives. Raw geographic data like latitudes and longitudes are difficult to understand using the data charts and plots we've discussed so far. To explore this kind of data, you'll need to learn how to visualize the data on maps.\n",
    "\n",
    "In this mission, we'll explore the fundamentals of geographic coordinate systems and how to work with the basemap library to plot geographic data points on maps. We'll be working with flight data from the openflights website. Here's a breakdown of the files we'll be working with and the most pertinent columns from each dataset:\n",
    "\n",
    "### airlines.csv - data on each airline.\n",
    "\n",
    "- country - where the airline is headquartered.\n",
    "- active - if the airline is still active.\n",
    "### airports.csv - data on each airport.\n",
    "\n",
    "- name - name of the airport.\n",
    "- city - city the airport is located.\n",
    "- country - country the airport is located.\n",
    "- code - unique airport code.\n",
    "- latitude - latitude value.\n",
    "- longitude - longitude value.\n",
    "\n",
    "### routes.csv - data on each flight route.\n",
    "\n",
    "- airline - airline for the route.\n",
    "- source - starting city for the route.\n",
    "- dest - destination city for the route.\n",
    "\n",
    "We can explore a range of interesting questions and ideas using these datasets:\n",
    "\n",
    "For each airport, which destination airport is the most common?\n",
    "Which cities are the most important hubs for airports and airlines?\n",
    "Before diving into coordinate systems, explore the datasets in the code cell below.\n",
    "\n",
    "### Instructions\n",
    "\n",
    "- Read in the 3 CSV files into 3 separate dataframe objects - airlines, airports, and routes.\n",
    "- Use the DataFrame.iloc[] method to return the first row in each dataframe as a neat table.\n",
    "#### Display the first rows for all dataframes using the print() function. Try to answer the following questions:\n",
    "- What's the best way to link the data from these 3 different datasets together?\n",
    "- What are the formats of the latitude and longitude values?"
   ]
  },
  {
   "cell_type": "code",
   "execution_count": 1,
   "metadata": {},
   "outputs": [],
   "source": [
    "import pandas as pd\n",
    "import numpy as np\n",
    "airlines = pd.read_csv('airlines.csv')\n",
    "airports = pd.read_csv('airports.csv')\n",
    "routes = pd.read_csv('routes.csv')"
   ]
  },
  {
   "cell_type": "code",
   "execution_count": 2,
   "metadata": {},
   "outputs": [
    {
     "data": {
      "text/plain": [
       "id                       1\n",
       "name        Private flight\n",
       "alias                   \\N\n",
       "iata                     -\n",
       "icao                   NaN\n",
       "callsign               NaN\n",
       "country                NaN\n",
       "active                   Y\n",
       "Name: 0, dtype: object"
      ]
     },
     "execution_count": 2,
     "metadata": {},
     "output_type": "execute_result"
    }
   ],
   "source": [
    "airlines.loc[0]"
   ]
  },
  {
   "cell_type": "code",
   "execution_count": 5,
   "metadata": {},
   "outputs": [
    {
     "data": {
      "text/plain": [
       "id                              1\n",
       "name                       Goroka\n",
       "city                       Goroka\n",
       "country          Papua New Guinea\n",
       "code                          GKA\n",
       "icao                         AYGA\n",
       "latitude                 -6.08169\n",
       "longitude                 145.392\n",
       "altitude                     5282\n",
       "offset                         10\n",
       "dst                             U\n",
       "timezone     Pacific/Port_Moresby\n",
       "Name: 0, dtype: object"
      ]
     },
     "execution_count": 5,
     "metadata": {},
     "output_type": "execute_result"
    }
   ],
   "source": [
    "airports.loc[0]"
   ]
  },
  {
   "cell_type": "code",
   "execution_count": 7,
   "metadata": {},
   "outputs": [
    {
     "data": {
      "text/plain": [
       "airline         2B\n",
       "airline_id     410\n",
       "source         AER\n",
       "source_id     2965\n",
       "dest           KZN\n",
       "dest_id       2990\n",
       "codeshare      NaN\n",
       "stops            0\n",
       "equipment      CR2\n",
       "Name: 0, dtype: object"
      ]
     },
     "execution_count": 7,
     "metadata": {},
     "output_type": "execute_result"
    }
   ],
   "source": [
    "routes.loc[0]"
   ]
  },
  {
   "cell_type": "code",
   "execution_count": 8,
   "metadata": {},
   "outputs": [
    {
     "ename": "ModuleNotFoundError",
     "evalue": "No module named 'mpl_toolkits.basemap'",
     "output_type": "error",
     "traceback": [
      "\u001b[1;31m---------------------------------------------------------------------------\u001b[0m",
      "\u001b[1;31mModuleNotFoundError\u001b[0m                       Traceback (most recent call last)",
      "\u001b[1;32m<ipython-input-8-bae2d432abc4>\u001b[0m in \u001b[0;36m<module>\u001b[1;34m\u001b[0m\n\u001b[1;32m----> 1\u001b[1;33m \u001b[1;32mfrom\u001b[0m \u001b[0mmpl_toolkits\u001b[0m\u001b[1;33m.\u001b[0m\u001b[0mbasemap\u001b[0m \u001b[1;32mimport\u001b[0m \u001b[0mbasemap\u001b[0m\u001b[1;33m\u001b[0m\u001b[1;33m\u001b[0m\u001b[0m\n\u001b[0m",
      "\u001b[1;31mModuleNotFoundError\u001b[0m: No module named 'mpl_toolkits.basemap'"
     ]
    }
   ],
   "source": [
    "from mpl_toolkits.basemap import basemap"
   ]
  }
 ],
 "metadata": {
  "kernelspec": {
   "display_name": "Python 3",
   "language": "python",
   "name": "python3"
  },
  "language_info": {
   "codemirror_mode": {
    "name": "ipython",
    "version": 3
   },
   "file_extension": ".py",
   "mimetype": "text/x-python",
   "name": "python",
   "nbconvert_exporter": "python",
   "pygments_lexer": "ipython3",
   "version": "3.7.3"
  }
 },
 "nbformat": 4,
 "nbformat_minor": 4
}
