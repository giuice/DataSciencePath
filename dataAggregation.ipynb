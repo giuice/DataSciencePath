{
 "cells": [
  {
   "cell_type": "markdown",
   "metadata": {},
   "source": [
    "# Data Aggregation\n",
    "The data set is a CSV file called World_Happiness_2015.csv. Below are descriptions for some of the columns we'll be working with:\n",
    "\n",
    "- Country - Name of the country.\n",
    "- Region - Name of the region the country belongs to.\n",
    "- Happiness Rank - The rank of the country, as determined by its happiness score.\n",
    "- Happiness Score - A score assigned to each country based on the answers to a poll question that asks respondents to rate their happiness on a scale of 0-10.\n",
    "- Family - The estimated extent to which family contributes to the happiness score.\n",
    "- Freedom - The estimated extent to which freedom contributes to the happiness score.\n",
    "- Generosity - The estimated extent to which generosity contributes to the happiness score.\n",
    "To start, let's read our data set into a pandas dataframe and inspect it.\n",
    "\n",
    "### Instructions\n",
    "\n",
    "- Use the pd.read_csv() function to read the World_Happiness_2015.csv file into a dataframe called happiness2015.\n",
    "- Store the first five rows of the dataframe in a variable called first_5.\n",
    "- Use the DataFrame.info() method to print information about the dataframe.\n",
    "- After you have run your code, use the variable inspector to look at the variable first_5 and the output to get familiar with the data."
   ]
  },
  {
   "cell_type": "code",
   "execution_count": 1,
   "metadata": {
    "pycharm": {
     "is_executing": false
    }
   },
   "outputs": [],
   "source": [
    "import pandas as pd\n",
    "import numpy as np\n",
    "from IPython.display import display\n",
    "import matplotlib.pyplot as plt\n",
    "import seaborn as sns\n",
    "sns.set()\n",
    "sns.set_style('white', {'axes.spines.left': False,\n",
    "                         'axes.spines.bottom': False,\n",
    "                         'axes.spines.right': False,\n",
    "                         'axes.spines.top': False})"
   ]
  },
  {
   "cell_type": "code",
   "execution_count": 2,
   "metadata": {
    "pycharm": {
     "is_executing": false
    }
   },
   "outputs": [
    {
     "data": {
      "text/plain": "       Country          Region  Happiness Rank  Happiness Score  \\\n0  Switzerland  Western Europe               1            7.587   \n1      Iceland  Western Europe               2            7.561   \n2      Denmark  Western Europe               3            7.527   \n3       Norway  Western Europe               4            7.522   \n4       Canada   North America               5            7.427   \n\n   Standard Error  Economy (GDP per Capita)   Family  \\\n0         0.03411                   1.39651  1.34951   \n1         0.04884                   1.30232  1.40223   \n2         0.03328                   1.32548  1.36058   \n3         0.03880                   1.45900  1.33095   \n4         0.03553                   1.32629  1.32261   \n\n   Health (Life Expectancy)  Freedom  Trust (Government Corruption)  \\\n0                   0.94143  0.66557                        0.41978   \n1                   0.94784  0.62877                        0.14145   \n2                   0.87464  0.64938                        0.48357   \n3                   0.88521  0.66973                        0.36503   \n4                   0.90563  0.63297                        0.32957   \n\n   Generosity  Dystopia Residual  \n0     0.29678            2.51738  \n1     0.43630            2.70201  \n2     0.34139            2.49204  \n3     0.34699            2.46531  \n4     0.45811            2.45176  ",
      "text/html": "<div>\n<style scoped>\n    .dataframe tbody tr th:only-of-type {\n        vertical-align: middle;\n    }\n\n    .dataframe tbody tr th {\n        vertical-align: top;\n    }\n\n    .dataframe thead th {\n        text-align: right;\n    }\n</style>\n<table border=\"1\" class=\"dataframe\">\n  <thead>\n    <tr style=\"text-align: right;\">\n      <th></th>\n      <th>Country</th>\n      <th>Region</th>\n      <th>Happiness Rank</th>\n      <th>Happiness Score</th>\n      <th>Standard Error</th>\n      <th>Economy (GDP per Capita)</th>\n      <th>Family</th>\n      <th>Health (Life Expectancy)</th>\n      <th>Freedom</th>\n      <th>Trust (Government Corruption)</th>\n      <th>Generosity</th>\n      <th>Dystopia Residual</th>\n    </tr>\n  </thead>\n  <tbody>\n    <tr>\n      <th>0</th>\n      <td>Switzerland</td>\n      <td>Western Europe</td>\n      <td>1</td>\n      <td>7.587</td>\n      <td>0.03411</td>\n      <td>1.39651</td>\n      <td>1.34951</td>\n      <td>0.94143</td>\n      <td>0.66557</td>\n      <td>0.41978</td>\n      <td>0.29678</td>\n      <td>2.51738</td>\n    </tr>\n    <tr>\n      <th>1</th>\n      <td>Iceland</td>\n      <td>Western Europe</td>\n      <td>2</td>\n      <td>7.561</td>\n      <td>0.04884</td>\n      <td>1.30232</td>\n      <td>1.40223</td>\n      <td>0.94784</td>\n      <td>0.62877</td>\n      <td>0.14145</td>\n      <td>0.43630</td>\n      <td>2.70201</td>\n    </tr>\n    <tr>\n      <th>2</th>\n      <td>Denmark</td>\n      <td>Western Europe</td>\n      <td>3</td>\n      <td>7.527</td>\n      <td>0.03328</td>\n      <td>1.32548</td>\n      <td>1.36058</td>\n      <td>0.87464</td>\n      <td>0.64938</td>\n      <td>0.48357</td>\n      <td>0.34139</td>\n      <td>2.49204</td>\n    </tr>\n    <tr>\n      <th>3</th>\n      <td>Norway</td>\n      <td>Western Europe</td>\n      <td>4</td>\n      <td>7.522</td>\n      <td>0.03880</td>\n      <td>1.45900</td>\n      <td>1.33095</td>\n      <td>0.88521</td>\n      <td>0.66973</td>\n      <td>0.36503</td>\n      <td>0.34699</td>\n      <td>2.46531</td>\n    </tr>\n    <tr>\n      <th>4</th>\n      <td>Canada</td>\n      <td>North America</td>\n      <td>5</td>\n      <td>7.427</td>\n      <td>0.03553</td>\n      <td>1.32629</td>\n      <td>1.32261</td>\n      <td>0.90563</td>\n      <td>0.63297</td>\n      <td>0.32957</td>\n      <td>0.45811</td>\n      <td>2.45176</td>\n    </tr>\n  </tbody>\n</table>\n</div>"
     },
     "metadata": {},
     "output_type": "display_data"
    },
    {
     "name": "stdout",
     "text": [
      "<class 'pandas.core.frame.DataFrame'>\nRangeIndex: 158 entries, 0 to 157\nData columns (total 12 columns):\nCountry                          158 non-null object\nRegion                           158 non-null object\nHappiness Rank                   158 non-null int64\nHappiness Score                  158 non-null float64\nStandard Error                   158 non-null float64\nEconomy (GDP per Capita)         158 non-null float64\nFamily                           158 non-null float64\nHealth (Life Expectancy)         158 non-null float64\nFreedom                          158 non-null float64\nTrust (Government Corruption)    158 non-null float64\nGenerosity                       158 non-null float64\nDystopia Residual                158 non-null float64\ndtypes: float64(9), int64(1), object(2)\nmemory usage: 14.9+ KB\n"
     ],
     "output_type": "stream"
    }
   ],
   "source": [
    "\n",
    "happiness2015 = pd.read_csv('World_Happiness_2015.csv')\n",
    "first_5 = happiness2015.iloc[0:5]\n",
    "display(first_5)\n",
    "happiness2015.info()"
   ]
  },
  {
   "cell_type": "markdown",
   "metadata": {},
   "source": [
    "First, let's visualize the happiness score of each country in happiness2015:"
   ]
  },
  {
   "cell_type": "code",
   "execution_count": 3,
   "metadata": {
    "pycharm": {
     "is_executing": false
    }
   },
   "outputs": [
    {
     "data": {
      "text/plain": "<matplotlib.axes._subplots.AxesSubplot at 0x2b6b7951a90>"
     },
     "metadata": {},
     "output_type": "execute_result",
     "execution_count": 3
    },
    {
     "data": {
      "text/plain": "<Figure size 432x288 with 1 Axes>",
      "image/png": "[encoded data removed]"
     },
     "metadata": {
      "needs_background": "light"
     },
     "output_type": "display_data"
    }
   ],
   "source": [
    "happiness2015['Happiness Score'].plot(kind='bar', title='Happiness Scores', ylim=(0,10))"
   ]
  },
  {
   "cell_type": "markdown",
   "metadata": {},
   "source": [
    "Plotting the data in its current form isn't helpful at all! There are so many data points that we can't see any of the values or labels.\n",
    "\n",
    "You may have noticed that each country in the happiness2015 dataframe is assigned to a region, specified in the Region column. We can use the Series.unique() method to confirm the unique regions:"
   ]
  },
  {
   "cell_type": "code",
   "execution_count": 4,
   "metadata": {
    "pycharm": {
     "is_executing": false
    }
   },
   "outputs": [
    {
     "data": {
      "text/plain": "array(['Western Europe', 'North America', 'Australia and New Zealand',\n       'Middle East and Northern Africa', 'Latin America and Caribbean',\n       'Southeastern Asia', 'Central and Eastern Europe', 'Eastern Asia',\n       'Sub-Saharan Africa', 'Southern Asia'], dtype=object)"
     },
     "metadata": {},
     "output_type": "execute_result",
     "execution_count": 4
    }
   ],
   "source": [
    "happiness2015['Region'].unique()"
   ]
  },
  {
   "cell_type": "code",
   "execution_count": 5,
   "metadata": {
    "pycharm": {
     "is_executing": false
    }
   },
   "outputs": [
    {
     "data": {
      "text/plain": "<matplotlib.axes._subplots.AxesSubplot at 0x2b6b8f3a898>"
     },
     "metadata": {},
     "output_type": "execute_result",
     "execution_count": 5
    },
    {
     "data": {
      "text/plain": "<Figure size 864x1008 with 1 Axes>",
      "image/png": "[encoded data removed]"
     },
     "metadata": {
      "needs_background": "light"
     },
     "output_type": "display_data"
    }
   ],
   "source": [
    "latin = happiness2015[happiness2015['Region'] == 'Latin America and Caribbean']\n",
    "latin.plot(x='Country', y='Happiness Score', kind='barh', \n",
    "           colormap='Paired',  title='Latin America and Caribbean Score Happiness', \n",
    "           xlim=(0,10), figsize=(12,14))"
   ]
  },
  {
   "cell_type": "markdown",
   "metadata": {},
   "source": [
    "In this mission, we'll learn how to perform different kinds of aggregations, applying a statistical operation to groups of our data, and create visualizations like the one above.\n",
    "\n",
    "Recall that in the Pandas Fundamentals course, we learned a way to use loops for aggregation. Our process looked like this:\n",
    "\n",
    "- Identify each unique group in the data set.\n",
    "#### For each group:\n",
    "- Select only the rows corresponding to that group.\n",
    "- Calculate the average for those rows.\n",
    "- Let's use the same process to find the mean happiness score for each region.\n",
    "\n",
    "### Instructions\n",
    "\n",
    "- Create an empty dictionary named mean_happiness to store the results of this exercise.\n",
    "- Use the Series.unique() method to create an array of unique values for the Region column.\n",
    "- Use a for loop to iterate over the unique region values from the Region column.\n",
    "- Assign the rows belonging to the current region to a variable named region_group.\n",
    "- Use the Series.mean() method to calculate the mean happiness score for region_group.\n",
    "- Assign the mean value to the mean_happiness dictionary, using the region name as the key and the mean happiness score as the value."
   ]
  },
  {
   "cell_type": "code",
   "execution_count": 6,
   "metadata": {
    "pycharm": {
     "is_executing": false
    }
   },
   "outputs": [
    {
     "data": {
      "text/plain": "{'Western Europe': 6.689619047619048,\n 'North America': 7.273,\n 'Australia and New Zealand': 7.285,\n 'Middle East and Northern Africa': 5.406899999999999,\n 'Latin America and Caribbean': 6.144681818181818,\n 'Southeastern Asia': 5.317444444444445,\n 'Central and Eastern Europe': 5.332931034482758,\n 'Eastern Asia': 5.626166666666666,\n 'Sub-Saharan Africa': 4.202800000000001,\n 'Southern Asia': 4.580857142857143}"
     },
     "metadata": {},
     "output_type": "execute_result",
     "execution_count": 6
    }
   ],
   "source": [
    "mean_happiness = {}\n",
    "unique_regions = happiness2015.Region.unique()\n",
    "for region in unique_regions:\n",
    "    region_group = happiness2015.loc[happiness2015.Region == region,'Happiness Score']\n",
    "    mean_happiness[region] = region_group.mean()\n",
    "    del region_group\n",
    "mean_happiness"
   ]
  },
  {
   "cell_type": "markdown",
   "metadata": {},
   "source": [
    "Let's break down the code we wrote in the previous screen into three steps:\n",
    "\n",
    "- Split the dataframe into groups.\n",
    "- Apply a function to each group.\n",
    "- Combine the results into one data structure.\n",
    "- mean_happiness = {}\n",
    "--regions = happiness2015['Region'].unique()\n",
    "```python\n",
    "for r in regions:\n",
    "    #1. Split the dataframe into groups.\n",
    "    region_group = happiness2015[happiness2015['Region'] == r]\n",
    "    #2. Apply a function to each group.\n",
    "    region_mean = region_group['Happiness Score'].mean()\n",
    "    #3. Combine the results into one data structure.\n",
    "    mean_happiness[r] = region_mean\n",
    "```\n",
    "![splitcombine](split_apply_combine.svg)\n",
    "\n",
    "As with many other common tasks, pandas has a built-in operation for this process. The groupby operation performs the \"split-apply-combine\" process on a dataframe, but condenses it into two steps:\n",
    "\n",
    "- Create a GroupBy object.\n",
    "- Call a function on the GroupBy object.\n",
    "The GroupBy object, distinct from a dataframe or series object, allows us to split the dataframe into groups, but only in an abstract sense. Nothing is actually computed until a function is called on the GroupBy object.\n",
    "\n",
    "You can think of the groupby operation like this. Imagine a dataframe as a structure made of stacking blocks in all different colors and sizes.\n",
    "![structuregroupby](Groupby_Mapping.svg)\n",
    "\n",
    "You know you'll eventually want to group the blocks according to color instead, but you don't know yet what you want to do with them after. Using the groupby process, we would first create a mapping document, the GroupBy object, containing information on how to group the blocks by color and where each block is located in the original structure.\n",
    "Once we create the mapping document, we can use it to easily rearrange the blocks into different structures. For example, let's say our manager asks us first to build another structure using the biggest block from each color.\n",
    "Then, she asks us to build another structure using the block size the appears most frequently in each color.\n",
    "\n",
    "![frequent](Groupby_Frequent.svg)\n",
    "\n",
    "Creating the initial mapping document, or GroupBy object, allows us to optimize our work, because we no longer have to refer back to the original dataframe. By working with the groupby operation, we make our code faster, more flexible, and easier to read.\n"
   ]
  },
  {
   "cell_type": "markdown",
   "metadata": {},
   "source": [
    "To create a GroupBy object, we use the DataFrame.groupby() method:\n",
    "```python\n",
    "df.groupby('col')\n",
    "```\n",
    "where col is the column you want to use to group the data set. Note that you can also group the data set on multiple columns by passing a list into the DataFrame.groupby() method. However, for teaching purposes, we'll focus on grouping the data by just one column in this mission.\n",
    "\n",
    "When choosing the column, think about which columns could be used to split the data set into groups. To put it another way, look at columns with the same value for multiple rows.\n",
    "\n",
    "![groups](Groups.svg)\n",
    "\n",
    "We can see from the couple of rows above that the Region column fits this criteria. Let's confirm the number of regions and the number of unique values in each region for the entire dataframe with the Series.value_counts() method next:\n",
    "```python\n",
    "happiness2015['Region'].value_counts()\n",
    "Sub-Saharan Africa                 40\n",
    "Central and Eastern Europe         29\n",
    "Latin America and Caribbean        22\n",
    "Western Europe                     21\n",
    "Middle East and Northern Africa    20\n",
    "Southeastern Asia                   9\n",
    "Southern Asia                       7\n",
    "Eastern Asia                        6\n",
    "Australia and New Zealand           2\n",
    "North America                       2\n",
    "Name: Region, dtype: int64\n",
    "```\n",
    "Since there's a small number of groups and each group contains more than one unique value, we can confirm the Region column is a good candidate to group by.\n",
    "\n",
    "Next, let's create a Groupby object and group the dataframe by the Region column:\n",
    "```python\n",
    "happiness2015.groupby('Region')\n",
    "```\n",
    "Finally, let's print the results:\n",
    "```python\n",
    "print(happiness2015.groupby('Region'))\n",
    "< pandas.core.groupby.groupby.DataFrameGroupBy object at 0x7f77882fa470 >\n",
    "```\n",
    "Don't be alarmed! This isn't an error. This is telling us that an object of type GroupBy was returned, just like we expected.\n",
    "\n",
    "Before our we start aggregating data, we'll build some intuition around GroupBy objects. We'll start by using the GroupBy.get_group() method to select data for a certain group.\n",
    "\n",
    "As an example, to select the data for just the North America group, we'd pass 'North America' into the get_group() method as follows:\n",
    "```python\n",
    "grouped = happiness2015.groupby('Region')\n",
    "grouped.get_group('North America')\n",
    "```python\n",
    "Let's practice next.\n",
    "\n",
    "### Instructions\n",
    "\n",
    "- Use the df.groupby() method to group happiness2015 by the Region column. Assign the result to grouped.\n",
    "- Use the GroupBy.get_group() method to select the data for the Australia and New Zealand group only. Assign the result to aus_nz.\n"
   ]
  },
  {
   "cell_type": "code",
   "execution_count": 7,
   "metadata": {
    "pycharm": {
     "is_executing": false
    }
   },
   "outputs": [
    {
     "data": {
      "text/plain": "       Country                     Region  Happiness Rank  Happiness Score  \\\n8  New Zealand  Australia and New Zealand               9            7.286   \n9    Australia  Australia and New Zealand              10            7.284   \n\n   Standard Error  Economy (GDP per Capita)   Family  \\\n8         0.03371                   1.25018  1.31967   \n9         0.04083                   1.33358  1.30923   \n\n   Health (Life Expectancy)  Freedom  Trust (Government Corruption)  \\\n8                   0.90837  0.63938                        0.42922   \n9                   0.93156  0.65124                        0.35637   \n\n   Generosity  Dystopia Residual  \n8     0.47501            2.26425  \n9     0.43562            2.26646  ",
      "text/html": "<div>\n<style scoped>\n    .dataframe tbody tr th:only-of-type {\n        vertical-align: middle;\n    }\n\n    .dataframe tbody tr th {\n        vertical-align: top;\n    }\n\n    .dataframe thead th {\n        text-align: right;\n    }\n</style>\n<table border=\"1\" class=\"dataframe\">\n  <thead>\n    <tr style=\"text-align: right;\">\n      <th></th>\n      <th>Country</th>\n      <th>Region</th>\n      <th>Happiness Rank</th>\n      <th>Happiness Score</th>\n      <th>Standard Error</th>\n      <th>Economy (GDP per Capita)</th>\n      <th>Family</th>\n      <th>Health (Life Expectancy)</th>\n      <th>Freedom</th>\n      <th>Trust (Government Corruption)</th>\n      <th>Generosity</th>\n      <th>Dystopia Residual</th>\n    </tr>\n  </thead>\n  <tbody>\n    <tr>\n      <th>8</th>\n      <td>New Zealand</td>\n      <td>Australia and New Zealand</td>\n      <td>9</td>\n      <td>7.286</td>\n      <td>0.03371</td>\n      <td>1.25018</td>\n      <td>1.31967</td>\n      <td>0.90837</td>\n      <td>0.63938</td>\n      <td>0.42922</td>\n      <td>0.47501</td>\n      <td>2.26425</td>\n    </tr>\n    <tr>\n      <th>9</th>\n      <td>Australia</td>\n      <td>Australia and New Zealand</td>\n      <td>10</td>\n      <td>7.284</td>\n      <td>0.04083</td>\n      <td>1.33358</td>\n      <td>1.30923</td>\n      <td>0.93156</td>\n      <td>0.65124</td>\n      <td>0.35637</td>\n      <td>0.43562</td>\n      <td>2.26646</td>\n    </tr>\n  </tbody>\n</table>\n</div>"
     },
     "metadata": {},
     "output_type": "execute_result",
     "execution_count": 7
    }
   ],
   "source": [
    "grouped = happiness2015.groupby('Region')\n",
    "aus_nz = grouped.get_group('Australia and New Zealand')\n",
    "aus_nz"
   ]
  },
  {
   "cell_type": "markdown",
   "metadata": {},
   "source": [
    "We can also use the GroupBy.groups attribute to get more information about the GroupBy object:\n",
    "```python\n",
    "grouped = happiness2015.groupby('Region')\n",
    "grouped.groups\n",
    "The result is a dictionary in which each key corresponds to a region name. See below for the first couple of keys:\n",
    "\n",
    "{'Australia and New Zealand': Int64Index([8, 9], dtype='int64'),\n",
    " 'Central and Eastern Europe': Int64Index([ 30,  43,  44,  51,  53,  54,  55,  58,  59,  61,  63,  68,  69,\n",
    "              72,  76,  79,  82,  85,  86,  88,  92,  94,  95, 103, 105, 110, 126, 129, 133], dtype='int64'),\n",
    " 'Eastern Asia': Int64Index([37, 45, 46, 71, 83, 99],dtype='int64'),\n",
    " 'Latin America and Caribbean': Int64Index([ 11,  13,  15,  22,  24,  26,  29,  31,  32,  39,  40,  41,  42,\n",
    "              47,  50,  52,  56,  57,  64,  97, 104, 118], dtype='int64'),\n",
    " 'Middle East and Northern Africa': Int64Index([ 10,  19,  21,  27,  34,  38,  48,  62,  67,  75,  81,  91, \n",
    "              102, 106, 107, 109, 111, 134, 135, 155],dtype='int64'),\n",
    " 'North America': Int64Index([4, 14], dtype='int64'),\n",
    " \n",
    " }\n",
    "```\n",
    "Notice that the values include the index for each row in the original happiness2015 dataframe with the corresponding region name. To prove this, let's again look at the data for the Australia and New Zealand group:\n",
    "```python\n",
    "'Australia and New Zealand': Int64Index([8, 9], dtype='int64')\n",
    "```\n",
    "Then, let's filter on indexes 8 and 9 in happiness2015:\n",
    "```python\n",
    "happiness2015.iloc[8:10]\n",
    "Country\tRegion\tHappiness Rank\tHappiness Score\tStandard Error\tEconomy (GDP per Capita)\tFamily\tHealth (Life Expectancy)\tFreedom\tTrust (Government Corruption)\tGenerosity\tDystopia Residual\n",
    "8\tNew Zealand\tAustralia and New Zealand\t9\t7.286\t0.03371\t1.25018\t1.31967\t0.90837\t0.63938\t0.42922\t0.47501\t2.26425\n",
    "9\tAustralia\tAustralia and New Zealand\t10\t7.284\t0.04083\t1.33358\t1.30923\t0.93156\t0.65124\t0.35637\t0.43562\t2.26646\n",
    "```\n",
    "And we see that those rows correspond to Australia and New Zealand! Notice that the *get_group()* method also returned the same dataframe above.\n",
    "\n",
    "Next, let's continue building our intuition by practicing using the groups attribute and *get_group()* method.\n",
    "\n",
    "### Instructions\n",
    "\n",
    "#### For the following exercise, use the result from the dictionary returned by *grouped.groups* shown below:\n",
    "```python\n",
    "'North America': Int64Index([4, 14], dtype='int64'\n",
    "```\n",
    "Prove that the values for the 'North America' group in the dictionary returned by grouped.groups above correspond to countries in North America in the happiness2015 dataframe.\n",
    "- Use the snippet above to identify the indexes of the countries in happiness2015 that belong to the North America group.\n",
    "- Use the indexes to assign just the countries in North America in happiness2015 to north_america.\n",
    "- Use the GroupBy.get_group() method to select the data for the North America group only. Assign the result to na_group.\n",
    "- Use the following code to compare north_america and na_group: north_america == na_group. Assign the result to equal."
   ]
  },
  {
   "cell_type": "code",
   "execution_count": 8,
   "metadata": {
    "pycharm": {
     "is_executing": false
    }
   },
   "outputs": [
    {
     "data": {
      "text/plain": "    Country  Region  Happiness Rank  Happiness Score  Standard Error  \\\n4      True    True            True             True            True   \n14     True    True            True             True            True   \n\n    Economy (GDP per Capita)  Family  Health (Life Expectancy)  Freedom  \\\n4                       True    True                      True     True   \n14                      True    True                      True     True   \n\n    Trust (Government Corruption)  Generosity  Dystopia Residual  \n4                            True        True               True  \n14                           True        True               True  ",
      "text/html": "<div>\n<style scoped>\n    .dataframe tbody tr th:only-of-type {\n        vertical-align: middle;\n    }\n\n    .dataframe tbody tr th {\n        vertical-align: top;\n    }\n\n    .dataframe thead th {\n        text-align: right;\n    }\n</style>\n<table border=\"1\" class=\"dataframe\">\n  <thead>\n    <tr style=\"text-align: right;\">\n      <th></th>\n      <th>Country</th>\n      <th>Region</th>\n      <th>Happiness Rank</th>\n      <th>Happiness Score</th>\n      <th>Standard Error</th>\n      <th>Economy (GDP per Capita)</th>\n      <th>Family</th>\n      <th>Health (Life Expectancy)</th>\n      <th>Freedom</th>\n      <th>Trust (Government Corruption)</th>\n      <th>Generosity</th>\n      <th>Dystopia Residual</th>\n    </tr>\n  </thead>\n  <tbody>\n    <tr>\n      <th>4</th>\n      <td>True</td>\n      <td>True</td>\n      <td>True</td>\n      <td>True</td>\n      <td>True</td>\n      <td>True</td>\n      <td>True</td>\n      <td>True</td>\n      <td>True</td>\n      <td>True</td>\n      <td>True</td>\n      <td>True</td>\n    </tr>\n    <tr>\n      <th>14</th>\n      <td>True</td>\n      <td>True</td>\n      <td>True</td>\n      <td>True</td>\n      <td>True</td>\n      <td>True</td>\n      <td>True</td>\n      <td>True</td>\n      <td>True</td>\n      <td>True</td>\n      <td>True</td>\n      <td>True</td>\n    </tr>\n  </tbody>\n</table>\n</div>"
     },
     "metadata": {},
     "output_type": "execute_result",
     "execution_count": 8
    }
   ],
   "source": [
    "north_america = happiness2015.iloc[[4,14]]\n",
    "na_group = happiness2015.groupby('Region').get_group('North America')\n",
    "north_america == na_group\n"
   ]
  },
  {
   "cell_type": "markdown",
   "metadata": {},
   "source": [
    "A basic example of aggregation is computing the number of rows for each of the groups. We can use the GroupBy.size() method to confirm the size of each region group:"
   ]
  },
  {
   "cell_type": "code",
   "execution_count": 9,
   "metadata": {
    "pycharm": {
     "is_executing": false
    }
   },
   "outputs": [
    {
     "data": {
      "text/plain": "Region\nAustralia and New Zealand           2\nCentral and Eastern Europe         29\nEastern Asia                        6\nLatin America and Caribbean        22\nMiddle East and Northern Africa    20\nNorth America                       2\nSoutheastern Asia                   9\nSouthern Asia                       7\nSub-Saharan Africa                 40\nWestern Europe                     21\ndtype: int64"
     },
     "metadata": {},
     "output_type": "execute_result",
     "execution_count": 9
    }
   ],
   "source": [
    "grouped = happiness2015.groupby('Region')\n",
    "grouped.size()"
   ]
  },
  {
   "cell_type": "markdown",
   "metadata": {},
   "source": [
    "Notice that the result is a Series and contains just one value for each group. Each value represents the number of rows in each group. For example, the 'Australia and New Zealand' group contains two rows.\n",
    "\n",
    "Pandas has built in a number of other common aggregation methods:\n",
    "\n",
    "### Methods\tDescription\n",
    "- **mean()**\tCalculates the mean of groups.\n",
    "- **sum()**\tCalculates the sum of group values.\n",
    "- **size()**\tCalculates the size of the groups.\n",
    "- **count()**\tCalculates the count of values in groups.\n",
    "- **min()**\tCalculates the minimum of group values.\n",
    "- **max()**\tCalculates the maximum of group values.\n",
    "\n",
    "Let's practicing use one of these aggregation methods next.\n",
    "\n",
    "### Instructions\n",
    "\n",
    "- Apply the **GroupBy.mean()** method to grouped. Assign the result to means."
   ]
  },
  {
   "cell_type": "code",
   "execution_count": 10,
   "metadata": {
    "pycharm": {
     "is_executing": false
    }
   },
   "outputs": [
    {
     "data": {
      "text/plain": "Region                         Australia and New Zealand  \\\nHappiness Rank                                  9.500000   \nHappiness Score                                 7.285000   \nStandard Error                                  0.037270   \nEconomy (GDP per Capita)                        1.291880   \nFamily                                          1.314450   \nHealth (Life Expectancy)                        0.919965   \nFreedom                                         0.645310   \nTrust (Government Corruption)                   0.392795   \nGenerosity                                      0.455315   \nDystopia Residual                               2.265355   \n\nRegion                         Central and Eastern Europe  Eastern Asia  \\\nHappiness Rank                                  79.000000     64.500000   \nHappiness Score                                  5.332931      5.626167   \nStandard Error                                   0.045208      0.037225   \nEconomy (GDP per Capita)                         0.942438      1.151780   \nFamily                                           1.053042      1.099427   \nHealth (Life Expectancy)                         0.718774      0.877388   \nFreedom                                          0.358269      0.462490   \nTrust (Government Corruption)                    0.086674      0.127695   \nGenerosity                                       0.152264      0.225885   \nDystopia Residual                                2.021400      1.681607   \n\nRegion                         Latin America and Caribbean  \\\nHappiness Rank                                   46.909091   \nHappiness Score                                   6.144682   \nStandard Error                                    0.061127   \nEconomy (GDP per Capita)                          0.876815   \nFamily                                            1.104720   \nHealth (Life Expectancy)                          0.703870   \nFreedom                                           0.501740   \nTrust (Government Corruption)                     0.117172   \nGenerosity                                        0.217788   \nDystopia Residual                                 2.622577   \n\nRegion                         Middle East and Northern Africa  North America  \\\nHappiness Rank                                       77.600000      10.000000   \nHappiness Score                                       5.406900       7.273000   \nStandard Error                                        0.046337       0.036960   \nEconomy (GDP per Capita)                              1.066973       1.360400   \nFamily                                                0.920490       1.284860   \nHealth (Life Expectancy)                              0.705616       0.883710   \nFreedom                                               0.361751       0.589505   \nTrust (Government Corruption)                         0.181702       0.244235   \nGenerosity                                            0.190375       0.429580   \nDystopia Residual                                     1.980009       2.480935   \n\nRegion                         Southeastern Asia  Southern Asia  \\\nHappiness Rank                         81.222222     113.142857   \nHappiness Score                         5.317444       4.580857   \nStandard Error                          0.042691       0.032161   \nEconomy (GDP per Capita)                0.789054       0.560486   \nFamily                                  0.940468       0.645321   \nHealth (Life Expectancy)                0.677357       0.540830   \nFreedom                                 0.557104       0.373337   \nTrust (Government Corruption)           0.151276       0.102536   \nGenerosity                              0.419261       0.341429   \nDystopia Residual                       1.783020       2.016769   \n\nRegion                         Sub-Saharan Africa  Western Europe  \nHappiness Rank                         127.900000       29.523810  \nHappiness Score                          4.202800        6.689619  \nStandard Error                           0.055299        0.037625  \nEconomy (GDP per Capita)                 0.380473        1.298596  \nFamily                                   0.809085        1.247302  \nHealth (Life Expectancy)                 0.282332        0.909148  \nFreedom                                  0.365944        0.549926  \nTrust (Government Corruption)            0.123878        0.231463  \nGenerosity                               0.221137        0.302109  \nDystopia Residual                        2.019980        2.151185  ",
      "text/html": "<div>\n<style scoped>\n    .dataframe tbody tr th:only-of-type {\n        vertical-align: middle;\n    }\n\n    .dataframe tbody tr th {\n        vertical-align: top;\n    }\n\n    .dataframe thead th {\n        text-align: right;\n    }\n</style>\n<table border=\"1\" class=\"dataframe\">\n  <thead>\n    <tr style=\"text-align: right;\">\n      <th>Region</th>\n      <th>Australia and New Zealand</th>\n      <th>Central and Eastern Europe</th>\n      <th>Eastern Asia</th>\n      <th>Latin America and Caribbean</th>\n      <th>Middle East and Northern Africa</th>\n      <th>North America</th>\n      <th>Southeastern Asia</th>\n      <th>Southern Asia</th>\n      <th>Sub-Saharan Africa</th>\n      <th>Western Europe</th>\n    </tr>\n  </thead>\n  <tbody>\n    <tr>\n      <th>Happiness Rank</th>\n      <td>9.500000</td>\n      <td>79.000000</td>\n      <td>64.500000</td>\n      <td>46.909091</td>\n      <td>77.600000</td>\n      <td>10.000000</td>\n      <td>81.222222</td>\n      <td>113.142857</td>\n      <td>127.900000</td>\n      <td>29.523810</td>\n    </tr>\n    <tr>\n      <th>Happiness Score</th>\n      <td>7.285000</td>\n      <td>5.332931</td>\n      <td>5.626167</td>\n      <td>6.144682</td>\n      <td>5.406900</td>\n      <td>7.273000</td>\n      <td>5.317444</td>\n      <td>4.580857</td>\n      <td>4.202800</td>\n      <td>6.689619</td>\n    </tr>\n    <tr>\n      <th>Standard Error</th>\n      <td>0.037270</td>\n      <td>0.045208</td>\n      <td>0.037225</td>\n      <td>0.061127</td>\n      <td>0.046337</td>\n      <td>0.036960</td>\n      <td>0.042691</td>\n      <td>0.032161</td>\n      <td>0.055299</td>\n      <td>0.037625</td>\n    </tr>\n    <tr>\n      <th>Economy (GDP per Capita)</th>\n      <td>1.291880</td>\n      <td>0.942438</td>\n      <td>1.151780</td>\n      <td>0.876815</td>\n      <td>1.066973</td>\n      <td>1.360400</td>\n      <td>0.789054</td>\n      <td>0.560486</td>\n      <td>0.380473</td>\n      <td>1.298596</td>\n    </tr>\n    <tr>\n      <th>Family</th>\n      <td>1.314450</td>\n      <td>1.053042</td>\n      <td>1.099427</td>\n      <td>1.104720</td>\n      <td>0.920490</td>\n      <td>1.284860</td>\n      <td>0.940468</td>\n      <td>0.645321</td>\n      <td>0.809085</td>\n      <td>1.247302</td>\n    </tr>\n    <tr>\n      <th>Health (Life Expectancy)</th>\n      <td>0.919965</td>\n      <td>0.718774</td>\n      <td>0.877388</td>\n      <td>0.703870</td>\n      <td>0.705616</td>\n      <td>0.883710</td>\n      <td>0.677357</td>\n      <td>0.540830</td>\n      <td>0.282332</td>\n      <td>0.909148</td>\n    </tr>\n    <tr>\n      <th>Freedom</th>\n      <td>0.645310</td>\n      <td>0.358269</td>\n      <td>0.462490</td>\n      <td>0.501740</td>\n      <td>0.361751</td>\n      <td>0.589505</td>\n      <td>0.557104</td>\n      <td>0.373337</td>\n      <td>0.365944</td>\n      <td>0.549926</td>\n    </tr>\n    <tr>\n      <th>Trust (Government Corruption)</th>\n      <td>0.392795</td>\n      <td>0.086674</td>\n      <td>0.127695</td>\n      <td>0.117172</td>\n      <td>0.181702</td>\n      <td>0.244235</td>\n      <td>0.151276</td>\n      <td>0.102536</td>\n      <td>0.123878</td>\n      <td>0.231463</td>\n    </tr>\n    <tr>\n      <th>Generosity</th>\n      <td>0.455315</td>\n      <td>0.152264</td>\n      <td>0.225885</td>\n      <td>0.217788</td>\n      <td>0.190375</td>\n      <td>0.429580</td>\n      <td>0.419261</td>\n      <td>0.341429</td>\n      <td>0.221137</td>\n      <td>0.302109</td>\n    </tr>\n    <tr>\n      <th>Dystopia Residual</th>\n      <td>2.265355</td>\n      <td>2.021400</td>\n      <td>1.681607</td>\n      <td>2.622577</td>\n      <td>1.980009</td>\n      <td>2.480935</td>\n      <td>1.783020</td>\n      <td>2.016769</td>\n      <td>2.019980</td>\n      <td>2.151185</td>\n    </tr>\n  </tbody>\n</table>\n</div>"
     },
     "metadata": {},
     "output_type": "execute_result",
     "execution_count": 10
    }
   ],
   "source": [
    "mean = grouped.mean()\n",
    "mean.T"
   ]
  },
  {
   "cell_type": "markdown",
   "metadata": {},
   "source": [
    "ou may have noticed that Region appears in a different row than the rest of the column names. Because we grouped the dataframe by region, the unique values in Region are used as the index. Up until now, we've mostly worked with dataframes with a numeric index.\n",
    "\n",
    "![index_example](Index_Example.svg)\n",
    "\n",
    "In some cases, we may only wish to aggregate one particular column in the original dataframe. GroupBy objects actually support column indexing, just like dataframes. You can select specific columns for a GroupBy object the same way you would for a dataframe:\n",
    "<table>\n",
    "    <thead>\n",
    "    <tr>\n",
    "        <th> Select by Label</th>\n",
    "        <th>Syntax</th>\n",
    "    </tr>\n",
    "    </thead>\n",
    "    <tr>\n",
    "        <td>Single column</td>\n",
    "        <td>GroupBy[\"col1\"]</td>\n",
    "    </tr>\n",
    "    <tr>\n",
    "        <td>List of columns</td>\n",
    "        <td>GroupBy[[\"col1\", \"col2\"]]</td>\n",
    "    </tr>\n",
    "</table>\n",
    "### Instructions\n",
    "\n",
    "- Select just the Happiness Score column from grouped. Assign the result to happy_grouped.\n",
    "- Use the GroupBy.mean() method to compute the mean of happy_grouped. Assign the result to happy_mean."
   ]
  },
  {
   "cell_type": "code",
   "execution_count": 11,
   "metadata": {
    "pycharm": {
     "is_executing": false
    }
   },
   "outputs": [
    {
     "data": {
      "text/plain": "<matplotlib.axes._subplots.AxesSubplot at 0x2b6b9022668>"
     },
     "metadata": {},
     "output_type": "execute_result",
     "execution_count": 11
    },
    {
     "data": {
      "text/plain": "<Figure size 432x288 with 1 Axes>",
      "image/png": "[encoded data removed]"
     },
     "metadata": {
      "needs_background": "light"
     },
     "output_type": "display_data"
    }
   ],
   "source": [
    "happy_grouped = grouped['Happiness Score']\n",
    "happy_mean = happy_grouped.mean()\n",
    "happy_mean.sort_values().plot(kind='barh')"
   ]
  },
  {
   "cell_type": "markdown",
   "metadata": {},
   "source": [
    "However, what if we wanted to apply more than one kind of aggregation to a column at a time?\n",
    "\n",
    "For example, suppose we wanted to calculate both the mean and maximum happiness score for each region. Using what we learned so far, we'd have to first calculate the mean, like we did above, and then calculate the maximum separately.\n",
    "\n",
    "Luckily, however, the **GroupBy.agg()** method can perform both aggregations at once. We can use the following syntax:\n",
    "```python\n",
    "GroupedBy.agg([function_name1, function_name2, function_name3])\n",
    "```\n",
    "Note that when we pass the functions into the agg() method as arguments, we don't use parentheses after the function names. For example, when we use np.mean, we refer to the function object itself and treat it like a variable, whereas np.mean() would be used to call the function and get the returned value.\n",
    "\n",
    "The function names can also be passed in as strings, but we won't cover that explicitly in this mission. You can refer to this documentation for more information on this topic.\n",
    "\n",
    "Let's practice using the agg() method next.\n",
    "\n",
    "### Instructions\n",
    "\n",
    "- Apply the GroupBy.agg() method to happy_grouped. Pass a list containing np.mean and np.max into the method. Assign the result to happy_mean_max.\n",
    "    - As noted above, passing 'mean' and 'max' into the GroupBy.agg() method will also return the same results. However, for answer checking purposes, you'll have to use np.mean and np.max.\n",
    "- We've also created a custom function named dif to calculate the difference between the mean and maximum values. Pass dif into the GroupBy.agg() method. Assign the result to mean_max_dif."
   ]
  },
  {
   "cell_type": "code",
   "execution_count": 12,
   "metadata": {
    "pycharm": {
     "is_executing": false
    }
   },
   "outputs": [
    {
     "data": {
      "text/plain": "                                     mean   amax\nRegion                                          \nAustralia and New Zealand        7.285000  7.286\nCentral and Eastern Europe       5.332931  6.505\nEastern Asia                     5.626167  6.298\nLatin America and Caribbean      6.144682  7.226\nMiddle East and Northern Africa  5.406900  7.278\nNorth America                    7.273000  7.427\nSoutheastern Asia                5.317444  6.798\nSouthern Asia                    4.580857  5.253\nSub-Saharan Africa               4.202800  5.477\nWestern Europe                   6.689619  7.587",
      "text/html": "<div>\n<style scoped>\n    .dataframe tbody tr th:only-of-type {\n        vertical-align: middle;\n    }\n\n    .dataframe tbody tr th {\n        vertical-align: top;\n    }\n\n    .dataframe thead th {\n        text-align: right;\n    }\n</style>\n<table border=\"1\" class=\"dataframe\">\n  <thead>\n    <tr style=\"text-align: right;\">\n      <th></th>\n      <th>mean</th>\n      <th>amax</th>\n    </tr>\n    <tr>\n      <th>Region</th>\n      <th></th>\n      <th></th>\n    </tr>\n  </thead>\n  <tbody>\n    <tr>\n      <th>Australia and New Zealand</th>\n      <td>7.285000</td>\n      <td>7.286</td>\n    </tr>\n    <tr>\n      <th>Central and Eastern Europe</th>\n      <td>5.332931</td>\n      <td>6.505</td>\n    </tr>\n    <tr>\n      <th>Eastern Asia</th>\n      <td>5.626167</td>\n      <td>6.298</td>\n    </tr>\n    <tr>\n      <th>Latin America and Caribbean</th>\n      <td>6.144682</td>\n      <td>7.226</td>\n    </tr>\n    <tr>\n      <th>Middle East and Northern Africa</th>\n      <td>5.406900</td>\n      <td>7.278</td>\n    </tr>\n    <tr>\n      <th>North America</th>\n      <td>7.273000</td>\n      <td>7.427</td>\n    </tr>\n    <tr>\n      <th>Southeastern Asia</th>\n      <td>5.317444</td>\n      <td>6.798</td>\n    </tr>\n    <tr>\n      <th>Southern Asia</th>\n      <td>4.580857</td>\n      <td>5.253</td>\n    </tr>\n    <tr>\n      <th>Sub-Saharan Africa</th>\n      <td>4.202800</td>\n      <td>5.477</td>\n    </tr>\n    <tr>\n      <th>Western Europe</th>\n      <td>6.689619</td>\n      <td>7.587</td>\n    </tr>\n  </tbody>\n</table>\n</div>"
     },
     "metadata": {},
     "output_type": "display_data"
    },
    {
     "data": {
      "text/plain": "Region\nAustralia and New Zealand          0.001000\nCentral and Eastern Europe         1.172069\nEastern Asia                       0.671833\nLatin America and Caribbean        1.081318\nMiddle East and Northern Africa    1.871100\nNorth America                      0.154000\nSoutheastern Asia                  1.480556\nSouthern Asia                      0.672143\nSub-Saharan Africa                 1.274200\nWestern Europe                     0.897381\nName: Happiness Score, dtype: float64"
     },
     "metadata": {},
     "output_type": "execute_result",
     "execution_count": 12
    }
   ],
   "source": [
    "def dif(group):\n",
    "    return (group.max() - group.mean())\n",
    "happy_mean_max = happy_grouped.agg([np.mean, np.max])\n",
    "display(happy_mean_max)\n",
    "mean_max_dif = happy_grouped.agg(dif)\n",
    "mean_max_dif"
   ]
  },
  {
   "cell_type": "markdown",
   "metadata": {},
   "source": [
    "Up until this point, we've deliberately split creating the GroupBy object and calling a function into separate steps to make it easier to understand. However, if you read through other teaching resources, you may see instances in which the statements are combined:\n",
    "```python\n",
    "happiness2015.groupby('Region')['Happiness Score'].agg(dif)\n",
    "```\n",
    "Both approaches will return the same result. However, if you plan on computing multiple aggregations with the same GroupBy object, it's recommended to save the object to a variable first. You may wish to save it to a variable in all cases to make your code easier to understand. As we compute more complex aggregations, the syntax can get confusing!\n",
    "\n",
    "### Instructions\n",
    "\n",
    "- Inspect the following code: **happiness_means = happiness2015.groupby('Region')['Happiness Score'].mean().**\n",
    "- If we run the code above, will the index of happiness_means be the unique values in the Region column or the Happiness Score column?\n",
    "- Will the values aggregated in happiness_means be the values from the Region column or the Happiness Score column?\n",
    "- Print happiness_means. Were your predictions correct?"
   ]
  },
  {
   "cell_type": "code",
   "execution_count": 13,
   "metadata": {
    "pycharm": {
     "is_executing": false
    }
   },
   "outputs": [
    {
     "name": "stdout",
     "text": [
      "Region\nAustralia and New Zealand          7.285000\nCentral and Eastern Europe         5.332931\nEastern Asia                       5.626167\nLatin America and Caribbean        6.144682\nMiddle East and Northern Africa    5.406900\nNorth America                      7.273000\nSoutheastern Asia                  5.317444\nSouthern Asia                      4.580857\nSub-Saharan Africa                 4.202800\nWestern Europe                     6.689619\nName: Happiness Score, dtype: float64\n"
     ],
     "output_type": "stream"
    }
   ],
   "source": [
    "happiness_means = happiness2015.groupby('Region')['Happiness Score'].mean()\n",
    "print(happiness_means)"
   ]
  },
  {
   "cell_type": "markdown",
   "metadata": {},
   "source": [
    "Index and values are actually arguments used in another method used to aggregate data - the DataFrame.pivot_table() method. This df.pivot_table() method can perform the same kinds of aggregations as the df.groupby method and make the code for complex aggregations easier to read.\n",
    "\n",
    "If you're an Excel user, you may have already drawn comparisons between the groupby operation and Excel pivot tables. If you've never used Excel, don't worry! No prior knowledge is needed for this mission. We'll demonstrate the pivot_table() method next.\n",
    "\n",
    "Below, we use the df.pivot_table() method to perform the same aggregation as above."
   ]
  },
  {
   "cell_type": "code",
   "execution_count": 14,
   "metadata": {
    "pycharm": {
     "is_executing": false
    }
   },
   "outputs": [
    {
     "data": {
      "text/plain": "                                 Happiness Score\nRegion                                          \nAustralia and New Zealand               7.285000\nCentral and Eastern Europe              5.332931\nEastern Asia                            5.626167\nLatin America and Caribbean             6.144682\nMiddle East and Northern Africa         5.406900\nNorth America                           7.273000\nSoutheastern Asia                       5.317444\nSouthern Asia                           4.580857\nSub-Saharan Africa                      4.202800\nWestern Europe                          6.689619",
      "text/html": "<div>\n<style scoped>\n    .dataframe tbody tr th:only-of-type {\n        vertical-align: middle;\n    }\n\n    .dataframe tbody tr th {\n        vertical-align: top;\n    }\n\n    .dataframe thead th {\n        text-align: right;\n    }\n</style>\n<table border=\"1\" class=\"dataframe\">\n  <thead>\n    <tr style=\"text-align: right;\">\n      <th></th>\n      <th>Happiness Score</th>\n    </tr>\n    <tr>\n      <th>Region</th>\n      <th></th>\n    </tr>\n  </thead>\n  <tbody>\n    <tr>\n      <th>Australia and New Zealand</th>\n      <td>7.285000</td>\n    </tr>\n    <tr>\n      <th>Central and Eastern Europe</th>\n      <td>5.332931</td>\n    </tr>\n    <tr>\n      <th>Eastern Asia</th>\n      <td>5.626167</td>\n    </tr>\n    <tr>\n      <th>Latin America and Caribbean</th>\n      <td>6.144682</td>\n    </tr>\n    <tr>\n      <th>Middle East and Northern Africa</th>\n      <td>5.406900</td>\n    </tr>\n    <tr>\n      <th>North America</th>\n      <td>7.273000</td>\n    </tr>\n    <tr>\n      <th>Southeastern Asia</th>\n      <td>5.317444</td>\n    </tr>\n    <tr>\n      <th>Southern Asia</th>\n      <td>4.580857</td>\n    </tr>\n    <tr>\n      <th>Sub-Saharan Africa</th>\n      <td>4.202800</td>\n    </tr>\n    <tr>\n      <th>Western Europe</th>\n      <td>6.689619</td>\n    </tr>\n  </tbody>\n</table>\n</div>"
     },
     "metadata": {},
     "output_type": "execute_result",
     "execution_count": 14
    }
   ],
   "source": [
    "happiness2015.pivot_table(values='Happiness Score', index='Region', aggfunc=np.mean)"
   ]
  },
  {
   "cell_type": "markdown",
   "metadata": {},
   "source": [
    "Keep in mind that this method returns a dataframe, so normal dataframe filtering and methods can be applied to the result. For example, let's use the DataFrame.plot() method to create a visualization. Note that we exclude aggfunc below because the mean is the default aggregation function of df.pivot_table()."
   ]
  },
  {
   "cell_type": "code",
   "execution_count": 15,
   "metadata": {
    "pycharm": {
     "is_executing": false
    }
   },
   "outputs": [
    {
     "data": {
      "text/plain": "<matplotlib.axes._subplots.AxesSubplot at 0x2b6b907c160>"
     },
     "metadata": {},
     "output_type": "execute_result",
     "execution_count": 15
    },
    {
     "data": {
      "text/plain": "<Figure size 432x288 with 1 Axes>",
      "image/png": "[encoded data removed]"
     },
     "metadata": {
      "needs_background": "light"
     },
     "output_type": "display_data"
    }
   ],
   "source": [
    "pv_happiness = happiness2015.pivot_table('Happiness Score', 'Region')\n",
    "pv_happiness.plot(kind='barh', title='Mean Happiness Scores by Region', xlim=(0,10), legend=False)"
   ]
  },
  {
   "cell_type": "markdown",
   "metadata": {},
   "source": [
    "Next, let's explore a feature unique to the df.pivot_table() method.\n",
    "\n",
    "### Instructions\n",
    "\n",
    "We've already updated pv_happiness by setting the margins parameter equal to True.\n",
    "\n",
    "- Plot the resulting dataframe, pv_happiness, using the df.plot() method. Set kind to barh, xlim to (0,10), title to 'Mean Happiness Scores by Region', and legend to False. What do you notice about this results?\n",
    "- Calculate the mean of the Happiness Score column in the original happiness 2015 data set. Assign the result to world_mean_happiness.\n",
    "- Does world_mean_happiness equal the value for the All group? If you can't figure out the answer, don't worry! We'll review this question on the next screen."
   ]
  },
  {
   "cell_type": "code",
   "execution_count": 16,
   "metadata": {
    "pycharm": {
     "is_executing": false
    }
   },
   "outputs": [
    {
     "data": {
      "text/plain": "5.3757341772151905"
     },
     "metadata": {},
     "output_type": "display_data"
    },
    {
     "data": {
      "text/plain": "<Figure size 432x288 with 1 Axes>",
      "image/png": "[encoded data removed]"
     },
     "metadata": {
      "needs_background": "light"
     },
     "output_type": "display_data"
    }
   ],
   "source": [
    "pv_happiness = happiness2015.pivot_table(values='Happiness Score', index='Region', aggfunc=np.mean, margins=True)\n",
    "pv_happiness.plot(kind='barh', xlim=(0,10), title='Mean happinesss scores by Region', legend=False)\n",
    "world_mean_happiness = happiness2015['Happiness Score'].mean()\n",
    "display(world_mean_happiness)"
   ]
  },
  {
   "cell_type": "markdown",
   "metadata": {},
   "source": [
    "Let's compare the results returned by the groupby operation and the pivot_table method next.\n",
    "\n",
    "### Instructions\n",
    "\n",
    "- Use the df.groupby() method to calculate the minimum, maximum, and mean family and happiness scores for each region in happiness2015.\n",
    "    - Group happiness2015 by the Region column.\n",
    "    - Select the Happiness Score and Family columns. Assign the result to grouped.\n",
    "    - Apply the GroupBy.agg() method to grouped. Pass a list containing np.min, np.max, and np.mean into the method.\n",
    "    - Assign the result to happy_family_stats.\n",
    "- Use the pivot_table method to return the same information, but also calculate the the minimum, maximum, and mean for the entire Family and Happiness Score columns.\n",
    "    - The aggregation columns should be Happiness Score and Family.\n",
    "    - The column to group by is Region.\n",
    "    - The aggregation functions are np.min, np.max, and np.mean.\n",
    "    - Set the margins parameter equal to True.\n",
    "    - Assign the result to pv_happy_family_stats."
   ]
  },
  {
   "cell_type": "code",
   "execution_count": 17,
   "metadata": {
    "pycharm": {
     "is_executing": false,
     "name": "#%%\n"
    }
   },
   "outputs": [
    {
     "data": {
      "text/plain": "                                Happiness Score                    Family  \\\n                                           amin   amax      mean     amin   \nRegion                                                                      \nAustralia and New Zealand                 7.284  7.286  7.285000  1.30923   \nCentral and Eastern Europe                4.218  6.505  5.332931  0.38562   \nEastern Asia                              4.874  6.298  5.626167  0.94675   \nLatin America and Caribbean               4.518  7.226  6.144682  0.74302   \nMiddle East and Northern Africa           3.006  7.278  5.406900  0.47489   \nNorth America                             7.119  7.427  7.273000  1.24711   \nSoutheastern Asia                         3.819  6.798  5.317444  0.62736   \nSouthern Asia                             3.575  5.253  4.580857  0.30285   \nSub-Saharan Africa                        2.839  5.477  4.202800  0.00000   \nWestern Europe                            4.857  7.587  6.689619  0.89318   \n\n                                                    \n                                    amax      mean  \nRegion                                              \nAustralia and New Zealand        1.31967  1.314450  \nCentral and Eastern Europe       1.34043  1.053042  \nEastern Asia                     1.30060  1.099427  \nLatin America and Caribbean      1.30477  1.104720  \nMiddle East and Northern Africa  1.22393  0.920490  \nNorth America                    1.32261  1.284860  \nSoutheastern Asia                1.26504  0.940468  \nSouthern Asia                    1.10395  0.645321  \nSub-Saharan Africa               1.18468  0.809085  \nWestern Europe                   1.40223  1.247302  ",
      "text/html": "<div>\n<style scoped>\n    .dataframe tbody tr th:only-of-type {\n        vertical-align: middle;\n    }\n\n    .dataframe tbody tr th {\n        vertical-align: top;\n    }\n\n    .dataframe thead tr th {\n        text-align: left;\n    }\n\n    .dataframe thead tr:last-of-type th {\n        text-align: right;\n    }\n</style>\n<table border=\"1\" class=\"dataframe\">\n  <thead>\n    <tr>\n      <th></th>\n      <th colspan=\"3\" halign=\"left\">Happiness Score</th>\n      <th colspan=\"3\" halign=\"left\">Family</th>\n    </tr>\n    <tr>\n      <th></th>\n      <th>amin</th>\n      <th>amax</th>\n      <th>mean</th>\n      <th>amin</th>\n      <th>amax</th>\n      <th>mean</th>\n    </tr>\n    <tr>\n      <th>Region</th>\n      <th></th>\n      <th></th>\n      <th></th>\n      <th></th>\n      <th></th>\n      <th></th>\n    </tr>\n  </thead>\n  <tbody>\n    <tr>\n      <th>Australia and New Zealand</th>\n      <td>7.284</td>\n      <td>7.286</td>\n      <td>7.285000</td>\n      <td>1.30923</td>\n      <td>1.31967</td>\n      <td>1.314450</td>\n    </tr>\n    <tr>\n      <th>Central and Eastern Europe</th>\n      <td>4.218</td>\n      <td>6.505</td>\n      <td>5.332931</td>\n      <td>0.38562</td>\n      <td>1.34043</td>\n      <td>1.053042</td>\n    </tr>\n    <tr>\n      <th>Eastern Asia</th>\n      <td>4.874</td>\n      <td>6.298</td>\n      <td>5.626167</td>\n      <td>0.94675</td>\n      <td>1.30060</td>\n      <td>1.099427</td>\n    </tr>\n    <tr>\n      <th>Latin America and Caribbean</th>\n      <td>4.518</td>\n      <td>7.226</td>\n      <td>6.144682</td>\n      <td>0.74302</td>\n      <td>1.30477</td>\n      <td>1.104720</td>\n    </tr>\n    <tr>\n      <th>Middle East and Northern Africa</th>\n      <td>3.006</td>\n      <td>7.278</td>\n      <td>5.406900</td>\n      <td>0.47489</td>\n      <td>1.22393</td>\n      <td>0.920490</td>\n    </tr>\n    <tr>\n      <th>North America</th>\n      <td>7.119</td>\n      <td>7.427</td>\n      <td>7.273000</td>\n      <td>1.24711</td>\n      <td>1.32261</td>\n      <td>1.284860</td>\n    </tr>\n    <tr>\n      <th>Southeastern Asia</th>\n      <td>3.819</td>\n      <td>6.798</td>\n      <td>5.317444</td>\n      <td>0.62736</td>\n      <td>1.26504</td>\n      <td>0.940468</td>\n    </tr>\n    <tr>\n      <th>Southern Asia</th>\n      <td>3.575</td>\n      <td>5.253</td>\n      <td>4.580857</td>\n      <td>0.30285</td>\n      <td>1.10395</td>\n      <td>0.645321</td>\n    </tr>\n    <tr>\n      <th>Sub-Saharan Africa</th>\n      <td>2.839</td>\n      <td>5.477</td>\n      <td>4.202800</td>\n      <td>0.00000</td>\n      <td>1.18468</td>\n      <td>0.809085</td>\n    </tr>\n    <tr>\n      <th>Western Europe</th>\n      <td>4.857</td>\n      <td>7.587</td>\n      <td>6.689619</td>\n      <td>0.89318</td>\n      <td>1.40223</td>\n      <td>1.247302</td>\n    </tr>\n  </tbody>\n</table>\n</div>"
     },
     "metadata": {},
     "output_type": "display_data"
    },
    {
     "data": {
      "text/plain": "                                    amin                     amax  \\\n                                  Family Happiness Score   Family   \nRegion                                                              \nAustralia and New Zealand        1.30923           7.284  1.31967   \nCentral and Eastern Europe       0.38562           4.218  1.34043   \nEastern Asia                     0.94675           4.874  1.30060   \nLatin America and Caribbean      0.74302           4.518  1.30477   \nMiddle East and Northern Africa  0.47489           3.006  1.22393   \nNorth America                    1.24711           7.119  1.32261   \nSoutheastern Asia                0.62736           3.819  1.26504   \nSouthern Asia                    0.30285           3.575  1.10395   \nSub-Saharan Africa               0.00000           2.839  1.18468   \nWestern Europe                   0.89318           4.857  1.40223   \nAll                              0.00000           2.839  1.40223   \n\n                                                     mean                  \n                                Happiness Score    Family Happiness Score  \nRegion                                                                     \nAustralia and New Zealand                 7.286  1.314450        7.285000  \nCentral and Eastern Europe                6.505  1.053042        5.332931  \nEastern Asia                              6.298  1.099427        5.626167  \nLatin America and Caribbean               7.226  1.104720        6.144682  \nMiddle East and Northern Africa           7.278  0.920490        5.406900  \nNorth America                             7.427  1.284860        7.273000  \nSoutheastern Asia                         6.798  0.940468        5.317444  \nSouthern Asia                             5.253  0.645321        4.580857  \nSub-Saharan Africa                        5.477  0.809085        4.202800  \nWestern Europe                            7.587  1.247302        6.689619  \nAll                                       7.587  0.991046        5.375734  ",
      "text/html": "<div>\n<style scoped>\n    .dataframe tbody tr th:only-of-type {\n        vertical-align: middle;\n    }\n\n    .dataframe tbody tr th {\n        vertical-align: top;\n    }\n\n    .dataframe thead tr th {\n        text-align: left;\n    }\n\n    .dataframe thead tr:last-of-type th {\n        text-align: right;\n    }\n</style>\n<table border=\"1\" class=\"dataframe\">\n  <thead>\n    <tr>\n      <th></th>\n      <th colspan=\"2\" halign=\"left\">amin</th>\n      <th colspan=\"2\" halign=\"left\">amax</th>\n      <th colspan=\"2\" halign=\"left\">mean</th>\n    </tr>\n    <tr>\n      <th></th>\n      <th>Family</th>\n      <th>Happiness Score</th>\n      <th>Family</th>\n      <th>Happiness Score</th>\n      <th>Family</th>\n      <th>Happiness Score</th>\n    </tr>\n    <tr>\n      <th>Region</th>\n      <th></th>\n      <th></th>\n      <th></th>\n      <th></th>\n      <th></th>\n      <th></th>\n    </tr>\n  </thead>\n  <tbody>\n    <tr>\n      <th>Australia and New Zealand</th>\n      <td>1.30923</td>\n      <td>7.284</td>\n      <td>1.31967</td>\n      <td>7.286</td>\n      <td>1.314450</td>\n      <td>7.285000</td>\n    </tr>\n    <tr>\n      <th>Central and Eastern Europe</th>\n      <td>0.38562</td>\n      <td>4.218</td>\n      <td>1.34043</td>\n      <td>6.505</td>\n      <td>1.053042</td>\n      <td>5.332931</td>\n    </tr>\n    <tr>\n      <th>Eastern Asia</th>\n      <td>0.94675</td>\n      <td>4.874</td>\n      <td>1.30060</td>\n      <td>6.298</td>\n      <td>1.099427</td>\n      <td>5.626167</td>\n    </tr>\n    <tr>\n      <th>Latin America and Caribbean</th>\n      <td>0.74302</td>\n      <td>4.518</td>\n      <td>1.30477</td>\n      <td>7.226</td>\n      <td>1.104720</td>\n      <td>6.144682</td>\n    </tr>\n    <tr>\n      <th>Middle East and Northern Africa</th>\n      <td>0.47489</td>\n      <td>3.006</td>\n      <td>1.22393</td>\n      <td>7.278</td>\n      <td>0.920490</td>\n      <td>5.406900</td>\n    </tr>\n    <tr>\n      <th>North America</th>\n      <td>1.24711</td>\n      <td>7.119</td>\n      <td>1.32261</td>\n      <td>7.427</td>\n      <td>1.284860</td>\n      <td>7.273000</td>\n    </tr>\n    <tr>\n      <th>Southeastern Asia</th>\n      <td>0.62736</td>\n      <td>3.819</td>\n      <td>1.26504</td>\n      <td>6.798</td>\n      <td>0.940468</td>\n      <td>5.317444</td>\n    </tr>\n    <tr>\n      <th>Southern Asia</th>\n      <td>0.30285</td>\n      <td>3.575</td>\n      <td>1.10395</td>\n      <td>5.253</td>\n      <td>0.645321</td>\n      <td>4.580857</td>\n    </tr>\n    <tr>\n      <th>Sub-Saharan Africa</th>\n      <td>0.00000</td>\n      <td>2.839</td>\n      <td>1.18468</td>\n      <td>5.477</td>\n      <td>0.809085</td>\n      <td>4.202800</td>\n    </tr>\n    <tr>\n      <th>Western Europe</th>\n      <td>0.89318</td>\n      <td>4.857</td>\n      <td>1.40223</td>\n      <td>7.587</td>\n      <td>1.247302</td>\n      <td>6.689619</td>\n    </tr>\n    <tr>\n      <th>All</th>\n      <td>0.00000</td>\n      <td>2.839</td>\n      <td>1.40223</td>\n      <td>7.587</td>\n      <td>0.991046</td>\n      <td>5.375734</td>\n    </tr>\n  </tbody>\n</table>\n</div>"
     },
     "metadata": {},
     "output_type": "display_data"
    }
   ],
   "source": [
    "grouped = happiness2015.groupby('Region')[['Happiness Score', 'Family']]\n",
    "happy_family_stats = grouped.agg([np.min, np.max, np.mean])\n",
    "pv_happy_family_stats = happiness2015.pivot_table(values=['Happiness Score', 'Family'], \n",
    "                                                  index='Region', aggfunc=[np.min, np.max, np.mean], margins=True)\n",
    "display(happy_family_stats)\n",
    "display(pv_happy_family_stats)"
   ]
  }
 ],
 "metadata": {
  "kernelspec": {
   "display_name": "Python 3",
   "language": "python",
   "name": "python3"
  },
  "language_info": {
   "codemirror_mode": {
    "name": "ipython",
    "version": 3
   },
   "file_extension": ".py",
   "mimetype": "text/x-python",
   "name": "python",
   "nbconvert_exporter": "python",
   "pygments_lexer": "ipython3",
   "version": "3.7.3"
  },
  "pycharm": {
   "stem_cell": {
    "cell_type": "raw",
    "source": [],
    "metadata": {
     "collapsed": false
    }
   }
  }
 },
 "nbformat": 4,
 "nbformat_minor": 4
}