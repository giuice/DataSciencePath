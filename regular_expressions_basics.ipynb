{
 "cells": [
  {
   "cell_type": "markdown",
   "metadata": {
    "pycharm": {
     "name": "#%% md\n"
    }
   },
   "source": [
    "# Regular Expressions Basics\n",
    "As powerful as regular expressions are, they can be difficult to learn at first and the syntax can look visually intimidating. As a result, a lot of students end up disliking regular expressions and try to avoid using them, instead opting to write more cumbersome code.\n",
    "\n",
    "difficult regex\n",
    "That said, learning (and loving!) regular expressions is something that is a worthwhile investment\n",
    "\n",
    "- Once you understand how they work, complex operations with string data can be written a lot quicker, which will save you time.\n",
    "- Regular expressions are often faster to execute than their manual equivalents.\n",
    "- Regular expressions are supported in almost every modern programming language, as well as other places like command line utilities and databases. Understanding regular expressions gives you a powerful tool that you can use wherever you work with data.\n",
    "The dataset we will be working with is based off this CSV of Hacker News stories from September 2015 to September 2016. The columns in the dataset are explained below:\n",
    "\n",
    "- id: The unique identifier from Hacker News for the story\n",
    "- title: The title of the story\n",
    "- url: The URL that the stories links to, if the story has a URL\n",
    "- num_points: The number of points the story acquired, calculated as the total number of upvotes minus the total number of downvotes\n",
    "- num_comments: The number of comments that were made on the story\n",
    "- author: The username of the person who submitted the story\n",
    "- created_at: The date and time at which the story was submitted\n",
    "- For teaching purposes, we have reduced the dataset from the almost 300,000 rows in its original form to approximately 20,000 rows by removing all submissions that did not receive any comments, and then randomly sampling from the remaining submissions. You can download the modified dataset using the dataset preview tool.\n",
    "## Instructions\n",
    "1. Import the pandas library.\n",
    "2. Read the hacker_news.csv file into a pandas dataframe. Assign the result to hn.\n",
    "3. After you have completed the code exercise, use the variable inspector to familiarize yourself with the dataset."
   ]
  },
  {
   "cell_type": "code",
   "execution_count": 1,
   "metadata": {
    "collapsed": false,
    "jupyter": {
     "outputs_hidden": false
    },
    "pycharm": {
     "is_executing": false,
     "name": "#%% \n"
    }
   },
   "outputs": [
    {
     "name": "stdout",
     "output_type": "stream",
     "text": [
      "<class 'pandas.core.frame.DataFrame'>\n",
      "RangeIndex: 20100 entries, 0 to 20099\n",
      "Data columns (total 7 columns):\n",
      "id              20100 non-null int64\n",
      "title           20100 non-null object\n",
      "url             17660 non-null object\n",
      "num_points      20100 non-null int64\n",
      "num_comments    20100 non-null int64\n",
      "author          20100 non-null object\n",
      "created_at      20100 non-null object\n",
      "dtypes: int64(3), object(4)\n",
      "memory usage: 1.1+ MB\n"
     ]
    }
   ],
   "source": [
    "import pandas as pd\n",
    "import numpy as np\n",
    "hn = pd.read_csv('data/hacker_news.csv')\n",
    "hn.info()"
   ]
  },
  {
   "cell_type": "markdown",
   "metadata": {
    "pycharm": {
     "name": "#%% md\n"
    }
   },
   "source": [
    "When working with regular expressions, we use the term pattern to describe a regular expression that we've written. If the pattern is found within the string we're searching, we say that it has matched.\n",
    "\n",
    "As we previously learned, letters and numbers represent themselves in regular expressions. If we wanted to find the string \"and\" within another string, the regex pattern for that is simply and:\n",
    "\n",
    "basic matches\n",
    "In the third example above, the pattern and does not match Andrew because even though a and A are the same letter, the two characters are unique.\n",
    "\n",
    "We previously used regular expressions with pandas, but Python also has a built-in module for regular expressions: The re module. This module contains a number of different functions and classes for working with regular expressions. One of the most useful functions from the re module is the re.search() function, which takes two required arguments:\n",
    "\n",
    "The regex pattern\n",
    "The string we want to search that pattern for\n",
    "```python\n",
    "import re\n",
    "​\n",
    "m = re.search(\"and\", \"hand\")\n",
    "print(m)\n",
    "< _sre.SRE_Match object; span=(1, 4), match='and' >\n",
    "The re.search() function will return a Match object if the pattern is found anywhere within the string. If the pattern is not found, re.search() returns None:\n",
    "\n",
    "m = re.search(\"and\", \"antidote\")\n",
    "print(m)\n",
    "None\n",
    "```\n",
    "We'll learn more about match objects later. For now, we can use the fact that the boolean value of a match object is True while None is False to easily check whether our regex matches each string in a list. We'll create a list of three simple strings to use while learning these concepts:\n",
    "```python\n",
    "string_list = [\"Julie's favorite color is Blue.\",\n",
    "               \"Keli's favorite color is Green.\",\n",
    "               \"Craig's favorite colors are blue and red.\"]\n",
    "​\n",
    "pattern = \"Blue\"\n",
    "​\n",
    "for s in string_list:\n",
    "    if re.search(pattern, s):\n",
    "        print(\"Match\")\n",
    "    else:\n",
    "        print(\"No Match\")\n",
    "Match\n",
    "No Match\n",
    "No Match\n",
    "```\n",
    "So far, we haven't done anything with regular expressions that we couldn't do using the in keyword. The power of regular expressions comes when we use one of the special character sequences.\n",
    "\n",
    "The first of these we'll learn is called a set. A set allows us to specify two or more characters that can match in a single character's position.\n",
    "\n",
    "We define a set by placing the characters we want to match for in square brackets:\n",
    "\n",
    "basic matches\n",
    "The regular expression above will match the strings mend, send, and bend.\n",
    "\n",
    "Let's look at how we can add sets to match more of our example strings from earlier:\n",
    "\n",
    "basic matches\n",
    "Let's take another look at the list of strings we used earlier:\n",
    "```python\n",
    "string_list = [\"Julie's favorite color is Blue.\",\n",
    "               \"Keli's favorite color is Green.\",\n",
    "               \"Craig's favorite colors are blue and red.\"]\n",
    " ```              \n",
    "If you look closely, you'll notice the first string contains the substring Blue with a capital letter, where the third string contains the substring blue in all lowercase. We can use the set [Bb] for the first character so that we can match both variations, and then use that to count how many times Blue or blue occur in the list:\n",
    "```python\n",
    "blue_mentions = 0\n",
    "pattern = \"[Bb]lue\"\n",
    "​\n",
    "for s in string_list:\n",
    "    if re.search(pattern, s):\n",
    "        blue_mentions += 1\n",
    "​\n",
    "print(blue_mentions)\n",
    "2\n",
    "```\n",
    "We're going to use this technique to find out how many times Python is mentioned in the title of stories in our Hacker News dataset. We'll use a set to check for both Python with a capital 'P' and python with a lowercase 'p'.\n",
    "\n",
    "### Instructions\n",
    "\n",
    "We have provided code to import the re module and extract a list, titles, containing all the titles from our dataset.\n",
    "\n",
    "1. Initialize a variable python_mentions with the integer value 0.\n",
    "2. Create a string — pattern — containing a regular expression pattern that uses a set to match Python or python.\n",
    "3. Use a loop to iterate over each item in the titles list, and for each item:\n",
    "4. Use the re.search() function to check whether pattern matches the title.\n",
    "    - If re.search() returns a match object, increment (add 1 to) the python_mentions variable."
   ]
  },
  {
   "cell_type": "code",
   "execution_count": 2,
   "metadata": {
    "collapsed": false,
    "jupyter": {
     "outputs_hidden": false
    },
    "pycharm": {
     "is_executing": false,
     "name": "#%%\n"
    }
   },
   "outputs": [],
   "source": [
    "import re\n",
    "\n",
    "titles = hn[\"title\"].tolist()\n",
    "python_mentions = 0\n",
    "pattern = '[Pp]ython'\n",
    "for item in titles:\n",
    "    if re.search(pattern, item):\n",
    "        python_mentions += 1\n",
    "        "
   ]
  },
  {
   "cell_type": "markdown",
   "metadata": {
    "pycharm": {
     "name": "#%% md\n"
    }
   },
   "source": [
    "### Instructions\n",
    "\n",
    "We have provided the regex pattern from the solution to the previous screen.\n",
    "\n",
    "1. Assign the title column from the hn dataframe to the variable titles.\n",
    "2. Use Series.str.contains() and Series.sum() with the provided regex pattern to count how many Hacker News titles contain Python or python. Assign the result to python_mentions."
   ]
  },
  {
   "cell_type": "code",
   "execution_count": 3,
   "metadata": {
    "collapsed": false,
    "jupyter": {
     "outputs_hidden": false
    },
    "pycharm": {
     "is_executing": false,
     "name": "#%%        \n"
    }
   },
   "outputs": [],
   "source": [
    "titles = hn.title\n",
    "python_mentions = titles.str.contains(pattern).sum()"
   ]
  },
  {
   "cell_type": "markdown",
   "metadata": {},
   "source": [
    " On the previous two screens, we used regular expressions to count how many titles contain Python or python. What if we wanted to view those titles?\n",
    "\n",
    "In that case, we can use the boolean array returned by Series.str.contains() to select just those rows from our series. Let's look at that in action, starting by creating the boolean array.\n",
    "´´´python\n",
    "titles = hn['title']\n",
    "​\n",
    "py_titles_bool = titles.str.contains(\"[Pp]ython\")\n",
    "print(py_titles_bool.head())\n",
    "0    False\n",
    "1    False\n",
    "2    False\n",
    "3    False\n",
    "4    False\n",
    "Name: title, dtype: bool\n",
    "Then, we can use that boolean array to select just the matching rows:\n",
    "\n",
    "py_titles = titles[py_titles_bool]\n",
    "print(py_titles.head())\n",
    "´´´\n",
    "103                          From Python to Lua: Why We Switched\n",
    "\n",
    "104                    Ubuntu 16.04 LTS to Ship Without Python 2\n",
    "\n",
    "145      Create a GUI Application Using Qt and Python in Minutes\n",
    "\n",
    "197     How I Solved GCHQ's Xmas Card with Python and Pycosat...\n",
    "\n",
    "437  Unikernel Power Comes to Java, Node.js, Go, and Python Apps\n",
    "Name: title, dtype: object\n",
    "We can also do it in a streamlined, single line of code:\n",
    "\n",
    "py_titles = titles[titles.str.contains(\"[Pp]ython\")]\n",
    "\n",
    "print(py_titles.head())\n",
    "\n",
    "103                          From Python to Lua: Why We Switched\n",
    "104                    Ubuntu 16.04 LTS to Ship Without Python 2\n",
    "145      Create a GUI Application Using Qt and Python in Minutes\n",
    "197     How I Solved GCHQ's Xmas Card with Python and Pycosat...\n",
    "437  Unikernel Power Comes to Java, Node.js, Go, and Python Apps\n",
    "Name: title, dtype: object\n",
    "</code>\n",
    "Let's use this technique to select all titles that mention the programming language Ruby, using a set to account for whether the word is capitalized or not.\n",
    "1. Use Series.str.contains() to create a series of the values from titles that contain Ruby or ruby. Assign the result to ruby_titles."
   ]
  },
  {
   "cell_type": "code",
   "execution_count": 4,
   "metadata": {
    "collapsed": false,
    "jupyter": {
     "outputs_hidden": false
    },
    "pycharm": {
     "is_executing": false,
     "name": "#%%\n"
    }
   },
   "outputs": [
    {
     "data": {
      "text/plain": [
       "191                    Ruby on Google AppEngine Goes Beta\n",
       "485          Related: Pure Ruby Relational Algebra Engine\n",
       "1389    Show HN: HTTPalooza  Ruby's greatest HTTP clie...\n",
       "1950    Rewriting a Ruby C Extension in Rust: How a Na...\n",
       "2023    Show HN: CrashBreak  Reproduce exceptions as f...\n",
       "Name: title, dtype: object"
      ]
     },
     "execution_count": 4,
     "metadata": {},
     "output_type": "execute_result"
    }
   ],
   "source": [
    "titles = hn['title']\n",
    "ruby_titles = titles[titles.str.contains('[Rr]uby')]\n",
    "ruby_titles.head()"
   ]
  },
  {
   "cell_type": "markdown",
   "metadata": {
    "pycharm": {
     "name": "#%% md\n"
    }
   },
   "source": [
    "In the data cleaning course, we learned that we could use braces ({}) to specify that a character repeats in our regular expression. For instance, if we wanted to write a pattern that matches the numbers in text from 1000 to 2999 we could write the regular expression below:\n",
    "\n",
    "![](images/quantifier_example.svg)\n",
    "\n",
    "The name for this type of regular expression syntax is called a quantifier. Quantifiers specify how many of the previous character our pattern requires, which can help us when we want to match substrings of specific lengths. As an example, we might want to match both e-mail and email. To do this, we would want to specify to match - either zero or one times.\n",
    "\n",
    "The specific type of quantifier we saw above is called a numeric quantifier. Here are the different types of numeric quantifiers we can use:\n",
    "\n",
    "![](images/quantifiers_numeric.svg)\n",
    "\n",
    "You might notice that the last two examples above omit the first and last character as wildcards, in the same way that we can omit the first or last indicies when slicing lists.\n",
    "\n",
    "In addition to numeric quantifiers, there are single characters in regex that specify some common quantifiers that you're likely to use. A summary of them is below.\n",
    "\n",
    "![](images/quantifiers_other.svg)\n",
    "\n",
    "On this screen, we're going to find how many titles in our dataset mention email or e-mail. To do this, we'll need to use ?, the optional quantifier, to specify that the dash character - is optional in our regular expression.\n",
    "1. Use a regular expression and Series.str.contains() to create a boolean mask that matches items from titles containing email or e-mail. Assign the result to email_bool.\n",
    "2. Use email_bool to count the number of titles that matched the regular expression. Assign the result to email_count.\n",
    "3. Use email_bool to select only the items from titles that matched the regular expression. Assign the result to email_titles."
   ]
  },
  {
   "cell_type": "code",
   "execution_count": 5,
   "metadata": {
    "collapsed": false,
    "jupyter": {
     "outputs_hidden": false
    },
    "pycharm": {
     "is_executing": false,
     "name": "#%%\n"
    }
   },
   "outputs": [],
   "source": [
    "email_bool = titles.str.contains('e-?mail')\n",
    "email_count = email_bool.sum()\n",
    "email_titles = titles[email_bool]"
   ]
  },
  {
   "cell_type": "markdown",
   "metadata": {
    "pycharm": {
     "name": "#%% md\n"
    }
   },
   "source": [
    "To match the substring \"[pdf]\", we can use backslashes to escape both the open and closing brackets: \\[pdf\\].\n",
    "\n",
    "<img src=\"images/escaped_character_syntax_breakdown.svg\" />\n",
    "\n",
    "The other critical part of our task of identifying how many titles have tags is knowing how to match the characters between the brackets (like pdf and video) without knowing ahead of time what the different topic tags will be.\n",
    "\n",
    "To match unknown characters using regular expressions, we use character classes. Character classes allow us to match certain groups of characters. We've actually seen two examples of character classes already:\n",
    "\n",
    "The set notation using brackets to match any of a number of characters.\n",
    "The range notation, which we used to match ranges of digits (like [0-9]).\n",
    "Let's look at a summary of syntax for some of the regex character classes:\n",
    "\n",
    "<img src=\"images/character_classes_v2_1.svg\" />\n",
    "\n",
    "There are two new things we can observe from this table:\n",
    "\n",
    "Ranges can be used for letters as well as numbers.\n",
    "Sets and ranges can be combined.\n",
    "Just like with quantifiers, there are some other common character classes which we'll use a lot.\n",
    "\n",
    "<img src=\"images/character_classes_v2_2.svg\" />\n",
    "\n",
    "The one that we'll be using in order to match characters in tags is \\w, which represents any digit uppercase or lowercase letter. Each character class represents a single character, so to match multiple characters (e.g. words like video and pdf), we'll need to combine them with quantifiers.\n",
    "\n",
    "In order to match word characters between our brackets, we can combine the word character class (\\w) with the 'one or more' quantifier (+), giving us a combined pattern of \\w+.\n",
    "\n",
    "This will match sequences like pdf, video, Python, and 2018 but won't match a sequence containing a space or punctuation character like PHP-DEV or XKCD Flowchart. If we wanted to match those tags as well, we could use .+; however, in this case, we're just interested in single-word tags without special characters.\n",
    "\n",
    "Let's quickly recap the concepts we learned in this screen:\n",
    "\n",
    "- We can use a backslash to escape characters that have special meaning in regular expressions (e.g. \\ will match an open bracket character).\n",
    "- Character classes let us match certain groups of characters (e.g. \\w will match any word character).\n",
    "- Character classes can be combined with quantifiers when we want to match different numbers of characters.\n",
    "- We'll use these concepts to count the number of titles that contain a tag.\n",
    "\n",
    "### Instructions\n",
    "\n",
    "1. Write a regular expression, assigning it as a string to the variable pattern. The regular expression should match, in order:\n",
    "    - A single open bracket character.\n",
    "    - One or more word characters.\n",
    "    - A single close bracket character.\n",
    "2. Use the regular expression to select only items from titles that match. Assign the result to the variable tag_titles.\n",
    "3. Count how many matching titles there are. Assign the result to tag_count."
   ]
  },
  {
   "cell_type": "code",
   "execution_count": 10,
   "metadata": {
    "collapsed": false,
    "jupyter": {
     "outputs_hidden": false
    },
    "pycharm": {
     "name": "#%% \n"
    }
   },
   "outputs": [
    {
     "data": {
      "text/plain": [
       "444"
      ]
     },
     "execution_count": 10,
     "metadata": {},
     "output_type": "execute_result"
    }
   ],
   "source": [
    "reg = r'\\[\\w+\\]'\n",
    "tag_titles = titles[titles.str.contains(reg)]\n",
    "tag_count = tag_titles.count()\n",
    "tag_count"
   ]
  },
  {
   "cell_type": "markdown",
   "metadata": {},
   "source": [
    "In the previous screen, we were able to calculate that 444 of the 20,100 Hacker News stories in our dataset contain tags. What if we wanted to find out what the text of these tags were, and how many of each are in the dataset?\n",
    "\n",
    "In order to do this, we'll need to use capture groups. Capture groups allow us to specify one or more groups within our match that we can access separately. In this mission, we'll learn how to use one capture group per regular expression, but in the next mission we'll learn some more complex capture group patterns.\n",
    "\n",
    "We specify capture groups using parentheses. Let's add an open and close parentheses to the pattern we wrote in the previous screen, and break down how each character in our regular expression works:\n",
    "\n",
    "<img src=\"images/tags_syntax_breakdown_v2.svg\" />\n",
    "\n",
    "We'll learn how to access capture groups in pandas by looking at just the first five matching titles from the previous exercise:\n",
    "```python\n",
    "tag_5 = tag_titles.head()\n",
    "print(tag_5)\n",
    "67      Analysis of 114 propaganda sources from ISIS, Jabhat al-Nusra, al-Qaeda [pdf]\n",
    "101                                Munich Gunman Got Weapon from the Darknet [German]\n",
    "160                                      File indexing and searching for Plan 9 [pdf]\n",
    "163    Attack on Kunduz Trauma Centre, Afghanistan  Initial MSF Internal Review [pdf]\n",
    "196                                            [Beta] Speedtest.net  HTML5 Speed Test\n",
    "Name: title, dtype: object\n",
    "```\n",
    "We use the Series.str.extract() method to extract the match within our parentheses:\n",
    "```python\n",
    "pattern = r\"(\\[\\w+\\])\"\n",
    "tag_5_matches = tag_5.str.extract(pattern)\n",
    "print(tag_5_matches)\n",
    "67        [pdf]\n",
    "101    [German]\n",
    "160       [pdf]\n",
    "163       [pdf]\n",
    "196      [Beta]\n",
    "Name: title, dtype: object\n",
    "```\n",
    "We can move our parentheses inside the brackets to get just the text:\n",
    "```python\n",
    "pattern = r\"\\[(\\w+)\\]\"\n",
    "tag_5_matches = tag_5.str.extract(pattern)\n",
    "print(tag_5_matches)\n",
    "67        pdf\n",
    "101    German\n",
    "160       pdf\n",
    "163       pdf\n",
    "196      Beta\n",
    "Name: title, dtype: object\n",
    "```\n",
    "If we then use Series.value_counts() we can quickly get a frequency table of the tags:\n",
    "```python\n",
    "tag_5_freq = tag_5_matches.value_counts()\n",
    "print(tag_5_freq)\n",
    "pdf       3\n",
    "Beta      1\n",
    "German    1\n",
    "Name: title, dtype: int64\n",
    "```\n",
    "Let's use this technique to extract all of the tags from the Hacker News titles and build a frequency table of those tags.\n",
    "\n",
    "Instructions\n",
    "\n",
    "We have provided a commented line of code with the pattern from the previous exercise.\n",
    "\n",
    "1. Uncomment the line of code and add parentheses to create a capture group inside the brackets.\n",
    "2. Use Series.str.extract() and Series.value_counts() with the modified regex pattern to produce a frequency table of all the tags in the titles series. Assign the frequency table to tag_freq."
   ]
  },
  {
   "cell_type": "code",
   "execution_count": 19,
   "metadata": {},
   "outputs": [
    {
     "data": {
      "text/plain": [
       "pdf      276\n",
       "video    111\n",
       "audio      3\n",
       "2015       3\n",
       "beta       2\n",
       "Name: title, dtype: int64"
      ]
     },
     "execution_count": 19,
     "metadata": {},
     "output_type": "execute_result"
    }
   ],
   "source": [
    "pattern = r\"\\[(\\w+)\\]\"\n",
    "tag_freq = titles.str.extract(pattern,expand=False).value_counts()\n",
    "tag_freq.head()"
   ]
  },
  {
   "cell_type": "markdown",
   "metadata": {},
   "source": [
    " Negative character classes are character classes that match every character except a character class. Let's look at a table of the common negative character classes:\n",
    "\n",
    "<img src=\"images/negative_character_classes.svg\" />\n",
    "\n",
    "Let's use the negative set [^Ss] to exclude instances like JavaScript and Javascript:\n",
    "1. Write a regular expression that will match titles containing Java.\n",
    "    - You might like to use the first_10_matches() function or a site like RegExr to build your regular expression.\n",
    "    - The regex should match whether or not the first character is capitalized.\n",
    "    - The regex shouldn't match where 'Java' is followed by the letter 'S' or 's'.\n",
    "2. Select every row from titles that match the regular expression. Assign the result to java_titles."
   ]
  },
  {
   "cell_type": "code",
   "execution_count": 20,
   "metadata": {},
   "outputs": [
    {
     "data": {
      "text/plain": [
       "437      Unikernel Power Comes to Java, Node.js, Go, an...\n",
       "812      Ask HN: Are there any projects or compilers wh...\n",
       "1841                     Adopting RxJava on the Airbnb App\n",
       "1973           Node.js vs. Java: Which Is Faster for APIs?\n",
       "2094                     Java EE and Microservices in 2016\n",
       "2368     Code that is valid in both PHP and Java, and p...\n",
       "2494     Ask HN: I've been a java dev for a couple of y...\n",
       "2752                 Eventsourcing for Java 0.4.0 released\n",
       "2911                 2016 JavaOne Intel Keynote  32mn Talk\n",
       "3453     What are the Differences Between Java Platform...\n",
       "4274      Ask HN: Is Bloch's Effective Java Still Current?\n",
       "4625     Oracle Discloses Critical Java Vulnerability i...\n",
       "5462                        Lambdas (in Java 8) Screencast\n",
       "5848     IntelliJ IDEA and the whole IntelliJ platform ...\n",
       "5948                                        JavaFX is dead\n",
       "6269             Oracle deprecating Java applets in Java 9\n",
       "7437     Forget Guava: 5 Google Libraries Java Develope...\n",
       "7482     Ask HN: Beside Java what languages have a stro...\n",
       "8101        Advantages of Functional Programming in Java 8\n",
       "8136     Show HN: Rogue AI Dungeon, javacript bot scrip...\n",
       "8448                  Show HN: Java multicore intelligence\n",
       "8488     Why IntelliJ IDEA is hailed as the most friend...\n",
       "8985     Ask HN: Should Learn/switch to JavaScript Prog...\n",
       "8988     Last-khajiit/vkb: Java bot for vk.com competit...\n",
       "10530             Angular 2 coming to Java, Python and PHP\n",
       "11455    Ask HN: Java or .NET for a new big enterprise ...\n",
       "11903                         The Java Deserialization Bug\n",
       "12383          Ask HN: Why does Java continue to dominate?\n",
       "12583    Java Memory Model Examples: Good, Bad and Ugly...\n",
       "12712    Oracle seeks $9.3B for Googles use of Java in ...\n",
       "13049        A high performance caching library for Java 8\n",
       "13106    Show HN: Backblaze-b2 is a simple java library...\n",
       "13151             Java Tops TIOBE's Popular-Languages List\n",
       "13171    Show HN: Tablesaw: A Java data-frame for 500M-...\n",
       "13273      Java StringBuffer and StringBuilder performance\n",
       "13621    1M Java questions have now been asked on Stack...\n",
       "13840        Ask HN: Hosting a Java Spring web application\n",
       "13844                                 Var and val in Java?\n",
       "13845               Answerz.com  Java and J2ee Programming\n",
       "13931     Java 8s new Optional type doesn't solve anything\n",
       "13935    Java 6 vs. Java 7 vs. Java 8 between 2013  201...\n",
       "15258                       Oracle and the fall of Java EE\n",
       "15869                 Java generics never cease to impress\n",
       "16024    Will you use ReactJS with a REST service inste...\n",
       "16933       Swift versus Java: the bitset performance test\n",
       "16949          Show HN: Bt  0-hassle BitTorrent for Java 8\n",
       "17580                Java Lazy Streamed Zip Implementation\n",
       "18408    Show HN: Scala idioms in Java: cases, patterns...\n",
       "19482    Show HN: Adding List Comprehension in Java - E...\n",
       "19736          Java Named Top Programming Language of 2015\n",
       "Name: title, dtype: object"
      ]
     },
     "execution_count": 20,
     "metadata": {},
     "output_type": "execute_result"
    }
   ],
   "source": [
    "def first_10_matches(pattern):\n",
    "    \"\"\"\n",
    "    Return the first 10 story titles that match\n",
    "    the provided regular expression\n",
    "    \"\"\"\n",
    "    all_matches = titles[titles.str.contains(pattern)]\n",
    "    first_10 = all_matches.head(10)\n",
    "    return first_10\n",
    "expr = r'[Jj]ava[^Ss]'\n",
    "java_titles = titles[titles.str.contains(expr)]"
   ]
  },
  {
   "cell_type": "markdown",
   "metadata": {},
   "source": [
    "Let's look at how using a word boundary changes the match from the string in the example above:\n",
    "```python\n",
    "string = \"Sometimes people confuse JavaScript with Java\"\n",
    "pattern_1 = r\"Java[^S]\"\n",
    "\n",
    "m1 = re.search(pattern_1, string)\n",
    "print(m1)\n",
    "None\n",
    "```\n",
    "The regular expression returns None, because there is no substring that contains Java followed by a character that isn't S.\n",
    "\n",
    "Let's instead use word boundaries in our regular expression:\n",
    "```python\n",
    "pattern_2 = r\"\\bJava\\b\"\n",
    "\n",
    "m2 = re.search(pattern_2, string)\n",
    "print(m2)\n",
    "_sre.SRE_Match object; span=(41, 45), match='Java'\n",
    "```\n",
    "With the word boundary, our pattern matches the Java at the end of the string.\n",
    "\n",
    "Let's use the word boundary anchor as part of our regular expression to select the titles that mention Java.\n",
    "1. Write a regular expression that will match titles containing Java.\n",
    "    - You might like to use the first_10_matches() function or a site like RegExr to build your regular expression.\n",
    "    - The regex should match whether or not the first character is capitalized.\n",
    "    - The regex should match only where 'Java' is preceded and followed by a word boundary.\n",
    "2. Select from titles only the items that match the regular expression. Assign the result to java_titles."
   ]
  },
  {
   "cell_type": "code",
   "execution_count": 25,
   "metadata": {},
   "outputs": [
    {
     "data": {
      "text/plain": [
       "437     Unikernel Power Comes to Java, Node.js, Go, an...\n",
       "812     Ask HN: Are there any projects or compilers wh...\n",
       "1024                         Pippo  Web framework in Java\n",
       "1973          Node.js vs. Java: Which Is Faster for APIs?\n",
       "2094                    Java EE and Microservices in 2016\n",
       "Name: title, dtype: object"
      ]
     },
     "execution_count": 25,
     "metadata": {},
     "output_type": "execute_result"
    }
   ],
   "source": [
    "exp = r'\\b[Jj]ava\\b'\n",
    "java_titles = titles[titles.str.contains(exp)].head()\n",
    "java_titles.head()"
   ]
  },
  {
   "cell_type": "markdown",
   "metadata": {},
   "source": [
    "On the previous screen, we learned that the word boundary anchor matches the space between a word character and a non-word character. More generally in regular expressions, an anchor matches something that isn't a character, as opposed to character classes which match specific characters.\n",
    "\n",
    "Other than the word boundary anchor, the other two most common anchors are the beginning anchor and the end anchor, which represent the start and the end of the string, respectfully.\n",
    "\n",
    "<img src=\"images/positional_anchors.svg\" />\n",
    "\n",
    "Note that the ^ character is used both as a beginning anchor and to indicate a negative set, depending on whether the character preceding it is a [ or not.\n",
    "\n",
    "Let's start with a few test cases that all contain the substring Red at different parts of the string, as well as a test function:\n",
    "```python\n",
    "test_cases = pd.Series([\n",
    "    \"Red Nose Day is a well-known fundraising event\",\n",
    "    \"My favorite color is Red\",\n",
    "    \"My Red Car was purchased three years ago\"\n",
    "])\n",
    "print(test_cases)\n",
    "0    Red Nose Day is a well-known fundraising event\n",
    "1                          My favorite color is Red\n",
    "2          My Red Car was purchased three years ago\n",
    "dtype: object\n",
    "```\n",
    "If we want to match the word Red only if it occurs at the start of the string, we add the beginning anchor to the start of our regular expression:\n",
    "```python\n",
    "test_cases.str.contains(r\"^Red\")\n",
    "0     True\n",
    "1    False\n",
    "2    False\n",
    "dtype: bool\n",
    "```\n",
    "If we want to match the word Red only if it occurs at the end of the string, we add the end anchor to the end of our regular expression:\n",
    "```python\n",
    "test_cases.str.contains(r\"Red$\")\n",
    "0    False\n",
    "1     True\n",
    "2    False\n",
    "dtype: bool\n",
    "```\n",
    "Let's use the beginning and end anchors to count how many titles have tags at the start versus the end of the story title in our Hacker News dataset.\n",
    "\n",
    "\n",
    "1. Count the number of times that a tag (e.g. [pdf] or [video]) occurs at the start of a title in titles. Assign the result to beginning_count.\n",
    "2. Count the number of times that a tag (e.g. [pdf] or [video]) occurs at the end of a title in titles. Assign the result to ending_count."
   ]
  },
  {
   "cell_type": "code",
   "execution_count": 26,
   "metadata": {},
   "outputs": [],
   "source": [
    "beginning_count = titles.str.contains(r'^\\[\\w+\\]').sum()\n",
    "ending_count = titles.str.contains(r'\\[\\w+\\]$').sum()"
   ]
  },
  {
   "cell_type": "markdown",
   "metadata": {},
   "source": [
    "1. Write a regular expression that will match all variations of email included in the starter code. Write your regular expression in a way that will be compatible with the ignorecase flag.\n",
    "    - As you build your regular expression, you might like to use Series.str.contains() like we did in the examples earlier in this screen.\n",
    "2. Once your regular expression matches all the test cases, use it to count the number of mentions of email in titles in the dataset. Assign the result to email_mentions."
   ]
  },
  {
   "cell_type": "code",
   "execution_count": 34,
   "metadata": {},
   "outputs": [
    {
     "data": {
      "text/plain": [
       "9"
      ]
     },
     "execution_count": 34,
     "metadata": {},
     "output_type": "execute_result"
    }
   ],
   "source": [
    "import re\n",
    "\n",
    "email_tests = pd.Series(['email', 'Email', 'e Mail', 'e mail', 'E-mail',\n",
    "              'e-mail', 'eMail', 'E-Mail', 'EMAIL'])\n",
    "email_tests.str.contains(r\"e[\\-\\s]?mail\",flags=re.I).sum()\n"
   ]
  }
 ],
 "metadata": {
  "kernelspec": {
   "display_name": "Python 3",
   "language": "python",
   "name": "python3"
  },
  "language_info": {
   "codemirror_mode": {
    "name": "ipython",
    "version": 3
   },
   "file_extension": ".py",
   "mimetype": "text/x-python",
   "name": "python",
   "nbconvert_exporter": "python",
   "pygments_lexer": "ipython3",
   "version": "3.7.3"
  },
  "pycharm": {
   "stem_cell": {
    "cell_type": "raw",
    "metadata": {
     "collapsed": false
    },
    "source": []
   }
  }
 },
 "nbformat": 4,
 "nbformat_minor": 4
}
