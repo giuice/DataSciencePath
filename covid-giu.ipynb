{
 "cells": [
  {
   "cell_type": "markdown",
   "id": "confidential-chest",
   "metadata": {},
   "source": [
    "# Covid Brasil"
   ]
  },
  {
   "cell_type": "code",
   "execution_count": 1,
   "id": "annual-oliver",
   "metadata": {},
   "outputs": [],
   "source": [
    "%config IPCompleter.greedy=True\n",
    "#!pip install pandas\n",
    "#!pip install seaborn\n",
    "#!pip install plotly\n",
    "#!pip install altair"
   ]
  },
  {
   "cell_type": "code",
   "execution_count": 1,
   "id": "stuffed-former",
   "metadata": {},
   "outputs": [
    {
     "output_type": "stream",
     "name": "stdout",
     "text": [
      "Modules are imported.\n"
     ]
    }
   ],
   "source": [
    "import pandas as pd \n",
    "import numpy as np \n",
    "import seaborn as sns\n",
    "\n",
    "from ipywidgets import interact, interactive, fixed, interact_manual\n",
    "from IPython.core.display import display, HTML\n",
    "import matplotlib.pyplot as plt \n",
    "import ipywidgets as widgets\n",
    "import plotly.express as px\n",
    "import plotly.graph_objects as go\n",
    "import pandas as pd\n",
    "import altair as alt\n",
    "print('Modules are imported.')"
   ]
  },
  {
   "cell_type": "code",
   "execution_count": 2,
   "id": "conscious-farmer",
   "metadata": {},
   "outputs": [],
   "source": [
    "import io\n",
    "import requests\n",
    "url='https://data.brasil.io/dataset/covid19/caso.csv.gz'\n",
    "s=requests.get(url).content\n"
   ]
  },
  {
   "cell_type": "code",
   "execution_count": 3,
   "id": "cutting-lender",
   "metadata": {},
   "outputs": [],
   "source": [
    "with open('data/covidio.csv.gz', 'wb') as f:\n",
    "    f.write(s)"
   ]
  },
  {
   "cell_type": "code",
   "execution_count": 50,
   "id": "decimal-convert",
   "metadata": {},
   "outputs": [],
   "source": [
    "#df = pd.read_csv('data/covidio.csv.gz', parse_dates=['last_available_date'], index_col='last_available_date')\n",
    "df = pd.read_csv('data/covidio.csv.gz')\n"
   ]
  },
  {
   "cell_type": "code",
   "execution_count": 51,
   "metadata": {},
   "outputs": [
    {
     "output_type": "execute_result",
     "data": {
      "text/plain": [
       "Index(['date', 'state', 'city', 'place_type', 'confirmed', 'deaths',\n",
       "       'order_for_place', 'is_last', 'estimated_population_2019',\n",
       "       'estimated_population', 'city_ibge_code',\n",
       "       'confirmed_per_100k_inhabitants', 'death_rate'],\n",
       "      dtype='object')"
      ]
     },
     "metadata": {},
     "execution_count": 51
    }
   ],
   "source": [
    "df.columns"
   ]
  },
  {
   "cell_type": "code",
   "execution_count": 52,
   "metadata": {},
   "outputs": [
    {
     "output_type": "execute_result",
     "data": {
      "text/plain": [
       "   mortalidade  death_rate  mortalidade100k\n",
       "0     0.001240      0.0137       124.046588\n",
       "1     0.001237      0.0137       123.698468\n",
       "2     0.001235      0.0137       123.466388\n",
       "3     0.001229      0.0137       122.886189\n",
       "4     0.001229      0.0138       122.886189"
      ],
      "text/html": "<div>\n<style scoped>\n    .dataframe tbody tr th:only-of-type {\n        vertical-align: middle;\n    }\n\n    .dataframe tbody tr th {\n        vertical-align: top;\n    }\n\n    .dataframe thead th {\n        text-align: right;\n    }\n</style>\n<table border=\"1\" class=\"dataframe\">\n  <thead>\n    <tr style=\"text-align: right;\">\n      <th></th>\n      <th>mortalidade</th>\n      <th>death_rate</th>\n      <th>mortalidade100k</th>\n    </tr>\n  </thead>\n  <tbody>\n    <tr>\n      <th>0</th>\n      <td>0.001240</td>\n      <td>0.0137</td>\n      <td>124.046588</td>\n    </tr>\n    <tr>\n      <th>1</th>\n      <td>0.001237</td>\n      <td>0.0137</td>\n      <td>123.698468</td>\n    </tr>\n    <tr>\n      <th>2</th>\n      <td>0.001235</td>\n      <td>0.0137</td>\n      <td>123.466388</td>\n    </tr>\n    <tr>\n      <th>3</th>\n      <td>0.001229</td>\n      <td>0.0137</td>\n      <td>122.886189</td>\n    </tr>\n    <tr>\n      <th>4</th>\n      <td>0.001229</td>\n      <td>0.0138</td>\n      <td>122.886189</td>\n    </tr>\n  </tbody>\n</table>\n</div>"
     },
     "metadata": {},
     "execution_count": 52
    }
   ],
   "source": [
    "df['mortalidade'] =  df['deaths']/df['estimated_population']\n",
    "df['mortalidade100k'] = (df['deaths']*100000)/df['estimated_population']\n",
    "df[['mortalidade', 'death_rate', 'mortalidade100k']].head()"
   ]
  },
  {
   "cell_type": "code",
   "execution_count": 69,
   "id": "devoted-broad",
   "metadata": {},
   "outputs": [],
   "source": [
    "df_states = df[(df['is_last'] == True) &(df.place_type=='state')][['state','confirmed','deaths', 'death_rate','mortalidade','mortalidade100k']]\n",
    "df_cities = df[(df['is_last'] == True) &(df.place_type=='city')][['city','state', 'confirmed','deaths', 'death_rate','mortalidade','mortalidade100k']]"
   ]
  },
  {
   "cell_type": "code",
   "execution_count": 70,
   "metadata": {},
   "outputs": [],
   "source": [
    "# deletando linhas inuteis\n",
    "df_cities.drop(df_cities[df_cities['city'] == 'Importados/Indefinidos'].index, inplace=True)"
   ]
  },
  {
   "cell_type": "code",
   "execution_count": 71,
   "id": "activated-cradle",
   "metadata": {},
   "outputs": [],
   "source": [
    "df_states.columns = ['Estado', 'Confirmados', 'Mortes', 'Letalidade','Mortalidade', 'Mortalidade100k']\n",
    "df_cities.columns = ['Cidade', 'Estado', 'Confirmados', 'Mortes', 'Letalidade','Mortalidade', 'Mortalidade100k']"
   ]
  },
  {
   "cell_type": "code",
   "execution_count": 150,
   "metadata": {},
   "outputs": [],
   "source": [
    "#df_cities.sort_values('Letalidade',ascending=False).head()\n",
    "df_states['Letalidade_rank'] = df_states['Letalidade'].rank(method='min').astype(int)\n",
    "df_states['Mortalidade_rank'] = df_states['Mortalidade'].rank(method='min').astype(int)\n",
    "df_states['rank'] = ((df_states['Mortalidade_rank'] + df_states['Letalidade_rank'])/2).rank(method='min').astype(int)\n",
    "df_cities['Letalidade_rank'] = df_cities['Letalidade'].rank(method='min').astype(int)\n",
    "df_cities['Mortalidade_rank'] = df_cities['Mortalidade'].rank(method='min').astype(int)\n",
    "df_cities['rank'] = ((df_cities['Mortalidade_rank'] + df_cities['Letalidade_rank'])/2).rank(method='min').astype(int)"
   ]
  },
  {
   "cell_type": "code",
   "execution_count": 156,
   "id": "comic-porter",
   "metadata": {},
   "outputs": [],
   "source": [
    "def search_city(city, color='red', reverse=False):\n",
    "    return df_cities[df['city'] == city]\n",
    "\n",
    "def style_frame(df):\n",
    "    cm = sns.light_palette(color, as_cmap=True, reverse=reverse)\n",
    "    return (df.style.set_properties(**{'text-align': 'right'}).background_gradient(cmap=cm).hide_index()).set_caption(\n",
    "    title)\n",
    "\n",
    "def covid_data_table(df, nivel, column, n, asc=False,title=\"\", color='red', reverse=False, corte=0):\n",
    "\n",
    "    if(corte > 0):\n",
    "        df = df[df['Mortes'] > corte]\n",
    "    \n",
    "    df = df.sort_values(column,ascending=asc).copy().head(n)\n",
    "\n",
    "    data_table = pd.DataFrame()\n",
    "    data_table[nivel] = df[nivel]\n",
    "    if nivel == 'Cidade':\n",
    "        data_table['Estado'] = df['Estado']\n",
    "    #data_table[\"Confirmados\"] = df['Confirmados']\n",
    "    data_table[\"rank\"] = df['rank']\n",
    "    data_table[\"Letalidade_rank\"] = df['Letalidade_rank']\n",
    "    data_table[\"Mortalidade_rank\"] = df['Mortalidade_rank']\n",
    "    data_table[\"Mortes\"] = df['Mortes']\n",
    "    data_table[\"Mortalidade100k\"] = df['Mortalidade100k'].astype(int)\n",
    "    data_table[\"Letalidade\"] = df['Letalidade']\n",
    "    \n",
    "    #data_table[\"Mortalidade\"] = df['Mortalidade']\n",
    "    \n",
    "    cm = sns.light_palette(color, as_cmap=True, reverse=reverse)\n",
    "    return (data_table.style.set_properties(**{'text-align': 'right'}).background_gradient(cmap=cm).hide_index()).set_caption(\n",
    "    title)\n",
    "\n",
    "def tabela_estado(column, n, asc=False,title=\"\", color='red', reverse=False, corte=0):\n",
    "    '''Retorna uma table para estado '''\n",
    "    return covid_data_table(df_states,'Estado', column, n, asc=asc,title=title, color=color, reverse=reverse, corte=corte)\n",
    "\n",
    "def tabela_estado_reversa(column, n, title=\"\", corte=0):\n",
    "    return tabela_estado(column, n, True, title, 'green', True, corte)\n",
    "\n",
    "def tabela_cidade(column, n, asc=False,title=\"\", color='red', reverse=False, corte=0):\n",
    "    '''Retorna uma table para cidades '''\n",
    "    return covid_data_table(df_cities,'Cidade', column, n, asc=asc,title=title, color=color, reverse=reverse, corte=corte)\n",
    "\n",
    "def tabela_cidade_reversa(column, n, title=\"\", corte=0):\n",
    "    return tabela_cidade(column, n, True, title, 'green', True, color='green', reverse=True, corte=corte)"
   ]
  },
  {
   "cell_type": "markdown",
   "id": "particular-geometry",
   "metadata": {},
   "source": [
    "## Top 10 Piores no Ranking (Letalidade + Mortalidade)/2"
   ]
  },
  {
   "cell_type": "code",
   "execution_count": 158,
   "id": "christian-shipping",
   "metadata": {
    "scrolled": true
   },
   "outputs": [
    {
     "output_type": "execute_result",
     "data": {
      "text/plain": [
       "<pandas.io.formats.style.Styler at 0x19d981710a0>"
      ],
      "text/html": "<style  type=\"text/css\" >\n#T_342b0_row0_col0,#T_342b0_row1_col0,#T_342b0_row2_col0,#T_342b0_row3_col0,#T_342b0_row4_col0,#T_342b0_row5_col0,#T_342b0_row6_col0,#T_342b0_row7_col0,#T_342b0_row8_col0,#T_342b0_row9_col0,#T_342b0_row10_col0,#T_342b0_row11_col0,#T_342b0_row12_col0,#T_342b0_row13_col0,#T_342b0_row14_col0,#T_342b0_row15_col0,#T_342b0_row16_col0,#T_342b0_row17_col0,#T_342b0_row18_col0,#T_342b0_row19_col0{\n            text-align:  right;\n        }#T_342b0_row0_col1,#T_342b0_row0_col2,#T_342b0_row0_col6,#T_342b0_row1_col3,#T_342b0_row1_col5,#T_342b0_row3_col4{\n            text-align:  right;\n            background-color:  #ff0000;\n            color:  #f1f1f1;\n        }#T_342b0_row0_col3{\n            text-align:  right;\n            background-color:  #fe0a0a;\n            color:  #f1f1f1;\n        }#T_342b0_row0_col4,#T_342b0_row9_col5{\n            text-align:  right;\n            background-color:  #fa6b6b;\n            color:  #000000;\n        }#T_342b0_row0_col5{\n            text-align:  right;\n            background-color:  #fc3b3b;\n            color:  #f1f1f1;\n        }#T_342b0_row1_col1{\n            text-align:  right;\n            background-color:  #fe0c0c;\n            color:  #f1f1f1;\n        }#T_342b0_row1_col2{\n            text-align:  right;\n            background-color:  #fe1313;\n            color:  #f1f1f1;\n        }#T_342b0_row1_col4{\n            text-align:  right;\n            background-color:  #f5cdcd;\n            color:  #000000;\n        }#T_342b0_row1_col6,#T_342b0_row17_col3{\n            text-align:  right;\n            background-color:  #f88888;\n            color:  #000000;\n        }#T_342b0_row2_col1{\n            text-align:  right;\n            background-color:  #fe1818;\n            color:  #f1f1f1;\n        }#T_342b0_row2_col2{\n            text-align:  right;\n            background-color:  #fd3030;\n            color:  #f1f1f1;\n        }#T_342b0_row2_col3{\n            text-align:  right;\n            background-color:  #fd1f1f;\n            color:  #f1f1f1;\n        }#T_342b0_row2_col4{\n            text-align:  right;\n            background-color:  #f4dcdc;\n            color:  #000000;\n        }#T_342b0_row2_col5{\n            text-align:  right;\n            background-color:  #f96f6f;\n            color:  #000000;\n        }#T_342b0_row2_col6,#T_342b0_row10_col3{\n            text-align:  right;\n            background-color:  #f6b2b2;\n            color:  #000000;\n        }#T_342b0_row3_col1,#T_342b0_row4_col1{\n            text-align:  right;\n            background-color:  #fc3232;\n            color:  #f1f1f1;\n        }#T_342b0_row3_col2{\n            text-align:  right;\n            background-color:  #fe1c1c;\n            color:  #f1f1f1;\n        }#T_342b0_row3_col3,#T_342b0_row4_col6{\n            text-align:  right;\n            background-color:  #fa5e5e;\n            color:  #000000;\n        }#T_342b0_row3_col5,#T_342b0_row17_col2{\n            text-align:  right;\n            background-color:  #f6adad;\n            color:  #000000;\n        }#T_342b0_row3_col6{\n            text-align:  right;\n            background-color:  #f89191;\n            color:  #000000;\n        }#T_342b0_row4_col2{\n            text-align:  right;\n            background-color:  #ff0909;\n            color:  #f1f1f1;\n        }#T_342b0_row4_col3,#T_342b0_row6_col5{\n            text-align:  right;\n            background-color:  #f97373;\n            color:  #000000;\n        }#T_342b0_row4_col4,#T_342b0_row5_col4,#T_342b0_row6_col6{\n            text-align:  right;\n            background-color:  #f5c5c5;\n            color:  #000000;\n        }#T_342b0_row4_col5,#T_342b0_row19_col3{\n            text-align:  right;\n            background-color:  #f5bcbc;\n            color:  #000000;\n        }#T_342b0_row5_col1{\n            text-align:  right;\n            background-color:  #fc3f3f;\n            color:  #f1f1f1;\n        }#T_342b0_row5_col2{\n            text-align:  right;\n            background-color:  #fd2626;\n            color:  #f1f1f1;\n        }#T_342b0_row5_col3{\n            text-align:  right;\n            background-color:  #fa6868;\n            color:  #000000;\n        }#T_342b0_row5_col5{\n            text-align:  right;\n            background-color:  #f6b1b1;\n            color:  #000000;\n        }#T_342b0_row5_col6{\n            text-align:  right;\n            background-color:  #f79a9a;\n            color:  #000000;\n        }#T_342b0_row6_col1{\n            text-align:  right;\n            background-color:  #fb4b4b;\n            color:  #000000;\n        }#T_342b0_row6_col2{\n            text-align:  right;\n            background-color:  #f88787;\n            color:  #000000;\n        }#T_342b0_row6_col3{\n            text-align:  right;\n            background-color:  #fd2929;\n            color:  #f1f1f1;\n        }#T_342b0_row6_col4{\n            text-align:  right;\n            background-color:  #f4d9d9;\n            color:  #000000;\n        }#T_342b0_row7_col1{\n            text-align:  right;\n            background-color:  #fb5858;\n            color:  #000000;\n        }#T_342b0_row7_col2,#T_342b0_row8_col3{\n            text-align:  right;\n            background-color:  #f97d7d;\n            color:  #000000;\n        }#T_342b0_row7_col3{\n            text-align:  right;\n            background-color:  #fb5454;\n            color:  #000000;\n        }#T_342b0_row7_col4,#T_342b0_row15_col4{\n            text-align:  right;\n            background-color:  #f3e8e7;\n            color:  #000000;\n        }#T_342b0_row7_col5,#T_342b0_row13_col1{\n            text-align:  right;\n            background-color:  #f7a5a5;\n            color:  #000000;\n        }#T_342b0_row7_col6{\n            text-align:  right;\n            background-color:  #f5c4c4;\n            color:  #000000;\n        }#T_342b0_row8_col1{\n            text-align:  right;\n            background-color:  #fa6565;\n            color:  #000000;\n        }#T_342b0_row8_col2{\n            text-align:  right;\n            background-color:  #fa6060;\n            color:  #000000;\n        }#T_342b0_row8_col4{\n            text-align:  right;\n            background-color:  #f4d2d2;\n            color:  #000000;\n        }#T_342b0_row8_col5{\n            text-align:  right;\n            background-color:  #f5c1c1;\n            color:  #000000;\n        }#T_342b0_row8_col6{\n            text-align:  right;\n            background-color:  #f5bdbd;\n            color:  #000000;\n        }#T_342b0_row9_col1,#T_342b0_row10_col1{\n            text-align:  right;\n            background-color:  #f97e7e;\n            color:  #000000;\n        }#T_342b0_row9_col2{\n            text-align:  right;\n            background-color:  #f4d4d4;\n            color:  #000000;\n        }#T_342b0_row9_col3{\n            text-align:  right;\n            background-color:  #fe1515;\n            color:  #f1f1f1;\n        }#T_342b0_row9_col4{\n            text-align:  right;\n            background-color:  #f4e0e0;\n            color:  #000000;\n        }#T_342b0_row9_col6{\n            text-align:  right;\n            background-color:  #f4d8d7;\n            color:  #000000;\n        }#T_342b0_row10_col2,#T_342b0_row15_col2{\n            text-align:  right;\n            background-color:  #fc4343;\n            color:  #000000;\n        }#T_342b0_row10_col4,#T_342b0_row16_col6{\n            text-align:  right;\n            background-color:  #f3e6e6;\n            color:  #000000;\n        }#T_342b0_row10_col5,#T_342b0_row18_col5,#T_342b0_row19_col5{\n            text-align:  right;\n            background-color:  #f4d8d8;\n            color:  #000000;\n        }#T_342b0_row10_col6,#T_342b0_row15_col6{\n            text-align:  right;\n            background-color:  #f6b3b3;\n            color:  #000000;\n        }#T_342b0_row11_col1,#T_342b0_row12_col1{\n            text-align:  right;\n            background-color:  #f79897;\n            color:  #000000;\n        }#T_342b0_row11_col2{\n            text-align:  right;\n            background-color:  #f6b7b7;\n            color:  #000000;\n        }#T_342b0_row11_col3{\n            text-align:  right;\n            background-color:  #fc3e3e;\n            color:  #f1f1f1;\n        }#T_342b0_row11_col4{\n            text-align:  right;\n            background-color:  #f3eaea;\n            color:  #000000;\n        }#T_342b0_row11_col5{\n            text-align:  right;\n            background-color:  #f79797;\n            color:  #000000;\n        }#T_342b0_row11_col6{\n            text-align:  right;\n            background-color:  #f4cfcf;\n            color:  #000000;\n        }#T_342b0_row12_col2{\n            text-align:  right;\n            background-color:  #fa6969;\n            color:  #000000;\n        }#T_342b0_row12_col3{\n            text-align:  right;\n            background-color:  #f89292;\n            color:  #000000;\n        }#T_342b0_row12_col4{\n            text-align:  right;\n            background-color:  #f4e2e2;\n            color:  #000000;\n        }#T_342b0_row12_col5,#T_342b0_row14_col1,#T_342b0_row15_col1,#T_342b0_row16_col1{\n            text-align:  right;\n            background-color:  #f5caca;\n            color:  #000000;\n        }#T_342b0_row12_col6{\n            text-align:  right;\n            background-color:  #f5bebe;\n            color:  #000000;\n        }#T_342b0_row13_col2{\n            text-align:  right;\n            background-color:  #fb4c4c;\n            color:  #000000;\n        }#T_342b0_row13_col3,#T_342b0_row13_col4{\n            text-align:  right;\n            background-color:  #f4d1d1;\n            color:  #000000;\n        }#T_342b0_row13_col5{\n            text-align:  right;\n            background-color:  #f3e5e5;\n            color:  #000000;\n        }#T_342b0_row13_col6{\n            text-align:  right;\n            background-color:  #f6b5b5;\n            color:  #000000;\n        }#T_342b0_row14_col2,#T_342b0_row14_col4,#T_342b0_row14_col6,#T_342b0_row15_col3,#T_342b0_row15_col5,#T_342b0_row16_col4,#T_342b0_row19_col1{\n            text-align:  right;\n            background-color:  #f3f0f0;\n            color:  #000000;\n        }#T_342b0_row14_col3{\n            text-align:  right;\n            background-color:  #fc3434;\n            color:  #f1f1f1;\n        }#T_342b0_row14_col5{\n            text-align:  right;\n            background-color:  #f97f7f;\n            color:  #000000;\n        }#T_342b0_row16_col2{\n            text-align:  right;\n            background-color:  #f4dddd;\n            color:  #000000;\n        }#T_342b0_row16_col3{\n            text-align:  right;\n            background-color:  #fb4848;\n            color:  #000000;\n        }#T_342b0_row16_col5{\n            text-align:  right;\n            background-color:  #f79d9d;\n            color:  #000000;\n        }#T_342b0_row17_col1,#T_342b0_row18_col1{\n            text-align:  right;\n            background-color:  #f3e4e4;\n            color:  #000000;\n        }#T_342b0_row17_col4,#T_342b0_row19_col4{\n            text-align:  right;\n            background-color:  #f3e7e7;\n            color:  #000000;\n        }#T_342b0_row17_col5,#T_342b0_row18_col4{\n            text-align:  right;\n            background-color:  #f5c3c3;\n            color:  #000000;\n        }#T_342b0_row17_col6{\n            text-align:  right;\n            background-color:  #f5cece;\n            color:  #000000;\n        }#T_342b0_row18_col2{\n            text-align:  right;\n            background-color:  #f89090;\n            color:  #000000;\n        }#T_342b0_row18_col3{\n            text-align:  right;\n            background-color:  #f7a8a7;\n            color:  #000000;\n        }#T_342b0_row18_col6{\n            text-align:  right;\n            background-color:  #f5c7c7;\n            color:  #000000;\n        }#T_342b0_row19_col2{\n            text-align:  right;\n            background-color:  #f79999;\n            color:  #000000;\n        }#T_342b0_row19_col6{\n            text-align:  right;\n            background-color:  #f5c8c8;\n            color:  #000000;\n        }</style><table id=\"T_342b0_\" ><thead>    <tr>        <th class=\"col_heading level0 col0\" >Estado</th>        <th class=\"col_heading level0 col1\" >rank</th>        <th class=\"col_heading level0 col2\" >Letalidade_rank</th>        <th class=\"col_heading level0 col3\" >Mortalidade_rank</th>        <th class=\"col_heading level0 col4\" >Mortes</th>        <th class=\"col_heading level0 col5\" >Mortalidade100k</th>        <th class=\"col_heading level0 col6\" >Letalidade</th>    </tr></thead><tbody>\n                <tr>\n                                <td id=\"T_342b0_row0_col0\" class=\"data row0 col0\" >RJ</td>\n                        <td id=\"T_342b0_row0_col1\" class=\"data row0 col1\" >27</td>\n                        <td id=\"T_342b0_row0_col2\" class=\"data row0 col2\" >27</td>\n                        <td id=\"T_342b0_row0_col3\" class=\"data row0 col3\" >26</td>\n                        <td id=\"T_342b0_row0_col4\" class=\"data row0 col4\" >30172</td>\n                        <td id=\"T_342b0_row0_col5\" class=\"data row0 col5\" >173</td>\n                        <td id=\"T_342b0_row0_col6\" class=\"data row0 col6\" >0.057000</td>\n            </tr>\n            <tr>\n                                <td id=\"T_342b0_row1_col0\" class=\"data row1 col0\" >AM</td>\n                        <td id=\"T_342b0_row1_col1\" class=\"data row1 col1\" >26</td>\n                        <td id=\"T_342b0_row1_col2\" class=\"data row1 col2\" >25</td>\n                        <td id=\"T_342b0_row1_col3\" class=\"data row1 col3\" >27</td>\n                        <td id=\"T_342b0_row1_col4\" class=\"data row1 col4\" >8564</td>\n                        <td id=\"T_342b0_row1_col5\" class=\"data row1 col5\" >203</td>\n                        <td id=\"T_342b0_row1_col6\" class=\"data row1 col6\" >0.031300</td>\n            </tr>\n            <tr>\n                                <td id=\"T_342b0_row2_col0\" class=\"data row2 col0\" >MT</td>\n                        <td id=\"T_342b0_row2_col1\" class=\"data row2 col1\" >25</td>\n                        <td id=\"T_342b0_row2_col2\" class=\"data row2 col2\" >22</td>\n                        <td id=\"T_342b0_row2_col3\" class=\"data row2 col3\" >24</td>\n                        <td id=\"T_342b0_row2_col4\" class=\"data row2 col4\" >5214</td>\n                        <td id=\"T_342b0_row2_col5\" class=\"data row2 col5\" >147</td>\n                        <td id=\"T_342b0_row2_col6\" class=\"data row2 col6\" >0.023500</td>\n            </tr>\n            <tr>\n                                <td id=\"T_342b0_row3_col0\" class=\"data row3 col0\" >SP</td>\n                        <td id=\"T_342b0_row3_col1\" class=\"data row3 col1\" >23</td>\n                        <td id=\"T_342b0_row3_col2\" class=\"data row3 col2\" >24</td>\n                        <td id=\"T_342b0_row3_col3\" class=\"data row3 col3\" >18</td>\n                        <td id=\"T_342b0_row3_col4\" class=\"data row3 col4\" >53704</td>\n                        <td id=\"T_342b0_row3_col5\" class=\"data row3 col5\" >116</td>\n                        <td id=\"T_342b0_row3_col6\" class=\"data row3 col6\" >0.029700</td>\n            </tr>\n            <tr>\n                                <td id=\"T_342b0_row4_col0\" class=\"data row4 col0\" >PE</td>\n                        <td id=\"T_342b0_row4_col1\" class=\"data row4 col1\" >23</td>\n                        <td id=\"T_342b0_row4_col2\" class=\"data row4 col2\" >26</td>\n                        <td id=\"T_342b0_row4_col3\" class=\"data row4 col3\" >16</td>\n                        <td id=\"T_342b0_row4_col4\" class=\"data row4 col4\" >10399</td>\n                        <td id=\"T_342b0_row4_col5\" class=\"data row4 col5\" >108</td>\n                        <td id=\"T_342b0_row4_col6\" class=\"data row4 col6\" >0.039200</td>\n            </tr>\n            <tr>\n                                <td id=\"T_342b0_row5_col0\" class=\"data row5 col0\" >CE</td>\n                        <td id=\"T_342b0_row5_col1\" class=\"data row5 col1\" >22</td>\n                        <td id=\"T_342b0_row5_col2\" class=\"data row5 col2\" >23</td>\n                        <td id=\"T_342b0_row5_col3\" class=\"data row5 col3\" >17</td>\n                        <td id=\"T_342b0_row5_col4\" class=\"data row5 col4\" >10556</td>\n                        <td id=\"T_342b0_row5_col5\" class=\"data row5 col5\" >114</td>\n                        <td id=\"T_342b0_row5_col6\" class=\"data row5 col6\" >0.027900</td>\n            </tr>\n            <tr>\n                                <td id=\"T_342b0_row6_col0\" class=\"data row6 col0\" >ES</td>\n                        <td id=\"T_342b0_row6_col1\" class=\"data row6 col1\" >21</td>\n                        <td id=\"T_342b0_row6_col2\" class=\"data row6 col2\" >13</td>\n                        <td id=\"T_342b0_row6_col3\" class=\"data row6 col3\" >23</td>\n                        <td id=\"T_342b0_row6_col4\" class=\"data row6 col4\" >5929</td>\n                        <td id=\"T_342b0_row6_col5\" class=\"data row6 col5\" >145</td>\n                        <td id=\"T_342b0_row6_col6\" class=\"data row6 col6\" >0.019900</td>\n            </tr>\n            <tr>\n                                <td id=\"T_342b0_row7_col0\" class=\"data row7 col0\" >SE</td>\n                        <td id=\"T_342b0_row7_col1\" class=\"data row7 col1\" >20</td>\n                        <td id=\"T_342b0_row7_col2\" class=\"data row7 col2\" >14</td>\n                        <td id=\"T_342b0_row7_col3\" class=\"data row7 col3\" >19</td>\n                        <td id=\"T_342b0_row7_col4\" class=\"data row7 col4\" >2801</td>\n                        <td id=\"T_342b0_row7_col5\" class=\"data row7 col5\" >120</td>\n                        <td id=\"T_342b0_row7_col6\" class=\"data row7 col6\" >0.020100</td>\n            </tr>\n            <tr>\n                                <td id=\"T_342b0_row8_col0\" class=\"data row8 col0\" >GO</td>\n                        <td id=\"T_342b0_row8_col1\" class=\"data row8 col1\" >19</td>\n                        <td id=\"T_342b0_row8_col2\" class=\"data row8 col2\" >17</td>\n                        <td id=\"T_342b0_row8_col3\" class=\"data row8 col3\" >15</td>\n                        <td id=\"T_342b0_row8_col4\" class=\"data row8 col4\" >7599</td>\n                        <td id=\"T_342b0_row8_col5\" class=\"data row8 col5\" >106</td>\n                        <td id=\"T_342b0_row8_col6\" class=\"data row8 col6\" >0.021300</td>\n            </tr>\n            <tr>\n                                <td id=\"T_342b0_row9_col0\" class=\"data row9 col0\" >DF</td>\n                        <td id=\"T_342b0_row9_col1\" class=\"data row9 col1\" >17</td>\n                        <td id=\"T_342b0_row9_col2\" class=\"data row9 col2\" >5</td>\n                        <td id=\"T_342b0_row9_col3\" class=\"data row9 col3\" >25</td>\n                        <td id=\"T_342b0_row9_col4\" class=\"data row9 col4\" >4582</td>\n                        <td id=\"T_342b0_row9_col5\" class=\"data row9 col5\" >149</td>\n                        <td id=\"T_342b0_row9_col6\" class=\"data row9 col6\" >0.016400</td>\n            </tr>\n            <tr>\n                                <td id=\"T_342b0_row10_col0\" class=\"data row10 col0\" >RN</td>\n                        <td id=\"T_342b0_row10_col1\" class=\"data row10 col1\" >17</td>\n                        <td id=\"T_342b0_row10_col2\" class=\"data row10 col2\" >20</td>\n                        <td id=\"T_342b0_row10_col3\" class=\"data row10 col3\" >10</td>\n                        <td id=\"T_342b0_row10_col4\" class=\"data row10 col4\" >3331</td>\n                        <td id=\"T_342b0_row10_col5\" class=\"data row10 col5\" >94</td>\n                        <td id=\"T_342b0_row10_col6\" class=\"data row10 col6\" >0.023300</td>\n            </tr>\n            <tr>\n                                <td id=\"T_342b0_row11_col0\" class=\"data row11 col0\" >RO</td>\n                        <td id=\"T_342b0_row11_col1\" class=\"data row11 col1\" >15</td>\n                        <td id=\"T_342b0_row11_col2\" class=\"data row11 col2\" >8</td>\n                        <td id=\"T_342b0_row11_col3\" class=\"data row11 col3\" >21</td>\n                        <td id=\"T_342b0_row11_col4\" class=\"data row11 col4\" >2293</td>\n                        <td id=\"T_342b0_row11_col5\" class=\"data row11 col5\" >127</td>\n                        <td id=\"T_342b0_row11_col6\" class=\"data row11 col6\" >0.018000</td>\n            </tr>\n            <tr>\n                                <td id=\"T_342b0_row12_col0\" class=\"data row12 col0\" >PB</td>\n                        <td id=\"T_342b0_row12_col1\" class=\"data row12 col1\" >15</td>\n                        <td id=\"T_342b0_row12_col2\" class=\"data row12 col2\" >16</td>\n                        <td id=\"T_342b0_row12_col3\" class=\"data row12 col3\" >13</td>\n                        <td id=\"T_342b0_row12_col4\" class=\"data row12 col4\" >4096</td>\n                        <td id=\"T_342b0_row12_col5\" class=\"data row12 col5\" >101</td>\n                        <td id=\"T_342b0_row12_col6\" class=\"data row12 col6\" >0.021100</td>\n            </tr>\n            <tr>\n                                <td id=\"T_342b0_row13_col0\" class=\"data row13 col0\" >PA</td>\n                        <td id=\"T_342b0_row13_col1\" class=\"data row13 col1\" >14</td>\n                        <td id=\"T_342b0_row13_col2\" class=\"data row13 col2\" >19</td>\n                        <td id=\"T_342b0_row13_col3\" class=\"data row13 col3\" >7</td>\n                        <td id=\"T_342b0_row13_col4\" class=\"data row13 col4\" >7695</td>\n                        <td id=\"T_342b0_row13_col5\" class=\"data row13 col5\" >88</td>\n                        <td id=\"T_342b0_row13_col6\" class=\"data row13 col6\" >0.023000</td>\n            </tr>\n            <tr>\n                                <td id=\"T_342b0_row14_col0\" class=\"data row14 col0\" >RR</td>\n                        <td id=\"T_342b0_row14_col1\" class=\"data row14 col1\" >11</td>\n                        <td id=\"T_342b0_row14_col2\" class=\"data row14 col2\" >2</td>\n                        <td id=\"T_342b0_row14_col3\" class=\"data row14 col3\" >22</td>\n                        <td id=\"T_342b0_row14_col4\" class=\"data row14 col4\" >880</td>\n                        <td id=\"T_342b0_row14_col5\" class=\"data row14 col5\" >139</td>\n                        <td id=\"T_342b0_row14_col6\" class=\"data row14 col6\" >0.011700</td>\n            </tr>\n            <tr>\n                                <td id=\"T_342b0_row15_col0\" class=\"data row15 col0\" >AL</td>\n                        <td id=\"T_342b0_row15_col1\" class=\"data row15 col1\" >11</td>\n                        <td id=\"T_342b0_row15_col2\" class=\"data row15 col2\" >20</td>\n                        <td id=\"T_342b0_row15_col3\" class=\"data row15 col3\" >4</td>\n                        <td id=\"T_342b0_row15_col4\" class=\"data row15 col4\" >2771</td>\n                        <td id=\"T_342b0_row15_col5\" class=\"data row15 col5\" >82</td>\n                        <td id=\"T_342b0_row15_col6\" class=\"data row15 col6\" >0.023300</td>\n            </tr>\n            <tr>\n                                <td id=\"T_342b0_row16_col0\" class=\"data row16 col0\" >AP</td>\n                        <td id=\"T_342b0_row16_col1\" class=\"data row16 col1\" >11</td>\n                        <td id=\"T_342b0_row16_col2\" class=\"data row16 col2\" >4</td>\n                        <td id=\"T_342b0_row16_col3\" class=\"data row16 col3\" >20</td>\n                        <td id=\"T_342b0_row16_col4\" class=\"data row16 col4\" >1069</td>\n                        <td id=\"T_342b0_row16_col5\" class=\"data row16 col5\" >124</td>\n                        <td id=\"T_342b0_row16_col6\" class=\"data row16 col6\" >0.013700</td>\n            </tr>\n            <tr>\n                                <td id=\"T_342b0_row17_col0\" class=\"data row17 col0\" >MS</td>\n                        <td id=\"T_342b0_row17_col1\" class=\"data row17 col1\" >9</td>\n                        <td id=\"T_342b0_row17_col2\" class=\"data row17 col2\" >9</td>\n                        <td id=\"T_342b0_row17_col3\" class=\"data row17 col3\" >14</td>\n                        <td id=\"T_342b0_row17_col4\" class=\"data row17 col4\" >2958</td>\n                        <td id=\"T_342b0_row17_col5\" class=\"data row17 col5\" >105</td>\n                        <td id=\"T_342b0_row17_col6\" class=\"data row17 col6\" >0.018100</td>\n            </tr>\n            <tr>\n                                <td id=\"T_342b0_row18_col0\" class=\"data row18 col0\" >RS</td>\n                        <td id=\"T_342b0_row18_col1\" class=\"data row18 col1\" >9</td>\n                        <td id=\"T_342b0_row18_col2\" class=\"data row18 col2\" >12</td>\n                        <td id=\"T_342b0_row18_col3\" class=\"data row18 col3\" >11</td>\n                        <td id=\"T_342b0_row18_col4\" class=\"data row18 col4\" >10826</td>\n                        <td id=\"T_342b0_row18_col5\" class=\"data row18 col5\" >94</td>\n                        <td id=\"T_342b0_row18_col6\" class=\"data row18 col6\" >0.019500</td>\n            </tr>\n            <tr>\n                                <td id=\"T_342b0_row19_col0\" class=\"data row19 col0\" >PI</td>\n                        <td id=\"T_342b0_row19_col1\" class=\"data row19 col1\" >8</td>\n                        <td id=\"T_342b0_row19_col2\" class=\"data row19 col2\" >11</td>\n                        <td id=\"T_342b0_row19_col3\" class=\"data row19 col3\" >9</td>\n                        <td id=\"T_342b0_row19_col4\" class=\"data row19 col4\" >3092</td>\n                        <td id=\"T_342b0_row19_col5\" class=\"data row19 col5\" >94</td>\n                        <td id=\"T_342b0_row19_col6\" class=\"data row19 col6\" >0.019200</td>\n            </tr>\n    </tbody></table>"
     },
     "metadata": {},
     "execution_count": 158
    }
   ],
   "source": [
    "tabela_estado('rank', 20)"
   ]
  },
  {
   "source": [
    "## Top 10 "
   ],
   "cell_type": "markdown",
   "metadata": {}
  },
  {
   "source": [
    "## Top 20 Cidades com maior letalidade no Brasil!"
   ],
   "cell_type": "markdown",
   "metadata": {}
  },
  {
   "cell_type": "code",
   "execution_count": 115,
   "metadata": {},
   "outputs": [
    {
     "output_type": "execute_result",
     "data": {
      "text/plain": [
       "<pandas.io.formats.style.Styler at 0x19d98041880>"
      ],
      "text/html": "<style  type=\"text/css\" >\n#T_388e2_row0_col0,#T_388e2_row0_col1,#T_388e2_row1_col0,#T_388e2_row1_col1,#T_388e2_row2_col0,#T_388e2_row2_col1,#T_388e2_row3_col0,#T_388e2_row3_col1,#T_388e2_row4_col0,#T_388e2_row4_col1,#T_388e2_row5_col0,#T_388e2_row5_col1,#T_388e2_row6_col0,#T_388e2_row6_col1,#T_388e2_row7_col0,#T_388e2_row7_col1,#T_388e2_row8_col0,#T_388e2_row8_col1,#T_388e2_row9_col0,#T_388e2_row9_col1,#T_388e2_row10_col0,#T_388e2_row10_col1,#T_388e2_row11_col0,#T_388e2_row11_col1,#T_388e2_row12_col0,#T_388e2_row12_col1,#T_388e2_row13_col0,#T_388e2_row13_col1,#T_388e2_row14_col0,#T_388e2_row14_col1,#T_388e2_row15_col0,#T_388e2_row15_col1,#T_388e2_row16_col0,#T_388e2_row16_col1,#T_388e2_row17_col0,#T_388e2_row17_col1,#T_388e2_row18_col0,#T_388e2_row18_col1,#T_388e2_row19_col0,#T_388e2_row19_col1{\n            text-align:  right;\n        }#T_388e2_row0_col2,#T_388e2_row0_col3,#T_388e2_row0_col4,#T_388e2_row0_col5,#T_388e2_row0_col6,#T_388e2_row0_col7{\n            text-align:  right;\n            background-color:  #ff0000;\n            color:  #f1f1f1;\n        }#T_388e2_row1_col2{\n            text-align:  right;\n            background-color:  #fa5e5e;\n            color:  #000000;\n        }#T_388e2_row1_col3{\n            text-align:  right;\n            background-color:  #f6a9a9;\n            color:  #000000;\n        }#T_388e2_row1_col4{\n            text-align:  right;\n            background-color:  #fe1717;\n            color:  #f1f1f1;\n        }#T_388e2_row1_col5{\n            text-align:  right;\n            background-color:  #f79999;\n            color:  #000000;\n        }#T_388e2_row1_col6,#T_388e2_row6_col7{\n            text-align:  right;\n            background-color:  #fd2222;\n            color:  #f1f1f1;\n        }#T_388e2_row1_col7{\n            text-align:  right;\n            background-color:  #ff0606;\n            color:  #f1f1f1;\n        }#T_388e2_row2_col2{\n            text-align:  right;\n            background-color:  #f5cdcd;\n            color:  #000000;\n        }#T_388e2_row2_col3{\n            text-align:  right;\n            background-color:  #f3e9e9;\n            color:  #000000;\n        }#T_388e2_row2_col4{\n            text-align:  right;\n            background-color:  #fd3030;\n            color:  #f1f1f1;\n        }#T_388e2_row2_col5,#T_388e2_row17_col7{\n            text-align:  right;\n            background-color:  #f4d6d6;\n            color:  #000000;\n        }#T_388e2_row2_col6{\n            text-align:  right;\n            background-color:  #f88282;\n            color:  #000000;\n        }#T_388e2_row2_col7{\n            text-align:  right;\n            background-color:  #fe0c0c;\n            color:  #f1f1f1;\n        }#T_388e2_row3_col2{\n            text-align:  right;\n            background-color:  #f5c6c6;\n            color:  #000000;\n        }#T_388e2_row3_col3,#T_388e2_row7_col3,#T_388e2_row18_col4{\n            text-align:  right;\n            background-color:  #f3e8e8;\n            color:  #000000;\n        }#T_388e2_row3_col4{\n            text-align:  right;\n            background-color:  #fb4c4c;\n            color:  #000000;\n        }#T_388e2_row3_col5{\n            text-align:  right;\n            background-color:  #f4e1e1;\n            color:  #000000;\n        }#T_388e2_row3_col6{\n            text-align:  right;\n            background-color:  #f6abab;\n            color:  #000000;\n        }#T_388e2_row3_col7,#T_388e2_row17_col6{\n            text-align:  right;\n            background-color:  #fe1212;\n            color:  #f1f1f1;\n        }#T_388e2_row4_col2{\n            text-align:  right;\n            background-color:  #f5bfbf;\n            color:  #000000;\n        }#T_388e2_row4_col3{\n            text-align:  right;\n            background-color:  #f3e5e5;\n            color:  #000000;\n        }#T_388e2_row4_col4{\n            text-align:  right;\n            background-color:  #fa5f5f;\n            color:  #000000;\n        }#T_388e2_row4_col5{\n            text-align:  right;\n            background-color:  #f4d4d4;\n            color:  #000000;\n        }#T_388e2_row4_col6{\n            text-align:  right;\n            background-color:  #f97c7c;\n            color:  #000000;\n        }#T_388e2_row4_col7,#T_388e2_row10_col6{\n            text-align:  right;\n            background-color:  #fe1c1c;\n            color:  #f1f1f1;\n        }#T_388e2_row5_col2,#T_388e2_row7_col5,#T_388e2_row18_col6{\n            text-align:  right;\n            background-color:  #f3eaea;\n            color:  #000000;\n        }#T_388e2_row5_col3,#T_388e2_row8_col5,#T_388e2_row8_col6,#T_388e2_row12_col3,#T_388e2_row16_col3,#T_388e2_row17_col2,#T_388e2_row19_col4,#T_388e2_row19_col7{\n            text-align:  right;\n            background-color:  #f3f0f0;\n            color:  #000000;\n        }#T_388e2_row5_col4,#T_388e2_row6_col4{\n            text-align:  right;\n            background-color:  #fa6666;\n            color:  #000000;\n        }#T_388e2_row5_col5,#T_388e2_row11_col4,#T_388e2_row15_col7{\n            text-align:  right;\n            background-color:  #f5c4c4;\n            color:  #000000;\n        }#T_388e2_row5_col6{\n            text-align:  right;\n            background-color:  #fb5252;\n            color:  #000000;\n        }#T_388e2_row5_col7{\n            text-align:  right;\n            background-color:  #fd2121;\n            color:  #f1f1f1;\n        }#T_388e2_row6_col2,#T_388e2_row13_col3{\n            text-align:  right;\n            background-color:  #f3ebeb;\n            color:  #000000;\n        }#T_388e2_row6_col3,#T_388e2_row12_col2,#T_388e2_row17_col3,#T_388e2_row18_col5{\n            text-align:  right;\n            background-color:  #f3efef;\n            color:  #000000;\n        }#T_388e2_row6_col5,#T_388e2_row19_col6{\n            text-align:  right;\n            background-color:  #f7a3a3;\n            color:  #000000;\n        }#T_388e2_row6_col6{\n            text-align:  right;\n            background-color:  #fd2b2b;\n            color:  #f1f1f1;\n        }#T_388e2_row7_col2{\n            text-align:  right;\n            background-color:  #f5bebe;\n            color:  #000000;\n        }#T_388e2_row7_col4{\n            text-align:  right;\n            background-color:  #f89292;\n            color:  #000000;\n        }#T_388e2_row7_col6,#T_388e2_row11_col3,#T_388e2_row12_col4{\n            text-align:  right;\n            background-color:  #f4d2d2;\n            color:  #000000;\n        }#T_388e2_row7_col7{\n            text-align:  right;\n            background-color:  #fc3e3e;\n            color:  #f1f1f1;\n        }#T_388e2_row8_col2{\n            text-align:  right;\n            background-color:  #f4d3d3;\n            color:  #000000;\n        }#T_388e2_row8_col3,#T_388e2_row9_col3{\n            text-align:  right;\n            background-color:  #f3eeee;\n            color:  #000000;\n        }#T_388e2_row8_col4{\n            text-align:  right;\n            background-color:  #f6b8b7;\n            color:  #000000;\n        }#T_388e2_row8_col7{\n            text-align:  right;\n            background-color:  #f96e6e;\n            color:  #000000;\n        }#T_388e2_row9_col2,#T_388e2_row14_col4,#T_388e2_row19_col5{\n            text-align:  right;\n            background-color:  #f4dfdf;\n            color:  #000000;\n        }#T_388e2_row9_col4,#T_388e2_row10_col4{\n            text-align:  right;\n            background-color:  #f5c0c0;\n            color:  #000000;\n        }#T_388e2_row9_col5{\n            text-align:  right;\n            background-color:  #f4d5d5;\n            color:  #000000;\n        }#T_388e2_row9_col6,#T_388e2_row9_col7{\n            text-align:  right;\n            background-color:  #f97d7d;\n            color:  #000000;\n        }#T_388e2_row10_col2{\n            text-align:  right;\n            background-color:  #f6aeae;\n            color:  #000000;\n        }#T_388e2_row10_col3{\n            text-align:  right;\n            background-color:  #f5cece;\n            color:  #000000;\n        }#T_388e2_row10_col5{\n            text-align:  right;\n            background-color:  #f89090;\n            color:  #000000;\n        }#T_388e2_row10_col7{\n            text-align:  right;\n            background-color:  #f97e7e;\n            color:  #000000;\n        }#T_388e2_row11_col2{\n            text-align:  right;\n            background-color:  #f7a5a5;\n            color:  #000000;\n        }#T_388e2_row11_col5,#T_388e2_row13_col7{\n            text-align:  right;\n            background-color:  #f6b0b0;\n            color:  #000000;\n        }#T_388e2_row11_col6{\n            text-align:  right;\n            background-color:  #fc3838;\n            color:  #f1f1f1;\n        }#T_388e2_row11_col7{\n            text-align:  right;\n            background-color:  #f88787;\n            color:  #000000;\n        }#T_388e2_row12_col5{\n            text-align:  right;\n            background-color:  #f89494;\n            color:  #000000;\n        }#T_388e2_row12_col6{\n            text-align:  right;\n            background-color:  #fd1e1e;\n            color:  #f1f1f1;\n        }#T_388e2_row12_col7{\n            text-align:  right;\n            background-color:  #f7a1a1;\n            color:  #000000;\n        }#T_388e2_row13_col2{\n            text-align:  right;\n            background-color:  #f4d9d9;\n            color:  #000000;\n        }#T_388e2_row13_col4,#T_388e2_row18_col7{\n            text-align:  right;\n            background-color:  #f4d8d7;\n            color:  #000000;\n        }#T_388e2_row13_col5,#T_388e2_row14_col2{\n            text-align:  right;\n            background-color:  #f5cbcb;\n            color:  #000000;\n        }#T_388e2_row13_col6{\n            text-align:  right;\n            background-color:  #fa6868;\n            color:  #000000;\n        }#T_388e2_row14_col3{\n            text-align:  right;\n            background-color:  #f3e4e4;\n            color:  #000000;\n        }#T_388e2_row14_col5,#T_388e2_row19_col2{\n            text-align:  right;\n            background-color:  #f6bbbb;\n            color:  #000000;\n        }#T_388e2_row14_col6{\n            text-align:  right;\n            background-color:  #fb4646;\n            color:  #000000;\n        }#T_388e2_row14_col7{\n            text-align:  right;\n            background-color:  #f5bdbd;\n            color:  #000000;\n        }#T_388e2_row15_col2,#T_388e2_row17_col5{\n            text-align:  right;\n            background-color:  #f97979;\n            color:  #000000;\n        }#T_388e2_row15_col3{\n            text-align:  right;\n            background-color:  #f6b9b9;\n            color:  #000000;\n        }#T_388e2_row15_col4{\n            text-align:  right;\n            background-color:  #f4e2e2;\n            color:  #000000;\n        }#T_388e2_row15_col5{\n            text-align:  right;\n            background-color:  #f7a0a0;\n            color:  #000000;\n        }#T_388e2_row15_col6{\n            text-align:  right;\n            background-color:  #fd2828;\n            color:  #f1f1f1;\n        }#T_388e2_row16_col2,#T_388e2_row17_col4{\n            text-align:  right;\n            background-color:  #f3e7e7;\n            color:  #000000;\n        }#T_388e2_row16_col4{\n            text-align:  right;\n            background-color:  #f3e3e3;\n            color:  #000000;\n        }#T_388e2_row16_col5,#T_388e2_row16_col7{\n            text-align:  right;\n            background-color:  #f5c9c9;\n            color:  #000000;\n        }#T_388e2_row16_col6{\n            text-align:  right;\n            background-color:  #fa6060;\n            color:  #000000;\n        }#T_388e2_row18_col2{\n            text-align:  right;\n            background-color:  #f5caca;\n            color:  #000000;\n        }#T_388e2_row18_col3{\n            text-align:  right;\n            background-color:  #f3ecec;\n            color:  #000000;\n        }#T_388e2_row19_col3{\n            text-align:  right;\n            background-color:  #f3e6e6;\n            color:  #000000;\n        }</style><table id=\"T_388e2_\" ><caption>Top 10 indice Letalidade</caption><thead>    <tr>        <th class=\"col_heading level0 col0\" >Cidade</th>        <th class=\"col_heading level0 col1\" >Estado</th>        <th class=\"col_heading level0 col2\" >Confirmados</th>        <th class=\"col_heading level0 col3\" >Mortes</th>        <th class=\"col_heading level0 col4\" >Mortalidade100k</th>        <th class=\"col_heading level0 col5\" >Letalidade</th>        <th class=\"col_heading level0 col6\" >Letalidade_rank</th>        <th class=\"col_heading level0 col7\" >Mortalidade_rank</th>    </tr></thead><tbody>\n                <tr>\n                                <td id=\"T_388e2_row0_col0\" class=\"data row0 col0\" >Rio de Janeiro</td>\n                        <td id=\"T_388e2_row0_col1\" class=\"data row0 col1\" >RJ</td>\n                        <td id=\"T_388e2_row0_col2\" class=\"data row0 col2\" >189679</td>\n                        <td id=\"T_388e2_row0_col3\" class=\"data row0 col3\" >17352</td>\n                        <td id=\"T_388e2_row0_col4\" class=\"data row0 col4\" >257.149907</td>\n                        <td id=\"T_388e2_row0_col5\" class=\"data row0 col5\" >0.091500</td>\n                        <td id=\"T_388e2_row0_col6\" class=\"data row0 col6\" >5525.000000</td>\n                        <td id=\"T_388e2_row0_col7\" class=\"data row0 col7\" >5551.000000</td>\n            </tr>\n            <tr>\n                                <td id=\"T_388e2_row1_col0\" class=\"data row1 col0\" >Manaus</td>\n                        <td id=\"T_388e2_row1_col1\" class=\"data row1 col1\" >AM</td>\n                        <td id=\"T_388e2_row1_col2\" class=\"data row1 col2\" >119504</td>\n                        <td id=\"T_388e2_row1_col3\" class=\"data row1 col3\" >5490</td>\n                        <td id=\"T_388e2_row1_col4\" class=\"data row1 col4\" >247.344092</td>\n                        <td id=\"T_388e2_row1_col5\" class=\"data row1 col5\" >0.045900</td>\n                        <td id=\"T_388e2_row1_col6\" class=\"data row1 col6\" >5198.000000</td>\n                        <td id=\"T_388e2_row1_col7\" class=\"data row1 col7\" >5544.000000</td>\n            </tr>\n            <tr>\n                                <td id=\"T_388e2_row2_col0\" class=\"data row2 col0\" >Santos</td>\n                        <td id=\"T_388e2_row2_col1\" class=\"data row2 col1\" >SP</td>\n                        <td id=\"T_388e2_row2_col2\" class=\"data row2 col2\" >36799</td>\n                        <td id=\"T_388e2_row2_col3\" class=\"data row2 col3\" >1027</td>\n                        <td id=\"T_388e2_row2_col4\" class=\"data row2 col4\" >236.823657</td>\n                        <td id=\"T_388e2_row2_col5\" class=\"data row2 col5\" >0.027900</td>\n                        <td id=\"T_388e2_row2_col6\" class=\"data row2 col6\" >4277.000000</td>\n                        <td id=\"T_388e2_row2_col7\" class=\"data row2 col7\" >5537.000000</td>\n            </tr>\n            <tr>\n                                <td id=\"T_388e2_row3_col0\" class=\"data row3 col0\" >São José do Rio Preto</td>\n                        <td id=\"T_388e2_row3_col1\" class=\"data row3 col1\" >SP</td>\n                        <td id=\"T_388e2_row3_col2\" class=\"data row3 col2\" >42708</td>\n                        <td id=\"T_388e2_row3_col3\" class=\"data row3 col3\" >1045</td>\n                        <td id=\"T_388e2_row3_col4\" class=\"data row3 col4\" >224.739399</td>\n                        <td id=\"T_388e2_row3_col5\" class=\"data row3 col5\" >0.024500</td>\n                        <td id=\"T_388e2_row3_col6\" class=\"data row3 col6\" >3878.000000</td>\n                        <td id=\"T_388e2_row3_col7\" class=\"data row3 col7\" >5531.000000</td>\n            </tr>\n            <tr>\n                                <td id=\"T_388e2_row4_col0\" class=\"data row4 col0\" >Cuiabá</td>\n                        <td id=\"T_388e2_row4_col1\" class=\"data row4 col1\" >MT</td>\n                        <td id=\"T_388e2_row4_col2\" class=\"data row4 col2\" >47244</td>\n                        <td id=\"T_388e2_row4_col3\" class=\"data row4 col3\" >1340</td>\n                        <td id=\"T_388e2_row4_col4\" class=\"data row4 col4\" >216.784982</td>\n                        <td id=\"T_388e2_row4_col5\" class=\"data row4 col5\" >0.028400</td>\n                        <td id=\"T_388e2_row4_col6\" class=\"data row4 col6\" >4326.000000</td>\n                        <td id=\"T_388e2_row4_col7\" class=\"data row4 col7\" >5520.000000</td>\n            </tr>\n            <tr>\n                                <td id=\"T_388e2_row5_col0\" class=\"data row5 col0\" >Rondonópolis</td>\n                        <td id=\"T_388e2_row5_col1\" class=\"data row5 col1\" >MT</td>\n                        <td id=\"T_388e2_row5_col2\" class=\"data row5 col2\" >15141</td>\n                        <td id=\"T_388e2_row5_col3\" class=\"data row5 col3\" >505</td>\n                        <td id=\"T_388e2_row5_col4\" class=\"data row5 col4\" >213.944976</td>\n                        <td id=\"T_388e2_row5_col5\" class=\"data row5 col5\" >0.033400</td>\n                        <td id=\"T_388e2_row5_col6\" class=\"data row5 col6\" >4736.000000</td>\n                        <td id=\"T_388e2_row5_col7\" class=\"data row5 col7\" >5515.000000</td>\n            </tr>\n            <tr>\n                                <td id=\"T_388e2_row6_col0\" class=\"data row6 col0\" >Várzea Grande</td>\n                        <td id=\"T_388e2_row6_col1\" class=\"data row6 col1\" >MT</td>\n                        <td id=\"T_388e2_row6_col2\" class=\"data row6 col2\" >14287</td>\n                        <td id=\"T_388e2_row6_col3\" class=\"data row6 col3\" >615</td>\n                        <td id=\"T_388e2_row6_col4\" class=\"data row6 col4\" >213.893700</td>\n                        <td id=\"T_388e2_row6_col5\" class=\"data row6 col5\" >0.043000</td>\n                        <td id=\"T_388e2_row6_col6\" class=\"data row6 col6\" >5107.000000</td>\n                        <td id=\"T_388e2_row6_col7\" class=\"data row6 col7\" >5514.000000</td>\n            </tr>\n            <tr>\n                                <td id=\"T_388e2_row7_col0\" class=\"data row7 col0\" >Porto Velho</td>\n                        <td id=\"T_388e2_row7_col1\" class=\"data row7 col1\" >RO</td>\n                        <td id=\"T_388e2_row7_col2\" class=\"data row7 col2\" >48349</td>\n                        <td id=\"T_388e2_row7_col3\" class=\"data row7 col3\" >1054</td>\n                        <td id=\"T_388e2_row7_col4\" class=\"data row7 col4\" >195.418964</td>\n                        <td id=\"T_388e2_row7_col5\" class=\"data row7 col5\" >0.021800</td>\n                        <td id=\"T_388e2_row7_col6\" class=\"data row7 col6\" >3507.000000</td>\n                        <td id=\"T_388e2_row7_col7\" class=\"data row7 col7\" >5484.000000</td>\n            </tr>\n            <tr>\n                                <td id=\"T_388e2_row8_col0\" class=\"data row8 col0\" >Vitória</td>\n                        <td id=\"T_388e2_row8_col1\" class=\"data row8 col1\" >ES</td>\n                        <td id=\"T_388e2_row8_col2\" class=\"data row8 col2\" >32745</td>\n                        <td id=\"T_388e2_row8_col3\" class=\"data row8 col3\" >656</td>\n                        <td id=\"T_388e2_row8_col4\" class=\"data row8 col4\" >179.306009</td>\n                        <td id=\"T_388e2_row8_col5\" class=\"data row8 col5\" >0.020000</td>\n                        <td id=\"T_388e2_row8_col6\" class=\"data row8 col6\" >3216.000000</td>\n                        <td id=\"T_388e2_row8_col7\" class=\"data row8 col7\" >5432.000000</td>\n            </tr>\n            <tr>\n                                <td id=\"T_388e2_row9_col0\" class=\"data row9 col0\" >Cariacica</td>\n                        <td id=\"T_388e2_row9_col1\" class=\"data row9 col1\" >ES</td>\n                        <td id=\"T_388e2_row9_col2\" class=\"data row9 col2\" >23874</td>\n                        <td id=\"T_388e2_row9_col3\" class=\"data row9 col3\" >675</td>\n                        <td id=\"T_388e2_row9_col4\" class=\"data row9 col4\" >175.819253</td>\n                        <td id=\"T_388e2_row9_col5\" class=\"data row9 col5\" >0.028300</td>\n                        <td id=\"T_388e2_row9_col6\" class=\"data row9 col6\" >4319.000000</td>\n                        <td id=\"T_388e2_row9_col7\" class=\"data row9 col7\" >5416.000000</td>\n            </tr>\n            <tr>\n                                <td id=\"T_388e2_row10_col0\" class=\"data row10 col0\" >Recife</td>\n                        <td id=\"T_388e2_row10_col1\" class=\"data row10 col1\" >PE</td>\n                        <td id=\"T_388e2_row10_col2\" class=\"data row10 col2\" >59870</td>\n                        <td id=\"T_388e2_row10_col3\" class=\"data row10 col3\" >2906</td>\n                        <td id=\"T_388e2_row10_col4\" class=\"data row10 col4\" >175.752558</td>\n                        <td id=\"T_388e2_row10_col5\" class=\"data row10 col5\" >0.048500</td>\n                        <td id=\"T_388e2_row10_col6\" class=\"data row10 col6\" >5246.000000</td>\n                        <td id=\"T_388e2_row10_col7\" class=\"data row10 col7\" >5415.000000</td>\n            </tr>\n            <tr>\n                                <td id=\"T_388e2_row11_col0\" class=\"data row11 col0\" >Belém</td>\n                        <td id=\"T_388e2_row11_col1\" class=\"data row11 col1\" >PA</td>\n                        <td id=\"T_388e2_row11_col2\" class=\"data row11 col2\" >67021</td>\n                        <td id=\"T_388e2_row11_col3\" class=\"data row11 col3\" >2613</td>\n                        <td id=\"T_388e2_row11_col4\" class=\"data row11 col4\" >174.241702</td>\n                        <td id=\"T_388e2_row11_col5\" class=\"data row11 col5\" >0.039000</td>\n                        <td id=\"T_388e2_row11_col6\" class=\"data row11 col6\" >4976.000000</td>\n                        <td id=\"T_388e2_row11_col7\" class=\"data row11 col7\" >5406.000000</td>\n            </tr>\n            <tr>\n                                <td id=\"T_388e2_row12_col0\" class=\"data row12 col0\" >Guarujá</td>\n                        <td id=\"T_388e2_row12_col1\" class=\"data row12 col1\" >SP</td>\n                        <td id=\"T_388e2_row12_col2\" class=\"data row12 col2\" >11407</td>\n                        <td id=\"T_388e2_row12_col3\" class=\"data row12 col3\" >543</td>\n                        <td id=\"T_388e2_row12_col4\" class=\"data row12 col4\" >168.241673</td>\n                        <td id=\"T_388e2_row12_col5\" class=\"data row12 col5\" >0.047600</td>\n                        <td id=\"T_388e2_row12_col6\" class=\"data row12 col6\" >5233.000000</td>\n                        <td id=\"T_388e2_row12_col7\" class=\"data row12 col7\" >5377.000000</td>\n            </tr>\n            <tr>\n                                <td id=\"T_388e2_row13_col0\" class=\"data row13 col0\" >Niterói</td>\n                        <td id=\"T_388e2_row13_col1\" class=\"data row13 col1\" >RJ</td>\n                        <td id=\"T_388e2_row13_col2\" class=\"data row13 col2\" >27646</td>\n                        <td id=\"T_388e2_row13_col3\" class=\"data row13 col3\" >854</td>\n                        <td id=\"T_388e2_row13_col4\" class=\"data row13 col4\" >165.723234</td>\n                        <td id=\"T_388e2_row13_col5\" class=\"data row13 col5\" >0.030900</td>\n                        <td id=\"T_388e2_row13_col6\" class=\"data row13 col6\" >4532.000000</td>\n                        <td id=\"T_388e2_row13_col7\" class=\"data row13 col7\" >5361.000000</td>\n            </tr>\n            <tr>\n                                <td id=\"T_388e2_row14_col0\" class=\"data row14 col0\" >São Bernardo do Campo</td>\n                        <td id=\"T_388e2_row14_col1\" class=\"data row14 col1\" >SP</td>\n                        <td id=\"T_388e2_row14_col2\" class=\"data row14 col2\" >38362</td>\n                        <td id=\"T_388e2_row14_col3\" class=\"data row14 col3\" >1372</td>\n                        <td id=\"T_388e2_row14_col4\" class=\"data row14 col4\" >162.466266</td>\n                        <td id=\"T_388e2_row14_col5\" class=\"data row14 col5\" >0.035800</td>\n                        <td id=\"T_388e2_row14_col6\" class=\"data row14 col6\" >4852.000000</td>\n                        <td id=\"T_388e2_row14_col7\" class=\"data row14 col7\" >5347.000000</td>\n            </tr>\n            <tr>\n                                <td id=\"T_388e2_row15_col0\" class=\"data row15 col0\" >Fortaleza</td>\n                        <td id=\"T_388e2_row15_col1\" class=\"data row15 col1\" >CE</td>\n                        <td id=\"T_388e2_row15_col2\" class=\"data row15 col2\" >98780</td>\n                        <td id=\"T_388e2_row15_col3\" class=\"data row15 col3\" >4333</td>\n                        <td id=\"T_388e2_row15_col4\" class=\"data row15 col4\" >161.281197</td>\n                        <td id=\"T_388e2_row15_col5\" class=\"data row15 col5\" >0.043900</td>\n                        <td id=\"T_388e2_row15_col6\" class=\"data row15 col6\" >5146.000000</td>\n                        <td id=\"T_388e2_row15_col7\" class=\"data row15 col7\" >5340.000000</td>\n            </tr>\n            <tr>\n                                <td id=\"T_388e2_row16_col0\" class=\"data row16 col0\" >Canoas</td>\n                        <td id=\"T_388e2_row16_col1\" class=\"data row16 col1\" >RS</td>\n                        <td id=\"T_388e2_row16_col2\" class=\"data row16 col2\" >17692</td>\n                        <td id=\"T_388e2_row16_col3\" class=\"data row16 col3\" >560</td>\n                        <td id=\"T_388e2_row16_col4\" class=\"data row16 col4\" >160.823416</td>\n                        <td id=\"T_388e2_row16_col5\" class=\"data row16 col5\" >0.031700</td>\n                        <td id=\"T_388e2_row16_col6\" class=\"data row16 col6\" >4603.000000</td>\n                        <td id=\"T_388e2_row16_col7\" class=\"data row16 col7\" >5334.000000</td>\n            </tr>\n            <tr>\n                                <td id=\"T_388e2_row17_col0\" class=\"data row17 col0\" >São Vicente</td>\n                        <td id=\"T_388e2_row17_col1\" class=\"data row17 col1\" >SP</td>\n                        <td id=\"T_388e2_row17_col2\" class=\"data row17 col2\" >10637</td>\n                        <td id=\"T_388e2_row17_col3\" class=\"data row17 col3\" >587</td>\n                        <td id=\"T_388e2_row17_col4\" class=\"data row17 col4\" >159.357142</td>\n                        <td id=\"T_388e2_row17_col5\" class=\"data row17 col5\" >0.055200</td>\n                        <td id=\"T_388e2_row17_col6\" class=\"data row17 col6\" >5350.000000</td>\n                        <td id=\"T_388e2_row17_col7\" class=\"data row17 col7\" >5321.000000</td>\n            </tr>\n            <tr>\n                                <td id=\"T_388e2_row18_col0\" class=\"data row18 col0\" >Vila Velha</td>\n                        <td id=\"T_388e2_row18_col1\" class=\"data row18 col1\" >ES</td>\n                        <td id=\"T_388e2_row18_col2\" class=\"data row18 col2\" >39220</td>\n                        <td id=\"T_388e2_row18_col3\" class=\"data row18 col3\" >796</td>\n                        <td id=\"T_388e2_row18_col4\" class=\"data row18 col4\" >158.779235</td>\n                        <td id=\"T_388e2_row18_col5\" class=\"data row18 col5\" >0.020300</td>\n                        <td id=\"T_388e2_row18_col6\" class=\"data row18 col6\" >3273.000000</td>\n                        <td id=\"T_388e2_row18_col7\" class=\"data row18 col7\" >5319.000000</td>\n            </tr>\n            <tr>\n                                <td id=\"T_388e2_row19_col0\" class=\"data row19 col0\" >João Pessoa</td>\n                        <td id=\"T_388e2_row19_col1\" class=\"data row19 col1\" >PB</td>\n                        <td id=\"T_388e2_row19_col2\" class=\"data row19 col2\" >50496</td>\n                        <td id=\"T_388e2_row19_col3\" class=\"data row19 col3\" >1269</td>\n                        <td id=\"T_388e2_row19_col4\" class=\"data row19 col4\" >155.227269</td>\n                        <td id=\"T_388e2_row19_col5\" class=\"data row19 col5\" >0.025100</td>\n                        <td id=\"T_388e2_row19_col6\" class=\"data row19 col6\" >3956.000000</td>\n                        <td id=\"T_388e2_row19_col7\" class=\"data row19 col7\" >5292.000000</td>\n            </tr>\n    </tbody></table>"
     },
     "metadata": {},
     "execution_count": 115
    }
   ],
   "source": [
    "tabela_cidade_reversa('Mortalidade',20, corte=500)"
   ]
  },
  {
   "cell_type": "markdown",
   "id": "extreme-fountain",
   "metadata": {},
   "source": [
    "## Top 10 menor letalidade "
   ]
  },
  {
   "cell_type": "code",
   "execution_count": 119,
   "id": "purple-lemon",
   "metadata": {},
   "outputs": [
    {
     "data": {
      "text/html": [
       "<style  type=\"text/css\" >\n",
       "#T_6719a_row0_col0,#T_6719a_row1_col0,#T_6719a_row2_col0,#T_6719a_row3_col0,#T_6719a_row4_col0,#T_6719a_row5_col0,#T_6719a_row6_col0,#T_6719a_row7_col0,#T_6719a_row8_col0,#T_6719a_row9_col0{\n",
       "            text-align:  right;\n",
       "        }#T_6719a_row0_col1{\n",
       "            text-align:  right;\n",
       "            background-color:  #e6f1e6;\n",
       "            color:  #000000;\n",
       "        }#T_6719a_row0_col2{\n",
       "            text-align:  right;\n",
       "            background-color:  #8cc58c;\n",
       "            color:  #000000;\n",
       "        }#T_6719a_row0_col3,#T_6719a_row1_col2,#T_6719a_row6_col1,#T_6719a_row6_col2{\n",
       "            text-align:  right;\n",
       "            background-color:  #008000;\n",
       "            color:  #f1f1f1;\n",
       "        }#T_6719a_row1_col1{\n",
       "            text-align:  right;\n",
       "            background-color:  #0b850b;\n",
       "            color:  #f1f1f1;\n",
       "        }#T_6719a_row1_col3{\n",
       "            text-align:  right;\n",
       "            background-color:  #168b16;\n",
       "            color:  #000000;\n",
       "        }#T_6719a_row2_col1{\n",
       "            text-align:  right;\n",
       "            background-color:  #178b17;\n",
       "            color:  #000000;\n",
       "        }#T_6719a_row2_col2{\n",
       "            text-align:  right;\n",
       "            background-color:  #0d860d;\n",
       "            color:  #f1f1f1;\n",
       "        }#T_6719a_row2_col3{\n",
       "            text-align:  right;\n",
       "            background-color:  #51a851;\n",
       "            color:  #000000;\n",
       "        }#T_6719a_row3_col1{\n",
       "            text-align:  right;\n",
       "            background-color:  #0c860c;\n",
       "            color:  #f1f1f1;\n",
       "        }#T_6719a_row3_col2{\n",
       "            text-align:  right;\n",
       "            background-color:  #058205;\n",
       "            color:  #f1f1f1;\n",
       "        }#T_6719a_row3_col3{\n",
       "            text-align:  right;\n",
       "            background-color:  #58ab58;\n",
       "            color:  #000000;\n",
       "        }#T_6719a_row4_col1{\n",
       "            text-align:  right;\n",
       "            background-color:  #62b062;\n",
       "            color:  #000000;\n",
       "        }#T_6719a_row4_col2{\n",
       "            text-align:  right;\n",
       "            background-color:  #5dae5d;\n",
       "            color:  #000000;\n",
       "        }#T_6719a_row4_col3{\n",
       "            text-align:  right;\n",
       "            background-color:  #b1d7b1;\n",
       "            color:  #000000;\n",
       "        }#T_6719a_row5_col1,#T_6719a_row5_col2,#T_6719a_row9_col2,#T_6719a_row9_col3{\n",
       "            text-align:  right;\n",
       "            background-color:  #ebf3eb;\n",
       "            color:  #000000;\n",
       "        }#T_6719a_row5_col3{\n",
       "            text-align:  right;\n",
       "            background-color:  #cae3ca;\n",
       "            color:  #000000;\n",
       "        }#T_6719a_row6_col3{\n",
       "            text-align:  right;\n",
       "            background-color:  #e1eee1;\n",
       "            color:  #000000;\n",
       "        }#T_6719a_row7_col1{\n",
       "            text-align:  right;\n",
       "            background-color:  #219021;\n",
       "            color:  #000000;\n",
       "        }#T_6719a_row7_col2{\n",
       "            text-align:  right;\n",
       "            background-color:  #239123;\n",
       "            color:  #000000;\n",
       "        }#T_6719a_row7_col3{\n",
       "            text-align:  right;\n",
       "            background-color:  #e4f0e4;\n",
       "            color:  #000000;\n",
       "        }#T_6719a_row8_col1{\n",
       "            text-align:  right;\n",
       "            background-color:  #319831;\n",
       "            color:  #000000;\n",
       "        }#T_6719a_row8_col2{\n",
       "            text-align:  right;\n",
       "            background-color:  #349934;\n",
       "            color:  #000000;\n",
       "        }#T_6719a_row8_col3{\n",
       "            text-align:  right;\n",
       "            background-color:  #e8f2e8;\n",
       "            color:  #000000;\n",
       "        }#T_6719a_row9_col1{\n",
       "            text-align:  right;\n",
       "            background-color:  #dbebdb;\n",
       "            color:  #000000;\n",
       "        }</style><table id=\"T_6719a_\" ><caption>Top 10 Menor Letalidade</caption><thead>    <tr>        <th class=\"col_heading level0 col0\" >Estado</th>        <th class=\"col_heading level0 col1\" >Confirmados</th>        <th class=\"col_heading level0 col2\" >Mortes</th>        <th class=\"col_heading level0 col3\" >Letalidade</th>    </tr></thead><tbody>\n",
       "                <tr>\n",
       "                                <td id=\"T_6719a_row0_col0\" class=\"data row0 col0\" >SC</td>\n",
       "                        <td id=\"T_6719a_row0_col1\" class=\"data row0 col1\" >581352</td>\n",
       "                        <td id=\"T_6719a_row0_col2\" class=\"data row0 col2\" >6416</td>\n",
       "                        <td id=\"T_6719a_row0_col3\" class=\"data row0 col3\" >0.011000</td>\n",
       "            </tr>\n",
       "            <tr>\n",
       "                                <td id=\"T_6719a_row1_col0\" class=\"data row1 col0\" >RR</td>\n",
       "                        <td id=\"T_6719a_row1_col1\" class=\"data row1 col1\" >74705</td>\n",
       "                        <td id=\"T_6719a_row1_col2\" class=\"data row1 col2\" >871</td>\n",
       "                        <td id=\"T_6719a_row1_col3\" class=\"data row1 col3\" >0.011700</td>\n",
       "            </tr>\n",
       "            <tr>\n",
       "                                <td id=\"T_6719a_row2_col0\" class=\"data row2 col0\" >TO</td>\n",
       "                        <td id=\"T_6719a_row2_col1\" class=\"data row2 col1\" >102790</td>\n",
       "                        <td id=\"T_6719a_row2_col2\" class=\"data row2 col2\" >1391</td>\n",
       "                        <td id=\"T_6719a_row2_col3\" class=\"data row2 col3\" >0.013500</td>\n",
       "            </tr>\n",
       "            <tr>\n",
       "                                <td id=\"T_6719a_row3_col0\" class=\"data row3 col0\" >AP</td>\n",
       "                        <td id=\"T_6719a_row3_col1\" class=\"data row3 col1\" >77729</td>\n",
       "                        <td id=\"T_6719a_row3_col2\" class=\"data row3 col2\" >1066</td>\n",
       "                        <td id=\"T_6719a_row3_col3\" class=\"data row3 col3\" >0.013700</td>\n",
       "            </tr>\n",
       "            <tr>\n",
       "                                <td id=\"T_6719a_row4_col0\" class=\"data row4 col0\" >DF</td>\n",
       "                        <td id=\"T_6719a_row4_col1\" class=\"data row4 col1\" >278316</td>\n",
       "                        <td id=\"T_6719a_row4_col2\" class=\"data row4 col2\" >4573</td>\n",
       "                        <td id=\"T_6719a_row4_col3\" class=\"data row4 col3\" >0.016400</td>\n",
       "            </tr>\n",
       "            <tr>\n",
       "                                <td id=\"T_6719a_row5_col0\" class=\"data row5 col0\" >BA</td>\n",
       "                        <td id=\"T_6719a_row5_col1\" class=\"data row5 col1\" >592770</td>\n",
       "                        <td id=\"T_6719a_row5_col2\" class=\"data row5 col2\" >10176</td>\n",
       "                        <td id=\"T_6719a_row5_col3\" class=\"data row5 col3\" >0.017200</td>\n",
       "            </tr>\n",
       "            <tr>\n",
       "                                <td id=\"T_6719a_row6_col0\" class=\"data row6 col0\" >AC</td>\n",
       "                        <td id=\"T_6719a_row6_col1\" class=\"data row6 col1\" >49049</td>\n",
       "                        <td id=\"T_6719a_row6_col2\" class=\"data row6 col2\" >876</td>\n",
       "                        <td id=\"T_6719a_row6_col3\" class=\"data row6 col3\" >0.017900</td>\n",
       "            </tr>\n",
       "            <tr>\n",
       "                                <td id=\"T_6719a_row7_col0\" class=\"data row7 col0\" >RO</td>\n",
       "                        <td id=\"T_6719a_row7_col1\" class=\"data row7 col1\" >126766</td>\n",
       "                        <td id=\"T_6719a_row7_col2\" class=\"data row7 col2\" >2281</td>\n",
       "                        <td id=\"T_6719a_row7_col3\" class=\"data row7 col3\" >0.018000</td>\n",
       "            </tr>\n",
       "            <tr>\n",
       "                                <td id=\"T_6719a_row8_col0\" class=\"data row8 col0\" >MS</td>\n",
       "                        <td id=\"T_6719a_row8_col1\" class=\"data row8 col1\" >162220</td>\n",
       "                        <td id=\"T_6719a_row8_col2\" class=\"data row8 col2\" >2937</td>\n",
       "                        <td id=\"T_6719a_row8_col3\" class=\"data row8 col3\" >0.018100</td>\n",
       "            </tr>\n",
       "            <tr>\n",
       "                                <td id=\"T_6719a_row9_col0\" class=\"data row9 col0\" >PR</td>\n",
       "                        <td id=\"T_6719a_row9_col1\" class=\"data row9 col1\" >556304</td>\n",
       "                        <td id=\"T_6719a_row9_col2\" class=\"data row9 col2\" >10141</td>\n",
       "                        <td id=\"T_6719a_row9_col3\" class=\"data row9 col3\" >0.018200</td>\n",
       "            </tr>\n",
       "    </tbody></table>"
      ],
      "text/plain": [
       "<pandas.io.formats.style.Styler at 0x1a5d40c6460>"
      ]
     },
     "execution_count": 119,
     "metadata": {},
     "output_type": "execute_result"
    }
   ],
   "source": [
    "covid_data_table_reverse(df_states,'Letalidade', 10,'Top 10 Menor Letalidade')"
   ]
  },
  {
   "cell_type": "code",
   "execution_count": 77,
   "id": "interim-stephen",
   "metadata": {},
   "outputs": [
    {
     "data": {
      "application/vnd.plotly.v1+json": {
       "config": {
        "plotlyServerURL": "https://plot.ly"
       },
       "data": [
        {
         "hovertemplate": "Estado=%{text}<br>Letalidade=%{marker.size}<extra></extra>",
         "legendgroup": "SC",
         "marker": {
          "color": "#636efa",
          "size": [
           0.011
          ],
          "sizemode": "area",
          "sizeref": 0.0000022469135802469137,
          "symbol": "circle"
         },
         "mode": "markers+text",
         "name": "SC",
         "orientation": "v",
         "showlegend": true,
         "text": [
          "SC"
         ],
         "type": "scatter",
         "x": [
          "SC"
         ],
         "xaxis": "x",
         "y": [
          0.011
         ],
         "yaxis": "y"
        },
        {
         "hovertemplate": "Estado=%{text}<br>Letalidade=%{marker.size}<extra></extra>",
         "legendgroup": "RR",
         "marker": {
          "color": "#EF553B",
          "size": [
           0.0117
          ],
          "sizemode": "area",
          "sizeref": 0.0000022469135802469137,
          "symbol": "circle"
         },
         "mode": "markers+text",
         "name": "RR",
         "orientation": "v",
         "showlegend": true,
         "text": [
          "RR"
         ],
         "type": "scatter",
         "x": [
          "RR"
         ],
         "xaxis": "x",
         "y": [
          0.0117
         ],
         "yaxis": "y"
        },
        {
         "hovertemplate": "Estado=%{text}<br>Letalidade=%{marker.size}<extra></extra>",
         "legendgroup": "TO",
         "marker": {
          "color": "#00cc96",
          "size": [
           0.0135
          ],
          "sizemode": "area",
          "sizeref": 0.0000022469135802469137,
          "symbol": "circle"
         },
         "mode": "markers+text",
         "name": "TO",
         "orientation": "v",
         "showlegend": true,
         "text": [
          "TO"
         ],
         "type": "scatter",
         "x": [
          "TO"
         ],
         "xaxis": "x",
         "y": [
          0.0135
         ],
         "yaxis": "y"
        },
        {
         "hovertemplate": "Estado=%{text}<br>Letalidade=%{marker.size}<extra></extra>",
         "legendgroup": "AP",
         "marker": {
          "color": "#ab63fa",
          "size": [
           0.0137
          ],
          "sizemode": "area",
          "sizeref": 0.0000022469135802469137,
          "symbol": "circle"
         },
         "mode": "markers+text",
         "name": "AP",
         "orientation": "v",
         "showlegend": true,
         "text": [
          "AP"
         ],
         "type": "scatter",
         "x": [
          "AP"
         ],
         "xaxis": "x",
         "y": [
          0.0137
         ],
         "yaxis": "y"
        },
        {
         "hovertemplate": "Estado=%{text}<br>Letalidade=%{marker.size}<extra></extra>",
         "legendgroup": "DF",
         "marker": {
          "color": "#FFA15A",
          "size": [
           0.0164
          ],
          "sizemode": "area",
          "sizeref": 0.0000022469135802469137,
          "symbol": "circle"
         },
         "mode": "markers+text",
         "name": "DF",
         "orientation": "v",
         "showlegend": true,
         "text": [
          "DF"
         ],
         "type": "scatter",
         "x": [
          "DF"
         ],
         "xaxis": "x",
         "y": [
          0.0164
         ],
         "yaxis": "y"
        },
        {
         "hovertemplate": "Estado=%{text}<br>Letalidade=%{marker.size}<extra></extra>",
         "legendgroup": "BA",
         "marker": {
          "color": "#19d3f3",
          "size": [
           0.0172
          ],
          "sizemode": "area",
          "sizeref": 0.0000022469135802469137,
          "symbol": "circle"
         },
         "mode": "markers+text",
         "name": "BA",
         "orientation": "v",
         "showlegend": true,
         "text": [
          "BA"
         ],
         "type": "scatter",
         "x": [
          "BA"
         ],
         "xaxis": "x",
         "y": [
          0.0172
         ],
         "yaxis": "y"
        },
        {
         "hovertemplate": "Estado=%{text}<br>Letalidade=%{marker.size}<extra></extra>",
         "legendgroup": "AC",
         "marker": {
          "color": "#FF6692",
          "size": [
           0.0179
          ],
          "sizemode": "area",
          "sizeref": 0.0000022469135802469137,
          "symbol": "circle"
         },
         "mode": "markers+text",
         "name": "AC",
         "orientation": "v",
         "showlegend": true,
         "text": [
          "AC"
         ],
         "type": "scatter",
         "x": [
          "AC"
         ],
         "xaxis": "x",
         "y": [
          0.0179
         ],
         "yaxis": "y"
        },
        {
         "hovertemplate": "Estado=%{text}<br>Letalidade=%{marker.size}<extra></extra>",
         "legendgroup": "RO",
         "marker": {
          "color": "#B6E880",
          "size": [
           0.018
          ],
          "sizemode": "area",
          "sizeref": 0.0000022469135802469137,
          "symbol": "circle"
         },
         "mode": "markers+text",
         "name": "RO",
         "orientation": "v",
         "showlegend": true,
         "text": [
          "RO"
         ],
         "type": "scatter",
         "x": [
          "RO"
         ],
         "xaxis": "x",
         "y": [
          0.018
         ],
         "yaxis": "y"
        },
        {
         "hovertemplate": "Estado=%{text}<br>Letalidade=%{marker.size}<extra></extra>",
         "legendgroup": "MS",
         "marker": {
          "color": "#FF97FF",
          "size": [
           0.0181
          ],
          "sizemode": "area",
          "sizeref": 0.0000022469135802469137,
          "symbol": "circle"
         },
         "mode": "markers+text",
         "name": "MS",
         "orientation": "v",
         "showlegend": true,
         "text": [
          "MS"
         ],
         "type": "scatter",
         "x": [
          "MS"
         ],
         "xaxis": "x",
         "y": [
          0.0181
         ],
         "yaxis": "y"
        },
        {
         "hovertemplate": "Estado=%{text}<br>Letalidade=%{marker.size}<extra></extra>",
         "legendgroup": "PR",
         "marker": {
          "color": "#FECB52",
          "size": [
           0.0182
          ],
          "sizemode": "area",
          "sizeref": 0.0000022469135802469137,
          "symbol": "circle"
         },
         "mode": "markers+text",
         "name": "PR",
         "orientation": "v",
         "showlegend": true,
         "text": [
          "PR"
         ],
         "type": "scatter",
         "x": [
          "PR"
         ],
         "xaxis": "x",
         "y": [
          0.0182
         ],
         "yaxis": "y"
        }
       ],
       "layout": {
        "legend": {
         "itemsizing": "constant",
         "title": {
          "text": "Estado"
         },
         "tracegroupgap": 0
        },
        "margin": {
         "t": 60
        },
        "template": {
         "data": {
          "bar": [
           {
            "error_x": {
             "color": "#2a3f5f"
            },
            "error_y": {
             "color": "#2a3f5f"
            },
            "marker": {
             "line": {
              "color": "#E5ECF6",
              "width": 0.5
             }
            },
            "type": "bar"
           }
          ],
          "barpolar": [
           {
            "marker": {
             "line": {
              "color": "#E5ECF6",
              "width": 0.5
             }
            },
            "type": "barpolar"
           }
          ],
          "carpet": [
           {
            "aaxis": {
             "endlinecolor": "#2a3f5f",
             "gridcolor": "white",
             "linecolor": "white",
             "minorgridcolor": "white",
             "startlinecolor": "#2a3f5f"
            },
            "baxis": {
             "endlinecolor": "#2a3f5f",
             "gridcolor": "white",
             "linecolor": "white",
             "minorgridcolor": "white",
             "startlinecolor": "#2a3f5f"
            },
            "type": "carpet"
           }
          ],
          "choropleth": [
           {
            "colorbar": {
             "outlinewidth": 0,
             "ticks": ""
            },
            "type": "choropleth"
           }
          ],
          "contour": [
           {
            "colorbar": {
             "outlinewidth": 0,
             "ticks": ""
            },
            "colorscale": [
             [
              0,
              "#0d0887"
             ],
             [
              0.1111111111111111,
              "#46039f"
             ],
             [
              0.2222222222222222,
              "#7201a8"
             ],
             [
              0.3333333333333333,
              "#9c179e"
             ],
             [
              0.4444444444444444,
              "#bd3786"
             ],
             [
              0.5555555555555556,
              "#d8576b"
             ],
             [
              0.6666666666666666,
              "#ed7953"
             ],
             [
              0.7777777777777778,
              "#fb9f3a"
             ],
             [
              0.8888888888888888,
              "#fdca26"
             ],
             [
              1,
              "#f0f921"
             ]
            ],
            "type": "contour"
           }
          ],
          "contourcarpet": [
           {
            "colorbar": {
             "outlinewidth": 0,
             "ticks": ""
            },
            "type": "contourcarpet"
           }
          ],
          "heatmap": [
           {
            "colorbar": {
             "outlinewidth": 0,
             "ticks": ""
            },
            "colorscale": [
             [
              0,
              "#0d0887"
             ],
             [
              0.1111111111111111,
              "#46039f"
             ],
             [
              0.2222222222222222,
              "#7201a8"
             ],
             [
              0.3333333333333333,
              "#9c179e"
             ],
             [
              0.4444444444444444,
              "#bd3786"
             ],
             [
              0.5555555555555556,
              "#d8576b"
             ],
             [
              0.6666666666666666,
              "#ed7953"
             ],
             [
              0.7777777777777778,
              "#fb9f3a"
             ],
             [
              0.8888888888888888,
              "#fdca26"
             ],
             [
              1,
              "#f0f921"
             ]
            ],
            "type": "heatmap"
           }
          ],
          "heatmapgl": [
           {
            "colorbar": {
             "outlinewidth": 0,
             "ticks": ""
            },
            "colorscale": [
             [
              0,
              "#0d0887"
             ],
             [
              0.1111111111111111,
              "#46039f"
             ],
             [
              0.2222222222222222,
              "#7201a8"
             ],
             [
              0.3333333333333333,
              "#9c179e"
             ],
             [
              0.4444444444444444,
              "#bd3786"
             ],
             [
              0.5555555555555556,
              "#d8576b"
             ],
             [
              0.6666666666666666,
              "#ed7953"
             ],
             [
              0.7777777777777778,
              "#fb9f3a"
             ],
             [
              0.8888888888888888,
              "#fdca26"
             ],
             [
              1,
              "#f0f921"
             ]
            ],
            "type": "heatmapgl"
           }
          ],
          "histogram": [
           {
            "marker": {
             "colorbar": {
              "outlinewidth": 0,
              "ticks": ""
             }
            },
            "type": "histogram"
           }
          ],
          "histogram2d": [
           {
            "colorbar": {
             "outlinewidth": 0,
             "ticks": ""
            },
            "colorscale": [
             [
              0,
              "#0d0887"
             ],
             [
              0.1111111111111111,
              "#46039f"
             ],
             [
              0.2222222222222222,
              "#7201a8"
             ],
             [
              0.3333333333333333,
              "#9c179e"
             ],
             [
              0.4444444444444444,
              "#bd3786"
             ],
             [
              0.5555555555555556,
              "#d8576b"
             ],
             [
              0.6666666666666666,
              "#ed7953"
             ],
             [
              0.7777777777777778,
              "#fb9f3a"
             ],
             [
              0.8888888888888888,
              "#fdca26"
             ],
             [
              1,
              "#f0f921"
             ]
            ],
            "type": "histogram2d"
           }
          ],
          "histogram2dcontour": [
           {
            "colorbar": {
             "outlinewidth": 0,
             "ticks": ""
            },
            "colorscale": [
             [
              0,
              "#0d0887"
             ],
             [
              0.1111111111111111,
              "#46039f"
             ],
             [
              0.2222222222222222,
              "#7201a8"
             ],
             [
              0.3333333333333333,
              "#9c179e"
             ],
             [
              0.4444444444444444,
              "#bd3786"
             ],
             [
              0.5555555555555556,
              "#d8576b"
             ],
             [
              0.6666666666666666,
              "#ed7953"
             ],
             [
              0.7777777777777778,
              "#fb9f3a"
             ],
             [
              0.8888888888888888,
              "#fdca26"
             ],
             [
              1,
              "#f0f921"
             ]
            ],
            "type": "histogram2dcontour"
           }
          ],
          "mesh3d": [
           {
            "colorbar": {
             "outlinewidth": 0,
             "ticks": ""
            },
            "type": "mesh3d"
           }
          ],
          "parcoords": [
           {
            "line": {
             "colorbar": {
              "outlinewidth": 0,
              "ticks": ""
             }
            },
            "type": "parcoords"
           }
          ],
          "pie": [
           {
            "automargin": true,
            "type": "pie"
           }
          ],
          "scatter": [
           {
            "marker": {
             "colorbar": {
              "outlinewidth": 0,
              "ticks": ""
             }
            },
            "type": "scatter"
           }
          ],
          "scatter3d": [
           {
            "line": {
             "colorbar": {
              "outlinewidth": 0,
              "ticks": ""
             }
            },
            "marker": {
             "colorbar": {
              "outlinewidth": 0,
              "ticks": ""
             }
            },
            "type": "scatter3d"
           }
          ],
          "scattercarpet": [
           {
            "marker": {
             "colorbar": {
              "outlinewidth": 0,
              "ticks": ""
             }
            },
            "type": "scattercarpet"
           }
          ],
          "scattergeo": [
           {
            "marker": {
             "colorbar": {
              "outlinewidth": 0,
              "ticks": ""
             }
            },
            "type": "scattergeo"
           }
          ],
          "scattergl": [
           {
            "marker": {
             "colorbar": {
              "outlinewidth": 0,
              "ticks": ""
             }
            },
            "type": "scattergl"
           }
          ],
          "scattermapbox": [
           {
            "marker": {
             "colorbar": {
              "outlinewidth": 0,
              "ticks": ""
             }
            },
            "type": "scattermapbox"
           }
          ],
          "scatterpolar": [
           {
            "marker": {
             "colorbar": {
              "outlinewidth": 0,
              "ticks": ""
             }
            },
            "type": "scatterpolar"
           }
          ],
          "scatterpolargl": [
           {
            "marker": {
             "colorbar": {
              "outlinewidth": 0,
              "ticks": ""
             }
            },
            "type": "scatterpolargl"
           }
          ],
          "scatterternary": [
           {
            "marker": {
             "colorbar": {
              "outlinewidth": 0,
              "ticks": ""
             }
            },
            "type": "scatterternary"
           }
          ],
          "surface": [
           {
            "colorbar": {
             "outlinewidth": 0,
             "ticks": ""
            },
            "colorscale": [
             [
              0,
              "#0d0887"
             ],
             [
              0.1111111111111111,
              "#46039f"
             ],
             [
              0.2222222222222222,
              "#7201a8"
             ],
             [
              0.3333333333333333,
              "#9c179e"
             ],
             [
              0.4444444444444444,
              "#bd3786"
             ],
             [
              0.5555555555555556,
              "#d8576b"
             ],
             [
              0.6666666666666666,
              "#ed7953"
             ],
             [
              0.7777777777777778,
              "#fb9f3a"
             ],
             [
              0.8888888888888888,
              "#fdca26"
             ],
             [
              1,
              "#f0f921"
             ]
            ],
            "type": "surface"
           }
          ],
          "table": [
           {
            "cells": {
             "fill": {
              "color": "#EBF0F8"
             },
             "line": {
              "color": "white"
             }
            },
            "header": {
             "fill": {
              "color": "#C8D4E3"
             },
             "line": {
              "color": "white"
             }
            },
            "type": "table"
           }
          ]
         },
         "layout": {
          "annotationdefaults": {
           "arrowcolor": "#2a3f5f",
           "arrowhead": 0,
           "arrowwidth": 1
          },
          "autotypenumbers": "strict",
          "coloraxis": {
           "colorbar": {
            "outlinewidth": 0,
            "ticks": ""
           }
          },
          "colorscale": {
           "diverging": [
            [
             0,
             "#8e0152"
            ],
            [
             0.1,
             "#c51b7d"
            ],
            [
             0.2,
             "#de77ae"
            ],
            [
             0.3,
             "#f1b6da"
            ],
            [
             0.4,
             "#fde0ef"
            ],
            [
             0.5,
             "#f7f7f7"
            ],
            [
             0.6,
             "#e6f5d0"
            ],
            [
             0.7,
             "#b8e186"
            ],
            [
             0.8,
             "#7fbc41"
            ],
            [
             0.9,
             "#4d9221"
            ],
            [
             1,
             "#276419"
            ]
           ],
           "sequential": [
            [
             0,
             "#0d0887"
            ],
            [
             0.1111111111111111,
             "#46039f"
            ],
            [
             0.2222222222222222,
             "#7201a8"
            ],
            [
             0.3333333333333333,
             "#9c179e"
            ],
            [
             0.4444444444444444,
             "#bd3786"
            ],
            [
             0.5555555555555556,
             "#d8576b"
            ],
            [
             0.6666666666666666,
             "#ed7953"
            ],
            [
             0.7777777777777778,
             "#fb9f3a"
            ],
            [
             0.8888888888888888,
             "#fdca26"
            ],
            [
             1,
             "#f0f921"
            ]
           ],
           "sequentialminus": [
            [
             0,
             "#0d0887"
            ],
            [
             0.1111111111111111,
             "#46039f"
            ],
            [
             0.2222222222222222,
             "#7201a8"
            ],
            [
             0.3333333333333333,
             "#9c179e"
            ],
            [
             0.4444444444444444,
             "#bd3786"
            ],
            [
             0.5555555555555556,
             "#d8576b"
            ],
            [
             0.6666666666666666,
             "#ed7953"
            ],
            [
             0.7777777777777778,
             "#fb9f3a"
            ],
            [
             0.8888888888888888,
             "#fdca26"
            ],
            [
             1,
             "#f0f921"
            ]
           ]
          },
          "colorway": [
           "#636efa",
           "#EF553B",
           "#00cc96",
           "#ab63fa",
           "#FFA15A",
           "#19d3f3",
           "#FF6692",
           "#B6E880",
           "#FF97FF",
           "#FECB52"
          ],
          "font": {
           "color": "#2a3f5f"
          },
          "geo": {
           "bgcolor": "white",
           "lakecolor": "white",
           "landcolor": "#E5ECF6",
           "showlakes": true,
           "showland": true,
           "subunitcolor": "white"
          },
          "hoverlabel": {
           "align": "left"
          },
          "hovermode": "closest",
          "mapbox": {
           "style": "light"
          },
          "paper_bgcolor": "white",
          "plot_bgcolor": "#E5ECF6",
          "polar": {
           "angularaxis": {
            "gridcolor": "white",
            "linecolor": "white",
            "ticks": ""
           },
           "bgcolor": "#E5ECF6",
           "radialaxis": {
            "gridcolor": "white",
            "linecolor": "white",
            "ticks": ""
           }
          },
          "scene": {
           "xaxis": {
            "backgroundcolor": "#E5ECF6",
            "gridcolor": "white",
            "gridwidth": 2,
            "linecolor": "white",
            "showbackground": true,
            "ticks": "",
            "zerolinecolor": "white"
           },
           "yaxis": {
            "backgroundcolor": "#E5ECF6",
            "gridcolor": "white",
            "gridwidth": 2,
            "linecolor": "white",
            "showbackground": true,
            "ticks": "",
            "zerolinecolor": "white"
           },
           "zaxis": {
            "backgroundcolor": "#E5ECF6",
            "gridcolor": "white",
            "gridwidth": 2,
            "linecolor": "white",
            "showbackground": true,
            "ticks": "",
            "zerolinecolor": "white"
           }
          },
          "shapedefaults": {
           "line": {
            "color": "#2a3f5f"
           }
          },
          "ternary": {
           "aaxis": {
            "gridcolor": "white",
            "linecolor": "white",
            "ticks": ""
           },
           "baxis": {
            "gridcolor": "white",
            "linecolor": "white",
            "ticks": ""
           },
           "bgcolor": "#E5ECF6",
           "caxis": {
            "gridcolor": "white",
            "linecolor": "white",
            "ticks": ""
           }
          },
          "title": {
           "x": 0.05
          },
          "xaxis": {
           "automargin": true,
           "gridcolor": "white",
           "linecolor": "white",
           "ticks": "",
           "title": {
            "standoff": 15
           },
           "zerolinecolor": "white",
           "zerolinewidth": 2
          },
          "yaxis": {
           "automargin": true,
           "gridcolor": "white",
           "linecolor": "white",
           "ticks": "",
           "title": {
            "standoff": 15
           },
           "zerolinecolor": "white",
           "zerolinewidth": 2
          }
         }
        },
        "title": {
         "text": "Os top 10 piores estados por Letalidade"
        },
        "width": 700,
        "xaxis": {
         "anchor": "y",
         "categoryarray": [
          "SC",
          "RR",
          "TO",
          "AP",
          "DF",
          "BA",
          "AC",
          "RO",
          "MS",
          "PR"
         ],
         "categoryorder": "array",
         "domain": [
          0,
          1
         ],
         "title": {
          "text": "Estados"
         }
        },
        "yaxis": {
         "anchor": "x",
         "domain": [
          0,
          1
         ],
         "title": {
          "text": "Letalidade"
         }
        }
       }
      },
      "text/html": [
       "<div>                            <div id=\"5d97ddcf-4ed2-4702-91bc-a764f08b9a79\" class=\"plotly-graph-div\" style=\"height:525px; width:700px;\"></div>            <script type=\"text/javascript\">                require([\"plotly\"], function(Plotly) {                    window.PLOTLYENV=window.PLOTLYENV || {};                                    if (document.getElementById(\"5d97ddcf-4ed2-4702-91bc-a764f08b9a79\")) {                    Plotly.newPlot(                        \"5d97ddcf-4ed2-4702-91bc-a764f08b9a79\",                        [{\"hovertemplate\": \"Estado=%{text}<br>Letalidade=%{marker.size}<extra></extra>\", \"legendgroup\": \"SC\", \"marker\": {\"color\": \"#636efa\", \"size\": [0.011], \"sizemode\": \"area\", \"sizeref\": 2.2469135802469137e-06, \"symbol\": \"circle\"}, \"mode\": \"markers+text\", \"name\": \"SC\", \"orientation\": \"v\", \"showlegend\": true, \"text\": [\"SC\"], \"type\": \"scatter\", \"x\": [\"SC\"], \"xaxis\": \"x\", \"y\": [0.011], \"yaxis\": \"y\"}, {\"hovertemplate\": \"Estado=%{text}<br>Letalidade=%{marker.size}<extra></extra>\", \"legendgroup\": \"RR\", \"marker\": {\"color\": \"#EF553B\", \"size\": [0.0117], \"sizemode\": \"area\", \"sizeref\": 2.2469135802469137e-06, \"symbol\": \"circle\"}, \"mode\": \"markers+text\", \"name\": \"RR\", \"orientation\": \"v\", \"showlegend\": true, \"text\": [\"RR\"], \"type\": \"scatter\", \"x\": [\"RR\"], \"xaxis\": \"x\", \"y\": [0.0117], \"yaxis\": \"y\"}, {\"hovertemplate\": \"Estado=%{text}<br>Letalidade=%{marker.size}<extra></extra>\", \"legendgroup\": \"TO\", \"marker\": {\"color\": \"#00cc96\", \"size\": [0.0135], \"sizemode\": \"area\", \"sizeref\": 2.2469135802469137e-06, \"symbol\": \"circle\"}, \"mode\": \"markers+text\", \"name\": \"TO\", \"orientation\": \"v\", \"showlegend\": true, \"text\": [\"TO\"], \"type\": \"scatter\", \"x\": [\"TO\"], \"xaxis\": \"x\", \"y\": [0.0135], \"yaxis\": \"y\"}, {\"hovertemplate\": \"Estado=%{text}<br>Letalidade=%{marker.size}<extra></extra>\", \"legendgroup\": \"AP\", \"marker\": {\"color\": \"#ab63fa\", \"size\": [0.0137], \"sizemode\": \"area\", \"sizeref\": 2.2469135802469137e-06, \"symbol\": \"circle\"}, \"mode\": \"markers+text\", \"name\": \"AP\", \"orientation\": \"v\", \"showlegend\": true, \"text\": [\"AP\"], \"type\": \"scatter\", \"x\": [\"AP\"], \"xaxis\": \"x\", \"y\": [0.0137], \"yaxis\": \"y\"}, {\"hovertemplate\": \"Estado=%{text}<br>Letalidade=%{marker.size}<extra></extra>\", \"legendgroup\": \"DF\", \"marker\": {\"color\": \"#FFA15A\", \"size\": [0.0164], \"sizemode\": \"area\", \"sizeref\": 2.2469135802469137e-06, \"symbol\": \"circle\"}, \"mode\": \"markers+text\", \"name\": \"DF\", \"orientation\": \"v\", \"showlegend\": true, \"text\": [\"DF\"], \"type\": \"scatter\", \"x\": [\"DF\"], \"xaxis\": \"x\", \"y\": [0.0164], \"yaxis\": \"y\"}, {\"hovertemplate\": \"Estado=%{text}<br>Letalidade=%{marker.size}<extra></extra>\", \"legendgroup\": \"BA\", \"marker\": {\"color\": \"#19d3f3\", \"size\": [0.0172], \"sizemode\": \"area\", \"sizeref\": 2.2469135802469137e-06, \"symbol\": \"circle\"}, \"mode\": \"markers+text\", \"name\": \"BA\", \"orientation\": \"v\", \"showlegend\": true, \"text\": [\"BA\"], \"type\": \"scatter\", \"x\": [\"BA\"], \"xaxis\": \"x\", \"y\": [0.0172], \"yaxis\": \"y\"}, {\"hovertemplate\": \"Estado=%{text}<br>Letalidade=%{marker.size}<extra></extra>\", \"legendgroup\": \"AC\", \"marker\": {\"color\": \"#FF6692\", \"size\": [0.0179], \"sizemode\": \"area\", \"sizeref\": 2.2469135802469137e-06, \"symbol\": \"circle\"}, \"mode\": \"markers+text\", \"name\": \"AC\", \"orientation\": \"v\", \"showlegend\": true, \"text\": [\"AC\"], \"type\": \"scatter\", \"x\": [\"AC\"], \"xaxis\": \"x\", \"y\": [0.0179], \"yaxis\": \"y\"}, {\"hovertemplate\": \"Estado=%{text}<br>Letalidade=%{marker.size}<extra></extra>\", \"legendgroup\": \"RO\", \"marker\": {\"color\": \"#B6E880\", \"size\": [0.018], \"sizemode\": \"area\", \"sizeref\": 2.2469135802469137e-06, \"symbol\": \"circle\"}, \"mode\": \"markers+text\", \"name\": \"RO\", \"orientation\": \"v\", \"showlegend\": true, \"text\": [\"RO\"], \"type\": \"scatter\", \"x\": [\"RO\"], \"xaxis\": \"x\", \"y\": [0.018], \"yaxis\": \"y\"}, {\"hovertemplate\": \"Estado=%{text}<br>Letalidade=%{marker.size}<extra></extra>\", \"legendgroup\": \"MS\", \"marker\": {\"color\": \"#FF97FF\", \"size\": [0.0181], \"sizemode\": \"area\", \"sizeref\": 2.2469135802469137e-06, \"symbol\": \"circle\"}, \"mode\": \"markers+text\", \"name\": \"MS\", \"orientation\": \"v\", \"showlegend\": true, \"text\": [\"MS\"], \"type\": \"scatter\", \"x\": [\"MS\"], \"xaxis\": \"x\", \"y\": [0.0181], \"yaxis\": \"y\"}, {\"hovertemplate\": \"Estado=%{text}<br>Letalidade=%{marker.size}<extra></extra>\", \"legendgroup\": \"PR\", \"marker\": {\"color\": \"#FECB52\", \"size\": [0.0182], \"sizemode\": \"area\", \"sizeref\": 2.2469135802469137e-06, \"symbol\": \"circle\"}, \"mode\": \"markers+text\", \"name\": \"PR\", \"orientation\": \"v\", \"showlegend\": true, \"text\": [\"PR\"], \"type\": \"scatter\", \"x\": [\"PR\"], \"xaxis\": \"x\", \"y\": [0.0182], \"yaxis\": \"y\"}],                        {\"legend\": {\"itemsizing\": \"constant\", \"title\": {\"text\": \"Estado\"}, \"tracegroupgap\": 0}, \"margin\": {\"t\": 60}, \"template\": {\"data\": {\"bar\": [{\"error_x\": {\"color\": \"#2a3f5f\"}, \"error_y\": {\"color\": \"#2a3f5f\"}, \"marker\": {\"line\": {\"color\": \"#E5ECF6\", \"width\": 0.5}}, \"type\": \"bar\"}], \"barpolar\": [{\"marker\": {\"line\": {\"color\": \"#E5ECF6\", \"width\": 0.5}}, \"type\": \"barpolar\"}], \"carpet\": [{\"aaxis\": {\"endlinecolor\": \"#2a3f5f\", \"gridcolor\": \"white\", \"linecolor\": \"white\", \"minorgridcolor\": \"white\", \"startlinecolor\": \"#2a3f5f\"}, \"baxis\": {\"endlinecolor\": \"#2a3f5f\", \"gridcolor\": \"white\", \"linecolor\": \"white\", \"minorgridcolor\": \"white\", \"startlinecolor\": \"#2a3f5f\"}, \"type\": \"carpet\"}], \"choropleth\": [{\"colorbar\": {\"outlinewidth\": 0, \"ticks\": \"\"}, \"type\": \"choropleth\"}], \"contour\": [{\"colorbar\": {\"outlinewidth\": 0, \"ticks\": \"\"}, \"colorscale\": [[0.0, \"#0d0887\"], [0.1111111111111111, \"#46039f\"], [0.2222222222222222, \"#7201a8\"], [0.3333333333333333, \"#9c179e\"], [0.4444444444444444, \"#bd3786\"], [0.5555555555555556, \"#d8576b\"], [0.6666666666666666, \"#ed7953\"], [0.7777777777777778, \"#fb9f3a\"], [0.8888888888888888, \"#fdca26\"], [1.0, \"#f0f921\"]], \"type\": \"contour\"}], \"contourcarpet\": [{\"colorbar\": {\"outlinewidth\": 0, \"ticks\": \"\"}, \"type\": \"contourcarpet\"}], \"heatmap\": [{\"colorbar\": {\"outlinewidth\": 0, \"ticks\": \"\"}, \"colorscale\": [[0.0, \"#0d0887\"], [0.1111111111111111, \"#46039f\"], [0.2222222222222222, \"#7201a8\"], [0.3333333333333333, \"#9c179e\"], [0.4444444444444444, \"#bd3786\"], [0.5555555555555556, \"#d8576b\"], [0.6666666666666666, \"#ed7953\"], [0.7777777777777778, \"#fb9f3a\"], [0.8888888888888888, \"#fdca26\"], [1.0, \"#f0f921\"]], \"type\": \"heatmap\"}], \"heatmapgl\": [{\"colorbar\": {\"outlinewidth\": 0, \"ticks\": \"\"}, \"colorscale\": [[0.0, \"#0d0887\"], [0.1111111111111111, \"#46039f\"], [0.2222222222222222, \"#7201a8\"], [0.3333333333333333, \"#9c179e\"], [0.4444444444444444, \"#bd3786\"], [0.5555555555555556, \"#d8576b\"], [0.6666666666666666, \"#ed7953\"], [0.7777777777777778, \"#fb9f3a\"], [0.8888888888888888, \"#fdca26\"], [1.0, \"#f0f921\"]], \"type\": \"heatmapgl\"}], \"histogram\": [{\"marker\": {\"colorbar\": {\"outlinewidth\": 0, \"ticks\": \"\"}}, \"type\": \"histogram\"}], \"histogram2d\": [{\"colorbar\": {\"outlinewidth\": 0, \"ticks\": \"\"}, \"colorscale\": [[0.0, \"#0d0887\"], [0.1111111111111111, \"#46039f\"], [0.2222222222222222, \"#7201a8\"], [0.3333333333333333, \"#9c179e\"], [0.4444444444444444, \"#bd3786\"], [0.5555555555555556, \"#d8576b\"], [0.6666666666666666, \"#ed7953\"], [0.7777777777777778, \"#fb9f3a\"], [0.8888888888888888, \"#fdca26\"], [1.0, \"#f0f921\"]], \"type\": \"histogram2d\"}], \"histogram2dcontour\": [{\"colorbar\": {\"outlinewidth\": 0, \"ticks\": \"\"}, \"colorscale\": [[0.0, \"#0d0887\"], [0.1111111111111111, \"#46039f\"], [0.2222222222222222, \"#7201a8\"], [0.3333333333333333, \"#9c179e\"], [0.4444444444444444, \"#bd3786\"], [0.5555555555555556, \"#d8576b\"], [0.6666666666666666, \"#ed7953\"], [0.7777777777777778, \"#fb9f3a\"], [0.8888888888888888, \"#fdca26\"], [1.0, \"#f0f921\"]], \"type\": \"histogram2dcontour\"}], \"mesh3d\": [{\"colorbar\": {\"outlinewidth\": 0, \"ticks\": \"\"}, \"type\": \"mesh3d\"}], \"parcoords\": [{\"line\": {\"colorbar\": {\"outlinewidth\": 0, \"ticks\": \"\"}}, \"type\": \"parcoords\"}], \"pie\": [{\"automargin\": true, \"type\": \"pie\"}], \"scatter\": [{\"marker\": {\"colorbar\": {\"outlinewidth\": 0, \"ticks\": \"\"}}, \"type\": \"scatter\"}], \"scatter3d\": [{\"line\": {\"colorbar\": {\"outlinewidth\": 0, \"ticks\": \"\"}}, \"marker\": {\"colorbar\": {\"outlinewidth\": 0, \"ticks\": \"\"}}, \"type\": \"scatter3d\"}], \"scattercarpet\": [{\"marker\": {\"colorbar\": {\"outlinewidth\": 0, \"ticks\": \"\"}}, \"type\": \"scattercarpet\"}], \"scattergeo\": [{\"marker\": {\"colorbar\": {\"outlinewidth\": 0, \"ticks\": \"\"}}, \"type\": \"scattergeo\"}], \"scattergl\": [{\"marker\": {\"colorbar\": {\"outlinewidth\": 0, \"ticks\": \"\"}}, \"type\": \"scattergl\"}], \"scattermapbox\": [{\"marker\": {\"colorbar\": {\"outlinewidth\": 0, \"ticks\": \"\"}}, \"type\": \"scattermapbox\"}], \"scatterpolar\": [{\"marker\": {\"colorbar\": {\"outlinewidth\": 0, \"ticks\": \"\"}}, \"type\": \"scatterpolar\"}], \"scatterpolargl\": [{\"marker\": {\"colorbar\": {\"outlinewidth\": 0, \"ticks\": \"\"}}, \"type\": \"scatterpolargl\"}], \"scatterternary\": [{\"marker\": {\"colorbar\": {\"outlinewidth\": 0, \"ticks\": \"\"}}, \"type\": \"scatterternary\"}], \"surface\": [{\"colorbar\": {\"outlinewidth\": 0, \"ticks\": \"\"}, \"colorscale\": [[0.0, \"#0d0887\"], [0.1111111111111111, \"#46039f\"], [0.2222222222222222, \"#7201a8\"], [0.3333333333333333, \"#9c179e\"], [0.4444444444444444, \"#bd3786\"], [0.5555555555555556, \"#d8576b\"], [0.6666666666666666, \"#ed7953\"], [0.7777777777777778, \"#fb9f3a\"], [0.8888888888888888, \"#fdca26\"], [1.0, \"#f0f921\"]], \"type\": \"surface\"}], \"table\": [{\"cells\": {\"fill\": {\"color\": \"#EBF0F8\"}, \"line\": {\"color\": \"white\"}}, \"header\": {\"fill\": {\"color\": \"#C8D4E3\"}, \"line\": {\"color\": \"white\"}}, \"type\": \"table\"}]}, \"layout\": {\"annotationdefaults\": {\"arrowcolor\": \"#2a3f5f\", \"arrowhead\": 0, \"arrowwidth\": 1}, \"autotypenumbers\": \"strict\", \"coloraxis\": {\"colorbar\": {\"outlinewidth\": 0, \"ticks\": \"\"}}, \"colorscale\": {\"diverging\": [[0, \"#8e0152\"], [0.1, \"#c51b7d\"], [0.2, \"#de77ae\"], [0.3, \"#f1b6da\"], [0.4, \"#fde0ef\"], [0.5, \"#f7f7f7\"], [0.6, \"#e6f5d0\"], [0.7, \"#b8e186\"], [0.8, \"#7fbc41\"], [0.9, \"#4d9221\"], [1, \"#276419\"]], \"sequential\": [[0.0, \"#0d0887\"], [0.1111111111111111, \"#46039f\"], [0.2222222222222222, \"#7201a8\"], [0.3333333333333333, \"#9c179e\"], [0.4444444444444444, \"#bd3786\"], [0.5555555555555556, \"#d8576b\"], [0.6666666666666666, \"#ed7953\"], [0.7777777777777778, \"#fb9f3a\"], [0.8888888888888888, \"#fdca26\"], [1.0, \"#f0f921\"]], \"sequentialminus\": [[0.0, \"#0d0887\"], [0.1111111111111111, \"#46039f\"], [0.2222222222222222, \"#7201a8\"], [0.3333333333333333, \"#9c179e\"], [0.4444444444444444, \"#bd3786\"], [0.5555555555555556, \"#d8576b\"], [0.6666666666666666, \"#ed7953\"], [0.7777777777777778, \"#fb9f3a\"], [0.8888888888888888, \"#fdca26\"], [1.0, \"#f0f921\"]]}, \"colorway\": [\"#636efa\", \"#EF553B\", \"#00cc96\", \"#ab63fa\", \"#FFA15A\", \"#19d3f3\", \"#FF6692\", \"#B6E880\", \"#FF97FF\", \"#FECB52\"], \"font\": {\"color\": \"#2a3f5f\"}, \"geo\": {\"bgcolor\": \"white\", \"lakecolor\": \"white\", \"landcolor\": \"#E5ECF6\", \"showlakes\": true, \"showland\": true, \"subunitcolor\": \"white\"}, \"hoverlabel\": {\"align\": \"left\"}, \"hovermode\": \"closest\", \"mapbox\": {\"style\": \"light\"}, \"paper_bgcolor\": \"white\", \"plot_bgcolor\": \"#E5ECF6\", \"polar\": {\"angularaxis\": {\"gridcolor\": \"white\", \"linecolor\": \"white\", \"ticks\": \"\"}, \"bgcolor\": \"#E5ECF6\", \"radialaxis\": {\"gridcolor\": \"white\", \"linecolor\": \"white\", \"ticks\": \"\"}}, \"scene\": {\"xaxis\": {\"backgroundcolor\": \"#E5ECF6\", \"gridcolor\": \"white\", \"gridwidth\": 2, \"linecolor\": \"white\", \"showbackground\": true, \"ticks\": \"\", \"zerolinecolor\": \"white\"}, \"yaxis\": {\"backgroundcolor\": \"#E5ECF6\", \"gridcolor\": \"white\", \"gridwidth\": 2, \"linecolor\": \"white\", \"showbackground\": true, \"ticks\": \"\", \"zerolinecolor\": \"white\"}, \"zaxis\": {\"backgroundcolor\": \"#E5ECF6\", \"gridcolor\": \"white\", \"gridwidth\": 2, \"linecolor\": \"white\", \"showbackground\": true, \"ticks\": \"\", \"zerolinecolor\": \"white\"}}, \"shapedefaults\": {\"line\": {\"color\": \"#2a3f5f\"}}, \"ternary\": {\"aaxis\": {\"gridcolor\": \"white\", \"linecolor\": \"white\", \"ticks\": \"\"}, \"baxis\": {\"gridcolor\": \"white\", \"linecolor\": \"white\", \"ticks\": \"\"}, \"bgcolor\": \"#E5ECF6\", \"caxis\": {\"gridcolor\": \"white\", \"linecolor\": \"white\", \"ticks\": \"\"}}, \"title\": {\"x\": 0.05}, \"xaxis\": {\"automargin\": true, \"gridcolor\": \"white\", \"linecolor\": \"white\", \"ticks\": \"\", \"title\": {\"standoff\": 15}, \"zerolinecolor\": \"white\", \"zerolinewidth\": 2}, \"yaxis\": {\"automargin\": true, \"gridcolor\": \"white\", \"linecolor\": \"white\", \"ticks\": \"\", \"title\": {\"standoff\": 15}, \"zerolinecolor\": \"white\", \"zerolinewidth\": 2}}}, \"title\": {\"text\": \"Os top 10 piores estados por Letalidade\"}, \"width\": 700, \"xaxis\": {\"anchor\": \"y\", \"categoryarray\": [\"SC\", \"RR\", \"TO\", \"AP\", \"DF\", \"BA\", \"AC\", \"RO\", \"MS\", \"PR\"], \"categoryorder\": \"array\", \"domain\": [0.0, 1.0], \"title\": {\"text\": \"Estados\"}}, \"yaxis\": {\"anchor\": \"x\", \"domain\": [0.0, 1.0], \"title\": {\"text\": \"Letalidade\"}}},                        {\"responsive\": true}                    ).then(function(){\n",
       "                            \n",
       "var gd = document.getElementById('5d97ddcf-4ed2-4702-91bc-a764f08b9a79');\n",
       "var x = new MutationObserver(function (mutations, observer) {{\n",
       "        var display = window.getComputedStyle(gd).display;\n",
       "        if (!display || display === 'none') {{\n",
       "            console.log([gd, 'removed!']);\n",
       "            Plotly.purge(gd);\n",
       "            observer.disconnect();\n",
       "        }}\n",
       "}});\n",
       "\n",
       "// Listen for the removal of the full notebook cells\n",
       "var notebookContainer = gd.closest('#notebook-container');\n",
       "if (notebookContainer) {{\n",
       "    x.observe(notebookContainer, {childList: true});\n",
       "}}\n",
       "\n",
       "// Listen for the clearing of the current output cell\n",
       "var outputEl = gd.closest('.output');\n",
       "if (outputEl) {{\n",
       "    x.observe(outputEl, {childList: true});\n",
       "}}\n",
       "\n",
       "                        })                };                });            </script>        </div>"
      ]
     },
     "metadata": {},
     "output_type": "display_data"
    }
   ],
   "source": [
    "def covid_bubble_chart(df, column, n, asc=False):\n",
    "    df = df.sort_values(column,ascending=asc).copy().head(n)\n",
    "    fig = px.scatter(df, x=\"Estado\", y=column, size=column, color=\"Estado\",\n",
    "               text=\"Estado\", size_max=90)\n",
    "    fig.update_layout(\n",
    "    title=\"Os top \" + str(n) + ' piores estados por '  + column,\n",
    "    xaxis_title=\"Estados\",\n",
    "    yaxis_title=column,\n",
    "    width = 700\n",
    "    )\n",
    "    fig.show();\n",
    "    \n",
    "covid_bubble_chart(df_states, 'Letalidade',10, True)\n"
   ]
  },
  {
   "cell_type": "code",
   "execution_count": 75,
   "id": "owned-little",
   "metadata": {},
   "outputs": [
    {
     "data": {
      "application/vnd.plotly.v1+json": {
       "config": {
        "plotlyServerURL": "https://plot.ly"
       },
       "data": [
        {
         "hovertemplate": "Estado=%{text}<br>Mortes=%{marker.size}<extra></extra>",
         "legendgroup": "SP",
         "marker": {
          "color": "#636efa",
          "size": [
           53455
          ],
          "sizemode": "area",
          "sizeref": 6.599382716049383,
          "symbol": "circle"
         },
         "mode": "markers+text",
         "name": "SP",
         "orientation": "v",
         "showlegend": true,
         "text": [
          "SP"
         ],
         "type": "scatter",
         "x": [
          "SP"
         ],
         "xaxis": "x",
         "y": [
          53455
         ],
         "yaxis": "y"
        },
        {
         "hovertemplate": "Estado=%{text}<br>Mortes=%{marker.size}<extra></extra>",
         "legendgroup": "RJ",
         "marker": {
          "color": "#EF553B",
          "size": [
           30004
          ],
          "sizemode": "area",
          "sizeref": 6.599382716049383,
          "symbol": "circle"
         },
         "mode": "markers+text",
         "name": "RJ",
         "orientation": "v",
         "showlegend": true,
         "text": [
          "RJ"
         ],
         "type": "scatter",
         "x": [
          "RJ"
         ],
         "xaxis": "x",
         "y": [
          30004
         ],
         "yaxis": "y"
        },
        {
         "hovertemplate": "Estado=%{text}<br>Mortes=%{marker.size}<extra></extra>",
         "legendgroup": "MG",
         "marker": {
          "color": "#00cc96",
          "size": [
           15126
          ],
          "sizemode": "area",
          "sizeref": 6.599382716049383,
          "symbol": "circle"
         },
         "mode": "markers+text",
         "name": "MG",
         "orientation": "v",
         "showlegend": true,
         "text": [
          "MG"
         ],
         "type": "scatter",
         "x": [
          "MG"
         ],
         "xaxis": "x",
         "y": [
          15126
         ],
         "yaxis": "y"
        },
        {
         "hovertemplate": "Estado=%{text}<br>Mortes=%{marker.size}<extra></extra>",
         "legendgroup": "RS",
         "marker": {
          "color": "#ab63fa",
          "size": [
           10778
          ],
          "sizemode": "area",
          "sizeref": 6.599382716049383,
          "symbol": "circle"
         },
         "mode": "markers+text",
         "name": "RS",
         "orientation": "v",
         "showlegend": true,
         "text": [
          "RS"
         ],
         "type": "scatter",
         "x": [
          "RS"
         ],
         "xaxis": "x",
         "y": [
          10778
         ],
         "yaxis": "y"
        },
        {
         "hovertemplate": "Estado=%{text}<br>Mortes=%{marker.size}<extra></extra>",
         "legendgroup": "CE",
         "marker": {
          "color": "#FFA15A",
          "size": [
           10510
          ],
          "sizemode": "area",
          "sizeref": 6.599382716049383,
          "symbol": "circle"
         },
         "mode": "markers+text",
         "name": "CE",
         "orientation": "v",
         "showlegend": true,
         "text": [
          "CE"
         ],
         "type": "scatter",
         "x": [
          "CE"
         ],
         "xaxis": "x",
         "y": [
          10510
         ],
         "yaxis": "y"
        },
        {
         "hovertemplate": "Estado=%{text}<br>Mortes=%{marker.size}<extra></extra>",
         "legendgroup": "PE",
         "marker": {
          "color": "#19d3f3",
          "size": [
           10387
          ],
          "sizemode": "area",
          "sizeref": 6.599382716049383,
          "symbol": "circle"
         },
         "mode": "markers+text",
         "name": "PE",
         "orientation": "v",
         "showlegend": true,
         "text": [
          "PE"
         ],
         "type": "scatter",
         "x": [
          "PE"
         ],
         "xaxis": "x",
         "y": [
          10387
         ],
         "yaxis": "y"
        },
        {
         "hovertemplate": "Estado=%{text}<br>Mortes=%{marker.size}<extra></extra>",
         "legendgroup": "BA",
         "marker": {
          "color": "#FF6692",
          "size": [
           10176
          ],
          "sizemode": "area",
          "sizeref": 6.599382716049383,
          "symbol": "circle"
         },
         "mode": "markers+text",
         "name": "BA",
         "orientation": "v",
         "showlegend": true,
         "text": [
          "BA"
         ],
         "type": "scatter",
         "x": [
          "BA"
         ],
         "xaxis": "x",
         "y": [
          10176
         ],
         "yaxis": "y"
        },
        {
         "hovertemplate": "Estado=%{text}<br>Mortes=%{marker.size}<extra></extra>",
         "legendgroup": "PR",
         "marker": {
          "color": "#B6E880",
          "size": [
           10141
          ],
          "sizemode": "area",
          "sizeref": 6.599382716049383,
          "symbol": "circle"
         },
         "mode": "markers+text",
         "name": "PR",
         "orientation": "v",
         "showlegend": true,
         "text": [
          "PR"
         ],
         "type": "scatter",
         "x": [
          "PR"
         ],
         "xaxis": "x",
         "y": [
          10141
         ],
         "yaxis": "y"
        },
        {
         "hovertemplate": "Estado=%{text}<br>Mortes=%{marker.size}<extra></extra>",
         "legendgroup": "AM",
         "marker": {
          "color": "#FF97FF",
          "size": [
           8414
          ],
          "sizemode": "area",
          "sizeref": 6.599382716049383,
          "symbol": "circle"
         },
         "mode": "markers+text",
         "name": "AM",
         "orientation": "v",
         "showlegend": true,
         "text": [
          "AM"
         ],
         "type": "scatter",
         "x": [
          "AM"
         ],
         "xaxis": "x",
         "y": [
          8414
         ],
         "yaxis": "y"
        },
        {
         "hovertemplate": "Estado=%{text}<br>Mortes=%{marker.size}<extra></extra>",
         "legendgroup": "PA",
         "marker": {
          "color": "#FECB52",
          "size": [
           7685
          ],
          "sizemode": "area",
          "sizeref": 6.599382716049383,
          "symbol": "circle"
         },
         "mode": "markers+text",
         "name": "PA",
         "orientation": "v",
         "showlegend": true,
         "text": [
          "PA"
         ],
         "type": "scatter",
         "x": [
          "PA"
         ],
         "xaxis": "x",
         "y": [
          7685
         ],
         "yaxis": "y"
        }
       ],
       "layout": {
        "legend": {
         "itemsizing": "constant",
         "title": {
          "text": "Estado"
         },
         "tracegroupgap": 0
        },
        "margin": {
         "t": 60
        },
        "template": {
         "data": {
          "bar": [
           {
            "error_x": {
             "color": "#2a3f5f"
            },
            "error_y": {
             "color": "#2a3f5f"
            },
            "marker": {
             "line": {
              "color": "#E5ECF6",
              "width": 0.5
             }
            },
            "type": "bar"
           }
          ],
          "barpolar": [
           {
            "marker": {
             "line": {
              "color": "#E5ECF6",
              "width": 0.5
             }
            },
            "type": "barpolar"
           }
          ],
          "carpet": [
           {
            "aaxis": {
             "endlinecolor": "#2a3f5f",
             "gridcolor": "white",
             "linecolor": "white",
             "minorgridcolor": "white",
             "startlinecolor": "#2a3f5f"
            },
            "baxis": {
             "endlinecolor": "#2a3f5f",
             "gridcolor": "white",
             "linecolor": "white",
             "minorgridcolor": "white",
             "startlinecolor": "#2a3f5f"
            },
            "type": "carpet"
           }
          ],
          "choropleth": [
           {
            "colorbar": {
             "outlinewidth": 0,
             "ticks": ""
            },
            "type": "choropleth"
           }
          ],
          "contour": [
           {
            "colorbar": {
             "outlinewidth": 0,
             "ticks": ""
            },
            "colorscale": [
             [
              0,
              "#0d0887"
             ],
             [
              0.1111111111111111,
              "#46039f"
             ],
             [
              0.2222222222222222,
              "#7201a8"
             ],
             [
              0.3333333333333333,
              "#9c179e"
             ],
             [
              0.4444444444444444,
              "#bd3786"
             ],
             [
              0.5555555555555556,
              "#d8576b"
             ],
             [
              0.6666666666666666,
              "#ed7953"
             ],
             [
              0.7777777777777778,
              "#fb9f3a"
             ],
             [
              0.8888888888888888,
              "#fdca26"
             ],
             [
              1,
              "#f0f921"
             ]
            ],
            "type": "contour"
           }
          ],
          "contourcarpet": [
           {
            "colorbar": {
             "outlinewidth": 0,
             "ticks": ""
            },
            "type": "contourcarpet"
           }
          ],
          "heatmap": [
           {
            "colorbar": {
             "outlinewidth": 0,
             "ticks": ""
            },
            "colorscale": [
             [
              0,
              "#0d0887"
             ],
             [
              0.1111111111111111,
              "#46039f"
             ],
             [
              0.2222222222222222,
              "#7201a8"
             ],
             [
              0.3333333333333333,
              "#9c179e"
             ],
             [
              0.4444444444444444,
              "#bd3786"
             ],
             [
              0.5555555555555556,
              "#d8576b"
             ],
             [
              0.6666666666666666,
              "#ed7953"
             ],
             [
              0.7777777777777778,
              "#fb9f3a"
             ],
             [
              0.8888888888888888,
              "#fdca26"
             ],
             [
              1,
              "#f0f921"
             ]
            ],
            "type": "heatmap"
           }
          ],
          "heatmapgl": [
           {
            "colorbar": {
             "outlinewidth": 0,
             "ticks": ""
            },
            "colorscale": [
             [
              0,
              "#0d0887"
             ],
             [
              0.1111111111111111,
              "#46039f"
             ],
             [
              0.2222222222222222,
              "#7201a8"
             ],
             [
              0.3333333333333333,
              "#9c179e"
             ],
             [
              0.4444444444444444,
              "#bd3786"
             ],
             [
              0.5555555555555556,
              "#d8576b"
             ],
             [
              0.6666666666666666,
              "#ed7953"
             ],
             [
              0.7777777777777778,
              "#fb9f3a"
             ],
             [
              0.8888888888888888,
              "#fdca26"
             ],
             [
              1,
              "#f0f921"
             ]
            ],
            "type": "heatmapgl"
           }
          ],
          "histogram": [
           {
            "marker": {
             "colorbar": {
              "outlinewidth": 0,
              "ticks": ""
             }
            },
            "type": "histogram"
           }
          ],
          "histogram2d": [
           {
            "colorbar": {
             "outlinewidth": 0,
             "ticks": ""
            },
            "colorscale": [
             [
              0,
              "#0d0887"
             ],
             [
              0.1111111111111111,
              "#46039f"
             ],
             [
              0.2222222222222222,
              "#7201a8"
             ],
             [
              0.3333333333333333,
              "#9c179e"
             ],
             [
              0.4444444444444444,
              "#bd3786"
             ],
             [
              0.5555555555555556,
              "#d8576b"
             ],
             [
              0.6666666666666666,
              "#ed7953"
             ],
             [
              0.7777777777777778,
              "#fb9f3a"
             ],
             [
              0.8888888888888888,
              "#fdca26"
             ],
             [
              1,
              "#f0f921"
             ]
            ],
            "type": "histogram2d"
           }
          ],
          "histogram2dcontour": [
           {
            "colorbar": {
             "outlinewidth": 0,
             "ticks": ""
            },
            "colorscale": [
             [
              0,
              "#0d0887"
             ],
             [
              0.1111111111111111,
              "#46039f"
             ],
             [
              0.2222222222222222,
              "#7201a8"
             ],
             [
              0.3333333333333333,
              "#9c179e"
             ],
             [
              0.4444444444444444,
              "#bd3786"
             ],
             [
              0.5555555555555556,
              "#d8576b"
             ],
             [
              0.6666666666666666,
              "#ed7953"
             ],
             [
              0.7777777777777778,
              "#fb9f3a"
             ],
             [
              0.8888888888888888,
              "#fdca26"
             ],
             [
              1,
              "#f0f921"
             ]
            ],
            "type": "histogram2dcontour"
           }
          ],
          "mesh3d": [
           {
            "colorbar": {
             "outlinewidth": 0,
             "ticks": ""
            },
            "type": "mesh3d"
           }
          ],
          "parcoords": [
           {
            "line": {
             "colorbar": {
              "outlinewidth": 0,
              "ticks": ""
             }
            },
            "type": "parcoords"
           }
          ],
          "pie": [
           {
            "automargin": true,
            "type": "pie"
           }
          ],
          "scatter": [
           {
            "marker": {
             "colorbar": {
              "outlinewidth": 0,
              "ticks": ""
             }
            },
            "type": "scatter"
           }
          ],
          "scatter3d": [
           {
            "line": {
             "colorbar": {
              "outlinewidth": 0,
              "ticks": ""
             }
            },
            "marker": {
             "colorbar": {
              "outlinewidth": 0,
              "ticks": ""
             }
            },
            "type": "scatter3d"
           }
          ],
          "scattercarpet": [
           {
            "marker": {
             "colorbar": {
              "outlinewidth": 0,
              "ticks": ""
             }
            },
            "type": "scattercarpet"
           }
          ],
          "scattergeo": [
           {
            "marker": {
             "colorbar": {
              "outlinewidth": 0,
              "ticks": ""
             }
            },
            "type": "scattergeo"
           }
          ],
          "scattergl": [
           {
            "marker": {
             "colorbar": {
              "outlinewidth": 0,
              "ticks": ""
             }
            },
            "type": "scattergl"
           }
          ],
          "scattermapbox": [
           {
            "marker": {
             "colorbar": {
              "outlinewidth": 0,
              "ticks": ""
             }
            },
            "type": "scattermapbox"
           }
          ],
          "scatterpolar": [
           {
            "marker": {
             "colorbar": {
              "outlinewidth": 0,
              "ticks": ""
             }
            },
            "type": "scatterpolar"
           }
          ],
          "scatterpolargl": [
           {
            "marker": {
             "colorbar": {
              "outlinewidth": 0,
              "ticks": ""
             }
            },
            "type": "scatterpolargl"
           }
          ],
          "scatterternary": [
           {
            "marker": {
             "colorbar": {
              "outlinewidth": 0,
              "ticks": ""
             }
            },
            "type": "scatterternary"
           }
          ],
          "surface": [
           {
            "colorbar": {
             "outlinewidth": 0,
             "ticks": ""
            },
            "colorscale": [
             [
              0,
              "#0d0887"
             ],
             [
              0.1111111111111111,
              "#46039f"
             ],
             [
              0.2222222222222222,
              "#7201a8"
             ],
             [
              0.3333333333333333,
              "#9c179e"
             ],
             [
              0.4444444444444444,
              "#bd3786"
             ],
             [
              0.5555555555555556,
              "#d8576b"
             ],
             [
              0.6666666666666666,
              "#ed7953"
             ],
             [
              0.7777777777777778,
              "#fb9f3a"
             ],
             [
              0.8888888888888888,
              "#fdca26"
             ],
             [
              1,
              "#f0f921"
             ]
            ],
            "type": "surface"
           }
          ],
          "table": [
           {
            "cells": {
             "fill": {
              "color": "#EBF0F8"
             },
             "line": {
              "color": "white"
             }
            },
            "header": {
             "fill": {
              "color": "#C8D4E3"
             },
             "line": {
              "color": "white"
             }
            },
            "type": "table"
           }
          ]
         },
         "layout": {
          "annotationdefaults": {
           "arrowcolor": "#2a3f5f",
           "arrowhead": 0,
           "arrowwidth": 1
          },
          "autotypenumbers": "strict",
          "coloraxis": {
           "colorbar": {
            "outlinewidth": 0,
            "ticks": ""
           }
          },
          "colorscale": {
           "diverging": [
            [
             0,
             "#8e0152"
            ],
            [
             0.1,
             "#c51b7d"
            ],
            [
             0.2,
             "#de77ae"
            ],
            [
             0.3,
             "#f1b6da"
            ],
            [
             0.4,
             "#fde0ef"
            ],
            [
             0.5,
             "#f7f7f7"
            ],
            [
             0.6,
             "#e6f5d0"
            ],
            [
             0.7,
             "#b8e186"
            ],
            [
             0.8,
             "#7fbc41"
            ],
            [
             0.9,
             "#4d9221"
            ],
            [
             1,
             "#276419"
            ]
           ],
           "sequential": [
            [
             0,
             "#0d0887"
            ],
            [
             0.1111111111111111,
             "#46039f"
            ],
            [
             0.2222222222222222,
             "#7201a8"
            ],
            [
             0.3333333333333333,
             "#9c179e"
            ],
            [
             0.4444444444444444,
             "#bd3786"
            ],
            [
             0.5555555555555556,
             "#d8576b"
            ],
            [
             0.6666666666666666,
             "#ed7953"
            ],
            [
             0.7777777777777778,
             "#fb9f3a"
            ],
            [
             0.8888888888888888,
             "#fdca26"
            ],
            [
             1,
             "#f0f921"
            ]
           ],
           "sequentialminus": [
            [
             0,
             "#0d0887"
            ],
            [
             0.1111111111111111,
             "#46039f"
            ],
            [
             0.2222222222222222,
             "#7201a8"
            ],
            [
             0.3333333333333333,
             "#9c179e"
            ],
            [
             0.4444444444444444,
             "#bd3786"
            ],
            [
             0.5555555555555556,
             "#d8576b"
            ],
            [
             0.6666666666666666,
             "#ed7953"
            ],
            [
             0.7777777777777778,
             "#fb9f3a"
            ],
            [
             0.8888888888888888,
             "#fdca26"
            ],
            [
             1,
             "#f0f921"
            ]
           ]
          },
          "colorway": [
           "#636efa",
           "#EF553B",
           "#00cc96",
           "#ab63fa",
           "#FFA15A",
           "#19d3f3",
           "#FF6692",
           "#B6E880",
           "#FF97FF",
           "#FECB52"
          ],
          "font": {
           "color": "#2a3f5f"
          },
          "geo": {
           "bgcolor": "white",
           "lakecolor": "white",
           "landcolor": "#E5ECF6",
           "showlakes": true,
           "showland": true,
           "subunitcolor": "white"
          },
          "hoverlabel": {
           "align": "left"
          },
          "hovermode": "closest",
          "mapbox": {
           "style": "light"
          },
          "paper_bgcolor": "white",
          "plot_bgcolor": "#E5ECF6",
          "polar": {
           "angularaxis": {
            "gridcolor": "white",
            "linecolor": "white",
            "ticks": ""
           },
           "bgcolor": "#E5ECF6",
           "radialaxis": {
            "gridcolor": "white",
            "linecolor": "white",
            "ticks": ""
           }
          },
          "scene": {
           "xaxis": {
            "backgroundcolor": "#E5ECF6",
            "gridcolor": "white",
            "gridwidth": 2,
            "linecolor": "white",
            "showbackground": true,
            "ticks": "",
            "zerolinecolor": "white"
           },
           "yaxis": {
            "backgroundcolor": "#E5ECF6",
            "gridcolor": "white",
            "gridwidth": 2,
            "linecolor": "white",
            "showbackground": true,
            "ticks": "",
            "zerolinecolor": "white"
           },
           "zaxis": {
            "backgroundcolor": "#E5ECF6",
            "gridcolor": "white",
            "gridwidth": 2,
            "linecolor": "white",
            "showbackground": true,
            "ticks": "",
            "zerolinecolor": "white"
           }
          },
          "shapedefaults": {
           "line": {
            "color": "#2a3f5f"
           }
          },
          "ternary": {
           "aaxis": {
            "gridcolor": "white",
            "linecolor": "white",
            "ticks": ""
           },
           "baxis": {
            "gridcolor": "white",
            "linecolor": "white",
            "ticks": ""
           },
           "bgcolor": "#E5ECF6",
           "caxis": {
            "gridcolor": "white",
            "linecolor": "white",
            "ticks": ""
           }
          },
          "title": {
           "x": 0.05
          },
          "xaxis": {
           "automargin": true,
           "gridcolor": "white",
           "linecolor": "white",
           "ticks": "",
           "title": {
            "standoff": 15
           },
           "zerolinecolor": "white",
           "zerolinewidth": 2
          },
          "yaxis": {
           "automargin": true,
           "gridcolor": "white",
           "linecolor": "white",
           "ticks": "",
           "title": {
            "standoff": 15
           },
           "zerolinecolor": "white",
           "zerolinewidth": 2
          }
         }
        },
        "title": {
         "text": "Os top 10 piores estados por Mortes"
        },
        "width": 700,
        "xaxis": {
         "anchor": "y",
         "categoryarray": [
          "SP",
          "RJ",
          "MG",
          "RS",
          "CE",
          "PE",
          "BA",
          "PR",
          "AM",
          "PA"
         ],
         "categoryorder": "array",
         "domain": [
          0,
          1
         ],
         "title": {
          "text": "Estados"
         }
        },
        "yaxis": {
         "anchor": "x",
         "domain": [
          0,
          1
         ],
         "title": {
          "text": "Mortes"
         }
        }
       }
      },
      "text/html": [
       "<div>                            <div id=\"6ea91fde-12a5-449b-a405-d1085d606eb4\" class=\"plotly-graph-div\" style=\"height:525px; width:700px;\"></div>            <script type=\"text/javascript\">                require([\"plotly\"], function(Plotly) {                    window.PLOTLYENV=window.PLOTLYENV || {};                                    if (document.getElementById(\"6ea91fde-12a5-449b-a405-d1085d606eb4\")) {                    Plotly.newPlot(                        \"6ea91fde-12a5-449b-a405-d1085d606eb4\",                        [{\"hovertemplate\": \"Estado=%{text}<br>Mortes=%{marker.size}<extra></extra>\", \"legendgroup\": \"SP\", \"marker\": {\"color\": \"#636efa\", \"size\": [53455], \"sizemode\": \"area\", \"sizeref\": 6.599382716049383, \"symbol\": \"circle\"}, \"mode\": \"markers+text\", \"name\": \"SP\", \"orientation\": \"v\", \"showlegend\": true, \"text\": [\"SP\"], \"type\": \"scatter\", \"x\": [\"SP\"], \"xaxis\": \"x\", \"y\": [53455], \"yaxis\": \"y\"}, {\"hovertemplate\": \"Estado=%{text}<br>Mortes=%{marker.size}<extra></extra>\", \"legendgroup\": \"RJ\", \"marker\": {\"color\": \"#EF553B\", \"size\": [30004], \"sizemode\": \"area\", \"sizeref\": 6.599382716049383, \"symbol\": \"circle\"}, \"mode\": \"markers+text\", \"name\": \"RJ\", \"orientation\": \"v\", \"showlegend\": true, \"text\": [\"RJ\"], \"type\": \"scatter\", \"x\": [\"RJ\"], \"xaxis\": \"x\", \"y\": [30004], \"yaxis\": \"y\"}, {\"hovertemplate\": \"Estado=%{text}<br>Mortes=%{marker.size}<extra></extra>\", \"legendgroup\": \"MG\", \"marker\": {\"color\": \"#00cc96\", \"size\": [15126], \"sizemode\": \"area\", \"sizeref\": 6.599382716049383, \"symbol\": \"circle\"}, \"mode\": \"markers+text\", \"name\": \"MG\", \"orientation\": \"v\", \"showlegend\": true, \"text\": [\"MG\"], \"type\": \"scatter\", \"x\": [\"MG\"], \"xaxis\": \"x\", \"y\": [15126], \"yaxis\": \"y\"}, {\"hovertemplate\": \"Estado=%{text}<br>Mortes=%{marker.size}<extra></extra>\", \"legendgroup\": \"RS\", \"marker\": {\"color\": \"#ab63fa\", \"size\": [10778], \"sizemode\": \"area\", \"sizeref\": 6.599382716049383, \"symbol\": \"circle\"}, \"mode\": \"markers+text\", \"name\": \"RS\", \"orientation\": \"v\", \"showlegend\": true, \"text\": [\"RS\"], \"type\": \"scatter\", \"x\": [\"RS\"], \"xaxis\": \"x\", \"y\": [10778], \"yaxis\": \"y\"}, {\"hovertemplate\": \"Estado=%{text}<br>Mortes=%{marker.size}<extra></extra>\", \"legendgroup\": \"CE\", \"marker\": {\"color\": \"#FFA15A\", \"size\": [10510], \"sizemode\": \"area\", \"sizeref\": 6.599382716049383, \"symbol\": \"circle\"}, \"mode\": \"markers+text\", \"name\": \"CE\", \"orientation\": \"v\", \"showlegend\": true, \"text\": [\"CE\"], \"type\": \"scatter\", \"x\": [\"CE\"], \"xaxis\": \"x\", \"y\": [10510], \"yaxis\": \"y\"}, {\"hovertemplate\": \"Estado=%{text}<br>Mortes=%{marker.size}<extra></extra>\", \"legendgroup\": \"PE\", \"marker\": {\"color\": \"#19d3f3\", \"size\": [10387], \"sizemode\": \"area\", \"sizeref\": 6.599382716049383, \"symbol\": \"circle\"}, \"mode\": \"markers+text\", \"name\": \"PE\", \"orientation\": \"v\", \"showlegend\": true, \"text\": [\"PE\"], \"type\": \"scatter\", \"x\": [\"PE\"], \"xaxis\": \"x\", \"y\": [10387], \"yaxis\": \"y\"}, {\"hovertemplate\": \"Estado=%{text}<br>Mortes=%{marker.size}<extra></extra>\", \"legendgroup\": \"BA\", \"marker\": {\"color\": \"#FF6692\", \"size\": [10176], \"sizemode\": \"area\", \"sizeref\": 6.599382716049383, \"symbol\": \"circle\"}, \"mode\": \"markers+text\", \"name\": \"BA\", \"orientation\": \"v\", \"showlegend\": true, \"text\": [\"BA\"], \"type\": \"scatter\", \"x\": [\"BA\"], \"xaxis\": \"x\", \"y\": [10176], \"yaxis\": \"y\"}, {\"hovertemplate\": \"Estado=%{text}<br>Mortes=%{marker.size}<extra></extra>\", \"legendgroup\": \"PR\", \"marker\": {\"color\": \"#B6E880\", \"size\": [10141], \"sizemode\": \"area\", \"sizeref\": 6.599382716049383, \"symbol\": \"circle\"}, \"mode\": \"markers+text\", \"name\": \"PR\", \"orientation\": \"v\", \"showlegend\": true, \"text\": [\"PR\"], \"type\": \"scatter\", \"x\": [\"PR\"], \"xaxis\": \"x\", \"y\": [10141], \"yaxis\": \"y\"}, {\"hovertemplate\": \"Estado=%{text}<br>Mortes=%{marker.size}<extra></extra>\", \"legendgroup\": \"AM\", \"marker\": {\"color\": \"#FF97FF\", \"size\": [8414], \"sizemode\": \"area\", \"sizeref\": 6.599382716049383, \"symbol\": \"circle\"}, \"mode\": \"markers+text\", \"name\": \"AM\", \"orientation\": \"v\", \"showlegend\": true, \"text\": [\"AM\"], \"type\": \"scatter\", \"x\": [\"AM\"], \"xaxis\": \"x\", \"y\": [8414], \"yaxis\": \"y\"}, {\"hovertemplate\": \"Estado=%{text}<br>Mortes=%{marker.size}<extra></extra>\", \"legendgroup\": \"PA\", \"marker\": {\"color\": \"#FECB52\", \"size\": [7685], \"sizemode\": \"area\", \"sizeref\": 6.599382716049383, \"symbol\": \"circle\"}, \"mode\": \"markers+text\", \"name\": \"PA\", \"orientation\": \"v\", \"showlegend\": true, \"text\": [\"PA\"], \"type\": \"scatter\", \"x\": [\"PA\"], \"xaxis\": \"x\", \"y\": [7685], \"yaxis\": \"y\"}],                        {\"legend\": {\"itemsizing\": \"constant\", \"title\": {\"text\": \"Estado\"}, \"tracegroupgap\": 0}, \"margin\": {\"t\": 60}, \"template\": {\"data\": {\"bar\": [{\"error_x\": {\"color\": \"#2a3f5f\"}, \"error_y\": {\"color\": \"#2a3f5f\"}, \"marker\": {\"line\": {\"color\": \"#E5ECF6\", \"width\": 0.5}}, \"type\": \"bar\"}], \"barpolar\": [{\"marker\": {\"line\": {\"color\": \"#E5ECF6\", \"width\": 0.5}}, \"type\": \"barpolar\"}], \"carpet\": [{\"aaxis\": {\"endlinecolor\": \"#2a3f5f\", \"gridcolor\": \"white\", \"linecolor\": \"white\", \"minorgridcolor\": \"white\", \"startlinecolor\": \"#2a3f5f\"}, \"baxis\": {\"endlinecolor\": \"#2a3f5f\", \"gridcolor\": \"white\", \"linecolor\": \"white\", \"minorgridcolor\": \"white\", \"startlinecolor\": \"#2a3f5f\"}, \"type\": \"carpet\"}], \"choropleth\": [{\"colorbar\": {\"outlinewidth\": 0, \"ticks\": \"\"}, \"type\": \"choropleth\"}], \"contour\": [{\"colorbar\": {\"outlinewidth\": 0, \"ticks\": \"\"}, \"colorscale\": [[0.0, \"#0d0887\"], [0.1111111111111111, \"#46039f\"], [0.2222222222222222, \"#7201a8\"], [0.3333333333333333, \"#9c179e\"], [0.4444444444444444, \"#bd3786\"], [0.5555555555555556, \"#d8576b\"], [0.6666666666666666, \"#ed7953\"], [0.7777777777777778, \"#fb9f3a\"], [0.8888888888888888, \"#fdca26\"], [1.0, \"#f0f921\"]], \"type\": \"contour\"}], \"contourcarpet\": [{\"colorbar\": {\"outlinewidth\": 0, \"ticks\": \"\"}, \"type\": \"contourcarpet\"}], \"heatmap\": [{\"colorbar\": {\"outlinewidth\": 0, \"ticks\": \"\"}, \"colorscale\": [[0.0, \"#0d0887\"], [0.1111111111111111, \"#46039f\"], [0.2222222222222222, \"#7201a8\"], [0.3333333333333333, \"#9c179e\"], [0.4444444444444444, \"#bd3786\"], [0.5555555555555556, \"#d8576b\"], [0.6666666666666666, \"#ed7953\"], [0.7777777777777778, \"#fb9f3a\"], [0.8888888888888888, \"#fdca26\"], [1.0, \"#f0f921\"]], \"type\": \"heatmap\"}], \"heatmapgl\": [{\"colorbar\": {\"outlinewidth\": 0, \"ticks\": \"\"}, \"colorscale\": [[0.0, \"#0d0887\"], [0.1111111111111111, \"#46039f\"], [0.2222222222222222, \"#7201a8\"], [0.3333333333333333, \"#9c179e\"], [0.4444444444444444, \"#bd3786\"], [0.5555555555555556, \"#d8576b\"], [0.6666666666666666, \"#ed7953\"], [0.7777777777777778, \"#fb9f3a\"], [0.8888888888888888, \"#fdca26\"], [1.0, \"#f0f921\"]], \"type\": \"heatmapgl\"}], \"histogram\": [{\"marker\": {\"colorbar\": {\"outlinewidth\": 0, \"ticks\": \"\"}}, \"type\": \"histogram\"}], \"histogram2d\": [{\"colorbar\": {\"outlinewidth\": 0, \"ticks\": \"\"}, \"colorscale\": [[0.0, \"#0d0887\"], [0.1111111111111111, \"#46039f\"], [0.2222222222222222, \"#7201a8\"], [0.3333333333333333, \"#9c179e\"], [0.4444444444444444, \"#bd3786\"], [0.5555555555555556, \"#d8576b\"], [0.6666666666666666, \"#ed7953\"], [0.7777777777777778, \"#fb9f3a\"], [0.8888888888888888, \"#fdca26\"], [1.0, \"#f0f921\"]], \"type\": \"histogram2d\"}], \"histogram2dcontour\": [{\"colorbar\": {\"outlinewidth\": 0, \"ticks\": \"\"}, \"colorscale\": [[0.0, \"#0d0887\"], [0.1111111111111111, \"#46039f\"], [0.2222222222222222, \"#7201a8\"], [0.3333333333333333, \"#9c179e\"], [0.4444444444444444, \"#bd3786\"], [0.5555555555555556, \"#d8576b\"], [0.6666666666666666, \"#ed7953\"], [0.7777777777777778, \"#fb9f3a\"], [0.8888888888888888, \"#fdca26\"], [1.0, \"#f0f921\"]], \"type\": \"histogram2dcontour\"}], \"mesh3d\": [{\"colorbar\": {\"outlinewidth\": 0, \"ticks\": \"\"}, \"type\": \"mesh3d\"}], \"parcoords\": [{\"line\": {\"colorbar\": {\"outlinewidth\": 0, \"ticks\": \"\"}}, \"type\": \"parcoords\"}], \"pie\": [{\"automargin\": true, \"type\": \"pie\"}], \"scatter\": [{\"marker\": {\"colorbar\": {\"outlinewidth\": 0, \"ticks\": \"\"}}, \"type\": \"scatter\"}], \"scatter3d\": [{\"line\": {\"colorbar\": {\"outlinewidth\": 0, \"ticks\": \"\"}}, \"marker\": {\"colorbar\": {\"outlinewidth\": 0, \"ticks\": \"\"}}, \"type\": \"scatter3d\"}], \"scattercarpet\": [{\"marker\": {\"colorbar\": {\"outlinewidth\": 0, \"ticks\": \"\"}}, \"type\": \"scattercarpet\"}], \"scattergeo\": [{\"marker\": {\"colorbar\": {\"outlinewidth\": 0, \"ticks\": \"\"}}, \"type\": \"scattergeo\"}], \"scattergl\": [{\"marker\": {\"colorbar\": {\"outlinewidth\": 0, \"ticks\": \"\"}}, \"type\": \"scattergl\"}], \"scattermapbox\": [{\"marker\": {\"colorbar\": {\"outlinewidth\": 0, \"ticks\": \"\"}}, \"type\": \"scattermapbox\"}], \"scatterpolar\": [{\"marker\": {\"colorbar\": {\"outlinewidth\": 0, \"ticks\": \"\"}}, \"type\": \"scatterpolar\"}], \"scatterpolargl\": [{\"marker\": {\"colorbar\": {\"outlinewidth\": 0, \"ticks\": \"\"}}, \"type\": \"scatterpolargl\"}], \"scatterternary\": [{\"marker\": {\"colorbar\": {\"outlinewidth\": 0, \"ticks\": \"\"}}, \"type\": \"scatterternary\"}], \"surface\": [{\"colorbar\": {\"outlinewidth\": 0, \"ticks\": \"\"}, \"colorscale\": [[0.0, \"#0d0887\"], [0.1111111111111111, \"#46039f\"], [0.2222222222222222, \"#7201a8\"], [0.3333333333333333, \"#9c179e\"], [0.4444444444444444, \"#bd3786\"], [0.5555555555555556, \"#d8576b\"], [0.6666666666666666, \"#ed7953\"], [0.7777777777777778, \"#fb9f3a\"], [0.8888888888888888, \"#fdca26\"], [1.0, \"#f0f921\"]], \"type\": \"surface\"}], \"table\": [{\"cells\": {\"fill\": {\"color\": \"#EBF0F8\"}, \"line\": {\"color\": \"white\"}}, \"header\": {\"fill\": {\"color\": \"#C8D4E3\"}, \"line\": {\"color\": \"white\"}}, \"type\": \"table\"}]}, \"layout\": {\"annotationdefaults\": {\"arrowcolor\": \"#2a3f5f\", \"arrowhead\": 0, \"arrowwidth\": 1}, \"autotypenumbers\": \"strict\", \"coloraxis\": {\"colorbar\": {\"outlinewidth\": 0, \"ticks\": \"\"}}, \"colorscale\": {\"diverging\": [[0, \"#8e0152\"], [0.1, \"#c51b7d\"], [0.2, \"#de77ae\"], [0.3, \"#f1b6da\"], [0.4, \"#fde0ef\"], [0.5, \"#f7f7f7\"], [0.6, \"#e6f5d0\"], [0.7, \"#b8e186\"], [0.8, \"#7fbc41\"], [0.9, \"#4d9221\"], [1, \"#276419\"]], \"sequential\": [[0.0, \"#0d0887\"], [0.1111111111111111, \"#46039f\"], [0.2222222222222222, \"#7201a8\"], [0.3333333333333333, \"#9c179e\"], [0.4444444444444444, \"#bd3786\"], [0.5555555555555556, \"#d8576b\"], [0.6666666666666666, \"#ed7953\"], [0.7777777777777778, \"#fb9f3a\"], [0.8888888888888888, \"#fdca26\"], [1.0, \"#f0f921\"]], \"sequentialminus\": [[0.0, \"#0d0887\"], [0.1111111111111111, \"#46039f\"], [0.2222222222222222, \"#7201a8\"], [0.3333333333333333, \"#9c179e\"], [0.4444444444444444, \"#bd3786\"], [0.5555555555555556, \"#d8576b\"], [0.6666666666666666, \"#ed7953\"], [0.7777777777777778, \"#fb9f3a\"], [0.8888888888888888, \"#fdca26\"], [1.0, \"#f0f921\"]]}, \"colorway\": [\"#636efa\", \"#EF553B\", \"#00cc96\", \"#ab63fa\", \"#FFA15A\", \"#19d3f3\", \"#FF6692\", \"#B6E880\", \"#FF97FF\", \"#FECB52\"], \"font\": {\"color\": \"#2a3f5f\"}, \"geo\": {\"bgcolor\": \"white\", \"lakecolor\": \"white\", \"landcolor\": \"#E5ECF6\", \"showlakes\": true, \"showland\": true, \"subunitcolor\": \"white\"}, \"hoverlabel\": {\"align\": \"left\"}, \"hovermode\": \"closest\", \"mapbox\": {\"style\": \"light\"}, \"paper_bgcolor\": \"white\", \"plot_bgcolor\": \"#E5ECF6\", \"polar\": {\"angularaxis\": {\"gridcolor\": \"white\", \"linecolor\": \"white\", \"ticks\": \"\"}, \"bgcolor\": \"#E5ECF6\", \"radialaxis\": {\"gridcolor\": \"white\", \"linecolor\": \"white\", \"ticks\": \"\"}}, \"scene\": {\"xaxis\": {\"backgroundcolor\": \"#E5ECF6\", \"gridcolor\": \"white\", \"gridwidth\": 2, \"linecolor\": \"white\", \"showbackground\": true, \"ticks\": \"\", \"zerolinecolor\": \"white\"}, \"yaxis\": {\"backgroundcolor\": \"#E5ECF6\", \"gridcolor\": \"white\", \"gridwidth\": 2, \"linecolor\": \"white\", \"showbackground\": true, \"ticks\": \"\", \"zerolinecolor\": \"white\"}, \"zaxis\": {\"backgroundcolor\": \"#E5ECF6\", \"gridcolor\": \"white\", \"gridwidth\": 2, \"linecolor\": \"white\", \"showbackground\": true, \"ticks\": \"\", \"zerolinecolor\": \"white\"}}, \"shapedefaults\": {\"line\": {\"color\": \"#2a3f5f\"}}, \"ternary\": {\"aaxis\": {\"gridcolor\": \"white\", \"linecolor\": \"white\", \"ticks\": \"\"}, \"baxis\": {\"gridcolor\": \"white\", \"linecolor\": \"white\", \"ticks\": \"\"}, \"bgcolor\": \"#E5ECF6\", \"caxis\": {\"gridcolor\": \"white\", \"linecolor\": \"white\", \"ticks\": \"\"}}, \"title\": {\"x\": 0.05}, \"xaxis\": {\"automargin\": true, \"gridcolor\": \"white\", \"linecolor\": \"white\", \"ticks\": \"\", \"title\": {\"standoff\": 15}, \"zerolinecolor\": \"white\", \"zerolinewidth\": 2}, \"yaxis\": {\"automargin\": true, \"gridcolor\": \"white\", \"linecolor\": \"white\", \"ticks\": \"\", \"title\": {\"standoff\": 15}, \"zerolinecolor\": \"white\", \"zerolinewidth\": 2}}}, \"title\": {\"text\": \"Os top 10 piores estados por Mortes\"}, \"width\": 700, \"xaxis\": {\"anchor\": \"y\", \"categoryarray\": [\"SP\", \"RJ\", \"MG\", \"RS\", \"CE\", \"PE\", \"BA\", \"PR\", \"AM\", \"PA\"], \"categoryorder\": \"array\", \"domain\": [0.0, 1.0], \"title\": {\"text\": \"Estados\"}}, \"yaxis\": {\"anchor\": \"x\", \"domain\": [0.0, 1.0], \"title\": {\"text\": \"Mortes\"}}},                        {\"responsive\": true}                    ).then(function(){\n",
       "                            \n",
       "var gd = document.getElementById('6ea91fde-12a5-449b-a405-d1085d606eb4');\n",
       "var x = new MutationObserver(function (mutations, observer) {{\n",
       "        var display = window.getComputedStyle(gd).display;\n",
       "        if (!display || display === 'none') {{\n",
       "            console.log([gd, 'removed!']);\n",
       "            Plotly.purge(gd);\n",
       "            observer.disconnect();\n",
       "        }}\n",
       "}});\n",
       "\n",
       "// Listen for the removal of the full notebook cells\n",
       "var notebookContainer = gd.closest('#notebook-container');\n",
       "if (notebookContainer) {{\n",
       "    x.observe(notebookContainer, {childList: true});\n",
       "}}\n",
       "\n",
       "// Listen for the clearing of the current output cell\n",
       "var outputEl = gd.closest('.output');\n",
       "if (outputEl) {{\n",
       "    x.observe(outputEl, {childList: true});\n",
       "}}\n",
       "\n",
       "                        })                };                });            </script>        </div>"
      ]
     },
     "metadata": {},
     "output_type": "display_data"
    }
   ],
   "source": [
    "covid_bubble_chart(df_states, 'Mortes',10)"
   ]
  },
  {
   "cell_type": "code",
   "execution_count": 32,
   "id": "directed-setup",
   "metadata": {},
   "outputs": [],
   "source": [
    "datetime_index = pd.DatetimeIndex(df_states.index)\n",
    "df_states.set_index(datetime_index, inplace=True)"
   ]
  },
  {
   "cell_type": "code",
   "execution_count": 36,
   "id": "devoted-attention",
   "metadata": {},
   "outputs": [
    {
     "data": {
      "text/plain": [
       "<AxesSubplot:>"
      ]
     },
     "execution_count": 36,
     "metadata": {},
     "output_type": "execute_result"
    },
    {
     "data": {
      "image/png": "[encoded data removed]",
      "text/plain": [
       "<Figure size 432x288 with 1 Axes>"
      ]
     },
     "metadata": {
      "needs_background": "light"
     },
     "output_type": "display_data"
    }
   ],
   "source": [
    "df_states[df_states.state.isin(['SP','MG','BA'])].groupby(['last_available_date'])[['last_available_deaths']].sum().plot()                  "
   ]
  },
  {
   "cell_type": "code",
   "execution_count": 8,
   "id": "authentic-pricing",
   "metadata": {},
   "outputs": [
    {
     "name": "stdout",
     "output_type": "stream",
     "text": [
      "<class 'pandas.core.frame.DataFrame'>\n",
      "MultiIndex: 8730 entries, (Timestamp('2020-02-25 00:00:00'), 'SP') to (Timestamp('2021-02-02 00:00:00'), 'TO')\n",
      "Data columns (total 13 columns):\n",
      " #   Column                                         Non-Null Count  Dtype  \n",
      "---  ------                                         --------------  -----  \n",
      " 0   city_ibge_code                                 8730 non-null   float64\n",
      " 1   epidemiological_week                           8730 non-null   int64  \n",
      " 2   estimated_population                           8730 non-null   float64\n",
      " 3   estimated_population_2019                      8730 non-null   float64\n",
      " 4   is_last                                        8730 non-null   int64  \n",
      " 5   is_repeated                                    8730 non-null   int64  \n",
      " 6   last_available_confirmed                       8730 non-null   int64  \n",
      " 7   last_available_confirmed_per_100k_inhabitants  8730 non-null   float64\n",
      " 8   last_available_death_rate                      8730 non-null   float64\n",
      " 9   last_available_deaths                          8730 non-null   int64  \n",
      " 10  order_for_place                                8730 non-null   int64  \n",
      " 11  new_confirmed                                  8730 non-null   int64  \n",
      " 12  new_deaths                                     8730 non-null   int64  \n",
      "dtypes: float64(5), int64(8)\n",
      "memory usage: 915.2+ KB\n"
     ]
    }
   ],
   "source": [
    "df_states.groupby(['last_available_date','state']).sum().info()"
   ]
  },
  {
   "cell_type": "code",
   "execution_count": null,
   "id": "thrown-timber",
   "metadata": {},
   "outputs": [],
   "source": [
    "df"
   ]
  },
  {
   "cell_type": "code",
   "execution_count": 53,
   "id": "extra-caribbean",
   "metadata": {},
   "outputs": [],
   "source": [
    "df_states = df[df['place_type']=='state'].copy()\n",
    "df_cities = df[df['place_type']=='city'].copy()"
   ]
  },
  {
   "cell_type": "code",
   "execution_count": 62,
   "id": "civic-verification",
   "metadata": {},
   "outputs": [
    {
     "data": {
      "text/plain": [
       "state\n",
       "AC     154631\n",
       "AL     482301\n",
       "AM    1086942\n",
       "AP     174675\n",
       "BA    1501613\n",
       "CE    2151044\n",
       "DF     692149\n",
       "ES     863542\n",
       "GO    1023599\n",
       "MA     889640\n",
       "MG    1724143\n",
       "MS     309816\n",
       "MT     744411\n",
       "PA    1592521\n",
       "PB     641395\n",
       "PE    1957268\n",
       "PI     486766\n",
       "PR    1096319\n",
       "RJ    4591733\n",
       "RN     557155\n",
       "RO     310756\n",
       "RR     150097\n",
       "RS    1184728\n",
       "SC     688566\n",
       "SE     452750\n",
       "SP    8339330\n",
       "TO     202787\n",
       "Name: last_available_deaths, dtype: int64"
      ]
     },
     "execution_count": 62,
     "metadata": {},
     "output_type": "execute_result"
    }
   ],
   "source": [
    "df_states.groupby(['state'])['last_available_deaths'].sum()"
   ]
  },
  {
   "cell_type": "code",
   "execution_count": 47,
   "id": "behavioral-focus",
   "metadata": {},
   "outputs": [
    {
     "name": "stderr",
     "output_type": "stream",
     "text": [
      "<ipython-input-47-dbc946d00171>:1: UserWarning: Boolean Series key will be reindexed to match DataFrame index.\n",
      "  df_states[df['state'].str.contains('SP')]['last_available_deaths'].head()\n"
     ]
    },
    {
     "ename": "ValueError",
     "evalue": "cannot reindex from a duplicate axis",
     "output_type": "error",
     "traceback": [
      "\u001b[1;31m---------------------------------------------------------------------------\u001b[0m",
      "\u001b[1;31mValueError\u001b[0m                                Traceback (most recent call last)",
      "\u001b[1;32m<ipython-input-47-dbc946d00171>\u001b[0m in \u001b[0;36m<module>\u001b[1;34m\u001b[0m\n\u001b[1;32m----> 1\u001b[1;33m \u001b[0mdf_states\u001b[0m\u001b[1;33m[\u001b[0m\u001b[0mdf\u001b[0m\u001b[1;33m[\u001b[0m\u001b[1;34m'state'\u001b[0m\u001b[1;33m]\u001b[0m\u001b[1;33m.\u001b[0m\u001b[0mstr\u001b[0m\u001b[1;33m.\u001b[0m\u001b[0mcontains\u001b[0m\u001b[1;33m(\u001b[0m\u001b[1;34m'SP'\u001b[0m\u001b[1;33m)\u001b[0m\u001b[1;33m]\u001b[0m\u001b[1;33m[\u001b[0m\u001b[1;34m'last_available_deaths'\u001b[0m\u001b[1;33m]\u001b[0m\u001b[1;33m.\u001b[0m\u001b[0mhead\u001b[0m\u001b[1;33m(\u001b[0m\u001b[1;33m)\u001b[0m\u001b[1;33m\u001b[0m\u001b[1;33m\u001b[0m\u001b[0m\n\u001b[0m",
      "\u001b[1;32mc:\\users\\giuic\\appdata\\local\\programs\\python\\python39\\lib\\site-packages\\pandas\\core\\frame.py\u001b[0m in \u001b[0;36m__getitem__\u001b[1;34m(self, key)\u001b[0m\n\u001b[0;32m   3013\u001b[0m         \u001b[1;31m# Do we have a (boolean) 1d indexer?\u001b[0m\u001b[1;33m\u001b[0m\u001b[1;33m\u001b[0m\u001b[1;33m\u001b[0m\u001b[0m\n\u001b[0;32m   3014\u001b[0m         \u001b[1;32mif\u001b[0m \u001b[0mcom\u001b[0m\u001b[1;33m.\u001b[0m\u001b[0mis_bool_indexer\u001b[0m\u001b[1;33m(\u001b[0m\u001b[0mkey\u001b[0m\u001b[1;33m)\u001b[0m\u001b[1;33m:\u001b[0m\u001b[1;33m\u001b[0m\u001b[1;33m\u001b[0m\u001b[0m\n\u001b[1;32m-> 3015\u001b[1;33m             \u001b[1;32mreturn\u001b[0m \u001b[0mself\u001b[0m\u001b[1;33m.\u001b[0m\u001b[0m_getitem_bool_array\u001b[0m\u001b[1;33m(\u001b[0m\u001b[0mkey\u001b[0m\u001b[1;33m)\u001b[0m\u001b[1;33m\u001b[0m\u001b[1;33m\u001b[0m\u001b[0m\n\u001b[0m\u001b[0;32m   3016\u001b[0m \u001b[1;33m\u001b[0m\u001b[0m\n\u001b[0;32m   3017\u001b[0m         \u001b[1;31m# We are left with two options: a single key, and a collection of keys,\u001b[0m\u001b[1;33m\u001b[0m\u001b[1;33m\u001b[0m\u001b[1;33m\u001b[0m\u001b[0m\n",
      "\u001b[1;32mc:\\users\\giuic\\appdata\\local\\programs\\python\\python39\\lib\\site-packages\\pandas\\core\\frame.py\u001b[0m in \u001b[0;36m_getitem_bool_array\u001b[1;34m(self, key)\u001b[0m\n\u001b[0;32m   3066\u001b[0m         \u001b[1;31m# check_bool_indexer will throw exception if Series key cannot\u001b[0m\u001b[1;33m\u001b[0m\u001b[1;33m\u001b[0m\u001b[1;33m\u001b[0m\u001b[0m\n\u001b[0;32m   3067\u001b[0m         \u001b[1;31m# be reindexed to match DataFrame rows\u001b[0m\u001b[1;33m\u001b[0m\u001b[1;33m\u001b[0m\u001b[1;33m\u001b[0m\u001b[0m\n\u001b[1;32m-> 3068\u001b[1;33m         \u001b[0mkey\u001b[0m \u001b[1;33m=\u001b[0m \u001b[0mcheck_bool_indexer\u001b[0m\u001b[1;33m(\u001b[0m\u001b[0mself\u001b[0m\u001b[1;33m.\u001b[0m\u001b[0mindex\u001b[0m\u001b[1;33m,\u001b[0m \u001b[0mkey\u001b[0m\u001b[1;33m)\u001b[0m\u001b[1;33m\u001b[0m\u001b[1;33m\u001b[0m\u001b[0m\n\u001b[0m\u001b[0;32m   3069\u001b[0m         \u001b[0mindexer\u001b[0m \u001b[1;33m=\u001b[0m \u001b[0mkey\u001b[0m\u001b[1;33m.\u001b[0m\u001b[0mnonzero\u001b[0m\u001b[1;33m(\u001b[0m\u001b[1;33m)\u001b[0m\u001b[1;33m[\u001b[0m\u001b[1;36m0\u001b[0m\u001b[1;33m]\u001b[0m\u001b[1;33m\u001b[0m\u001b[1;33m\u001b[0m\u001b[0m\n\u001b[0;32m   3070\u001b[0m         \u001b[1;32mreturn\u001b[0m \u001b[0mself\u001b[0m\u001b[1;33m.\u001b[0m\u001b[0m_take_with_is_copy\u001b[0m\u001b[1;33m(\u001b[0m\u001b[0mindexer\u001b[0m\u001b[1;33m,\u001b[0m \u001b[0maxis\u001b[0m\u001b[1;33m=\u001b[0m\u001b[1;36m0\u001b[0m\u001b[1;33m)\u001b[0m\u001b[1;33m\u001b[0m\u001b[1;33m\u001b[0m\u001b[0m\n",
      "\u001b[1;32mc:\\users\\giuic\\appdata\\local\\programs\\python\\python39\\lib\\site-packages\\pandas\\core\\indexing.py\u001b[0m in \u001b[0;36mcheck_bool_indexer\u001b[1;34m(index, key)\u001b[0m\n\u001b[0;32m   2264\u001b[0m     \u001b[0mresult\u001b[0m \u001b[1;33m=\u001b[0m \u001b[0mkey\u001b[0m\u001b[1;33m\u001b[0m\u001b[1;33m\u001b[0m\u001b[0m\n\u001b[0;32m   2265\u001b[0m     \u001b[1;32mif\u001b[0m \u001b[0misinstance\u001b[0m\u001b[1;33m(\u001b[0m\u001b[0mkey\u001b[0m\u001b[1;33m,\u001b[0m \u001b[0mABCSeries\u001b[0m\u001b[1;33m)\u001b[0m \u001b[1;32mand\u001b[0m \u001b[1;32mnot\u001b[0m \u001b[0mkey\u001b[0m\u001b[1;33m.\u001b[0m\u001b[0mindex\u001b[0m\u001b[1;33m.\u001b[0m\u001b[0mequals\u001b[0m\u001b[1;33m(\u001b[0m\u001b[0mindex\u001b[0m\u001b[1;33m)\u001b[0m\u001b[1;33m:\u001b[0m\u001b[1;33m\u001b[0m\u001b[1;33m\u001b[0m\u001b[0m\n\u001b[1;32m-> 2266\u001b[1;33m         \u001b[0mresult\u001b[0m \u001b[1;33m=\u001b[0m \u001b[0mresult\u001b[0m\u001b[1;33m.\u001b[0m\u001b[0mreindex\u001b[0m\u001b[1;33m(\u001b[0m\u001b[0mindex\u001b[0m\u001b[1;33m)\u001b[0m\u001b[1;33m\u001b[0m\u001b[1;33m\u001b[0m\u001b[0m\n\u001b[0m\u001b[0;32m   2267\u001b[0m         \u001b[0mmask\u001b[0m \u001b[1;33m=\u001b[0m \u001b[0misna\u001b[0m\u001b[1;33m(\u001b[0m\u001b[0mresult\u001b[0m\u001b[1;33m.\u001b[0m\u001b[0m_values\u001b[0m\u001b[1;33m)\u001b[0m\u001b[1;33m\u001b[0m\u001b[1;33m\u001b[0m\u001b[0m\n\u001b[0;32m   2268\u001b[0m         \u001b[1;32mif\u001b[0m \u001b[0mmask\u001b[0m\u001b[1;33m.\u001b[0m\u001b[0many\u001b[0m\u001b[1;33m(\u001b[0m\u001b[1;33m)\u001b[0m\u001b[1;33m:\u001b[0m\u001b[1;33m\u001b[0m\u001b[1;33m\u001b[0m\u001b[0m\n",
      "\u001b[1;32mc:\\users\\giuic\\appdata\\local\\programs\\python\\python39\\lib\\site-packages\\pandas\\core\\series.py\u001b[0m in \u001b[0;36mreindex\u001b[1;34m(self, index, **kwargs)\u001b[0m\n\u001b[0;32m   4313\u001b[0m     )\n\u001b[0;32m   4314\u001b[0m     \u001b[1;32mdef\u001b[0m \u001b[0mreindex\u001b[0m\u001b[1;33m(\u001b[0m\u001b[0mself\u001b[0m\u001b[1;33m,\u001b[0m \u001b[0mindex\u001b[0m\u001b[1;33m=\u001b[0m\u001b[1;32mNone\u001b[0m\u001b[1;33m,\u001b[0m \u001b[1;33m**\u001b[0m\u001b[0mkwargs\u001b[0m\u001b[1;33m)\u001b[0m\u001b[1;33m:\u001b[0m\u001b[1;33m\u001b[0m\u001b[1;33m\u001b[0m\u001b[0m\n\u001b[1;32m-> 4315\u001b[1;33m         \u001b[1;32mreturn\u001b[0m \u001b[0msuper\u001b[0m\u001b[1;33m(\u001b[0m\u001b[1;33m)\u001b[0m\u001b[1;33m.\u001b[0m\u001b[0mreindex\u001b[0m\u001b[1;33m(\u001b[0m\u001b[0mindex\u001b[0m\u001b[1;33m=\u001b[0m\u001b[0mindex\u001b[0m\u001b[1;33m,\u001b[0m \u001b[1;33m**\u001b[0m\u001b[0mkwargs\u001b[0m\u001b[1;33m)\u001b[0m\u001b[1;33m\u001b[0m\u001b[1;33m\u001b[0m\u001b[0m\n\u001b[0m\u001b[0;32m   4316\u001b[0m \u001b[1;33m\u001b[0m\u001b[0m\n\u001b[0;32m   4317\u001b[0m     def drop(\n",
      "\u001b[1;32mc:\\users\\giuic\\appdata\\local\\programs\\python\\python39\\lib\\site-packages\\pandas\\core\\generic.py\u001b[0m in \u001b[0;36mreindex\u001b[1;34m(self, *args, **kwargs)\u001b[0m\n\u001b[0;32m   4806\u001b[0m \u001b[1;33m\u001b[0m\u001b[0m\n\u001b[0;32m   4807\u001b[0m         \u001b[1;31m# perform the reindex on the axes\u001b[0m\u001b[1;33m\u001b[0m\u001b[1;33m\u001b[0m\u001b[1;33m\u001b[0m\u001b[0m\n\u001b[1;32m-> 4808\u001b[1;33m         return self._reindex_axes(\n\u001b[0m\u001b[0;32m   4809\u001b[0m             \u001b[0maxes\u001b[0m\u001b[1;33m,\u001b[0m \u001b[0mlevel\u001b[0m\u001b[1;33m,\u001b[0m \u001b[0mlimit\u001b[0m\u001b[1;33m,\u001b[0m \u001b[0mtolerance\u001b[0m\u001b[1;33m,\u001b[0m \u001b[0mmethod\u001b[0m\u001b[1;33m,\u001b[0m \u001b[0mfill_value\u001b[0m\u001b[1;33m,\u001b[0m \u001b[0mcopy\u001b[0m\u001b[1;33m\u001b[0m\u001b[1;33m\u001b[0m\u001b[0m\n\u001b[0;32m   4810\u001b[0m         ).__finalize__(self, method=\"reindex\")\n",
      "\u001b[1;32mc:\\users\\giuic\\appdata\\local\\programs\\python\\python39\\lib\\site-packages\\pandas\\core\\generic.py\u001b[0m in \u001b[0;36m_reindex_axes\u001b[1;34m(self, axes, level, limit, tolerance, method, fill_value, copy)\u001b[0m\n\u001b[0;32m   4827\u001b[0m \u001b[1;33m\u001b[0m\u001b[0m\n\u001b[0;32m   4828\u001b[0m             \u001b[0maxis\u001b[0m \u001b[1;33m=\u001b[0m \u001b[0mself\u001b[0m\u001b[1;33m.\u001b[0m\u001b[0m_get_axis_number\u001b[0m\u001b[1;33m(\u001b[0m\u001b[0ma\u001b[0m\u001b[1;33m)\u001b[0m\u001b[1;33m\u001b[0m\u001b[1;33m\u001b[0m\u001b[0m\n\u001b[1;32m-> 4829\u001b[1;33m             obj = obj._reindex_with_indexers(\n\u001b[0m\u001b[0;32m   4830\u001b[0m                 \u001b[1;33m{\u001b[0m\u001b[0maxis\u001b[0m\u001b[1;33m:\u001b[0m \u001b[1;33m[\u001b[0m\u001b[0mnew_index\u001b[0m\u001b[1;33m,\u001b[0m \u001b[0mindexer\u001b[0m\u001b[1;33m]\u001b[0m\u001b[1;33m}\u001b[0m\u001b[1;33m,\u001b[0m\u001b[1;33m\u001b[0m\u001b[1;33m\u001b[0m\u001b[0m\n\u001b[0;32m   4831\u001b[0m                 \u001b[0mfill_value\u001b[0m\u001b[1;33m=\u001b[0m\u001b[0mfill_value\u001b[0m\u001b[1;33m,\u001b[0m\u001b[1;33m\u001b[0m\u001b[1;33m\u001b[0m\u001b[0m\n",
      "\u001b[1;32mc:\\users\\giuic\\appdata\\local\\programs\\python\\python39\\lib\\site-packages\\pandas\\core\\generic.py\u001b[0m in \u001b[0;36m_reindex_with_indexers\u001b[1;34m(self, reindexers, fill_value, copy, allow_dups)\u001b[0m\n\u001b[0;32m   4872\u001b[0m \u001b[1;33m\u001b[0m\u001b[0m\n\u001b[0;32m   4873\u001b[0m             \u001b[1;31m# TODO: speed up on homogeneous DataFrame objects\u001b[0m\u001b[1;33m\u001b[0m\u001b[1;33m\u001b[0m\u001b[1;33m\u001b[0m\u001b[0m\n\u001b[1;32m-> 4874\u001b[1;33m             new_data = new_data.reindex_indexer(\n\u001b[0m\u001b[0;32m   4875\u001b[0m                 \u001b[0mindex\u001b[0m\u001b[1;33m,\u001b[0m\u001b[1;33m\u001b[0m\u001b[1;33m\u001b[0m\u001b[0m\n\u001b[0;32m   4876\u001b[0m                 \u001b[0mindexer\u001b[0m\u001b[1;33m,\u001b[0m\u001b[1;33m\u001b[0m\u001b[1;33m\u001b[0m\u001b[0m\n",
      "\u001b[1;32mc:\\users\\giuic\\appdata\\local\\programs\\python\\python39\\lib\\site-packages\\pandas\\core\\internals\\managers.py\u001b[0m in \u001b[0;36mreindex_indexer\u001b[1;34m(self, new_axis, indexer, axis, fill_value, allow_dups, copy, consolidate, only_slice)\u001b[0m\n\u001b[0;32m   1299\u001b[0m         \u001b[1;31m# some axes don't allow reindexing with dups\u001b[0m\u001b[1;33m\u001b[0m\u001b[1;33m\u001b[0m\u001b[1;33m\u001b[0m\u001b[0m\n\u001b[0;32m   1300\u001b[0m         \u001b[1;32mif\u001b[0m \u001b[1;32mnot\u001b[0m \u001b[0mallow_dups\u001b[0m\u001b[1;33m:\u001b[0m\u001b[1;33m\u001b[0m\u001b[1;33m\u001b[0m\u001b[0m\n\u001b[1;32m-> 1301\u001b[1;33m             \u001b[0mself\u001b[0m\u001b[1;33m.\u001b[0m\u001b[0maxes\u001b[0m\u001b[1;33m[\u001b[0m\u001b[0maxis\u001b[0m\u001b[1;33m]\u001b[0m\u001b[1;33m.\u001b[0m\u001b[0m_can_reindex\u001b[0m\u001b[1;33m(\u001b[0m\u001b[0mindexer\u001b[0m\u001b[1;33m)\u001b[0m\u001b[1;33m\u001b[0m\u001b[1;33m\u001b[0m\u001b[0m\n\u001b[0m\u001b[0;32m   1302\u001b[0m \u001b[1;33m\u001b[0m\u001b[0m\n\u001b[0;32m   1303\u001b[0m         \u001b[1;32mif\u001b[0m \u001b[0maxis\u001b[0m \u001b[1;33m>=\u001b[0m \u001b[0mself\u001b[0m\u001b[1;33m.\u001b[0m\u001b[0mndim\u001b[0m\u001b[1;33m:\u001b[0m\u001b[1;33m\u001b[0m\u001b[1;33m\u001b[0m\u001b[0m\n",
      "\u001b[1;32mc:\\users\\giuic\\appdata\\local\\programs\\python\\python39\\lib\\site-packages\\pandas\\core\\indexes\\base.py\u001b[0m in \u001b[0;36m_can_reindex\u001b[1;34m(self, indexer)\u001b[0m\n\u001b[0;32m   3474\u001b[0m         \u001b[1;31m# trying to reindex on an axis with duplicates\u001b[0m\u001b[1;33m\u001b[0m\u001b[1;33m\u001b[0m\u001b[1;33m\u001b[0m\u001b[0m\n\u001b[0;32m   3475\u001b[0m         \u001b[1;32mif\u001b[0m \u001b[1;32mnot\u001b[0m \u001b[0mself\u001b[0m\u001b[1;33m.\u001b[0m\u001b[0m_index_as_unique\u001b[0m \u001b[1;32mand\u001b[0m \u001b[0mlen\u001b[0m\u001b[1;33m(\u001b[0m\u001b[0mindexer\u001b[0m\u001b[1;33m)\u001b[0m\u001b[1;33m:\u001b[0m\u001b[1;33m\u001b[0m\u001b[1;33m\u001b[0m\u001b[0m\n\u001b[1;32m-> 3476\u001b[1;33m             \u001b[1;32mraise\u001b[0m \u001b[0mValueError\u001b[0m\u001b[1;33m(\u001b[0m\u001b[1;34m\"cannot reindex from a duplicate axis\"\u001b[0m\u001b[1;33m)\u001b[0m\u001b[1;33m\u001b[0m\u001b[1;33m\u001b[0m\u001b[0m\n\u001b[0m\u001b[0;32m   3477\u001b[0m \u001b[1;33m\u001b[0m\u001b[0m\n\u001b[0;32m   3478\u001b[0m     \u001b[1;32mdef\u001b[0m \u001b[0mreindex\u001b[0m\u001b[1;33m(\u001b[0m\u001b[0mself\u001b[0m\u001b[1;33m,\u001b[0m \u001b[0mtarget\u001b[0m\u001b[1;33m,\u001b[0m \u001b[0mmethod\u001b[0m\u001b[1;33m=\u001b[0m\u001b[1;32mNone\u001b[0m\u001b[1;33m,\u001b[0m \u001b[0mlevel\u001b[0m\u001b[1;33m=\u001b[0m\u001b[1;32mNone\u001b[0m\u001b[1;33m,\u001b[0m \u001b[0mlimit\u001b[0m\u001b[1;33m=\u001b[0m\u001b[1;32mNone\u001b[0m\u001b[1;33m,\u001b[0m \u001b[0mtolerance\u001b[0m\u001b[1;33m=\u001b[0m\u001b[1;32mNone\u001b[0m\u001b[1;33m)\u001b[0m\u001b[1;33m:\u001b[0m\u001b[1;33m\u001b[0m\u001b[1;33m\u001b[0m\u001b[0m\n",
      "\u001b[1;31mValueError\u001b[0m: cannot reindex from a duplicate axis"
     ]
    }
   ],
   "source": [
    "df_states[df['state'].str.contains('SP')]['last_available_deaths'].head()"
   ]
  },
  {
   "cell_type": "code",
   "execution_count": 33,
   "id": "individual-genome",
   "metadata": {},
   "outputs": [
    {
     "data": {
      "text/plain": [
       "<bound method DataFrame.reset_index of                            new_confirmed  new_deaths  \\\n",
       "last_available_date state                              \n",
       "2020-02-25          SP                 1           0   \n",
       "2020-02-26          SP                 0           0   \n",
       "2020-02-27          SP                 0           0   \n",
       "2020-02-28          SP                 1           0   \n",
       "2020-02-29          SP                 0           0   \n",
       "...                                  ...         ...   \n",
       "2021-02-02          RS              3255          63   \n",
       "                    SC              2802          53   \n",
       "                    SE               424           8   \n",
       "                    SP             14297         365   \n",
       "                    TO               442           5   \n",
       "\n",
       "                           last_available_confirmed_per_100k_inhabitants  \n",
       "last_available_date state                                                 \n",
       "2020-02-25          SP                                           0.00216  \n",
       "2020-02-26          SP                                           0.00216  \n",
       "2020-02-27          SP                                           0.00216  \n",
       "2020-02-28          SP                                           0.00432  \n",
       "2020-02-29          SP                                           0.00432  \n",
       "...                                                                  ...  \n",
       "2021-02-02          RS                                        4826.38802  \n",
       "                    SC                                        8015.88197  \n",
       "                    SE                                        5977.64727  \n",
       "                    SP                                        3875.66397  \n",
       "                    TO                                        6463.77169  \n",
       "\n",
       "[8730 rows x 3 columns]>"
      ]
     },
     "execution_count": 33,
     "metadata": {},
     "output_type": "execute_result"
    }
   ],
   "source": [
    "df_states.groupby(['last_available_date','state'])[['new_confirmed', 'new_deaths','last_available_confirmed_per_100k_inhabitants']].sum().reset_index"
   ]
  },
  {
   "cell_type": "code",
   "execution_count": 24,
   "id": "official-switch",
   "metadata": {},
   "outputs": [
    {
     "data": {
      "text/plain": [
       "<bound method IndexOpsMixin.value_counts of last_available_date\n",
       "2020-02-25    SP\n",
       "2020-02-26    SP\n",
       "2020-02-27    SP\n",
       "2020-02-28    SP\n",
       "2020-02-29    SP\n",
       "              ..\n",
       "2021-02-02    RS\n",
       "2021-02-02    SC\n",
       "2021-02-02    SE\n",
       "2021-02-02    SP\n",
       "2021-02-02    TO\n",
       "Name: state, Length: 8833, dtype: object>"
      ]
     },
     "execution_count": 24,
     "metadata": {},
     "output_type": "execute_result"
    }
   ],
   "source": []
  },
  {
   "cell_type": "code",
   "execution_count": 18,
   "id": "accessible-venture",
   "metadata": {},
   "outputs": [
    {
     "data": {
      "text/html": [
       "<div>\n",
       "<style scoped>\n",
       "    .dataframe tbody tr th:only-of-type {\n",
       "        vertical-align: middle;\n",
       "    }\n",
       "\n",
       "    .dataframe tbody tr th {\n",
       "        vertical-align: top;\n",
       "    }\n",
       "\n",
       "    .dataframe thead th {\n",
       "        text-align: right;\n",
       "    }\n",
       "</style>\n",
       "<table border=\"1\" class=\"dataframe\">\n",
       "  <thead>\n",
       "    <tr style=\"text-align: right;\">\n",
       "      <th></th>\n",
       "      <th>city</th>\n",
       "      <th>city_ibge_code</th>\n",
       "      <th>date</th>\n",
       "      <th>epidemiological_week</th>\n",
       "      <th>estimated_population</th>\n",
       "      <th>estimated_population_2019</th>\n",
       "      <th>is_last</th>\n",
       "      <th>is_repeated</th>\n",
       "      <th>last_available_confirmed</th>\n",
       "      <th>last_available_confirmed_per_100k_inhabitants</th>\n",
       "      <th>last_available_date</th>\n",
       "      <th>last_available_death_rate</th>\n",
       "      <th>last_available_deaths</th>\n",
       "      <th>order_for_place</th>\n",
       "      <th>place_type</th>\n",
       "      <th>state</th>\n",
       "      <th>new_confirmed</th>\n",
       "      <th>new_deaths</th>\n",
       "    </tr>\n",
       "  </thead>\n",
       "  <tbody>\n",
       "    <tr>\n",
       "      <th>1506060</th>\n",
       "      <td>Lagoa do Tocantins</td>\n",
       "      <td>1711951.0</td>\n",
       "      <td>2021-02-02</td>\n",
       "      <td>202105</td>\n",
       "      <td>4393.0</td>\n",
       "      <td>4316.0</td>\n",
       "      <td>False</td>\n",
       "      <td>True</td>\n",
       "      <td>75</td>\n",
       "      <td>1707.26155</td>\n",
       "      <td>2021-01-31</td>\n",
       "      <td>0.0533</td>\n",
       "      <td>4</td>\n",
       "      <td>256</td>\n",
       "      <td>city</td>\n",
       "      <td>TO</td>\n",
       "      <td>0</td>\n",
       "      <td>0</td>\n",
       "    </tr>\n",
       "    <tr>\n",
       "      <th>1506061</th>\n",
       "      <td>Lajeado</td>\n",
       "      <td>1712009.0</td>\n",
       "      <td>2021-02-02</td>\n",
       "      <td>202105</td>\n",
       "      <td>3167.0</td>\n",
       "      <td>3134.0</td>\n",
       "      <td>False</td>\n",
       "      <td>True</td>\n",
       "      <td>72</td>\n",
       "      <td>2273.44490</td>\n",
       "      <td>2021-01-31</td>\n",
       "      <td>0.0278</td>\n",
       "      <td>2</td>\n",
       "      <td>259</td>\n",
       "      <td>city</td>\n",
       "      <td>TO</td>\n",
       "      <td>0</td>\n",
       "      <td>0</td>\n",
       "    </tr>\n",
       "    <tr>\n",
       "      <th>1506062</th>\n",
       "      <td>Lavandeira</td>\n",
       "      <td>1712157.0</td>\n",
       "      <td>2021-02-02</td>\n",
       "      <td>202105</td>\n",
       "      <td>1954.0</td>\n",
       "      <td>1923.0</td>\n",
       "      <td>False</td>\n",
       "      <td>True</td>\n",
       "      <td>42</td>\n",
       "      <td>2149.43705</td>\n",
       "      <td>2021-01-31</td>\n",
       "      <td>0.0000</td>\n",
       "      <td>0</td>\n",
       "      <td>256</td>\n",
       "      <td>city</td>\n",
       "      <td>TO</td>\n",
       "      <td>0</td>\n",
       "      <td>0</td>\n",
       "    </tr>\n",
       "    <tr>\n",
       "      <th>1506063</th>\n",
       "      <td>Lizarda</td>\n",
       "      <td>1712405.0</td>\n",
       "      <td>2021-02-02</td>\n",
       "      <td>202105</td>\n",
       "      <td>3733.0</td>\n",
       "      <td>3740.0</td>\n",
       "      <td>False</td>\n",
       "      <td>True</td>\n",
       "      <td>87</td>\n",
       "      <td>2330.56523</td>\n",
       "      <td>2021-01-31</td>\n",
       "      <td>0.0230</td>\n",
       "      <td>2</td>\n",
       "      <td>275</td>\n",
       "      <td>city</td>\n",
       "      <td>TO</td>\n",
       "      <td>0</td>\n",
       "      <td>0</td>\n",
       "    </tr>\n",
       "    <tr>\n",
       "      <th>1506064</th>\n",
       "      <td>Luzinópolis</td>\n",
       "      <td>1712454.0</td>\n",
       "      <td>2021-02-02</td>\n",
       "      <td>202105</td>\n",
       "      <td>3154.0</td>\n",
       "      <td>3108.0</td>\n",
       "      <td>False</td>\n",
       "      <td>True</td>\n",
       "      <td>153</td>\n",
       "      <td>4850.98288</td>\n",
       "      <td>2021-01-31</td>\n",
       "      <td>0.0131</td>\n",
       "      <td>2</td>\n",
       "      <td>257</td>\n",
       "      <td>city</td>\n",
       "      <td>TO</td>\n",
       "      <td>0</td>\n",
       "      <td>0</td>\n",
       "    </tr>\n",
       "    <tr>\n",
       "      <th>...</th>\n",
       "      <td>...</td>\n",
       "      <td>...</td>\n",
       "      <td>...</td>\n",
       "      <td>...</td>\n",
       "      <td>...</td>\n",
       "      <td>...</td>\n",
       "      <td>...</td>\n",
       "      <td>...</td>\n",
       "      <td>...</td>\n",
       "      <td>...</td>\n",
       "      <td>...</td>\n",
       "      <td>...</td>\n",
       "      <td>...</td>\n",
       "      <td>...</td>\n",
       "      <td>...</td>\n",
       "      <td>...</td>\n",
       "      <td>...</td>\n",
       "      <td>...</td>\n",
       "    </tr>\n",
       "    <tr>\n",
       "      <th>1506155</th>\n",
       "      <td>NaN</td>\n",
       "      <td>43.0</td>\n",
       "      <td>2021-02-02</td>\n",
       "      <td>202105</td>\n",
       "      <td>11422973.0</td>\n",
       "      <td>11377239.0</td>\n",
       "      <td>True</td>\n",
       "      <td>False</td>\n",
       "      <td>551317</td>\n",
       "      <td>4826.38802</td>\n",
       "      <td>2021-02-02</td>\n",
       "      <td>0.0195</td>\n",
       "      <td>10778</td>\n",
       "      <td>330</td>\n",
       "      <td>state</td>\n",
       "      <td>RS</td>\n",
       "      <td>3255</td>\n",
       "      <td>63</td>\n",
       "    </tr>\n",
       "    <tr>\n",
       "      <th>1506156</th>\n",
       "      <td>NaN</td>\n",
       "      <td>42.0</td>\n",
       "      <td>2021-02-02</td>\n",
       "      <td>202105</td>\n",
       "      <td>7252502.0</td>\n",
       "      <td>7164788.0</td>\n",
       "      <td>True</td>\n",
       "      <td>False</td>\n",
       "      <td>581352</td>\n",
       "      <td>8015.88197</td>\n",
       "      <td>2021-02-02</td>\n",
       "      <td>0.0110</td>\n",
       "      <td>6416</td>\n",
       "      <td>328</td>\n",
       "      <td>state</td>\n",
       "      <td>SC</td>\n",
       "      <td>2802</td>\n",
       "      <td>53</td>\n",
       "    </tr>\n",
       "    <tr>\n",
       "      <th>1506157</th>\n",
       "      <td>NaN</td>\n",
       "      <td>28.0</td>\n",
       "      <td>2021-02-02</td>\n",
       "      <td>202105</td>\n",
       "      <td>2318822.0</td>\n",
       "      <td>2298696.0</td>\n",
       "      <td>True</td>\n",
       "      <td>False</td>\n",
       "      <td>138611</td>\n",
       "      <td>5977.64727</td>\n",
       "      <td>2021-02-02</td>\n",
       "      <td>0.0202</td>\n",
       "      <td>2794</td>\n",
       "      <td>326</td>\n",
       "      <td>state</td>\n",
       "      <td>SE</td>\n",
       "      <td>424</td>\n",
       "      <td>8</td>\n",
       "    </tr>\n",
       "    <tr>\n",
       "      <th>1506158</th>\n",
       "      <td>NaN</td>\n",
       "      <td>35.0</td>\n",
       "      <td>2021-02-02</td>\n",
       "      <td>202105</td>\n",
       "      <td>46289333.0</td>\n",
       "      <td>45919049.0</td>\n",
       "      <td>True</td>\n",
       "      <td>False</td>\n",
       "      <td>1794019</td>\n",
       "      <td>3875.66397</td>\n",
       "      <td>2021-02-02</td>\n",
       "      <td>0.0298</td>\n",
       "      <td>53455</td>\n",
       "      <td>344</td>\n",
       "      <td>state</td>\n",
       "      <td>SP</td>\n",
       "      <td>14297</td>\n",
       "      <td>365</td>\n",
       "    </tr>\n",
       "    <tr>\n",
       "      <th>1506159</th>\n",
       "      <td>NaN</td>\n",
       "      <td>17.0</td>\n",
       "      <td>2021-02-02</td>\n",
       "      <td>202105</td>\n",
       "      <td>1590248.0</td>\n",
       "      <td>1572866.0</td>\n",
       "      <td>True</td>\n",
       "      <td>False</td>\n",
       "      <td>102790</td>\n",
       "      <td>6463.77169</td>\n",
       "      <td>2021-02-02</td>\n",
       "      <td>0.0135</td>\n",
       "      <td>1391</td>\n",
       "      <td>322</td>\n",
       "      <td>state</td>\n",
       "      <td>TO</td>\n",
       "      <td>442</td>\n",
       "      <td>5</td>\n",
       "    </tr>\n",
       "  </tbody>\n",
       "</table>\n",
       "<p>100 rows × 18 columns</p>\n",
       "</div>"
      ],
      "text/plain": [
       "                       city  city_ibge_code        date  epidemiological_week  \\\n",
       "1506060  Lagoa do Tocantins       1711951.0  2021-02-02                202105   \n",
       "1506061             Lajeado       1712009.0  2021-02-02                202105   \n",
       "1506062          Lavandeira       1712157.0  2021-02-02                202105   \n",
       "1506063             Lizarda       1712405.0  2021-02-02                202105   \n",
       "1506064         Luzinópolis       1712454.0  2021-02-02                202105   \n",
       "...                     ...             ...         ...                   ...   \n",
       "1506155                 NaN            43.0  2021-02-02                202105   \n",
       "1506156                 NaN            42.0  2021-02-02                202105   \n",
       "1506157                 NaN            28.0  2021-02-02                202105   \n",
       "1506158                 NaN            35.0  2021-02-02                202105   \n",
       "1506159                 NaN            17.0  2021-02-02                202105   \n",
       "\n",
       "         estimated_population  estimated_population_2019  is_last  \\\n",
       "1506060                4393.0                     4316.0    False   \n",
       "1506061                3167.0                     3134.0    False   \n",
       "1506062                1954.0                     1923.0    False   \n",
       "1506063                3733.0                     3740.0    False   \n",
       "1506064                3154.0                     3108.0    False   \n",
       "...                       ...                        ...      ...   \n",
       "1506155            11422973.0                 11377239.0     True   \n",
       "1506156             7252502.0                  7164788.0     True   \n",
       "1506157             2318822.0                  2298696.0     True   \n",
       "1506158            46289333.0                 45919049.0     True   \n",
       "1506159             1590248.0                  1572866.0     True   \n",
       "\n",
       "         is_repeated  last_available_confirmed  \\\n",
       "1506060         True                        75   \n",
       "1506061         True                        72   \n",
       "1506062         True                        42   \n",
       "1506063         True                        87   \n",
       "1506064         True                       153   \n",
       "...              ...                       ...   \n",
       "1506155        False                    551317   \n",
       "1506156        False                    581352   \n",
       "1506157        False                    138611   \n",
       "1506158        False                   1794019   \n",
       "1506159        False                    102790   \n",
       "\n",
       "         last_available_confirmed_per_100k_inhabitants last_available_date  \\\n",
       "1506060                                     1707.26155          2021-01-31   \n",
       "1506061                                     2273.44490          2021-01-31   \n",
       "1506062                                     2149.43705          2021-01-31   \n",
       "1506063                                     2330.56523          2021-01-31   \n",
       "1506064                                     4850.98288          2021-01-31   \n",
       "...                                                ...                 ...   \n",
       "1506155                                     4826.38802          2021-02-02   \n",
       "1506156                                     8015.88197          2021-02-02   \n",
       "1506157                                     5977.64727          2021-02-02   \n",
       "1506158                                     3875.66397          2021-02-02   \n",
       "1506159                                     6463.77169          2021-02-02   \n",
       "\n",
       "         last_available_death_rate  last_available_deaths  order_for_place  \\\n",
       "1506060                     0.0533                      4              256   \n",
       "1506061                     0.0278                      2              259   \n",
       "1506062                     0.0000                      0              256   \n",
       "1506063                     0.0230                      2              275   \n",
       "1506064                     0.0131                      2              257   \n",
       "...                            ...                    ...              ...   \n",
       "1506155                     0.0195                  10778              330   \n",
       "1506156                     0.0110                   6416              328   \n",
       "1506157                     0.0202                   2794              326   \n",
       "1506158                     0.0298                  53455              344   \n",
       "1506159                     0.0135                   1391              322   \n",
       "\n",
       "        place_type state  new_confirmed  new_deaths  \n",
       "1506060       city    TO              0           0  \n",
       "1506061       city    TO              0           0  \n",
       "1506062       city    TO              0           0  \n",
       "1506063       city    TO              0           0  \n",
       "1506064       city    TO              0           0  \n",
       "...            ...   ...            ...         ...  \n",
       "1506155      state    RS           3255          63  \n",
       "1506156      state    SC           2802          53  \n",
       "1506157      state    SE            424           8  \n",
       "1506158      state    SP          14297         365  \n",
       "1506159      state    TO            442           5  \n",
       "\n",
       "[100 rows x 18 columns]"
      ]
     },
     "execution_count": 18,
     "metadata": {},
     "output_type": "execute_result"
    }
   ],
   "source": [
    "df[df['state']=='state'].groupby('state').sum()"
   ]
  }
 ],
 "metadata": {
  "kernelspec": {
   "display_name": "Python 3",
   "language": "python",
   "name": "python3"
  },
  "language_info": {
   "codemirror_mode": {
    "name": "ipython",
    "version": 3
   },
   "file_extension": ".py",
   "mimetype": "text/x-python",
   "name": "python",
   "nbconvert_exporter": "python",
   "pygments_lexer": "ipython3",
   "version": "3.9.1-final"
  }
 },
 "nbformat": 4,
 "nbformat_minor": 5
}