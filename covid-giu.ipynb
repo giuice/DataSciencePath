{
 "cells": [
  {
   "cell_type": "markdown",
   "id": "confidential-chest",
   "metadata": {},
   "source": [
    "# Covid Brasil"
   ]
  },
  {
   "cell_type": "code",
   "execution_count": null,
   "id": "annual-oliver",
   "metadata": {},
   "outputs": [],
   "source": [
    "#%config IPCompleter.greedy=True\n",
    "#!pip install pandas\n",
    "#!pip install seaborn\n",
    "#!pip install plotly\n",
    "#!pip install altair"
   ]
  },
  {
   "cell_type": "code",
   "execution_count": 53,
   "id": "stuffed-former",
   "metadata": {},
   "outputs": [
    {
     "output_type": "stream",
     "name": "stdout",
     "text": [
      "Modules are imported.\n"
     ]
    }
   ],
   "source": [
    "import pandas as pd \n",
    "import numpy as np \n",
    "import seaborn as sns\n",
    "\n",
    "from ipywidgets import interact, interactive, fixed, interact_manual\n",
    "from IPython.core.display import display, HTML\n",
    "import matplotlib.pyplot as plt \n",
    "import ipywidgets as widgets\n",
    "import plotly.express as px\n",
    "import plotly.graph_objects as go\n",
    "import pandas as pd\n",
    "import altair as alt\n",
    "print('Modules are imported.')"
   ]
  },
  {
   "cell_type": "code",
   "execution_count": 54,
   "id": "conscious-farmer",
   "metadata": {},
   "outputs": [],
   "source": [
    "import io\n",
    "import requests\n",
    "url='https://data.brasil.io/dataset/covid19/caso.csv.gz'\n",
    "s=requests.get(url).content\n"
   ]
  },
  {
   "cell_type": "code",
   "execution_count": 55,
   "id": "cutting-lender",
   "metadata": {},
   "outputs": [],
   "source": [
    "with open('data/covidio.csv.gz', 'wb') as f:\n",
    "    f.write(s)"
   ]
  },
  {
   "cell_type": "code",
   "execution_count": 56,
   "id": "decimal-convert",
   "metadata": {},
   "outputs": [],
   "source": [
    "#df = pd.read_csv('data/covidio.csv.gz', parse_dates=['last_available_date'], index_col='last_available_date')\n",
    "df = pd.read_csv('data/covidio.csv.gz')\n"
   ]
  },
  {
   "cell_type": "code",
   "execution_count": 57,
   "metadata": {},
   "outputs": [
    {
     "output_type": "execute_result",
     "data": {
      "text/plain": [
       "         date state city place_type  confirmed  deaths  order_for_place  \\\n",
       "0  2021-03-03    AP  NaN      state      84483    1146              345   \n",
       "1  2021-03-02    AP  NaN      state      84177    1144              344   \n",
       "2  2021-03-01    AP  NaN      state      83885    1142              343   \n",
       "3  2021-02-28    AP  NaN      state      83663    1140              342   \n",
       "4  2021-02-27    AP  NaN      state      83505    1139              341   \n",
       "\n",
       "   is_last  estimated_population_2019  estimated_population  city_ibge_code  \\\n",
       "0     True                   845731.0              861773.0            16.0   \n",
       "1    False                   845731.0              861773.0            16.0   \n",
       "2    False                   845731.0              861773.0            16.0   \n",
       "3    False                   845731.0              861773.0            16.0   \n",
       "4    False                   845731.0              861773.0            16.0   \n",
       "\n",
       "   confirmed_per_100k_inhabitants  death_rate  \n",
       "0                      9803.39370      0.0136  \n",
       "1                      9767.88551      0.0136  \n",
       "2                      9734.00188      0.0136  \n",
       "3                      9708.24103      0.0136  \n",
       "4                      9689.90674      0.0136  "
      ],
      "text/html": "<div>\n<style scoped>\n    .dataframe tbody tr th:only-of-type {\n        vertical-align: middle;\n    }\n\n    .dataframe tbody tr th {\n        vertical-align: top;\n    }\n\n    .dataframe thead th {\n        text-align: right;\n    }\n</style>\n<table border=\"1\" class=\"dataframe\">\n  <thead>\n    <tr style=\"text-align: right;\">\n      <th></th>\n      <th>date</th>\n      <th>state</th>\n      <th>city</th>\n      <th>place_type</th>\n      <th>confirmed</th>\n      <th>deaths</th>\n      <th>order_for_place</th>\n      <th>is_last</th>\n      <th>estimated_population_2019</th>\n      <th>estimated_population</th>\n      <th>city_ibge_code</th>\n      <th>confirmed_per_100k_inhabitants</th>\n      <th>death_rate</th>\n    </tr>\n  </thead>\n  <tbody>\n    <tr>\n      <th>0</th>\n      <td>2021-03-03</td>\n      <td>AP</td>\n      <td>NaN</td>\n      <td>state</td>\n      <td>84483</td>\n      <td>1146</td>\n      <td>345</td>\n      <td>True</td>\n      <td>845731.0</td>\n      <td>861773.0</td>\n      <td>16.0</td>\n      <td>9803.39370</td>\n      <td>0.0136</td>\n    </tr>\n    <tr>\n      <th>1</th>\n      <td>2021-03-02</td>\n      <td>AP</td>\n      <td>NaN</td>\n      <td>state</td>\n      <td>84177</td>\n      <td>1144</td>\n      <td>344</td>\n      <td>False</td>\n      <td>845731.0</td>\n      <td>861773.0</td>\n      <td>16.0</td>\n      <td>9767.88551</td>\n      <td>0.0136</td>\n    </tr>\n    <tr>\n      <th>2</th>\n      <td>2021-03-01</td>\n      <td>AP</td>\n      <td>NaN</td>\n      <td>state</td>\n      <td>83885</td>\n      <td>1142</td>\n      <td>343</td>\n      <td>False</td>\n      <td>845731.0</td>\n      <td>861773.0</td>\n      <td>16.0</td>\n      <td>9734.00188</td>\n      <td>0.0136</td>\n    </tr>\n    <tr>\n      <th>3</th>\n      <td>2021-02-28</td>\n      <td>AP</td>\n      <td>NaN</td>\n      <td>state</td>\n      <td>83663</td>\n      <td>1140</td>\n      <td>342</td>\n      <td>False</td>\n      <td>845731.0</td>\n      <td>861773.0</td>\n      <td>16.0</td>\n      <td>9708.24103</td>\n      <td>0.0136</td>\n    </tr>\n    <tr>\n      <th>4</th>\n      <td>2021-02-27</td>\n      <td>AP</td>\n      <td>NaN</td>\n      <td>state</td>\n      <td>83505</td>\n      <td>1139</td>\n      <td>341</td>\n      <td>False</td>\n      <td>845731.0</td>\n      <td>861773.0</td>\n      <td>16.0</td>\n      <td>9689.90674</td>\n      <td>0.0136</td>\n    </tr>\n  </tbody>\n</table>\n</div>"
     },
     "metadata": {},
     "execution_count": 57
    }
   ],
   "source": [
    "df.head()"
   ]
  },
  {
   "cell_type": "code",
   "execution_count": 58,
   "metadata": {},
   "outputs": [
    {
     "output_type": "execute_result",
     "data": {
      "text/plain": [
       "   mortalidade  death_rate  mortalidade100k\n",
       "0     0.001330      0.0136       132.981655\n",
       "1     0.001327      0.0136       132.749576\n",
       "2     0.001325      0.0136       132.517496\n",
       "3     0.001323      0.0136       132.285416\n",
       "4     0.001322      0.0136       132.169376"
      ],
      "text/html": "<div>\n<style scoped>\n    .dataframe tbody tr th:only-of-type {\n        vertical-align: middle;\n    }\n\n    .dataframe tbody tr th {\n        vertical-align: top;\n    }\n\n    .dataframe thead th {\n        text-align: right;\n    }\n</style>\n<table border=\"1\" class=\"dataframe\">\n  <thead>\n    <tr style=\"text-align: right;\">\n      <th></th>\n      <th>mortalidade</th>\n      <th>death_rate</th>\n      <th>mortalidade100k</th>\n    </tr>\n  </thead>\n  <tbody>\n    <tr>\n      <th>0</th>\n      <td>0.001330</td>\n      <td>0.0136</td>\n      <td>132.981655</td>\n    </tr>\n    <tr>\n      <th>1</th>\n      <td>0.001327</td>\n      <td>0.0136</td>\n      <td>132.749576</td>\n    </tr>\n    <tr>\n      <th>2</th>\n      <td>0.001325</td>\n      <td>0.0136</td>\n      <td>132.517496</td>\n    </tr>\n    <tr>\n      <th>3</th>\n      <td>0.001323</td>\n      <td>0.0136</td>\n      <td>132.285416</td>\n    </tr>\n    <tr>\n      <th>4</th>\n      <td>0.001322</td>\n      <td>0.0136</td>\n      <td>132.169376</td>\n    </tr>\n  </tbody>\n</table>\n</div>"
     },
     "metadata": {},
     "execution_count": 58
    }
   ],
   "source": [
    "df['mortalidade'] =  df['deaths']/df['estimated_population']\n",
    "df['mortalidade100k'] = (df['deaths']*100000)/df['estimated_population']\n",
    "df[['mortalidade', 'death_rate', 'mortalidade100k']].head()"
   ]
  },
  {
   "cell_type": "code",
   "execution_count": 60,
   "metadata": {},
   "outputs": [],
   "source": [
    "df.drop(df[df['deaths'] == 0].index, inplace=True)"
   ]
  },
  {
   "cell_type": "code",
   "execution_count": 61,
   "id": "devoted-broad",
   "metadata": {},
   "outputs": [],
   "source": [
    "df_states = df[(df['is_last'] == True) &(df.place_type=='state')][['state','confirmed','deaths', 'death_rate','mortalidade','mortalidade100k']]\n",
    "df_cities = df[(df['is_last'] == True) &(df.place_type=='city')][['city','state', 'confirmed','deaths', 'death_rate','mortalidade','mortalidade100k']]"
   ]
  },
  {
   "cell_type": "code",
   "execution_count": 62,
   "metadata": {},
   "outputs": [],
   "source": [
    "# deletando linhas inuteis\n",
    "df_cities.drop(df_cities[df_cities['city'] == 'Importados/Indefinidos'].index, inplace=True)"
   ]
  },
  {
   "cell_type": "code",
   "execution_count": 63,
   "id": "activated-cradle",
   "metadata": {},
   "outputs": [],
   "source": [
    "df_states.columns = ['Estado', 'Confirmados', 'Mortes', 'Letalidade','Mortalidade', 'Mortalidade100k']\n",
    "df_cities.columns = ['Cidade', 'Estado', 'Confirmados', 'Mortes', 'Letalidade','Mortalidade', 'Mortalidade100k']"
   ]
  },
  {
   "cell_type": "code",
   "execution_count": null,
   "metadata": {},
   "outputs": [],
   "source": [
    "#df_cities.sort_values('Letalidade',ascending=False).head()\n",
    "df_states['Letalidade_rank'] = df_states['Letalidade'].sort_values(column,ascending=asc).rank(method='min').astype(int)\n",
    "df_states['Mortalidade_rank'] = df_states['Mortalidade'].rank(method='min').astype(int)\n",
    "df_states['rank'] = ((df_states['Mortalidade_rank'] + df_states['Letalidade_rank'])/2).rank(method='min').astype(int)\n",
    "df_cities['Letalidade_rank'] = df_cities['Letalidade'].rank(method='min').astype(int)\n",
    "df_cities['Mortalidade_rank'] = df_cities['Mortalidade'].rank(method='min').astype(int)\n",
    "df_cities['rank'] = ((df_cities['Mortalidade_rank'] + df_cities['Letalidade_rank'])/2).rank(method='min').astype(int)"
   ]
  },
  {
   "cell_type": "code",
   "execution_count": null,
   "id": "comic-porter",
   "metadata": {},
   "outputs": [],
   "source": [
    "def search_city(city, color='red', reverse=False):\n",
    "    return df_cities[df['city'] == city]\n",
    "\n",
    "def style_frame(df):\n",
    "    cm = sns.light_palette(color, as_cmap=True, reverse=reverse)\n",
    "    return (df.style.set_properties(**{'text-align': 'right'}).background_gradient(cmap=cm).hide_index()).set_caption(\n",
    "    title)\n",
    "\n",
    "def treemap_show(df=df_states, nivel='Estado', column='rank', n=10,  asc=False, title=\"\"):\n",
    "    fig = px.treemap(df.head(30), \n",
    "                 path=[nivel], \n",
    "                 values=column, height=700,\n",
    "                 title=title,\n",
    "                 color_discrete_sequence = px.colors.qualitative.Prism)\n",
    "\n",
    "    fig.data[0].textinfo = 'label+text+value'\n",
    "    #fig.write_image(\"images/fig2.png\")\n",
    "\n",
    "    fig.show()\n",
    "\n",
    "\n",
    "def covid_data_table(df, nivel, column, n, asc=False,title=\"\", color='red', reverse=False, corte=0):\n",
    "\n",
    "    if(corte > 0):\n",
    "        df = df[df['Mortes'] > corte]\n",
    "    \n",
    "    df = df.sort_values(column,ascending=asc).copy().head(n)\n",
    "\n",
    "    data_table = pd.DataFrame()\n",
    "    data_table[nivel] = df[nivel]\n",
    "    if nivel == 'Cidade':\n",
    "        data_table['Estado'] = df['Estado']\n",
    "    #data_table[\"Confirmados\"] = df['Confirmados']\n",
    "    data_table[\"rank\"] = df['rank']\n",
    "    data_table[\"Letalidade_rank\"] = df['Letalidade_rank']\n",
    "    data_table[\"Mortalidade_rank\"] = df['Mortalidade_rank']\n",
    "    data_table[\"Mortes\"] = df['Mortes']\n",
    "    data_table[\"Mortalidade100k\"] = df['Mortalidade100k'].astype(int)\n",
    "    data_table[\"Letalidade\"] = df['Letalidade']\n",
    "    \n",
    "    #data_table[\"Mortalidade\"] = df['Mortalidade']\n",
    "    \n",
    "    cm = sns.light_palette(color, as_cmap=True, reverse=reverse)\n",
    "    return (data_table.style.set_properties(**{'text-align': 'right'}).background_gradient(cmap=cm).hide_index()).set_caption(\n",
    "    title)\n",
    "\n",
    "def tabela_estado(column, n, asc=False,title=\"\", color='red', reverse=False, corte=0):\n",
    "    '''Retorna uma table para estado '''\n",
    "    return covid_data_table(df_states,'Estado', column, n, asc=asc,title=title, color=color, reverse=reverse, corte=corte)\n",
    "\n",
    "def tabela_estado_reversa(column, n, title=\"\", corte=0):\n",
    "    return tabela_estado(column, n, True, title, 'green', True, corte)\n",
    "\n",
    "def tabela_cidade(column, n, asc=False,title=\"\", color='red', reverse=False, corte=0):\n",
    "    '''Retorna uma table para cidades '''\n",
    "    return covid_data_table(df_cities,'Cidade', column, n, asc=asc,title=title, color=color, reverse=reverse, corte=corte)\n",
    "\n",
    "def tabela_cidade_reversa(column, n, title=\"\", corte=0):\n",
    "    return tabela_cidade(column, n, True, title, 'green', True, corte=corte)"
   ]
  },
  {
   "cell_type": "markdown",
   "id": "particular-geometry",
   "metadata": {},
   "source": [
    "## Top 10 Piores no Ranking (Letalidade + Mortalidade)/2"
   ]
  },
  {
   "cell_type": "code",
   "execution_count": null,
   "metadata": {},
   "outputs": [],
   "source": [
    "tabela_estado('rank', 10)"
   ]
  },
  {
   "source": [
    "## Top 10 Melhores Estados no Ranking"
   ],
   "cell_type": "markdown",
   "metadata": {}
  },
  {
   "cell_type": "code",
   "execution_count": null,
   "metadata": {},
   "outputs": [],
   "source": [
    "tabela_estado_reversa('rank',10)"
   ]
  },
  {
   "source": [
    "## Top  20 piores cidades do brasil com +500 Obitos"
   ],
   "cell_type": "markdown",
   "metadata": {}
  },
  {
   "cell_type": "code",
   "execution_count": null,
   "metadata": {},
   "outputs": [],
   "source": [
    "tabela_cidade('rank',20, corte=500)"
   ]
  },
  {
   "source": [
    "## Top 20 Cidades do Brasil"
   ],
   "cell_type": "markdown",
   "metadata": {}
  },
  {
   "cell_type": "code",
   "execution_count": null,
   "metadata": {},
   "outputs": [],
   "source": [
    "tabela_cidade_reversa('Mortalidade',20,corte=1)"
   ]
  },
  {
   "cell_type": "markdown",
   "id": "extreme-fountain",
   "metadata": {},
   "source": [
    "## Top 10 menor letalidade "
   ]
  },
  {
   "cell_type": "code",
   "execution_count": null,
   "id": "interim-stephen",
   "metadata": {},
   "outputs": [],
   "source": [
    "def covid_bubble_chart(df, column, n, asc=False):\n",
    "    df = df.sort_values(column,ascending=asc).copy().head(n)\n",
    "    fig = px.scatter(df, x=\"Estado\", y=column, size=column, color=\"Estado\",\n",
    "               text=\"Estado\", size_max=90)\n",
    "    fig.update_layout(\n",
    "    title=\"Os top \" + str(n) + ' piores estados por '  + column,\n",
    "    xaxis_title=\"Estados\",\n",
    "    yaxis_title=column,\n",
    "    width = 700\n",
    "    )\n",
    "    fig.show();\n",
    "    \n",
    "covid_bubble_chart(df_states, 'Letalidade',10, True)\n"
   ]
  },
  {
   "cell_type": "code",
   "execution_count": null,
   "id": "owned-little",
   "metadata": {},
   "outputs": [],
   "source": [
    "covid_bubble_chart(df_states, 'Mortes',10)"
   ]
  },
  {
   "cell_type": "code",
   "execution_count": null,
   "metadata": {},
   "outputs": [],
   "source": [
    "search_city(\"Campanha\")"
   ]
  }
 ],
 "metadata": {
  "kernelspec": {
   "display_name": "Python 3",
   "language": "python",
   "name": "python3"
  },
  "language_info": {
   "codemirror_mode": {
    "name": "ipython",
    "version": 3
   },
   "file_extension": ".py",
   "mimetype": "text/x-python",
   "name": "python",
   "nbconvert_exporter": "python",
   "pygments_lexer": "ipython3",
   "version": "3.9.2-final"
  }
 },
 "nbformat": 4,
 "nbformat_minor": 5
}