{
 "cells": [
  {
   "cell_type": "markdown",
   "id": "confidential-chest",
   "metadata": {},
   "source": [
    "# Covid Brasil"
   ]
  },
  {
   "cell_type": "code",
   "execution_count": 2,
   "id": "annual-oliver",
   "metadata": {},
   "outputs": [],
   "source": [
    "#%config IPCompleter.greedy=True\n",
    "#!pip install pandas\n",
    "#!pip install seaborn\n",
    "#!pip install plotly\n",
    "#!pip install altair"
   ]
  },
  {
   "cell_type": "code",
   "execution_count": 3,
   "id": "stuffed-former",
   "metadata": {},
   "outputs": [
    {
     "output_type": "stream",
     "name": "stdout",
     "text": [
      "Modules are imported.\n"
     ]
    }
   ],
   "source": [
    "import pandas as pd \n",
    "import numpy as np \n",
    "import seaborn as sns\n",
    "\n",
    "from ipywidgets import interact, interactive, fixed, interact_manual\n",
    "from IPython.core.display import display, HTML\n",
    "import matplotlib.pyplot as plt \n",
    "import ipywidgets as widgets\n",
    "import plotly.express as px\n",
    "import plotly.graph_objects as go\n",
    "import pandas as pd\n",
    "import altair as alt\n",
    "print('Modules are imported.')"
   ]
  },
  {
   "cell_type": "code",
   "execution_count": 4,
   "metadata": {},
   "outputs": [],
   "source": [
    "from plotly.offline import init_notebook_mode, iplot\n",
    "import plotly.figure_factory as ff"
   ]
  },
  {
   "cell_type": "code",
   "execution_count": 5,
   "id": "conscious-farmer",
   "metadata": {},
   "outputs": [],
   "source": [
    "import io\n",
    "import requests\n",
    "url='https://data.brasil.io/dataset/covid19/caso.csv.gz'\n",
    "s=requests.get(url).content\n"
   ]
  },
  {
   "cell_type": "code",
   "execution_count": 6,
   "id": "cutting-lender",
   "metadata": {},
   "outputs": [],
   "source": [
    "with open('data/covidio.csv.gz', 'wb') as f:\n",
    "    f.write(s)"
   ]
  },
  {
   "cell_type": "code",
   "execution_count": 7,
   "id": "decimal-convert",
   "metadata": {},
   "outputs": [],
   "source": [
    "#df = pd.read_csv('data/covidio.csv.gz', parse_dates=['last_available_date'], index_col='last_available_date')\n",
    "df = pd.read_csv('data/covidio.csv.gz')\n"
   ]
  },
  {
   "cell_type": "code",
   "execution_count": 8,
   "metadata": {},
   "outputs": [
    {
     "output_type": "execute_result",
     "data": {
      "text/plain": [
       "         date state city place_type  confirmed  deaths  order_for_place  \\\n",
       "0  2021-06-07    AP  NaN      state     113139    1727              441   \n",
       "1  2021-06-06    AP  NaN      state     112999    1719              440   \n",
       "2  2021-06-05    AP  NaN      state     112878    1718              439   \n",
       "3  2021-06-04    AP  NaN      state     112782    1716              438   \n",
       "4  2021-06-03    AP  NaN      state     112654    1712              437   \n",
       "\n",
       "   is_last  estimated_population_2019  estimated_population  city_ibge_code  \\\n",
       "0     True                   845731.0              861773.0            16.0   \n",
       "1    False                   845731.0              861773.0            16.0   \n",
       "2    False                   845731.0              861773.0            16.0   \n",
       "3    False                   845731.0              861773.0            16.0   \n",
       "4    False                   845731.0              861773.0            16.0   \n",
       "\n",
       "   confirmed_per_100k_inhabitants  death_rate  \n",
       "0                     13128.63132      0.0153  \n",
       "1                     13112.38574      0.0152  \n",
       "2                     13098.34492      0.0152  \n",
       "3                     13087.20510      0.0152  \n",
       "4                     13072.35200      0.0152  "
      ],
      "text/html": "<div>\n<style scoped>\n    .dataframe tbody tr th:only-of-type {\n        vertical-align: middle;\n    }\n\n    .dataframe tbody tr th {\n        vertical-align: top;\n    }\n\n    .dataframe thead th {\n        text-align: right;\n    }\n</style>\n<table border=\"1\" class=\"dataframe\">\n  <thead>\n    <tr style=\"text-align: right;\">\n      <th></th>\n      <th>date</th>\n      <th>state</th>\n      <th>city</th>\n      <th>place_type</th>\n      <th>confirmed</th>\n      <th>deaths</th>\n      <th>order_for_place</th>\n      <th>is_last</th>\n      <th>estimated_population_2019</th>\n      <th>estimated_population</th>\n      <th>city_ibge_code</th>\n      <th>confirmed_per_100k_inhabitants</th>\n      <th>death_rate</th>\n    </tr>\n  </thead>\n  <tbody>\n    <tr>\n      <th>0</th>\n      <td>2021-06-07</td>\n      <td>AP</td>\n      <td>NaN</td>\n      <td>state</td>\n      <td>113139</td>\n      <td>1727</td>\n      <td>441</td>\n      <td>True</td>\n      <td>845731.0</td>\n      <td>861773.0</td>\n      <td>16.0</td>\n      <td>13128.63132</td>\n      <td>0.0153</td>\n    </tr>\n    <tr>\n      <th>1</th>\n      <td>2021-06-06</td>\n      <td>AP</td>\n      <td>NaN</td>\n      <td>state</td>\n      <td>112999</td>\n      <td>1719</td>\n      <td>440</td>\n      <td>False</td>\n      <td>845731.0</td>\n      <td>861773.0</td>\n      <td>16.0</td>\n      <td>13112.38574</td>\n      <td>0.0152</td>\n    </tr>\n    <tr>\n      <th>2</th>\n      <td>2021-06-05</td>\n      <td>AP</td>\n      <td>NaN</td>\n      <td>state</td>\n      <td>112878</td>\n      <td>1718</td>\n      <td>439</td>\n      <td>False</td>\n      <td>845731.0</td>\n      <td>861773.0</td>\n      <td>16.0</td>\n      <td>13098.34492</td>\n      <td>0.0152</td>\n    </tr>\n    <tr>\n      <th>3</th>\n      <td>2021-06-04</td>\n      <td>AP</td>\n      <td>NaN</td>\n      <td>state</td>\n      <td>112782</td>\n      <td>1716</td>\n      <td>438</td>\n      <td>False</td>\n      <td>845731.0</td>\n      <td>861773.0</td>\n      <td>16.0</td>\n      <td>13087.20510</td>\n      <td>0.0152</td>\n    </tr>\n    <tr>\n      <th>4</th>\n      <td>2021-06-03</td>\n      <td>AP</td>\n      <td>NaN</td>\n      <td>state</td>\n      <td>112654</td>\n      <td>1712</td>\n      <td>437</td>\n      <td>False</td>\n      <td>845731.0</td>\n      <td>861773.0</td>\n      <td>16.0</td>\n      <td>13072.35200</td>\n      <td>0.0152</td>\n    </tr>\n  </tbody>\n</table>\n</div>"
     },
     "metadata": {},
     "execution_count": 8
    }
   ],
   "source": [
    "df.head()"
   ]
  },
  {
   "cell_type": "code",
   "execution_count": 9,
   "metadata": {},
   "outputs": [
    {
     "output_type": "execute_result",
     "data": {
      "text/plain": [
       "   mortalidade  death_rate  mortalidade100k\n",
       "0     0.002004      0.0153       200.400802\n",
       "1     0.001995      0.0152       199.472483\n",
       "2     0.001994      0.0152       199.356443\n",
       "3     0.001991      0.0152       199.124363\n",
       "4     0.001987      0.0152       198.660204"
      ],
      "text/html": "<div>\n<style scoped>\n    .dataframe tbody tr th:only-of-type {\n        vertical-align: middle;\n    }\n\n    .dataframe tbody tr th {\n        vertical-align: top;\n    }\n\n    .dataframe thead th {\n        text-align: right;\n    }\n</style>\n<table border=\"1\" class=\"dataframe\">\n  <thead>\n    <tr style=\"text-align: right;\">\n      <th></th>\n      <th>mortalidade</th>\n      <th>death_rate</th>\n      <th>mortalidade100k</th>\n    </tr>\n  </thead>\n  <tbody>\n    <tr>\n      <th>0</th>\n      <td>0.002004</td>\n      <td>0.0153</td>\n      <td>200.400802</td>\n    </tr>\n    <tr>\n      <th>1</th>\n      <td>0.001995</td>\n      <td>0.0152</td>\n      <td>199.472483</td>\n    </tr>\n    <tr>\n      <th>2</th>\n      <td>0.001994</td>\n      <td>0.0152</td>\n      <td>199.356443</td>\n    </tr>\n    <tr>\n      <th>3</th>\n      <td>0.001991</td>\n      <td>0.0152</td>\n      <td>199.124363</td>\n    </tr>\n    <tr>\n      <th>4</th>\n      <td>0.001987</td>\n      <td>0.0152</td>\n      <td>198.660204</td>\n    </tr>\n  </tbody>\n</table>\n</div>"
     },
     "metadata": {},
     "execution_count": 9
    }
   ],
   "source": [
    "df['mortalidade'] =  df['deaths']/df['estimated_population']\n",
    "df['mortalidade100k'] = (df['deaths']*100000)/df['estimated_population']\n",
    "df[['mortalidade', 'death_rate', 'mortalidade100k']].head()"
   ]
  },
  {
   "cell_type": "code",
   "execution_count": 10,
   "metadata": {},
   "outputs": [],
   "source": [
    "df.drop(df[df['deaths'] == 0].index, inplace=True)"
   ]
  },
  {
   "cell_type": "code",
   "execution_count": 11,
   "id": "devoted-broad",
   "metadata": {},
   "outputs": [],
   "source": [
    "df_states = df[(df['is_last'] == True) &(df.place_type=='state')][['state','confirmed','deaths', 'death_rate','mortalidade','mortalidade100k']]\n",
    "df_cities = df[(df['is_last'] == True) &(df.place_type=='city')][['city','state', 'confirmed','deaths', 'death_rate','mortalidade','mortalidade100k']]"
   ]
  },
  {
   "cell_type": "code",
   "execution_count": 12,
   "metadata": {},
   "outputs": [],
   "source": [
    "# deletando linhas inuteis\n",
    "df_cities.drop(df_cities[df_cities['city'] == 'Importados/Indefinidos'].index, inplace=True)"
   ]
  },
  {
   "cell_type": "code",
   "execution_count": 13,
   "id": "activated-cradle",
   "metadata": {},
   "outputs": [],
   "source": [
    "df_states.columns = ['Estado', 'Confirmados', 'Mortes', 'Letalidade','Mortalidade', 'Mortalidade100k']\n",
    "df_cities.columns = ['Cidade', 'Estado', 'Confirmados', 'Mortes', 'Letalidade','Mortalidade', 'Mortalidade100k']"
   ]
  },
  {
   "cell_type": "code",
   "execution_count": 14,
   "metadata": {},
   "outputs": [
    {
     "output_type": "execute_result",
     "data": {
      "text/plain": [
       "<AxesSubplot:ylabel='Frequency'>"
      ]
     },
     "metadata": {},
     "execution_count": 14
    },
    {
     "output_type": "display_data",
     "data": {
      "text/plain": "<Figure size 432x288 with 1 Axes>",
      "image/svg+xml": "<?xml version=\"1.0\" encoding=\"utf-8\" standalone=\"no\"?>\r\n<!DOCTYPE svg PUBLIC \"-//W3C//DTD SVG 1.1//EN\"\r\n  \"http://www.w3.org/Graphics/SVG/1.1/DTD/svg11.dtd\">\r\n<!-- Created with matplotlib (https://matplotlib.org/) -->\r\n<svg height=\"248.518125pt\" version=\"1.1\" viewBox=\"0 0 382.603125 248.518125\" width=\"382.603125pt\" xmlns=\"http://www.w3.org/2000/svg\" xmlns:xlink=\"http://www.w3.org/1999/xlink\">\r\n <metadata>\r\n  <rdf:RDF xmlns:cc=\"http://creativecommons.org/ns#\" xmlns:dc=\"http://purl.org/dc/elements/1.1/\" xmlns:rdf=\"http://www.w3.org/1999/02/22-rdf-syntax-ns#\">\r\n   <cc:Work>\r\n    <dc:type rdf:resource=\"http://purl.org/dc/dcmitype/StillImage\"/>\r\n    <dc:date>2021-06-08T08:35:18.971235</dc:date>\r\n    <dc:format>image/svg+xml</dc:format>\r\n    <dc:creator>\r\n     <cc:Agent>\r\n      <dc:title>Matplotlib v3.3.4, https://matplotlib.org/</dc:title>\r\n     </cc:Agent>\r\n    </dc:creator>\r\n   </cc:Work>\r\n  </rdf:RDF>\r\n </metadata>\r\n <defs>\r\n  <style type=\"text/css\">*{stroke-linecap:butt;stroke-linejoin:round;}</style>\r\n </defs>\r\n <g id=\"figure_1\">\r\n  <g id=\"patch_1\">\r\n   <path d=\"M 0 248.518125 \r\nL 382.603125 248.518125 \r\nL 382.603125 0 \r\nL 0 0 \r\nz\r\n\" style=\"fill:none;\"/>\r\n  </g>\r\n  <g id=\"axes_1\">\r\n   <g id=\"patch_2\">\r\n    <path d=\"M 40.603125 224.64 \r\nL 375.403125 224.64 \r\nL 375.403125 7.2 \r\nL 40.603125 7.2 \r\nz\r\n\" style=\"fill:#ffffff;\"/>\r\n   </g>\r\n   <g id=\"patch_3\">\r\n    <path clip-path=\"url(#p73bcb689f7)\" d=\"M 55.821307 224.64 \r\nL 71.039489 224.64 \r\nL 71.039489 62.736623 \r\nL 55.821307 62.736623 \r\nz\r\n\" style=\"fill:#1f77b4;\"/>\r\n   </g>\r\n   <g id=\"patch_4\">\r\n    <path clip-path=\"url(#p73bcb689f7)\" d=\"M 71.039489 224.64 \r\nL 86.25767 224.64 \r\nL 86.25767 190.753247 \r\nL 71.039489 190.753247 \r\nz\r\n\" style=\"fill:#1f77b4;\"/>\r\n   </g>\r\n   <g id=\"patch_5\">\r\n    <path clip-path=\"url(#p73bcb689f7)\" d=\"M 86.25767 224.64 \r\nL 101.475852 224.64 \r\nL 101.475852 175.692468 \r\nL 86.25767 175.692468 \r\nz\r\n\" style=\"fill:#1f77b4;\"/>\r\n   </g>\r\n   <g id=\"patch_6\">\r\n    <path clip-path=\"url(#p73bcb689f7)\" d=\"M 101.475852 224.64 \r\nL 116.694034 224.64 \r\nL 116.694034 141.805714 \r\nL 101.475852 141.805714 \r\nz\r\n\" style=\"fill:#1f77b4;\"/>\r\n   </g>\r\n   <g id=\"patch_7\">\r\n    <path clip-path=\"url(#p73bcb689f7)\" d=\"M 116.694034 224.64 \r\nL 131.912216 224.64 \r\nL 131.912216 66.501818 \r\nL 116.694034 66.501818 \r\nz\r\n\" style=\"fill:#1f77b4;\"/>\r\n   </g>\r\n   <g id=\"patch_8\">\r\n    <path clip-path=\"url(#p73bcb689f7)\" d=\"M 131.912216 224.64 \r\nL 147.130398 224.64 \r\nL 147.130398 47.675844 \r\nL 131.912216 47.675844 \r\nz\r\n\" style=\"fill:#1f77b4;\"/>\r\n   </g>\r\n   <g id=\"patch_9\">\r\n    <path clip-path=\"url(#p73bcb689f7)\" d=\"M 147.130398 224.64 \r\nL 162.34858 224.64 \r\nL 162.34858 43.910649 \r\nL 147.130398 43.910649 \r\nz\r\n\" style=\"fill:#1f77b4;\"/>\r\n   </g>\r\n   <g id=\"patch_10\">\r\n    <path clip-path=\"url(#p73bcb689f7)\" d=\"M 162.34858 224.64 \r\nL 177.566761 224.64 \r\nL 177.566761 17.554286 \r\nL 162.34858 17.554286 \r\nz\r\n\" style=\"fill:#1f77b4;\"/>\r\n   </g>\r\n   <g id=\"patch_11\">\r\n    <path clip-path=\"url(#p73bcb689f7)\" d=\"M 177.566761 224.64 \r\nL 192.784943 224.64 \r\nL 192.784943 168.162078 \r\nL 177.566761 168.162078 \r\nz\r\n\" style=\"fill:#1f77b4;\"/>\r\n   </g>\r\n   <g id=\"patch_12\">\r\n    <path clip-path=\"url(#p73bcb689f7)\" d=\"M 192.784943 224.64 \r\nL 208.003125 224.64 \r\nL 208.003125 198.283636 \r\nL 192.784943 198.283636 \r\nz\r\n\" style=\"fill:#1f77b4;\"/>\r\n   </g>\r\n   <g id=\"patch_13\">\r\n    <path clip-path=\"url(#p73bcb689f7)\" d=\"M 208.003125 224.64 \r\nL 223.221307 224.64 \r\nL 223.221307 205.814026 \r\nL 208.003125 205.814026 \r\nz\r\n\" style=\"fill:#1f77b4;\"/>\r\n   </g>\r\n   <g id=\"patch_14\">\r\n    <path clip-path=\"url(#p73bcb689f7)\" d=\"M 223.221307 224.64 \r\nL 238.439489 224.64 \r\nL 238.439489 205.814026 \r\nL 223.221307 205.814026 \r\nz\r\n\" style=\"fill:#1f77b4;\"/>\r\n   </g>\r\n   <g id=\"patch_15\">\r\n    <path clip-path=\"url(#p73bcb689f7)\" d=\"M 238.439489 224.64 \r\nL 253.65767 224.64 \r\nL 253.65767 209.579221 \r\nL 238.439489 209.579221 \r\nz\r\n\" style=\"fill:#1f77b4;\"/>\r\n   </g>\r\n   <g id=\"patch_16\">\r\n    <path clip-path=\"url(#p73bcb689f7)\" d=\"M 253.65767 224.64 \r\nL 268.875852 224.64 \r\nL 268.875852 202.048831 \r\nL 253.65767 202.048831 \r\nz\r\n\" style=\"fill:#1f77b4;\"/>\r\n   </g>\r\n   <g id=\"patch_17\">\r\n    <path clip-path=\"url(#p73bcb689f7)\" d=\"M 268.875852 224.64 \r\nL 284.094034 224.64 \r\nL 284.094034 209.579221 \r\nL 268.875852 209.579221 \r\nz\r\n\" style=\"fill:#1f77b4;\"/>\r\n   </g>\r\n   <g id=\"patch_18\">\r\n    <path clip-path=\"url(#p73bcb689f7)\" d=\"M 284.094034 224.64 \r\nL 299.312216 224.64 \r\nL 299.312216 194.518442 \r\nL 284.094034 194.518442 \r\nz\r\n\" style=\"fill:#1f77b4;\"/>\r\n   </g>\r\n   <g id=\"patch_19\">\r\n    <path clip-path=\"url(#p73bcb689f7)\" d=\"M 299.312216 224.64 \r\nL 314.530398 224.64 \r\nL 314.530398 183.222857 \r\nL 299.312216 183.222857 \r\nz\r\n\" style=\"fill:#1f77b4;\"/>\r\n   </g>\r\n   <g id=\"patch_20\">\r\n    <path clip-path=\"url(#p73bcb689f7)\" d=\"M 314.530398 224.64 \r\nL 329.74858 224.64 \r\nL 329.74858 164.396883 \r\nL 314.530398 164.396883 \r\nz\r\n\" style=\"fill:#1f77b4;\"/>\r\n   </g>\r\n   <g id=\"patch_21\">\r\n    <path clip-path=\"url(#p73bcb689f7)\" d=\"M 329.74858 224.64 \r\nL 344.966761 224.64 \r\nL 344.966761 107.918961 \r\nL 329.74858 107.918961 \r\nz\r\n\" style=\"fill:#1f77b4;\"/>\r\n   </g>\r\n   <g id=\"patch_22\">\r\n    <path clip-path=\"url(#p73bcb689f7)\" d=\"M 344.966761 224.64 \r\nL 360.184943 224.64 \r\nL 360.184943 40.145455 \r\nL 344.966761 40.145455 \r\nz\r\n\" style=\"fill:#1f77b4;\"/>\r\n   </g>\r\n   <g id=\"matplotlib.axis_1\">\r\n    <g id=\"xtick_1\">\r\n     <g id=\"line2d_1\">\r\n      <defs>\r\n       <path d=\"M 0 0 \r\nL 0 3.5 \r\n\" id=\"m4cfe1a5d0b\" style=\"stroke:#000000;stroke-width:0.8;\"/>\r\n      </defs>\r\n      <g>\r\n       <use style=\"stroke:#000000;stroke-width:0.8;\" x=\"55.798005\" xlink:href=\"#m4cfe1a5d0b\" y=\"224.64\"/>\r\n      </g>\r\n     </g>\r\n     <g id=\"text_1\">\r\n      <!-- 0 -->\r\n      <g transform=\"translate(52.616755 239.238437)scale(0.1 -0.1)\">\r\n       <defs>\r\n        <path d=\"M 31.78125 66.40625 \r\nQ 24.171875 66.40625 20.328125 58.90625 \r\nQ 16.5 51.421875 16.5 36.375 \r\nQ 16.5 21.390625 20.328125 13.890625 \r\nQ 24.171875 6.390625 31.78125 6.390625 \r\nQ 39.453125 6.390625 43.28125 13.890625 \r\nQ 47.125 21.390625 47.125 36.375 \r\nQ 47.125 51.421875 43.28125 58.90625 \r\nQ 39.453125 66.40625 31.78125 66.40625 \r\nz\r\nM 31.78125 74.21875 \r\nQ 44.046875 74.21875 50.515625 64.515625 \r\nQ 56.984375 54.828125 56.984375 36.375 \r\nQ 56.984375 17.96875 50.515625 8.265625 \r\nQ 44.046875 -1.421875 31.78125 -1.421875 \r\nQ 19.53125 -1.421875 13.0625 8.265625 \r\nQ 6.59375 17.96875 6.59375 36.375 \r\nQ 6.59375 54.828125 13.0625 64.515625 \r\nQ 19.53125 74.21875 31.78125 74.21875 \r\nz\r\n\" id=\"DejaVuSans-48\"/>\r\n       </defs>\r\n       <use xlink:href=\"#DejaVuSans-48\"/>\r\n      </g>\r\n     </g>\r\n    </g>\r\n    <g id=\"xtick_2\">\r\n     <g id=\"line2d_2\">\r\n      <g>\r\n       <use style=\"stroke:#000000;stroke-width:0.8;\" x=\"102.40092\" xlink:href=\"#m4cfe1a5d0b\" y=\"224.64\"/>\r\n      </g>\r\n     </g>\r\n     <g id=\"text_2\">\r\n      <!-- 2000 -->\r\n      <g transform=\"translate(89.67592 239.238437)scale(0.1 -0.1)\">\r\n       <defs>\r\n        <path d=\"M 19.1875 8.296875 \r\nL 53.609375 8.296875 \r\nL 53.609375 0 \r\nL 7.328125 0 \r\nL 7.328125 8.296875 \r\nQ 12.9375 14.109375 22.625 23.890625 \r\nQ 32.328125 33.6875 34.8125 36.53125 \r\nQ 39.546875 41.84375 41.421875 45.53125 \r\nQ 43.3125 49.21875 43.3125 52.78125 \r\nQ 43.3125 58.59375 39.234375 62.25 \r\nQ 35.15625 65.921875 28.609375 65.921875 \r\nQ 23.96875 65.921875 18.8125 64.3125 \r\nQ 13.671875 62.703125 7.8125 59.421875 \r\nL 7.8125 69.390625 \r\nQ 13.765625 71.78125 18.9375 73 \r\nQ 24.125 74.21875 28.421875 74.21875 \r\nQ 39.75 74.21875 46.484375 68.546875 \r\nQ 53.21875 62.890625 53.21875 53.421875 \r\nQ 53.21875 48.921875 51.53125 44.890625 \r\nQ 49.859375 40.875 45.40625 35.40625 \r\nQ 44.1875 33.984375 37.640625 27.21875 \r\nQ 31.109375 20.453125 19.1875 8.296875 \r\nz\r\n\" id=\"DejaVuSans-50\"/>\r\n       </defs>\r\n       <use xlink:href=\"#DejaVuSans-50\"/>\r\n       <use x=\"63.623047\" xlink:href=\"#DejaVuSans-48\"/>\r\n       <use x=\"127.246094\" xlink:href=\"#DejaVuSans-48\"/>\r\n       <use x=\"190.869141\" xlink:href=\"#DejaVuSans-48\"/>\r\n      </g>\r\n     </g>\r\n    </g>\r\n    <g id=\"xtick_3\">\r\n     <g id=\"line2d_3\">\r\n      <g>\r\n       <use style=\"stroke:#000000;stroke-width:0.8;\" x=\"149.003835\" xlink:href=\"#m4cfe1a5d0b\" y=\"224.64\"/>\r\n      </g>\r\n     </g>\r\n     <g id=\"text_3\">\r\n      <!-- 4000 -->\r\n      <g transform=\"translate(136.278835 239.238437)scale(0.1 -0.1)\">\r\n       <defs>\r\n        <path d=\"M 37.796875 64.3125 \r\nL 12.890625 25.390625 \r\nL 37.796875 25.390625 \r\nz\r\nM 35.203125 72.90625 \r\nL 47.609375 72.90625 \r\nL 47.609375 25.390625 \r\nL 58.015625 25.390625 \r\nL 58.015625 17.1875 \r\nL 47.609375 17.1875 \r\nL 47.609375 0 \r\nL 37.796875 0 \r\nL 37.796875 17.1875 \r\nL 4.890625 17.1875 \r\nL 4.890625 26.703125 \r\nz\r\n\" id=\"DejaVuSans-52\"/>\r\n       </defs>\r\n       <use xlink:href=\"#DejaVuSans-52\"/>\r\n       <use x=\"63.623047\" xlink:href=\"#DejaVuSans-48\"/>\r\n       <use x=\"127.246094\" xlink:href=\"#DejaVuSans-48\"/>\r\n       <use x=\"190.869141\" xlink:href=\"#DejaVuSans-48\"/>\r\n      </g>\r\n     </g>\r\n    </g>\r\n    <g id=\"xtick_4\">\r\n     <g id=\"line2d_4\">\r\n      <g>\r\n       <use style=\"stroke:#000000;stroke-width:0.8;\" x=\"195.60675\" xlink:href=\"#m4cfe1a5d0b\" y=\"224.64\"/>\r\n      </g>\r\n     </g>\r\n     <g id=\"text_4\">\r\n      <!-- 6000 -->\r\n      <g transform=\"translate(182.88175 239.238437)scale(0.1 -0.1)\">\r\n       <defs>\r\n        <path d=\"M 33.015625 40.375 \r\nQ 26.375 40.375 22.484375 35.828125 \r\nQ 18.609375 31.296875 18.609375 23.390625 \r\nQ 18.609375 15.53125 22.484375 10.953125 \r\nQ 26.375 6.390625 33.015625 6.390625 \r\nQ 39.65625 6.390625 43.53125 10.953125 \r\nQ 47.40625 15.53125 47.40625 23.390625 \r\nQ 47.40625 31.296875 43.53125 35.828125 \r\nQ 39.65625 40.375 33.015625 40.375 \r\nz\r\nM 52.59375 71.296875 \r\nL 52.59375 62.3125 \r\nQ 48.875 64.0625 45.09375 64.984375 \r\nQ 41.3125 65.921875 37.59375 65.921875 \r\nQ 27.828125 65.921875 22.671875 59.328125 \r\nQ 17.53125 52.734375 16.796875 39.40625 \r\nQ 19.671875 43.65625 24.015625 45.921875 \r\nQ 28.375 48.1875 33.59375 48.1875 \r\nQ 44.578125 48.1875 50.953125 41.515625 \r\nQ 57.328125 34.859375 57.328125 23.390625 \r\nQ 57.328125 12.15625 50.6875 5.359375 \r\nQ 44.046875 -1.421875 33.015625 -1.421875 \r\nQ 20.359375 -1.421875 13.671875 8.265625 \r\nQ 6.984375 17.96875 6.984375 36.375 \r\nQ 6.984375 53.65625 15.1875 63.9375 \r\nQ 23.390625 74.21875 37.203125 74.21875 \r\nQ 40.921875 74.21875 44.703125 73.484375 \r\nQ 48.484375 72.75 52.59375 71.296875 \r\nz\r\n\" id=\"DejaVuSans-54\"/>\r\n       </defs>\r\n       <use xlink:href=\"#DejaVuSans-54\"/>\r\n       <use x=\"63.623047\" xlink:href=\"#DejaVuSans-48\"/>\r\n       <use x=\"127.246094\" xlink:href=\"#DejaVuSans-48\"/>\r\n       <use x=\"190.869141\" xlink:href=\"#DejaVuSans-48\"/>\r\n      </g>\r\n     </g>\r\n    </g>\r\n    <g id=\"xtick_5\">\r\n     <g id=\"line2d_5\">\r\n      <g>\r\n       <use style=\"stroke:#000000;stroke-width:0.8;\" x=\"242.209664\" xlink:href=\"#m4cfe1a5d0b\" y=\"224.64\"/>\r\n      </g>\r\n     </g>\r\n     <g id=\"text_5\">\r\n      <!-- 8000 -->\r\n      <g transform=\"translate(229.484664 239.238437)scale(0.1 -0.1)\">\r\n       <defs>\r\n        <path d=\"M 31.78125 34.625 \r\nQ 24.75 34.625 20.71875 30.859375 \r\nQ 16.703125 27.09375 16.703125 20.515625 \r\nQ 16.703125 13.921875 20.71875 10.15625 \r\nQ 24.75 6.390625 31.78125 6.390625 \r\nQ 38.8125 6.390625 42.859375 10.171875 \r\nQ 46.921875 13.96875 46.921875 20.515625 \r\nQ 46.921875 27.09375 42.890625 30.859375 \r\nQ 38.875 34.625 31.78125 34.625 \r\nz\r\nM 21.921875 38.8125 \r\nQ 15.578125 40.375 12.03125 44.71875 \r\nQ 8.5 49.078125 8.5 55.328125 \r\nQ 8.5 64.0625 14.71875 69.140625 \r\nQ 20.953125 74.21875 31.78125 74.21875 \r\nQ 42.671875 74.21875 48.875 69.140625 \r\nQ 55.078125 64.0625 55.078125 55.328125 \r\nQ 55.078125 49.078125 51.53125 44.71875 \r\nQ 48 40.375 41.703125 38.8125 \r\nQ 48.828125 37.15625 52.796875 32.3125 \r\nQ 56.78125 27.484375 56.78125 20.515625 \r\nQ 56.78125 9.90625 50.3125 4.234375 \r\nQ 43.84375 -1.421875 31.78125 -1.421875 \r\nQ 19.734375 -1.421875 13.25 4.234375 \r\nQ 6.78125 9.90625 6.78125 20.515625 \r\nQ 6.78125 27.484375 10.78125 32.3125 \r\nQ 14.796875 37.15625 21.921875 38.8125 \r\nz\r\nM 18.3125 54.390625 \r\nQ 18.3125 48.734375 21.84375 45.5625 \r\nQ 25.390625 42.390625 31.78125 42.390625 \r\nQ 38.140625 42.390625 41.71875 45.5625 \r\nQ 45.3125 48.734375 45.3125 54.390625 \r\nQ 45.3125 60.0625 41.71875 63.234375 \r\nQ 38.140625 66.40625 31.78125 66.40625 \r\nQ 25.390625 66.40625 21.84375 63.234375 \r\nQ 18.3125 60.0625 18.3125 54.390625 \r\nz\r\n\" id=\"DejaVuSans-56\"/>\r\n       </defs>\r\n       <use xlink:href=\"#DejaVuSans-56\"/>\r\n       <use x=\"63.623047\" xlink:href=\"#DejaVuSans-48\"/>\r\n       <use x=\"127.246094\" xlink:href=\"#DejaVuSans-48\"/>\r\n       <use x=\"190.869141\" xlink:href=\"#DejaVuSans-48\"/>\r\n      </g>\r\n     </g>\r\n    </g>\r\n    <g id=\"xtick_6\">\r\n     <g id=\"line2d_6\">\r\n      <g>\r\n       <use style=\"stroke:#000000;stroke-width:0.8;\" x=\"288.812579\" xlink:href=\"#m4cfe1a5d0b\" y=\"224.64\"/>\r\n      </g>\r\n     </g>\r\n     <g id=\"text_6\">\r\n      <!-- 10000 -->\r\n      <g transform=\"translate(272.906329 239.238437)scale(0.1 -0.1)\">\r\n       <defs>\r\n        <path d=\"M 12.40625 8.296875 \r\nL 28.515625 8.296875 \r\nL 28.515625 63.921875 \r\nL 10.984375 60.40625 \r\nL 10.984375 69.390625 \r\nL 28.421875 72.90625 \r\nL 38.28125 72.90625 \r\nL 38.28125 8.296875 \r\nL 54.390625 8.296875 \r\nL 54.390625 0 \r\nL 12.40625 0 \r\nz\r\n\" id=\"DejaVuSans-49\"/>\r\n       </defs>\r\n       <use xlink:href=\"#DejaVuSans-49\"/>\r\n       <use x=\"63.623047\" xlink:href=\"#DejaVuSans-48\"/>\r\n       <use x=\"127.246094\" xlink:href=\"#DejaVuSans-48\"/>\r\n       <use x=\"190.869141\" xlink:href=\"#DejaVuSans-48\"/>\r\n       <use x=\"254.492188\" xlink:href=\"#DejaVuSans-48\"/>\r\n      </g>\r\n     </g>\r\n    </g>\r\n    <g id=\"xtick_7\">\r\n     <g id=\"line2d_7\">\r\n      <g>\r\n       <use style=\"stroke:#000000;stroke-width:0.8;\" x=\"335.415494\" xlink:href=\"#m4cfe1a5d0b\" y=\"224.64\"/>\r\n      </g>\r\n     </g>\r\n     <g id=\"text_7\">\r\n      <!-- 12000 -->\r\n      <g transform=\"translate(319.509244 239.238437)scale(0.1 -0.1)\">\r\n       <use xlink:href=\"#DejaVuSans-49\"/>\r\n       <use x=\"63.623047\" xlink:href=\"#DejaVuSans-50\"/>\r\n       <use x=\"127.246094\" xlink:href=\"#DejaVuSans-48\"/>\r\n       <use x=\"190.869141\" xlink:href=\"#DejaVuSans-48\"/>\r\n       <use x=\"254.492188\" xlink:href=\"#DejaVuSans-48\"/>\r\n      </g>\r\n     </g>\r\n    </g>\r\n   </g>\r\n   <g id=\"matplotlib.axis_2\">\r\n    <g id=\"ytick_1\">\r\n     <g id=\"line2d_8\">\r\n      <defs>\r\n       <path d=\"M 0 0 \r\nL -3.5 0 \r\n\" id=\"m6e996f94c2\" style=\"stroke:#000000;stroke-width:0.8;\"/>\r\n      </defs>\r\n      <g>\r\n       <use style=\"stroke:#000000;stroke-width:0.8;\" x=\"40.603125\" xlink:href=\"#m6e996f94c2\" y=\"224.64\"/>\r\n      </g>\r\n     </g>\r\n     <g id=\"text_8\">\r\n      <!-- 0 -->\r\n      <g transform=\"translate(27.240625 228.439219)scale(0.1 -0.1)\">\r\n       <use xlink:href=\"#DejaVuSans-48\"/>\r\n      </g>\r\n     </g>\r\n    </g>\r\n    <g id=\"ytick_2\">\r\n     <g id=\"line2d_9\">\r\n      <g>\r\n       <use style=\"stroke:#000000;stroke-width:0.8;\" x=\"40.603125\" xlink:href=\"#m6e996f94c2\" y=\"186.988052\"/>\r\n      </g>\r\n     </g>\r\n     <g id=\"text_9\">\r\n      <!-- 10 -->\r\n      <g transform=\"translate(20.878125 190.787271)scale(0.1 -0.1)\">\r\n       <use xlink:href=\"#DejaVuSans-49\"/>\r\n       <use x=\"63.623047\" xlink:href=\"#DejaVuSans-48\"/>\r\n      </g>\r\n     </g>\r\n    </g>\r\n    <g id=\"ytick_3\">\r\n     <g id=\"line2d_10\">\r\n      <g>\r\n       <use style=\"stroke:#000000;stroke-width:0.8;\" x=\"40.603125\" xlink:href=\"#m6e996f94c2\" y=\"149.336104\"/>\r\n      </g>\r\n     </g>\r\n     <g id=\"text_10\">\r\n      <!-- 20 -->\r\n      <g transform=\"translate(20.878125 153.135323)scale(0.1 -0.1)\">\r\n       <use xlink:href=\"#DejaVuSans-50\"/>\r\n       <use x=\"63.623047\" xlink:href=\"#DejaVuSans-48\"/>\r\n      </g>\r\n     </g>\r\n    </g>\r\n    <g id=\"ytick_4\">\r\n     <g id=\"line2d_11\">\r\n      <g>\r\n       <use style=\"stroke:#000000;stroke-width:0.8;\" x=\"40.603125\" xlink:href=\"#m6e996f94c2\" y=\"111.684156\"/>\r\n      </g>\r\n     </g>\r\n     <g id=\"text_11\">\r\n      <!-- 30 -->\r\n      <g transform=\"translate(20.878125 115.483375)scale(0.1 -0.1)\">\r\n       <defs>\r\n        <path d=\"M 40.578125 39.3125 \r\nQ 47.65625 37.796875 51.625 33 \r\nQ 55.609375 28.21875 55.609375 21.1875 \r\nQ 55.609375 10.40625 48.1875 4.484375 \r\nQ 40.765625 -1.421875 27.09375 -1.421875 \r\nQ 22.515625 -1.421875 17.65625 -0.515625 \r\nQ 12.796875 0.390625 7.625 2.203125 \r\nL 7.625 11.71875 \r\nQ 11.71875 9.328125 16.59375 8.109375 \r\nQ 21.484375 6.890625 26.8125 6.890625 \r\nQ 36.078125 6.890625 40.9375 10.546875 \r\nQ 45.796875 14.203125 45.796875 21.1875 \r\nQ 45.796875 27.640625 41.28125 31.265625 \r\nQ 36.765625 34.90625 28.71875 34.90625 \r\nL 20.21875 34.90625 \r\nL 20.21875 43.015625 \r\nL 29.109375 43.015625 \r\nQ 36.375 43.015625 40.234375 45.921875 \r\nQ 44.09375 48.828125 44.09375 54.296875 \r\nQ 44.09375 59.90625 40.109375 62.90625 \r\nQ 36.140625 65.921875 28.71875 65.921875 \r\nQ 24.65625 65.921875 20.015625 65.03125 \r\nQ 15.375 64.15625 9.8125 62.3125 \r\nL 9.8125 71.09375 \r\nQ 15.4375 72.65625 20.34375 73.4375 \r\nQ 25.25 74.21875 29.59375 74.21875 \r\nQ 40.828125 74.21875 47.359375 69.109375 \r\nQ 53.90625 64.015625 53.90625 55.328125 \r\nQ 53.90625 49.265625 50.4375 45.09375 \r\nQ 46.96875 40.921875 40.578125 39.3125 \r\nz\r\n\" id=\"DejaVuSans-51\"/>\r\n       </defs>\r\n       <use xlink:href=\"#DejaVuSans-51\"/>\r\n       <use x=\"63.623047\" xlink:href=\"#DejaVuSans-48\"/>\r\n      </g>\r\n     </g>\r\n    </g>\r\n    <g id=\"ytick_5\">\r\n     <g id=\"line2d_12\">\r\n      <g>\r\n       <use style=\"stroke:#000000;stroke-width:0.8;\" x=\"40.603125\" xlink:href=\"#m6e996f94c2\" y=\"74.032208\"/>\r\n      </g>\r\n     </g>\r\n     <g id=\"text_12\">\r\n      <!-- 40 -->\r\n      <g transform=\"translate(20.878125 77.831427)scale(0.1 -0.1)\">\r\n       <use xlink:href=\"#DejaVuSans-52\"/>\r\n       <use x=\"63.623047\" xlink:href=\"#DejaVuSans-48\"/>\r\n      </g>\r\n     </g>\r\n    </g>\r\n    <g id=\"ytick_6\">\r\n     <g id=\"line2d_13\">\r\n      <g>\r\n       <use style=\"stroke:#000000;stroke-width:0.8;\" x=\"40.603125\" xlink:href=\"#m6e996f94c2\" y=\"36.38026\"/>\r\n      </g>\r\n     </g>\r\n     <g id=\"text_13\">\r\n      <!-- 50 -->\r\n      <g transform=\"translate(20.878125 40.179478)scale(0.1 -0.1)\">\r\n       <defs>\r\n        <path d=\"M 10.796875 72.90625 \r\nL 49.515625 72.90625 \r\nL 49.515625 64.59375 \r\nL 19.828125 64.59375 \r\nL 19.828125 46.734375 \r\nQ 21.96875 47.46875 24.109375 47.828125 \r\nQ 26.265625 48.1875 28.421875 48.1875 \r\nQ 40.625 48.1875 47.75 41.5 \r\nQ 54.890625 34.8125 54.890625 23.390625 \r\nQ 54.890625 11.625 47.5625 5.09375 \r\nQ 40.234375 -1.421875 26.90625 -1.421875 \r\nQ 22.3125 -1.421875 17.546875 -0.640625 \r\nQ 12.796875 0.140625 7.71875 1.703125 \r\nL 7.71875 11.625 \r\nQ 12.109375 9.234375 16.796875 8.0625 \r\nQ 21.484375 6.890625 26.703125 6.890625 \r\nQ 35.15625 6.890625 40.078125 11.328125 \r\nQ 45.015625 15.765625 45.015625 23.390625 \r\nQ 45.015625 31 40.078125 35.4375 \r\nQ 35.15625 39.890625 26.703125 39.890625 \r\nQ 22.75 39.890625 18.8125 39.015625 \r\nQ 14.890625 38.140625 10.796875 36.28125 \r\nz\r\n\" id=\"DejaVuSans-53\"/>\r\n       </defs>\r\n       <use xlink:href=\"#DejaVuSans-53\"/>\r\n       <use x=\"63.623047\" xlink:href=\"#DejaVuSans-48\"/>\r\n      </g>\r\n     </g>\r\n    </g>\r\n    <g id=\"text_14\">\r\n     <!-- Frequency -->\r\n     <g transform=\"translate(14.798438 141.749687)rotate(-90)scale(0.1 -0.1)\">\r\n      <defs>\r\n       <path d=\"M 9.8125 72.90625 \r\nL 51.703125 72.90625 \r\nL 51.703125 64.59375 \r\nL 19.671875 64.59375 \r\nL 19.671875 43.109375 \r\nL 48.578125 43.109375 \r\nL 48.578125 34.8125 \r\nL 19.671875 34.8125 \r\nL 19.671875 0 \r\nL 9.8125 0 \r\nz\r\n\" id=\"DejaVuSans-70\"/>\r\n       <path d=\"M 41.109375 46.296875 \r\nQ 39.59375 47.171875 37.8125 47.578125 \r\nQ 36.03125 48 33.890625 48 \r\nQ 26.265625 48 22.1875 43.046875 \r\nQ 18.109375 38.09375 18.109375 28.8125 \r\nL 18.109375 0 \r\nL 9.078125 0 \r\nL 9.078125 54.6875 \r\nL 18.109375 54.6875 \r\nL 18.109375 46.1875 \r\nQ 20.953125 51.171875 25.484375 53.578125 \r\nQ 30.03125 56 36.53125 56 \r\nQ 37.453125 56 38.578125 55.875 \r\nQ 39.703125 55.765625 41.0625 55.515625 \r\nz\r\n\" id=\"DejaVuSans-114\"/>\r\n       <path d=\"M 56.203125 29.59375 \r\nL 56.203125 25.203125 \r\nL 14.890625 25.203125 \r\nQ 15.484375 15.921875 20.484375 11.0625 \r\nQ 25.484375 6.203125 34.421875 6.203125 \r\nQ 39.59375 6.203125 44.453125 7.46875 \r\nQ 49.3125 8.734375 54.109375 11.28125 \r\nL 54.109375 2.78125 \r\nQ 49.265625 0.734375 44.1875 -0.34375 \r\nQ 39.109375 -1.421875 33.890625 -1.421875 \r\nQ 20.796875 -1.421875 13.15625 6.1875 \r\nQ 5.515625 13.8125 5.515625 26.8125 \r\nQ 5.515625 40.234375 12.765625 48.109375 \r\nQ 20.015625 56 32.328125 56 \r\nQ 43.359375 56 49.78125 48.890625 \r\nQ 56.203125 41.796875 56.203125 29.59375 \r\nz\r\nM 47.21875 32.234375 \r\nQ 47.125 39.59375 43.09375 43.984375 \r\nQ 39.0625 48.390625 32.421875 48.390625 \r\nQ 24.90625 48.390625 20.390625 44.140625 \r\nQ 15.875 39.890625 15.1875 32.171875 \r\nz\r\n\" id=\"DejaVuSans-101\"/>\r\n       <path d=\"M 14.796875 27.296875 \r\nQ 14.796875 17.390625 18.875 11.75 \r\nQ 22.953125 6.109375 30.078125 6.109375 \r\nQ 37.203125 6.109375 41.296875 11.75 \r\nQ 45.40625 17.390625 45.40625 27.296875 \r\nQ 45.40625 37.203125 41.296875 42.84375 \r\nQ 37.203125 48.484375 30.078125 48.484375 \r\nQ 22.953125 48.484375 18.875 42.84375 \r\nQ 14.796875 37.203125 14.796875 27.296875 \r\nz\r\nM 45.40625 8.203125 \r\nQ 42.578125 3.328125 38.25 0.953125 \r\nQ 33.9375 -1.421875 27.875 -1.421875 \r\nQ 17.96875 -1.421875 11.734375 6.484375 \r\nQ 5.515625 14.40625 5.515625 27.296875 \r\nQ 5.515625 40.1875 11.734375 48.09375 \r\nQ 17.96875 56 27.875 56 \r\nQ 33.9375 56 38.25 53.625 \r\nQ 42.578125 51.265625 45.40625 46.390625 \r\nL 45.40625 54.6875 \r\nL 54.390625 54.6875 \r\nL 54.390625 -20.796875 \r\nL 45.40625 -20.796875 \r\nz\r\n\" id=\"DejaVuSans-113\"/>\r\n       <path d=\"M 8.5 21.578125 \r\nL 8.5 54.6875 \r\nL 17.484375 54.6875 \r\nL 17.484375 21.921875 \r\nQ 17.484375 14.15625 20.5 10.265625 \r\nQ 23.53125 6.390625 29.59375 6.390625 \r\nQ 36.859375 6.390625 41.078125 11.03125 \r\nQ 45.3125 15.671875 45.3125 23.6875 \r\nL 45.3125 54.6875 \r\nL 54.296875 54.6875 \r\nL 54.296875 0 \r\nL 45.3125 0 \r\nL 45.3125 8.40625 \r\nQ 42.046875 3.421875 37.71875 1 \r\nQ 33.40625 -1.421875 27.6875 -1.421875 \r\nQ 18.265625 -1.421875 13.375 4.4375 \r\nQ 8.5 10.296875 8.5 21.578125 \r\nz\r\nM 31.109375 56 \r\nz\r\n\" id=\"DejaVuSans-117\"/>\r\n       <path d=\"M 54.890625 33.015625 \r\nL 54.890625 0 \r\nL 45.90625 0 \r\nL 45.90625 32.71875 \r\nQ 45.90625 40.484375 42.875 44.328125 \r\nQ 39.84375 48.1875 33.796875 48.1875 \r\nQ 26.515625 48.1875 22.3125 43.546875 \r\nQ 18.109375 38.921875 18.109375 30.90625 \r\nL 18.109375 0 \r\nL 9.078125 0 \r\nL 9.078125 54.6875 \r\nL 18.109375 54.6875 \r\nL 18.109375 46.1875 \r\nQ 21.34375 51.125 25.703125 53.5625 \r\nQ 30.078125 56 35.796875 56 \r\nQ 45.21875 56 50.046875 50.171875 \r\nQ 54.890625 44.34375 54.890625 33.015625 \r\nz\r\n\" id=\"DejaVuSans-110\"/>\r\n       <path d=\"M 48.78125 52.59375 \r\nL 48.78125 44.1875 \r\nQ 44.96875 46.296875 41.140625 47.34375 \r\nQ 37.3125 48.390625 33.40625 48.390625 \r\nQ 24.65625 48.390625 19.8125 42.84375 \r\nQ 14.984375 37.3125 14.984375 27.296875 \r\nQ 14.984375 17.28125 19.8125 11.734375 \r\nQ 24.65625 6.203125 33.40625 6.203125 \r\nQ 37.3125 6.203125 41.140625 7.25 \r\nQ 44.96875 8.296875 48.78125 10.40625 \r\nL 48.78125 2.09375 \r\nQ 45.015625 0.34375 40.984375 -0.53125 \r\nQ 36.96875 -1.421875 32.421875 -1.421875 \r\nQ 20.0625 -1.421875 12.78125 6.34375 \r\nQ 5.515625 14.109375 5.515625 27.296875 \r\nQ 5.515625 40.671875 12.859375 48.328125 \r\nQ 20.21875 56 33.015625 56 \r\nQ 37.15625 56 41.109375 55.140625 \r\nQ 45.0625 54.296875 48.78125 52.59375 \r\nz\r\n\" id=\"DejaVuSans-99\"/>\r\n       <path d=\"M 32.171875 -5.078125 \r\nQ 28.375 -14.84375 24.75 -17.8125 \r\nQ 21.140625 -20.796875 15.09375 -20.796875 \r\nL 7.90625 -20.796875 \r\nL 7.90625 -13.28125 \r\nL 13.1875 -13.28125 \r\nQ 16.890625 -13.28125 18.9375 -11.515625 \r\nQ 21 -9.765625 23.484375 -3.21875 \r\nL 25.09375 0.875 \r\nL 2.984375 54.6875 \r\nL 12.5 54.6875 \r\nL 29.59375 11.921875 \r\nL 46.6875 54.6875 \r\nL 56.203125 54.6875 \r\nz\r\n\" id=\"DejaVuSans-121\"/>\r\n      </defs>\r\n      <use xlink:href=\"#DejaVuSans-70\"/>\r\n      <use x=\"50.269531\" xlink:href=\"#DejaVuSans-114\"/>\r\n      <use x=\"89.132812\" xlink:href=\"#DejaVuSans-101\"/>\r\n      <use x=\"150.65625\" xlink:href=\"#DejaVuSans-113\"/>\r\n      <use x=\"214.132812\" xlink:href=\"#DejaVuSans-117\"/>\r\n      <use x=\"277.511719\" xlink:href=\"#DejaVuSans-101\"/>\r\n      <use x=\"339.035156\" xlink:href=\"#DejaVuSans-110\"/>\r\n      <use x=\"402.414062\" xlink:href=\"#DejaVuSans-99\"/>\r\n      <use x=\"457.394531\" xlink:href=\"#DejaVuSans-121\"/>\r\n     </g>\r\n    </g>\r\n   </g>\r\n   <g id=\"patch_23\">\r\n    <path d=\"M 40.603125 224.64 \r\nL 40.603125 7.2 \r\n\" style=\"fill:none;stroke:#000000;stroke-linecap:square;stroke-linejoin:miter;stroke-width:0.8;\"/>\r\n   </g>\r\n   <g id=\"patch_24\">\r\n    <path d=\"M 375.403125 224.64 \r\nL 375.403125 7.2 \r\n\" style=\"fill:none;stroke:#000000;stroke-linecap:square;stroke-linejoin:miter;stroke-width:0.8;\"/>\r\n   </g>\r\n   <g id=\"patch_25\">\r\n    <path d=\"M 40.603125 224.64 \r\nL 375.403125 224.64 \r\n\" style=\"fill:none;stroke:#000000;stroke-linecap:square;stroke-linejoin:miter;stroke-width:0.8;\"/>\r\n   </g>\r\n   <g id=\"patch_26\">\r\n    <path d=\"M 40.603125 7.2 \r\nL 375.403125 7.2 \r\n\" style=\"fill:none;stroke:#000000;stroke-linecap:square;stroke-linejoin:miter;stroke-width:0.8;\"/>\r\n   </g>\r\n  </g>\r\n </g>\r\n <defs>\r\n  <clipPath id=\"p73bcb689f7\">\r\n   <rect height=\"217.44\" width=\"334.8\" x=\"40.603125\" y=\"7.2\"/>\r\n  </clipPath>\r\n </defs>\r\n</svg>\r\n",
      "image/png": "[encoded data removed]"
     },
     "metadata": {
      "needs_background": "light"
     }
    }
   ],
   "source": [
    "df[(df.place_type=='state') &(df.state == 'AM')].sort_values('date').set_index('date')['deaths'].plot(\n",
    "    kind='hist',\n",
    "    bins=20,\n",
    "    title='')"
   ]
  },
  {
   "cell_type": "code",
   "execution_count": 15,
   "metadata": {},
   "outputs": [
    {
     "output_type": "execute_result",
     "data": {
      "text/plain": [
       "       Estado  Confirmados  Mortes  Letalidade  Mortalidade  Mortalidade100k\n",
       "275077     MA       295218    8331      0.0282     0.001171        117.09727"
      ],
      "text/html": "<div>\n<style scoped>\n    .dataframe tbody tr th:only-of-type {\n        vertical-align: middle;\n    }\n\n    .dataframe tbody tr th {\n        vertical-align: top;\n    }\n\n    .dataframe thead th {\n        text-align: right;\n    }\n</style>\n<table border=\"1\" class=\"dataframe\">\n  <thead>\n    <tr style=\"text-align: right;\">\n      <th></th>\n      <th>Estado</th>\n      <th>Confirmados</th>\n      <th>Mortes</th>\n      <th>Letalidade</th>\n      <th>Mortalidade</th>\n      <th>Mortalidade100k</th>\n    </tr>\n  </thead>\n  <tbody>\n    <tr>\n      <th>275077</th>\n      <td>MA</td>\n      <td>295218</td>\n      <td>8331</td>\n      <td>0.0282</td>\n      <td>0.001171</td>\n      <td>117.09727</td>\n    </tr>\n  </tbody>\n</table>\n</div>"
     },
     "metadata": {},
     "execution_count": 15
    }
   ],
   "source": [
    "df_states[df_states['Estado'] == 'MA']"
   ]
  },
  {
   "cell_type": "code",
   "execution_count": 16,
   "metadata": {},
   "outputs": [],
   "source": [
    "#df_cities.sort_values('Letalidade',ascending=False).head()\n",
    "df_states['Ltemp'] =  df_states['Letalidade'] * 100\n",
    "df_states['Letalidade_rank'] = df_states['Ltemp'].astype(int).rank(method='dense')\n",
    "df_states['Mortalidade_rank'] = df_states['Mortalidade'].rank(method='dense')\n",
    "df_states['rank'] = ((df_states['Mortalidade_rank'] + df_states['Letalidade_rank'])/2).rank(method='dense').astype(int)\n",
    "df_cities['Ltemp'] =  df_cities['Letalidade'] * 100\n",
    "df_cities['Letalidade_rank'] = df_cities['Ltemp'].rank(method='dense').astype(int)\n",
    "df_cities['Mortalidade_rank'] = df_cities['Mortalidade'].rank(method='dense').astype(int)\n",
    "df_cities['rank'] = ((df_cities['Mortalidade_rank'] + df_cities['Letalidade_rank'])/2).rank(method='dense').astype(int)"
   ]
  },
  {
   "cell_type": "code",
   "execution_count": 17,
   "metadata": {},
   "outputs": [
    {
     "output_type": "execute_result",
     "data": {
      "text/plain": [
       "        Estado  Confirmados  Mortes  Letalidade  Mortalidade  Mortalidade100k  \\\n",
       "275077      MA       295218    8331      0.0282     0.001171       117.097270   \n",
       "42871       AL       198440    4880      0.0246     0.001456       145.604577   \n",
       "879037      BA      1037924   21829      0.0210     0.001462       146.202767   \n",
       "362574      PA       525675   14764      0.0281     0.001699       169.881869   \n",
       "479968      RN       275370    6295      0.0229     0.001781       178.118452   \n",
       "1239696     TO       182924    2953      0.0161     0.001857       185.694307   \n",
       "1980190     PE       500821   16357      0.0327     0.001701       170.090929   \n",
       "1893876     PI       279709    6116      0.0219     0.001864       186.379317   \n",
       "6756        AC        83350    1692      0.0203     0.001892       189.162297   \n",
       "1811582     PB       345596    7883      0.0228     0.001952       195.158688   \n",
       "\n",
       "         Ltemp  Letalidade_rank  Mortalidade_rank  rank  \n",
       "275077    2.82              2.0               1.0     1  \n",
       "42871     2.46              2.0               2.0     2  \n",
       "879037    2.10              2.0               3.0     3  \n",
       "362574    2.81              2.0               4.0     4  \n",
       "479968    2.29              2.0               6.0     5  \n",
       "1239696   1.61              1.0               7.0     5  \n",
       "1980190   3.27              3.0               5.0     5  \n",
       "1893876   2.19              2.0               8.0     6  \n",
       "6756      2.03              2.0               9.0     7  \n",
       "1811582   2.28              2.0              10.0     8  "
      ],
      "text/html": "<div>\n<style scoped>\n    .dataframe tbody tr th:only-of-type {\n        vertical-align: middle;\n    }\n\n    .dataframe tbody tr th {\n        vertical-align: top;\n    }\n\n    .dataframe thead th {\n        text-align: right;\n    }\n</style>\n<table border=\"1\" class=\"dataframe\">\n  <thead>\n    <tr style=\"text-align: right;\">\n      <th></th>\n      <th>Estado</th>\n      <th>Confirmados</th>\n      <th>Mortes</th>\n      <th>Letalidade</th>\n      <th>Mortalidade</th>\n      <th>Mortalidade100k</th>\n      <th>Ltemp</th>\n      <th>Letalidade_rank</th>\n      <th>Mortalidade_rank</th>\n      <th>rank</th>\n    </tr>\n  </thead>\n  <tbody>\n    <tr>\n      <th>275077</th>\n      <td>MA</td>\n      <td>295218</td>\n      <td>8331</td>\n      <td>0.0282</td>\n      <td>0.001171</td>\n      <td>117.097270</td>\n      <td>2.82</td>\n      <td>2.0</td>\n      <td>1.0</td>\n      <td>1</td>\n    </tr>\n    <tr>\n      <th>42871</th>\n      <td>AL</td>\n      <td>198440</td>\n      <td>4880</td>\n      <td>0.0246</td>\n      <td>0.001456</td>\n      <td>145.604577</td>\n      <td>2.46</td>\n      <td>2.0</td>\n      <td>2.0</td>\n      <td>2</td>\n    </tr>\n    <tr>\n      <th>879037</th>\n      <td>BA</td>\n      <td>1037924</td>\n      <td>21829</td>\n      <td>0.0210</td>\n      <td>0.001462</td>\n      <td>146.202767</td>\n      <td>2.10</td>\n      <td>2.0</td>\n      <td>3.0</td>\n      <td>3</td>\n    </tr>\n    <tr>\n      <th>362574</th>\n      <td>PA</td>\n      <td>525675</td>\n      <td>14764</td>\n      <td>0.0281</td>\n      <td>0.001699</td>\n      <td>169.881869</td>\n      <td>2.81</td>\n      <td>2.0</td>\n      <td>4.0</td>\n      <td>4</td>\n    </tr>\n    <tr>\n      <th>479968</th>\n      <td>RN</td>\n      <td>275370</td>\n      <td>6295</td>\n      <td>0.0229</td>\n      <td>0.001781</td>\n      <td>178.118452</td>\n      <td>2.29</td>\n      <td>2.0</td>\n      <td>6.0</td>\n      <td>5</td>\n    </tr>\n    <tr>\n      <th>1239696</th>\n      <td>TO</td>\n      <td>182924</td>\n      <td>2953</td>\n      <td>0.0161</td>\n      <td>0.001857</td>\n      <td>185.694307</td>\n      <td>1.61</td>\n      <td>1.0</td>\n      <td>7.0</td>\n      <td>5</td>\n    </tr>\n    <tr>\n      <th>1980190</th>\n      <td>PE</td>\n      <td>500821</td>\n      <td>16357</td>\n      <td>0.0327</td>\n      <td>0.001701</td>\n      <td>170.090929</td>\n      <td>3.27</td>\n      <td>3.0</td>\n      <td>5.0</td>\n      <td>5</td>\n    </tr>\n    <tr>\n      <th>1893876</th>\n      <td>PI</td>\n      <td>279709</td>\n      <td>6116</td>\n      <td>0.0219</td>\n      <td>0.001864</td>\n      <td>186.379317</td>\n      <td>2.19</td>\n      <td>2.0</td>\n      <td>8.0</td>\n      <td>6</td>\n    </tr>\n    <tr>\n      <th>6756</th>\n      <td>AC</td>\n      <td>83350</td>\n      <td>1692</td>\n      <td>0.0203</td>\n      <td>0.001892</td>\n      <td>189.162297</td>\n      <td>2.03</td>\n      <td>2.0</td>\n      <td>9.0</td>\n      <td>7</td>\n    </tr>\n    <tr>\n      <th>1811582</th>\n      <td>PB</td>\n      <td>345596</td>\n      <td>7883</td>\n      <td>0.0228</td>\n      <td>0.001952</td>\n      <td>195.158688</td>\n      <td>2.28</td>\n      <td>2.0</td>\n      <td>10.0</td>\n      <td>8</td>\n    </tr>\n  </tbody>\n</table>\n</div>"
     },
     "metadata": {},
     "execution_count": 17
    }
   ],
   "source": [
    "df_states.sort_values('rank', ascending=True).head(10)"
   ]
  },
  {
   "cell_type": "code",
   "execution_count": 18,
   "metadata": {},
   "outputs": [
    {
     "output_type": "execute_result",
     "data": {
      "text/plain": [
       "2.5225925925925923"
      ]
     },
     "metadata": {},
     "execution_count": 18
    }
   ],
   "source": [
    "df_states['Letalidade'].mean() * 100"
   ]
  },
  {
   "cell_type": "code",
   "execution_count": 19,
   "metadata": {},
   "outputs": [
    {
     "output_type": "execute_result",
     "data": {
      "text/plain": [
       "0.024392281147838722"
      ]
     },
     "metadata": {},
     "execution_count": 19
    }
   ],
   "source": [
    "df_cities['Letalidade'].mean()"
   ]
  },
  {
   "cell_type": "code",
   "execution_count": 20,
   "metadata": {},
   "outputs": [
    {
     "output_type": "execute_result",
     "data": {
      "text/plain": [
       "Index(['date', 'state', 'city', 'place_type', 'confirmed', 'deaths',\n",
       "       'order_for_place', 'is_last', 'estimated_population_2019',\n",
       "       'estimated_population', 'city_ibge_code',\n",
       "       'confirmed_per_100k_inhabitants', 'death_rate', 'mortalidade',\n",
       "       'mortalidade100k'],\n",
       "      dtype='object')"
      ]
     },
     "metadata": {},
     "execution_count": 20
    }
   ],
   "source": [
    "df.columns"
   ]
  },
  {
   "cell_type": "code",
   "execution_count": 21,
   "id": "comic-porter",
   "metadata": {},
   "outputs": [],
   "source": [
    "def search_city(city, color='red', reverse=False):\n",
    "    return df_cities[df['city'] == city]\n",
    "\n",
    "def style_frame(df):\n",
    "    cm = sns.light_palette(color, as_cmap=True, reverse=reverse)\n",
    "    return (df.style.set_properties(**{'text-align': 'right'}).background_gradient(cmap=cm).hide_index()).set_caption(\n",
    "    title)\n",
    "\n",
    "def treemap_show(df=df_states, nivel='Estado', column='rank', n=10,  asc=False, title=\"\"):\n",
    "    fig = px.treemap(df.head(30), \n",
    "                 path=[nivel], \n",
    "                 values=column, height=700,\n",
    "                 title=title,\n",
    "                 color_discrete_sequence = px.colors.qualitative.Prism)\n",
    "\n",
    "    fig.data[0].textinfo = 'label+text+value'\n",
    "    #fig.write_image(\"images/fig2.png\")\n",
    "\n",
    "    fig.show()\n",
    "\n",
    "\n",
    "def covid_data_table(df, nivel, column, n, asc=False,title=\"\", color='red', reverse=False, corte=0):\n",
    "\n",
    "    if(corte > 0):\n",
    "        df = df[df['Mortes'] > corte]\n",
    "    \n",
    "    df = df.sort_values(column,ascending=asc).copy().head(n)\n",
    "\n",
    "    data_table = pd.DataFrame()\n",
    "    data_table[nivel] = df[nivel]\n",
    "    if nivel == 'Cidade':\n",
    "        data_table['Estado'] = df['Estado']\n",
    "    #data_table[\"Confirmados\"] = df['Confirmados']\n",
    "    data_table[\"rank\"] = df['rank']\n",
    "    data_table[\"Letalidade_rank\"] = df['Letalidade_rank']\n",
    "    data_table[\"Mortalidade_rank\"] = df['Mortalidade_rank']\n",
    "    data_table[\"Mortes\"] = df['Mortes']\n",
    "    data_table[\"Mortalidade100k\"] = df['Mortalidade100k'].astype(int)\n",
    "    data_table[\"LetPerc\"] = df[\"Ltemp\"]\n",
    "    data_table[\"Letalidade\"] = df['Letalidade']\n",
    "    \n",
    "    #data_table[\"Mortalidade\"] = df['Mortalidade']\n",
    "    \n",
    "    cm = sns.light_palette(color, as_cmap=True, reverse=reverse)\n",
    "    return (data_table.style.set_properties(**{'text-align': 'right'}).background_gradient(cmap=cm).hide_index()).set_caption(\n",
    "    title)\n",
    "\n",
    "def tabela_estado(column, n, asc=False,title=\"\", color='red', reverse=False, corte=0):\n",
    "    '''Retorna uma table para estado '''\n",
    "    return covid_data_table(df_states,'Estado', column, n, asc=asc,title=title, color=color, reverse=reverse, corte=corte)\n",
    "\n",
    "def tabela_estado_reversa(column, n, title=\"\", corte=0):\n",
    "    return tabela_estado(column, n, True, title, 'green', True, corte)\n",
    "\n",
    "def tabela_cidade(column, n, asc=False,title=\"\", color='red', reverse=False, corte=0):\n",
    "    '''Retorna uma table para cidades '''\n",
    "    return covid_data_table(df_cities,'Cidade', column, n, asc=asc,title=title, color=color, reverse=reverse, corte=corte)\n",
    "\n",
    "def tabela_cidade_reversa(column, n, title=\"\", corte=0):\n",
    "    return tabela_cidade(column, n, True, title, 'green', True, corte=corte)"
   ]
  },
  {
   "cell_type": "markdown",
   "id": "particular-geometry",
   "metadata": {},
   "source": [
    "## Piores no Ranking (Letalidade %)"
   ]
  },
  {
   "cell_type": "code",
   "execution_count": 22,
   "metadata": {},
   "outputs": [
    {
     "output_type": "execute_result",
     "data": {
      "text/plain": [
       "<pandas.io.formats.style.Styler at 0x236d456c580>"
      ],
      "text/html": "<style  type=\"text/css\" >\n#T_8b89c_row0_col0,#T_8b89c_row1_col0,#T_8b89c_row2_col0,#T_8b89c_row3_col0,#T_8b89c_row4_col0,#T_8b89c_row5_col0,#T_8b89c_row6_col0,#T_8b89c_row7_col0,#T_8b89c_row8_col0,#T_8b89c_row9_col0,#T_8b89c_row10_col0,#T_8b89c_row11_col0,#T_8b89c_row12_col0,#T_8b89c_row13_col0,#T_8b89c_row14_col0,#T_8b89c_row15_col0,#T_8b89c_row16_col0,#T_8b89c_row17_col0,#T_8b89c_row18_col0,#T_8b89c_row19_col0{\n            text-align:  right;\n        }#T_8b89c_row0_col1,#T_8b89c_row2_col1,#T_8b89c_row7_col1{\n            text-align:  right;\n            background-color:  #fe0c0c;\n            color:  #f1f1f1;\n        }#T_8b89c_row0_col2,#T_8b89c_row0_col6,#T_8b89c_row0_col7,#T_8b89c_row1_col4,#T_8b89c_row11_col1,#T_8b89c_row11_col3,#T_8b89c_row11_col5{\n            text-align:  right;\n            background-color:  #ff0000;\n            color:  #f1f1f1;\n        }#T_8b89c_row0_col3{\n            text-align:  right;\n            background-color:  #fe1b1b;\n            color:  #f1f1f1;\n        }#T_8b89c_row0_col4{\n            text-align:  right;\n            background-color:  #f88a8a;\n            color:  #000000;\n        }#T_8b89c_row0_col5{\n            text-align:  right;\n            background-color:  #fd2020;\n            color:  #f1f1f1;\n        }#T_8b89c_row1_col1,#T_8b89c_row8_col1{\n            text-align:  right;\n            background-color:  #fc3f3f;\n            color:  #f1f1f1;\n        }#T_8b89c_row1_col2,#T_8b89c_row2_col2,#T_8b89c_row3_col2,#T_8b89c_row19_col3{\n            text-align:  right;\n            background-color:  #f97878;\n            color:  #000000;\n        }#T_8b89c_row1_col3{\n            text-align:  right;\n            background-color:  #fb5353;\n            color:  #000000;\n        }#T_8b89c_row1_col5,#T_8b89c_row4_col5{\n            text-align:  right;\n            background-color:  #fa5959;\n            color:  #000000;\n        }#T_8b89c_row1_col6,#T_8b89c_row1_col7{\n            text-align:  right;\n            background-color:  #f79e9e;\n            color:  #000000;\n        }#T_8b89c_row2_col3{\n            text-align:  right;\n            background-color:  #fe1212;\n            color:  #f1f1f1;\n        }#T_8b89c_row2_col4,#T_8b89c_row13_col6,#T_8b89c_row13_col7{\n            text-align:  right;\n            background-color:  #f4dede;\n            color:  #000000;\n        }#T_8b89c_row2_col5{\n            text-align:  right;\n            background-color:  #fe1010;\n            color:  #f1f1f1;\n        }#T_8b89c_row2_col6,#T_8b89c_row2_col7{\n            text-align:  right;\n            background-color:  #f7a1a1;\n            color:  #000000;\n        }#T_8b89c_row3_col1,#T_8b89c_row15_col1{\n            text-align:  right;\n            background-color:  #f5bebe;\n            color:  #000000;\n        }#T_8b89c_row3_col3{\n            text-align:  right;\n            background-color:  #f5cbcb;\n            color:  #000000;\n        }#T_8b89c_row3_col4{\n            text-align:  right;\n            background-color:  #f4d8d7;\n            color:  #000000;\n        }#T_8b89c_row3_col5{\n            text-align:  right;\n            background-color:  #f6b3b3;\n            color:  #000000;\n        }#T_8b89c_row3_col6,#T_8b89c_row3_col7{\n            text-align:  right;\n            background-color:  #f7a7a7;\n            color:  #000000;\n        }#T_8b89c_row4_col1{\n            text-align:  right;\n            background-color:  #fb4b4b;\n            color:  #000000;\n        }#T_8b89c_row4_col2,#T_8b89c_row5_col1,#T_8b89c_row5_col2,#T_8b89c_row5_col3,#T_8b89c_row5_col5,#T_8b89c_row6_col2,#T_8b89c_row7_col2,#T_8b89c_row8_col2,#T_8b89c_row9_col2,#T_8b89c_row10_col2,#T_8b89c_row11_col2,#T_8b89c_row12_col2,#T_8b89c_row12_col4,#T_8b89c_row13_col2,#T_8b89c_row14_col2,#T_8b89c_row15_col2,#T_8b89c_row16_col2,#T_8b89c_row17_col2,#T_8b89c_row18_col2,#T_8b89c_row19_col2,#T_8b89c_row19_col4,#T_8b89c_row19_col6,#T_8b89c_row19_col7{\n            text-align:  right;\n            background-color:  #f3f0f0;\n            color:  #000000;\n        }#T_8b89c_row4_col3{\n            text-align:  right;\n            background-color:  #fa5c5c;\n            color:  #000000;\n        }#T_8b89c_row4_col4,#T_8b89c_row6_col3,#T_8b89c_row9_col6,#T_8b89c_row9_col7{\n            text-align:  right;\n            background-color:  #f4d5d5;\n            color:  #000000;\n        }#T_8b89c_row4_col6,#T_8b89c_row4_col7,#T_8b89c_row5_col6,#T_8b89c_row5_col7{\n            text-align:  right;\n            background-color:  #f5c4c4;\n            color:  #000000;\n        }#T_8b89c_row5_col4{\n            text-align:  right;\n            background-color:  #f3e8e8;\n            color:  #000000;\n        }#T_8b89c_row6_col1{\n            text-align:  right;\n            background-color:  #f5caca;\n            color:  #000000;\n        }#T_8b89c_row6_col4{\n            text-align:  right;\n            background-color:  #f4dada;\n            color:  #000000;\n        }#T_8b89c_row6_col5{\n            text-align:  right;\n            background-color:  #f6b4b4;\n            color:  #000000;\n        }#T_8b89c_row6_col6,#T_8b89c_row6_col7{\n            text-align:  right;\n            background-color:  #f5c5c5;\n            color:  #000000;\n        }#T_8b89c_row7_col3,#T_8b89c_row7_col5{\n            text-align:  right;\n            background-color:  #ff0808;\n            color:  #f1f1f1;\n        }#T_8b89c_row7_col4,#T_8b89c_row17_col4{\n            text-align:  right;\n            background-color:  #f3e3e3;\n            color:  #000000;\n        }#T_8b89c_row7_col6,#T_8b89c_row7_col7,#T_8b89c_row10_col4{\n            text-align:  right;\n            background-color:  #f5cdcd;\n            color:  #000000;\n        }#T_8b89c_row8_col3{\n            text-align:  right;\n            background-color:  #fb4949;\n            color:  #000000;\n        }#T_8b89c_row8_col4{\n            text-align:  right;\n            background-color:  #f5bcbc;\n            color:  #000000;\n        }#T_8b89c_row8_col5{\n            text-align:  right;\n            background-color:  #fb5454;\n            color:  #000000;\n        }#T_8b89c_row8_col6,#T_8b89c_row8_col7{\n            text-align:  right;\n            background-color:  #f4d4d4;\n            color:  #000000;\n        }#T_8b89c_row9_col1{\n            text-align:  right;\n            background-color:  #f88b8b;\n            color:  #000000;\n        }#T_8b89c_row9_col3{\n            text-align:  right;\n            background-color:  #f89494;\n            color:  #000000;\n        }#T_8b89c_row9_col4,#T_8b89c_row18_col5{\n            text-align:  right;\n            background-color:  #f7a0a0;\n            color:  #000000;\n        }#T_8b89c_row9_col5,#T_8b89c_row16_col5{\n            text-align:  right;\n            background-color:  #f79696;\n            color:  #000000;\n        }#T_8b89c_row10_col1{\n            text-align:  right;\n            background-color:  #fa6565;\n            color:  #000000;\n        }#T_8b89c_row10_col3{\n            text-align:  right;\n            background-color:  #f96f6f;\n            color:  #000000;\n        }#T_8b89c_row10_col5{\n            text-align:  right;\n            background-color:  #f97070;\n            color:  #000000;\n        }#T_8b89c_row10_col6,#T_8b89c_row10_col7{\n            text-align:  right;\n            background-color:  #f4d7d7;\n            color:  #000000;\n        }#T_8b89c_row11_col4,#T_8b89c_row18_col4{\n            text-align:  right;\n            background-color:  #f3eeee;\n            color:  #000000;\n        }#T_8b89c_row11_col6,#T_8b89c_row11_col7{\n            text-align:  right;\n            background-color:  #f4d8d8;\n            color:  #000000;\n        }#T_8b89c_row12_col1{\n            text-align:  right;\n            background-color:  #f3e4e4;\n            color:  #000000;\n        }#T_8b89c_row12_col3,#T_8b89c_row16_col6,#T_8b89c_row16_col7{\n            text-align:  right;\n            background-color:  #f3e8e7;\n            color:  #000000;\n        }#T_8b89c_row12_col5{\n            text-align:  right;\n            background-color:  #f4d0d0;\n            color:  #000000;\n        }#T_8b89c_row12_col6,#T_8b89c_row12_col7{\n            text-align:  right;\n            background-color:  #f4dbdb;\n            color:  #000000;\n        }#T_8b89c_row13_col1{\n            text-align:  right;\n            background-color:  #fb5858;\n            color:  #000000;\n        }#T_8b89c_row13_col3{\n            text-align:  right;\n            background-color:  #fa6666;\n            color:  #000000;\n        }#T_8b89c_row13_col4{\n            text-align:  right;\n            background-color:  #f5bfbf;\n            color:  #000000;\n        }#T_8b89c_row13_col5{\n            text-align:  right;\n            background-color:  #fa6868;\n            color:  #000000;\n        }#T_8b89c_row14_col1{\n            text-align:  right;\n            background-color:  #fc3232;\n            color:  #f1f1f1;\n        }#T_8b89c_row14_col3{\n            text-align:  right;\n            background-color:  #fc4040;\n            color:  #f1f1f1;\n        }#T_8b89c_row14_col4{\n            text-align:  right;\n            background-color:  #f3ebeb;\n            color:  #000000;\n        }#T_8b89c_row14_col5{\n            text-align:  right;\n            background-color:  #fb5050;\n            color:  #000000;\n        }#T_8b89c_row14_col6,#T_8b89c_row14_col7{\n            text-align:  right;\n            background-color:  #f4e1e1;\n            color:  #000000;\n        }#T_8b89c_row15_col3{\n            text-align:  right;\n            background-color:  #f5c2c2;\n            color:  #000000;\n        }#T_8b89c_row15_col4,#T_8b89c_row18_col6,#T_8b89c_row18_col7{\n            text-align:  right;\n            background-color:  #f3eded;\n            color:  #000000;\n        }#T_8b89c_row15_col5{\n            text-align:  right;\n            background-color:  #f6a9a9;\n            color:  #000000;\n        }#T_8b89c_row15_col6,#T_8b89c_row15_col7{\n            text-align:  right;\n            background-color:  #f3e7e7;\n            color:  #000000;\n        }#T_8b89c_row16_col1{\n            text-align:  right;\n            background-color:  #f79897;\n            color:  #000000;\n        }#T_8b89c_row16_col3{\n            text-align:  right;\n            background-color:  #f79d9d;\n            color:  #000000;\n        }#T_8b89c_row16_col4{\n            text-align:  right;\n            background-color:  #f3e9e9;\n            color:  #000000;\n        }#T_8b89c_row17_col1{\n            text-align:  right;\n            background-color:  #fd2626;\n            color:  #f1f1f1;\n        }#T_8b89c_row17_col3{\n            text-align:  right;\n            background-color:  #fd2e2e;\n            color:  #f1f1f1;\n        }#T_8b89c_row17_col5{\n            text-align:  right;\n            background-color:  #fc3e3e;\n            color:  #f1f1f1;\n        }#T_8b89c_row17_col6,#T_8b89c_row17_col7{\n            text-align:  right;\n            background-color:  #f3eaea;\n            color:  #000000;\n        }#T_8b89c_row18_col1{\n            text-align:  right;\n            background-color:  #f6b1b1;\n            color:  #000000;\n        }#T_8b89c_row18_col3{\n            text-align:  right;\n            background-color:  #f6b0b0;\n            color:  #000000;\n        }#T_8b89c_row19_col1,#T_8b89c_row19_col5{\n            text-align:  right;\n            background-color:  #f97272;\n            color:  #000000;\n        }</style><table id=\"T_8b89c_\" ><thead>    <tr>        <th class=\"col_heading level0 col0\" >Estado</th>        <th class=\"col_heading level0 col1\" >rank</th>        <th class=\"col_heading level0 col2\" >Letalidade_rank</th>        <th class=\"col_heading level0 col3\" >Mortalidade_rank</th>        <th class=\"col_heading level0 col4\" >Mortes</th>        <th class=\"col_heading level0 col5\" >Mortalidade100k</th>        <th class=\"col_heading level0 col6\" >LetPerc</th>        <th class=\"col_heading level0 col7\" >Letalidade</th>    </tr></thead><tbody>\n                <tr>\n                                <td id=\"T_8b89c_row0_col0\" class=\"data row0 col0\" >RJ</td>\n                        <td id=\"T_8b89c_row0_col1\" class=\"data row0 col1\" >19</td>\n                        <td id=\"T_8b89c_row0_col2\" class=\"data row0 col2\" >4.000000</td>\n                        <td id=\"T_8b89c_row0_col3\" class=\"data row0 col3\" >24.000000</td>\n                        <td id=\"T_8b89c_row0_col4\" class=\"data row0 col4\" >51540</td>\n                        <td id=\"T_8b89c_row0_col5\" class=\"data row0 col5\" >296</td>\n                        <td id=\"T_8b89c_row0_col6\" class=\"data row0 col6\" >5.820000</td>\n                        <td id=\"T_8b89c_row0_col7\" class=\"data row0 col7\" >0.058200</td>\n            </tr>\n            <tr>\n                                <td id=\"T_8b89c_row1_col0\" class=\"data row1 col0\" >SP</td>\n                        <td id=\"T_8b89c_row1_col1\" class=\"data row1 col1\" >15</td>\n                        <td id=\"T_8b89c_row1_col2\" class=\"data row1 col2\" >3.000000</td>\n                        <td id=\"T_8b89c_row1_col3\" class=\"data row1 col3\" >18.000000</td>\n                        <td id=\"T_8b89c_row1_col4\" class=\"data row1 col4\" >114542</td>\n                        <td id=\"T_8b89c_row1_col5\" class=\"data row1 col5\" >247</td>\n                        <td id=\"T_8b89c_row1_col6\" class=\"data row1 col6\" >3.400000</td>\n                        <td id=\"T_8b89c_row1_col7\" class=\"data row1 col7\" >0.034000</td>\n            </tr>\n            <tr>\n                                <td id=\"T_8b89c_row2_col0\" class=\"data row2 col0\" >AM</td>\n                        <td id=\"T_8b89c_row2_col1\" class=\"data row2 col1\" >19</td>\n                        <td id=\"T_8b89c_row2_col2\" class=\"data row2 col2\" >3.000000</td>\n                        <td id=\"T_8b89c_row2_col3\" class=\"data row2 col3\" >25.000000</td>\n                        <td id=\"T_8b89c_row2_col4\" class=\"data row2 col4\" >13063</td>\n                        <td id=\"T_8b89c_row2_col5\" class=\"data row2 col5\" >310</td>\n                        <td id=\"T_8b89c_row2_col6\" class=\"data row2 col6\" >3.350000</td>\n                        <td id=\"T_8b89c_row2_col7\" class=\"data row2 col7\" >0.033500</td>\n            </tr>\n            <tr>\n                                <td id=\"T_8b89c_row3_col0\" class=\"data row3 col0\" >PE</td>\n                        <td id=\"T_8b89c_row3_col1\" class=\"data row3 col1\" >5</td>\n                        <td id=\"T_8b89c_row3_col2\" class=\"data row3 col2\" >3.000000</td>\n                        <td id=\"T_8b89c_row3_col3\" class=\"data row3 col3\" >5.000000</td>\n                        <td id=\"T_8b89c_row3_col4\" class=\"data row3 col4\" >16357</td>\n                        <td id=\"T_8b89c_row3_col5\" class=\"data row3 col5\" >170</td>\n                        <td id=\"T_8b89c_row3_col6\" class=\"data row3 col6\" >3.270000</td>\n                        <td id=\"T_8b89c_row3_col7\" class=\"data row3 col7\" >0.032700</td>\n            </tr>\n            <tr>\n                                <td id=\"T_8b89c_row4_col0\" class=\"data row4 col0\" >GO</td>\n                        <td id=\"T_8b89c_row4_col1\" class=\"data row4 col1\" >14</td>\n                        <td id=\"T_8b89c_row4_col2\" class=\"data row4 col2\" >2.000000</td>\n                        <td id=\"T_8b89c_row4_col3\" class=\"data row4 col3\" >17.000000</td>\n                        <td id=\"T_8b89c_row4_col4\" class=\"data row4 col4\" >17572</td>\n                        <td id=\"T_8b89c_row4_col5\" class=\"data row4 col5\" >247</td>\n                        <td id=\"T_8b89c_row4_col6\" class=\"data row4 col6\" >2.820000</td>\n                        <td id=\"T_8b89c_row4_col7\" class=\"data row4 col7\" >0.028200</td>\n            </tr>\n            <tr>\n                                <td id=\"T_8b89c_row5_col0\" class=\"data row5 col0\" >MA</td>\n                        <td id=\"T_8b89c_row5_col1\" class=\"data row5 col1\" >1</td>\n                        <td id=\"T_8b89c_row5_col2\" class=\"data row5 col2\" >2.000000</td>\n                        <td id=\"T_8b89c_row5_col3\" class=\"data row5 col3\" >1.000000</td>\n                        <td id=\"T_8b89c_row5_col4\" class=\"data row5 col4\" >8331</td>\n                        <td id=\"T_8b89c_row5_col5\" class=\"data row5 col5\" >117</td>\n                        <td id=\"T_8b89c_row5_col6\" class=\"data row5 col6\" >2.820000</td>\n                        <td id=\"T_8b89c_row5_col7\" class=\"data row5 col7\" >0.028200</td>\n            </tr>\n            <tr>\n                                <td id=\"T_8b89c_row6_col0\" class=\"data row6 col0\" >PA</td>\n                        <td id=\"T_8b89c_row6_col1\" class=\"data row6 col1\" >4</td>\n                        <td id=\"T_8b89c_row6_col2\" class=\"data row6 col2\" >2.000000</td>\n                        <td id=\"T_8b89c_row6_col3\" class=\"data row6 col3\" >4.000000</td>\n                        <td id=\"T_8b89c_row6_col4\" class=\"data row6 col4\" >14764</td>\n                        <td id=\"T_8b89c_row6_col5\" class=\"data row6 col5\" >169</td>\n                        <td id=\"T_8b89c_row6_col6\" class=\"data row6 col6\" >2.810000</td>\n                        <td id=\"T_8b89c_row6_col7\" class=\"data row6 col7\" >0.028100</td>\n            </tr>\n            <tr>\n                                <td id=\"T_8b89c_row7_col0\" class=\"data row7 col0\" >MT</td>\n                        <td id=\"T_8b89c_row7_col1\" class=\"data row7 col1\" >19</td>\n                        <td id=\"T_8b89c_row7_col2\" class=\"data row7 col2\" >2.000000</td>\n                        <td id=\"T_8b89c_row7_col3\" class=\"data row7 col3\" >26.000000</td>\n                        <td id=\"T_8b89c_row7_col4\" class=\"data row7 col4\" >11209</td>\n                        <td id=\"T_8b89c_row7_col5\" class=\"data row7 col5\" >317</td>\n                        <td id=\"T_8b89c_row7_col6\" class=\"data row7 col6\" >2.680000</td>\n                        <td id=\"T_8b89c_row7_col7\" class=\"data row7 col7\" >0.026800</td>\n            </tr>\n            <tr>\n                                <td id=\"T_8b89c_row8_col0\" class=\"data row8 col0\" >RS</td>\n                        <td id=\"T_8b89c_row8_col1\" class=\"data row8 col1\" >15</td>\n                        <td id=\"T_8b89c_row8_col2\" class=\"data row8 col2\" >2.000000</td>\n                        <td id=\"T_8b89c_row8_col3\" class=\"data row8 col3\" >19.000000</td>\n                        <td id=\"T_8b89c_row8_col4\" class=\"data row8 col4\" >28866</td>\n                        <td id=\"T_8b89c_row8_col5\" class=\"data row8 col5\" >252</td>\n                        <td id=\"T_8b89c_row8_col6\" class=\"data row8 col6\" >2.580000</td>\n                        <td id=\"T_8b89c_row8_col7\" class=\"data row8 col7\" >0.025800</td>\n            </tr>\n            <tr>\n                                <td id=\"T_8b89c_row9_col0\" class=\"data row9 col0\" >MG</td>\n                        <td id=\"T_8b89c_row9_col1\" class=\"data row9 col1\" >9</td>\n                        <td id=\"T_8b89c_row9_col2\" class=\"data row9 col2\" >2.000000</td>\n                        <td id=\"T_8b89c_row9_col3\" class=\"data row9 col3\" >11.000000</td>\n                        <td id=\"T_8b89c_row9_col4\" class=\"data row9 col4\" >41673</td>\n                        <td id=\"T_8b89c_row9_col5\" class=\"data row9 col5\" >195</td>\n                        <td id=\"T_8b89c_row9_col6\" class=\"data row9 col6\" >2.570000</td>\n                        <td id=\"T_8b89c_row9_col7\" class=\"data row9 col7\" >0.025700</td>\n            </tr>\n            <tr>\n                                <td id=\"T_8b89c_row10_col0\" class=\"data row10 col0\" >CE</td>\n                        <td id=\"T_8b89c_row10_col1\" class=\"data row10 col1\" >12</td>\n                        <td id=\"T_8b89c_row10_col2\" class=\"data row10 col2\" >2.000000</td>\n                        <td id=\"T_8b89c_row10_col3\" class=\"data row10 col3\" >15.000000</td>\n                        <td id=\"T_8b89c_row10_col4\" class=\"data row10 col4\" >20914</td>\n                        <td id=\"T_8b89c_row10_col5\" class=\"data row10 col5\" >227</td>\n                        <td id=\"T_8b89c_row10_col6\" class=\"data row10 col6\" >2.530000</td>\n                        <td id=\"T_8b89c_row10_col7\" class=\"data row10 col7\" >0.025300</td>\n            </tr>\n            <tr>\n                                <td id=\"T_8b89c_row11_col0\" class=\"data row11 col0\" >RO</td>\n                        <td id=\"T_8b89c_row11_col1\" class=\"data row11 col1\" >20</td>\n                        <td id=\"T_8b89c_row11_col2\" class=\"data row11 col2\" >2.000000</td>\n                        <td id=\"T_8b89c_row11_col3\" class=\"data row11 col3\" >27.000000</td>\n                        <td id=\"T_8b89c_row11_col4\" class=\"data row11 col4\" >5835</td>\n                        <td id=\"T_8b89c_row11_col5\" class=\"data row11 col5\" >324</td>\n                        <td id=\"T_8b89c_row11_col6\" class=\"data row11 col6\" >2.500000</td>\n                        <td id=\"T_8b89c_row11_col7\" class=\"data row11 col7\" >0.025000</td>\n            </tr>\n            <tr>\n                                <td id=\"T_8b89c_row12_col0\" class=\"data row12 col0\" >AL</td>\n                        <td id=\"T_8b89c_row12_col1\" class=\"data row12 col1\" >2</td>\n                        <td id=\"T_8b89c_row12_col2\" class=\"data row12 col2\" >2.000000</td>\n                        <td id=\"T_8b89c_row12_col3\" class=\"data row12 col3\" >2.000000</td>\n                        <td id=\"T_8b89c_row12_col4\" class=\"data row12 col4\" >4880</td>\n                        <td id=\"T_8b89c_row12_col5\" class=\"data row12 col5\" >145</td>\n                        <td id=\"T_8b89c_row12_col6\" class=\"data row12 col6\" >2.460000</td>\n                        <td id=\"T_8b89c_row12_col7\" class=\"data row12 col7\" >0.024600</td>\n            </tr>\n            <tr>\n                                <td id=\"T_8b89c_row13_col0\" class=\"data row13 col0\" >PR</td>\n                        <td id=\"T_8b89c_row13_col1\" class=\"data row13 col1\" >13</td>\n                        <td id=\"T_8b89c_row13_col2\" class=\"data row13 col2\" >2.000000</td>\n                        <td id=\"T_8b89c_row13_col3\" class=\"data row13 col3\" >16.000000</td>\n                        <td id=\"T_8b89c_row13_col4\" class=\"data row13 col4\" >27168</td>\n                        <td id=\"T_8b89c_row13_col5\" class=\"data row13 col5\" >235</td>\n                        <td id=\"T_8b89c_row13_col6\" class=\"data row13 col6\" >2.420000</td>\n                        <td id=\"T_8b89c_row13_col7\" class=\"data row13 col7\" >0.024200</td>\n            </tr>\n            <tr>\n                                <td id=\"T_8b89c_row14_col0\" class=\"data row14 col0\" >MS</td>\n                        <td id=\"T_8b89c_row14_col1\" class=\"data row14 col1\" >16</td>\n                        <td id=\"T_8b89c_row14_col2\" class=\"data row14 col2\" >2.000000</td>\n                        <td id=\"T_8b89c_row14_col3\" class=\"data row14 col3\" >20.000000</td>\n                        <td id=\"T_8b89c_row14_col4\" class=\"data row14 col4\" >7185</td>\n                        <td id=\"T_8b89c_row14_col5\" class=\"data row14 col5\" >255</td>\n                        <td id=\"T_8b89c_row14_col6\" class=\"data row14 col6\" >2.370000</td>\n                        <td id=\"T_8b89c_row14_col7\" class=\"data row14 col7\" >0.023700</td>\n            </tr>\n            <tr>\n                                <td id=\"T_8b89c_row15_col0\" class=\"data row15 col0\" >RN</td>\n                        <td id=\"T_8b89c_row15_col1\" class=\"data row15 col1\" >5</td>\n                        <td id=\"T_8b89c_row15_col2\" class=\"data row15 col2\" >2.000000</td>\n                        <td id=\"T_8b89c_row15_col3\" class=\"data row15 col3\" >6.000000</td>\n                        <td id=\"T_8b89c_row15_col4\" class=\"data row15 col4\" >6295</td>\n                        <td id=\"T_8b89c_row15_col5\" class=\"data row15 col5\" >178</td>\n                        <td id=\"T_8b89c_row15_col6\" class=\"data row15 col6\" >2.290000</td>\n                        <td id=\"T_8b89c_row15_col7\" class=\"data row15 col7\" >0.022900</td>\n            </tr>\n            <tr>\n                                <td id=\"T_8b89c_row16_col0\" class=\"data row16 col0\" >PB</td>\n                        <td id=\"T_8b89c_row16_col1\" class=\"data row16 col1\" >8</td>\n                        <td id=\"T_8b89c_row16_col2\" class=\"data row16 col2\" >2.000000</td>\n                        <td id=\"T_8b89c_row16_col3\" class=\"data row16 col3\" >10.000000</td>\n                        <td id=\"T_8b89c_row16_col4\" class=\"data row16 col4\" >7883</td>\n                        <td id=\"T_8b89c_row16_col5\" class=\"data row16 col5\" >195</td>\n                        <td id=\"T_8b89c_row16_col6\" class=\"data row16 col6\" >2.280000</td>\n                        <td id=\"T_8b89c_row16_col7\" class=\"data row16 col7\" >0.022800</td>\n            </tr>\n            <tr>\n                                <td id=\"T_8b89c_row17_col0\" class=\"data row17 col0\" >ES</td>\n                        <td id=\"T_8b89c_row17_col1\" class=\"data row17 col1\" >17</td>\n                        <td id=\"T_8b89c_row17_col2\" class=\"data row17 col2\" >2.000000</td>\n                        <td id=\"T_8b89c_row17_col3\" class=\"data row17 col3\" >22.000000</td>\n                        <td id=\"T_8b89c_row17_col4\" class=\"data row17 col4\" >11005</td>\n                        <td id=\"T_8b89c_row17_col5\" class=\"data row17 col5\" >270</td>\n                        <td id=\"T_8b89c_row17_col6\" class=\"data row17 col6\" >2.240000</td>\n                        <td id=\"T_8b89c_row17_col7\" class=\"data row17 col7\" >0.022400</td>\n            </tr>\n            <tr>\n                                <td id=\"T_8b89c_row18_col0\" class=\"data row18 col0\" >PI</td>\n                        <td id=\"T_8b89c_row18_col1\" class=\"data row18 col1\" >6</td>\n                        <td id=\"T_8b89c_row18_col2\" class=\"data row18 col2\" >2.000000</td>\n                        <td id=\"T_8b89c_row18_col3\" class=\"data row18 col3\" >8.000000</td>\n                        <td id=\"T_8b89c_row18_col4\" class=\"data row18 col4\" >6116</td>\n                        <td id=\"T_8b89c_row18_col5\" class=\"data row18 col5\" >186</td>\n                        <td id=\"T_8b89c_row18_col6\" class=\"data row18 col6\" >2.190000</td>\n                        <td id=\"T_8b89c_row18_col7\" class=\"data row18 col7\" >0.021900</td>\n            </tr>\n            <tr>\n                                <td id=\"T_8b89c_row19_col0\" class=\"data row19 col0\" >SE</td>\n                        <td id=\"T_8b89c_row19_col1\" class=\"data row19 col1\" >11</td>\n                        <td id=\"T_8b89c_row19_col2\" class=\"data row19 col2\" >2.000000</td>\n                        <td id=\"T_8b89c_row19_col3\" class=\"data row19 col3\" >14.000000</td>\n                        <td id=\"T_8b89c_row19_col4\" class=\"data row19 col4\" >5246</td>\n                        <td id=\"T_8b89c_row19_col5\" class=\"data row19 col5\" >226</td>\n                        <td id=\"T_8b89c_row19_col6\" class=\"data row19 col6\" >2.140000</td>\n                        <td id=\"T_8b89c_row19_col7\" class=\"data row19 col7\" >0.021400</td>\n            </tr>\n    </tbody></table>"
     },
     "metadata": {},
     "execution_count": 22
    }
   ],
   "source": [
    "tabela_estado('Letalidade', 20)"
   ]
  },
  {
   "source": [
    "## Melhores Estados por letalidade"
   ],
   "cell_type": "markdown",
   "metadata": {}
  },
  {
   "cell_type": "code",
   "execution_count": 23,
   "metadata": {},
   "outputs": [
    {
     "output_type": "execute_result",
     "data": {
      "text/plain": [
       "<pandas.io.formats.style.Styler at 0x236d7b3cfa0>"
      ],
      "text/html": "<style  type=\"text/css\" >\n#T_634ee_row0_col0,#T_634ee_row1_col0,#T_634ee_row2_col0,#T_634ee_row3_col0,#T_634ee_row4_col0,#T_634ee_row5_col0,#T_634ee_row6_col0,#T_634ee_row7_col0,#T_634ee_row8_col0,#T_634ee_row9_col0,#T_634ee_row10_col0,#T_634ee_row11_col0,#T_634ee_row12_col0,#T_634ee_row13_col0,#T_634ee_row14_col0,#T_634ee_row15_col0,#T_634ee_row16_col0,#T_634ee_row17_col0,#T_634ee_row18_col0,#T_634ee_row19_col0{\n            text-align:  right;\n        }#T_634ee_row0_col1,#T_634ee_row17_col1{\n            text-align:  right;\n            background-color:  #5bad5b;\n            color:  #000000;\n        }#T_634ee_row0_col2,#T_634ee_row0_col4,#T_634ee_row0_col6,#T_634ee_row0_col7,#T_634ee_row1_col2,#T_634ee_row1_col4,#T_634ee_row2_col2,#T_634ee_row3_col2,#T_634ee_row4_col4,#T_634ee_row14_col1,#T_634ee_row14_col3,#T_634ee_row14_col5{\n            text-align:  right;\n            background-color:  #008000;\n            color:  #f1f1f1;\n        }#T_634ee_row0_col3{\n            text-align:  right;\n            background-color:  #5eae5e;\n            color:  #000000;\n        }#T_634ee_row0_col5{\n            text-align:  right;\n            background-color:  #48a348;\n            color:  #000000;\n        }#T_634ee_row1_col1,#T_634ee_row12_col1{\n            text-align:  right;\n            background-color:  #b7dab7;\n            color:  #000000;\n        }#T_634ee_row1_col3{\n            text-align:  right;\n            background-color:  #b2d7b2;\n            color:  #000000;\n        }#T_634ee_row1_col5{\n            text-align:  right;\n            background-color:  #98ca98;\n            color:  #000000;\n        }#T_634ee_row1_col6,#T_634ee_row1_col7,#T_634ee_row3_col4{\n            text-align:  right;\n            background-color:  #078407;\n            color:  #f1f1f1;\n        }#T_634ee_row2_col1{\n            text-align:  right;\n            background-color:  #68b368;\n            color:  #000000;\n        }#T_634ee_row2_col3{\n            text-align:  right;\n            background-color:  #67b267;\n            color:  #000000;\n        }#T_634ee_row2_col4{\n            text-align:  right;\n            background-color:  #52a852;\n            color:  #000000;\n        }#T_634ee_row2_col5{\n            text-align:  right;\n            background-color:  #5cad5c;\n            color:  #000000;\n        }#T_634ee_row2_col6,#T_634ee_row2_col7{\n            text-align:  right;\n            background-color:  #0c860c;\n            color:  #f1f1f1;\n        }#T_634ee_row3_col1,#T_634ee_row11_col1{\n            text-align:  right;\n            background-color:  #279327;\n            color:  #000000;\n        }#T_634ee_row3_col3{\n            text-align:  right;\n            background-color:  #2f972f;\n            color:  #000000;\n        }#T_634ee_row3_col5{\n            text-align:  right;\n            background-color:  #349a34;\n            color:  #000000;\n        }#T_634ee_row3_col6,#T_634ee_row3_col7{\n            text-align:  right;\n            background-color:  #108810;\n            color:  #f1f1f1;\n        }#T_634ee_row4_col1,#T_634ee_row4_col3,#T_634ee_row10_col5,#T_634ee_row17_col5{\n            text-align:  right;\n            background-color:  #41a041;\n            color:  #000000;\n        }#T_634ee_row4_col2,#T_634ee_row5_col2,#T_634ee_row6_col2,#T_634ee_row7_col2,#T_634ee_row8_col2,#T_634ee_row9_col2,#T_634ee_row10_col2,#T_634ee_row11_col2,#T_634ee_row12_col2,#T_634ee_row13_col2,#T_634ee_row14_col2,#T_634ee_row15_col1,#T_634ee_row15_col2,#T_634ee_row15_col3,#T_634ee_row15_col5,#T_634ee_row16_col2,#T_634ee_row17_col2,#T_634ee_row17_col4,#T_634ee_row18_col2,#T_634ee_row19_col2,#T_634ee_row19_col6,#T_634ee_row19_col7{\n            text-align:  right;\n            background-color:  #ebf3eb;\n            color:  #000000;\n        }#T_634ee_row4_col5{\n            text-align:  right;\n            background-color:  #399c39;\n            color:  #000000;\n        }#T_634ee_row4_col6,#T_634ee_row4_col7{\n            text-align:  right;\n            background-color:  #66b266;\n            color:  #000000;\n        }#T_634ee_row5_col1{\n            text-align:  right;\n            background-color:  #0d860d;\n            color:  #f1f1f1;\n        }#T_634ee_row5_col3{\n            text-align:  right;\n            background-color:  #098509;\n            color:  #f1f1f1;\n        }#T_634ee_row5_col4{\n            text-align:  right;\n            background-color:  #77ba77;\n            color:  #000000;\n        }#T_634ee_row5_col5{\n            text-align:  right;\n            background-color:  #018001;\n            color:  #f1f1f1;\n        }#T_634ee_row5_col6,#T_634ee_row5_col7{\n            text-align:  right;\n            background-color:  #74b974;\n            color:  #000000;\n        }#T_634ee_row6_col1{\n            text-align:  right;\n            background-color:  #d1e6d1;\n            color:  #000000;\n        }#T_634ee_row6_col3,#T_634ee_row15_col6,#T_634ee_row15_col7{\n            text-align:  right;\n            background-color:  #c6e1c6;\n            color:  #000000;\n        }#T_634ee_row6_col4{\n            text-align:  right;\n            background-color:  #299429;\n            color:  #000000;\n        }#T_634ee_row6_col5,#T_634ee_row9_col3{\n            text-align:  right;\n            background-color:  #bcdcbc;\n            color:  #000000;\n        }#T_634ee_row6_col6,#T_634ee_row6_col7,#T_634ee_row7_col6,#T_634ee_row7_col7{\n            text-align:  right;\n            background-color:  #7cbd7c;\n            color:  #000000;\n        }#T_634ee_row7_col1,#T_634ee_row13_col5{\n            text-align:  right;\n            background-color:  #76ba76;\n            color:  #000000;\n        }#T_634ee_row7_col3{\n            text-align:  right;\n            background-color:  #70b770;\n            color:  #000000;\n        }#T_634ee_row7_col4{\n            text-align:  right;\n            background-color:  #148a14;\n            color:  #000000;\n        }#T_634ee_row7_col5{\n            text-align:  right;\n            background-color:  #6ab46a;\n            color:  #000000;\n        }#T_634ee_row8_col1{\n            text-align:  right;\n            background-color:  #349934;\n            color:  #000000;\n        }#T_634ee_row8_col3,#T_634ee_row19_col4{\n            text-align:  right;\n            background-color:  #389b38;\n            color:  #000000;\n        }#T_634ee_row8_col4{\n            text-align:  right;\n            background-color:  #1a8d1a;\n            color:  #000000;\n        }#T_634ee_row8_col5{\n            text-align:  right;\n            background-color:  #359a35;\n            color:  #000000;\n        }#T_634ee_row8_col6,#T_634ee_row8_col7{\n            text-align:  right;\n            background-color:  #86c286;\n            color:  #000000;\n        }#T_634ee_row9_col1{\n            text-align:  right;\n            background-color:  #c4e0c4;\n            color:  #000000;\n        }#T_634ee_row9_col4{\n            text-align:  right;\n            background-color:  #369b36;\n            color:  #000000;\n        }#T_634ee_row9_col5{\n            text-align:  right;\n            background-color:  #a4d0a4;\n            color:  #000000;\n        }#T_634ee_row9_col6,#T_634ee_row9_col7{\n            text-align:  right;\n            background-color:  #91c791;\n            color:  #000000;\n        }#T_634ee_row10_col1{\n            text-align:  right;\n            background-color:  #4ea64e;\n            color:  #000000;\n        }#T_634ee_row10_col3{\n            text-align:  right;\n            background-color:  #4ba54a;\n            color:  #000000;\n        }#T_634ee_row10_col4{\n            text-align:  right;\n            background-color:  #249224;\n            color:  #000000;\n        }#T_634ee_row10_col6,#T_634ee_row10_col7{\n            text-align:  right;\n            background-color:  #99cb99;\n            color:  #000000;\n        }#T_634ee_row11_col3{\n            text-align:  right;\n            background-color:  #259225;\n            color:  #000000;\n        }#T_634ee_row11_col4{\n            text-align:  right;\n            background-color:  #1b8d1b;\n            color:  #000000;\n        }#T_634ee_row11_col5{\n            text-align:  right;\n            background-color:  #2b952b;\n            color:  #000000;\n        }#T_634ee_row11_col6,#T_634ee_row11_col7{\n            text-align:  right;\n            background-color:  #9bcc9b;\n            color:  #000000;\n        }#T_634ee_row12_col3,#T_634ee_row18_col1{\n            text-align:  right;\n            background-color:  #a9d3a9;\n            color:  #000000;\n        }#T_634ee_row12_col4{\n            text-align:  right;\n            background-color:  #209020;\n            color:  #000000;\n        }#T_634ee_row12_col5{\n            text-align:  right;\n            background-color:  #90c790;\n            color:  #000000;\n        }#T_634ee_row12_col6,#T_634ee_row12_col7{\n            text-align:  right;\n            background-color:  #abd4ab;\n            color:  #000000;\n        }#T_634ee_row13_col1{\n            text-align:  right;\n            background-color:  #8fc68f;\n            color:  #000000;\n        }#T_634ee_row13_col3{\n            text-align:  right;\n            background-color:  #84c084;\n            color:  #000000;\n        }#T_634ee_row13_col4{\n            text-align:  right;\n            background-color:  #96c996;\n            color:  #000000;\n        }#T_634ee_row13_col6,#T_634ee_row13_col7{\n            text-align:  right;\n            background-color:  #b6d9b6;\n            color:  #000000;\n        }#T_634ee_row14_col4{\n            text-align:  right;\n            background-color:  #128912;\n            color:  #f1f1f1;\n        }#T_634ee_row14_col6,#T_634ee_row14_col7{\n            text-align:  right;\n            background-color:  #beddbe;\n            color:  #000000;\n        }#T_634ee_row15_col4{\n            text-align:  right;\n            background-color:  #188c18;\n            color:  #000000;\n        }#T_634ee_row16_col1{\n            text-align:  right;\n            background-color:  #83c083;\n            color:  #000000;\n        }#T_634ee_row16_col3{\n            text-align:  right;\n            background-color:  #7abc7a;\n            color:  #000000;\n        }#T_634ee_row16_col4{\n            text-align:  right;\n            background-color:  #71b771;\n            color:  #000000;\n        }#T_634ee_row16_col5{\n            text-align:  right;\n            background-color:  #6cb56c;\n            color:  #000000;\n        }#T_634ee_row16_col6,#T_634ee_row16_col7{\n            text-align:  right;\n            background-color:  #cce4cc;\n            color:  #000000;\n        }#T_634ee_row17_col3{\n            text-align:  right;\n            background-color:  #55a955;\n            color:  #000000;\n        }#T_634ee_row17_col6,#T_634ee_row17_col7{\n            text-align:  right;\n            background-color:  #d4e8d4;\n            color:  #000000;\n        }#T_634ee_row18_col3,#T_634ee_row18_col4{\n            text-align:  right;\n            background-color:  #a0cea0;\n            color:  #000000;\n        }#T_634ee_row18_col5{\n            text-align:  right;\n            background-color:  #8dc58d;\n            color:  #000000;\n        }#T_634ee_row18_col6,#T_634ee_row18_col7{\n            text-align:  right;\n            background-color:  #d6e9d6;\n            color:  #000000;\n        }#T_634ee_row19_col1{\n            text-align:  right;\n            background-color:  #deedde;\n            color:  #000000;\n        }#T_634ee_row19_col3,#T_634ee_row19_col5{\n            text-align:  right;\n            background-color:  #e1eee1;\n            color:  #000000;\n        }</style><table id=\"T_634ee_\" ><thead>    <tr>        <th class=\"col_heading level0 col0\" >Estado</th>        <th class=\"col_heading level0 col1\" >rank</th>        <th class=\"col_heading level0 col2\" >Letalidade_rank</th>        <th class=\"col_heading level0 col3\" >Mortalidade_rank</th>        <th class=\"col_heading level0 col4\" >Mortes</th>        <th class=\"col_heading level0 col5\" >Mortalidade100k</th>        <th class=\"col_heading level0 col6\" >LetPerc</th>        <th class=\"col_heading level0 col7\" >Letalidade</th>    </tr></thead><tbody>\n                <tr>\n                                <td id=\"T_634ee_row0_col0\" class=\"data row0 col0\" >AP</td>\n                        <td id=\"T_634ee_row0_col1\" class=\"data row0 col1\" >9</td>\n                        <td id=\"T_634ee_row0_col2\" class=\"data row0 col2\" >1.000000</td>\n                        <td id=\"T_634ee_row0_col3\" class=\"data row0 col3\" >12.000000</td>\n                        <td id=\"T_634ee_row0_col4\" class=\"data row0 col4\" >1727</td>\n                        <td id=\"T_634ee_row0_col5\" class=\"data row0 col5\" >200</td>\n                        <td id=\"T_634ee_row0_col6\" class=\"data row0 col6\" >1.530000</td>\n                        <td id=\"T_634ee_row0_col7\" class=\"data row0 col7\" >0.015300</td>\n            </tr>\n            <tr>\n                                <td id=\"T_634ee_row1_col0\" class=\"data row1 col0\" >RR</td>\n                        <td id=\"T_634ee_row1_col1\" class=\"data row1 col1\" >16</td>\n                        <td id=\"T_634ee_row1_col2\" class=\"data row1 col2\" >1.000000</td>\n                        <td id=\"T_634ee_row1_col3\" class=\"data row1 col3\" >21.000000</td>\n                        <td id=\"T_634ee_row1_col4\" class=\"data row1 col4\" >1651</td>\n                        <td id=\"T_634ee_row1_col5\" class=\"data row1 col5\" >261</td>\n                        <td id=\"T_634ee_row1_col6\" class=\"data row1 col6\" >1.570000</td>\n                        <td id=\"T_634ee_row1_col7\" class=\"data row1 col7\" >0.015700</td>\n            </tr>\n            <tr>\n                                <td id=\"T_634ee_row2_col0\" class=\"data row2 col0\" >SC</td>\n                        <td id=\"T_634ee_row2_col1\" class=\"data row2 col1\" >10</td>\n                        <td id=\"T_634ee_row2_col2\" class=\"data row2 col2\" >1.000000</td>\n                        <td id=\"T_634ee_row2_col3\" class=\"data row2 col3\" >13.000000</td>\n                        <td id=\"T_634ee_row2_col4\" class=\"data row2 col4\" >15663</td>\n                        <td id=\"T_634ee_row2_col5\" class=\"data row2 col5\" >215</td>\n                        <td id=\"T_634ee_row2_col6\" class=\"data row2 col6\" >1.590000</td>\n                        <td id=\"T_634ee_row2_col7\" class=\"data row2 col7\" >0.015900</td>\n            </tr>\n            <tr>\n                                <td id=\"T_634ee_row3_col0\" class=\"data row3 col0\" >TO</td>\n                        <td id=\"T_634ee_row3_col1\" class=\"data row3 col1\" >5</td>\n                        <td id=\"T_634ee_row3_col2\" class=\"data row3 col2\" >1.000000</td>\n                        <td id=\"T_634ee_row3_col3\" class=\"data row3 col3\" >7.000000</td>\n                        <td id=\"T_634ee_row3_col4\" class=\"data row3 col4\" >2953</td>\n                        <td id=\"T_634ee_row3_col5\" class=\"data row3 col5\" >185</td>\n                        <td id=\"T_634ee_row3_col6\" class=\"data row3 col6\" >1.610000</td>\n                        <td id=\"T_634ee_row3_col7\" class=\"data row3 col7\" >0.016100</td>\n            </tr>\n            <tr>\n                                <td id=\"T_634ee_row4_col0\" class=\"data row4 col0\" >AC</td>\n                        <td id=\"T_634ee_row4_col1\" class=\"data row4 col1\" >7</td>\n                        <td id=\"T_634ee_row4_col2\" class=\"data row4 col2\" >2.000000</td>\n                        <td id=\"T_634ee_row4_col3\" class=\"data row4 col3\" >9.000000</td>\n                        <td id=\"T_634ee_row4_col4\" class=\"data row4 col4\" >1692</td>\n                        <td id=\"T_634ee_row4_col5\" class=\"data row4 col5\" >189</td>\n                        <td id=\"T_634ee_row4_col6\" class=\"data row4 col6\" >2.030000</td>\n                        <td id=\"T_634ee_row4_col7\" class=\"data row4 col7\" >0.020300</td>\n            </tr>\n            <tr>\n                                <td id=\"T_634ee_row5_col0\" class=\"data row5 col0\" >BA</td>\n                        <td id=\"T_634ee_row5_col1\" class=\"data row5 col1\" >3</td>\n                        <td id=\"T_634ee_row5_col2\" class=\"data row5 col2\" >2.000000</td>\n                        <td id=\"T_634ee_row5_col3\" class=\"data row5 col3\" >3.000000</td>\n                        <td id=\"T_634ee_row5_col4\" class=\"data row5 col4\" >21829</td>\n                        <td id=\"T_634ee_row5_col5\" class=\"data row5 col5\" >146</td>\n                        <td id=\"T_634ee_row5_col6\" class=\"data row5 col6\" >2.100000</td>\n                        <td id=\"T_634ee_row5_col7\" class=\"data row5 col7\" >0.021000</td>\n            </tr>\n            <tr>\n                                <td id=\"T_634ee_row6_col0\" class=\"data row6 col0\" >DF</td>\n                        <td id=\"T_634ee_row6_col1\" class=\"data row6 col1\" >18</td>\n                        <td id=\"T_634ee_row6_col2\" class=\"data row6 col2\" >2.000000</td>\n                        <td id=\"T_634ee_row6_col3\" class=\"data row6 col3\" >23.000000</td>\n                        <td id=\"T_634ee_row6_col4\" class=\"data row6 col4\" >8826</td>\n                        <td id=\"T_634ee_row6_col5\" class=\"data row6 col5\" >288</td>\n                        <td id=\"T_634ee_row6_col6\" class=\"data row6 col6\" >2.140000</td>\n                        <td id=\"T_634ee_row6_col7\" class=\"data row6 col7\" >0.021400</td>\n            </tr>\n            <tr>\n                                <td id=\"T_634ee_row7_col0\" class=\"data row7 col0\" >SE</td>\n                        <td id=\"T_634ee_row7_col1\" class=\"data row7 col1\" >11</td>\n                        <td id=\"T_634ee_row7_col2\" class=\"data row7 col2\" >2.000000</td>\n                        <td id=\"T_634ee_row7_col3\" class=\"data row7 col3\" >14.000000</td>\n                        <td id=\"T_634ee_row7_col4\" class=\"data row7 col4\" >5246</td>\n                        <td id=\"T_634ee_row7_col5\" class=\"data row7 col5\" >226</td>\n                        <td id=\"T_634ee_row7_col6\" class=\"data row7 col6\" >2.140000</td>\n                        <td id=\"T_634ee_row7_col7\" class=\"data row7 col7\" >0.021400</td>\n            </tr>\n            <tr>\n                                <td id=\"T_634ee_row8_col0\" class=\"data row8 col0\" >PI</td>\n                        <td id=\"T_634ee_row8_col1\" class=\"data row8 col1\" >6</td>\n                        <td id=\"T_634ee_row8_col2\" class=\"data row8 col2\" >2.000000</td>\n                        <td id=\"T_634ee_row8_col3\" class=\"data row8 col3\" >8.000000</td>\n                        <td id=\"T_634ee_row8_col4\" class=\"data row8 col4\" >6116</td>\n                        <td id=\"T_634ee_row8_col5\" class=\"data row8 col5\" >186</td>\n                        <td id=\"T_634ee_row8_col6\" class=\"data row8 col6\" >2.190000</td>\n                        <td id=\"T_634ee_row8_col7\" class=\"data row8 col7\" >0.021900</td>\n            </tr>\n            <tr>\n                                <td id=\"T_634ee_row9_col0\" class=\"data row9 col0\" >ES</td>\n                        <td id=\"T_634ee_row9_col1\" class=\"data row9 col1\" >17</td>\n                        <td id=\"T_634ee_row9_col2\" class=\"data row9 col2\" >2.000000</td>\n                        <td id=\"T_634ee_row9_col3\" class=\"data row9 col3\" >22.000000</td>\n                        <td id=\"T_634ee_row9_col4\" class=\"data row9 col4\" >11005</td>\n                        <td id=\"T_634ee_row9_col5\" class=\"data row9 col5\" >270</td>\n                        <td id=\"T_634ee_row9_col6\" class=\"data row9 col6\" >2.240000</td>\n                        <td id=\"T_634ee_row9_col7\" class=\"data row9 col7\" >0.022400</td>\n            </tr>\n            <tr>\n                                <td id=\"T_634ee_row10_col0\" class=\"data row10 col0\" >PB</td>\n                        <td id=\"T_634ee_row10_col1\" class=\"data row10 col1\" >8</td>\n                        <td id=\"T_634ee_row10_col2\" class=\"data row10 col2\" >2.000000</td>\n                        <td id=\"T_634ee_row10_col3\" class=\"data row10 col3\" >10.000000</td>\n                        <td id=\"T_634ee_row10_col4\" class=\"data row10 col4\" >7883</td>\n                        <td id=\"T_634ee_row10_col5\" class=\"data row10 col5\" >195</td>\n                        <td id=\"T_634ee_row10_col6\" class=\"data row10 col6\" >2.280000</td>\n                        <td id=\"T_634ee_row10_col7\" class=\"data row10 col7\" >0.022800</td>\n            </tr>\n            <tr>\n                                <td id=\"T_634ee_row11_col0\" class=\"data row11 col0\" >RN</td>\n                        <td id=\"T_634ee_row11_col1\" class=\"data row11 col1\" >5</td>\n                        <td id=\"T_634ee_row11_col2\" class=\"data row11 col2\" >2.000000</td>\n                        <td id=\"T_634ee_row11_col3\" class=\"data row11 col3\" >6.000000</td>\n                        <td id=\"T_634ee_row11_col4\" class=\"data row11 col4\" >6295</td>\n                        <td id=\"T_634ee_row11_col5\" class=\"data row11 col5\" >178</td>\n                        <td id=\"T_634ee_row11_col6\" class=\"data row11 col6\" >2.290000</td>\n                        <td id=\"T_634ee_row11_col7\" class=\"data row11 col7\" >0.022900</td>\n            </tr>\n            <tr>\n                                <td id=\"T_634ee_row12_col0\" class=\"data row12 col0\" >MS</td>\n                        <td id=\"T_634ee_row12_col1\" class=\"data row12 col1\" >16</td>\n                        <td id=\"T_634ee_row12_col2\" class=\"data row12 col2\" >2.000000</td>\n                        <td id=\"T_634ee_row12_col3\" class=\"data row12 col3\" >20.000000</td>\n                        <td id=\"T_634ee_row12_col4\" class=\"data row12 col4\" >7185</td>\n                        <td id=\"T_634ee_row12_col5\" class=\"data row12 col5\" >255</td>\n                        <td id=\"T_634ee_row12_col6\" class=\"data row12 col6\" >2.370000</td>\n                        <td id=\"T_634ee_row12_col7\" class=\"data row12 col7\" >0.023700</td>\n            </tr>\n            <tr>\n                                <td id=\"T_634ee_row13_col0\" class=\"data row13 col0\" >PR</td>\n                        <td id=\"T_634ee_row13_col1\" class=\"data row13 col1\" >13</td>\n                        <td id=\"T_634ee_row13_col2\" class=\"data row13 col2\" >2.000000</td>\n                        <td id=\"T_634ee_row13_col3\" class=\"data row13 col3\" >16.000000</td>\n                        <td id=\"T_634ee_row13_col4\" class=\"data row13 col4\" >27168</td>\n                        <td id=\"T_634ee_row13_col5\" class=\"data row13 col5\" >235</td>\n                        <td id=\"T_634ee_row13_col6\" class=\"data row13 col6\" >2.420000</td>\n                        <td id=\"T_634ee_row13_col7\" class=\"data row13 col7\" >0.024200</td>\n            </tr>\n            <tr>\n                                <td id=\"T_634ee_row14_col0\" class=\"data row14 col0\" >AL</td>\n                        <td id=\"T_634ee_row14_col1\" class=\"data row14 col1\" >2</td>\n                        <td id=\"T_634ee_row14_col2\" class=\"data row14 col2\" >2.000000</td>\n                        <td id=\"T_634ee_row14_col3\" class=\"data row14 col3\" >2.000000</td>\n                        <td id=\"T_634ee_row14_col4\" class=\"data row14 col4\" >4880</td>\n                        <td id=\"T_634ee_row14_col5\" class=\"data row14 col5\" >145</td>\n                        <td id=\"T_634ee_row14_col6\" class=\"data row14 col6\" >2.460000</td>\n                        <td id=\"T_634ee_row14_col7\" class=\"data row14 col7\" >0.024600</td>\n            </tr>\n            <tr>\n                                <td id=\"T_634ee_row15_col0\" class=\"data row15 col0\" >RO</td>\n                        <td id=\"T_634ee_row15_col1\" class=\"data row15 col1\" >20</td>\n                        <td id=\"T_634ee_row15_col2\" class=\"data row15 col2\" >2.000000</td>\n                        <td id=\"T_634ee_row15_col3\" class=\"data row15 col3\" >27.000000</td>\n                        <td id=\"T_634ee_row15_col4\" class=\"data row15 col4\" >5835</td>\n                        <td id=\"T_634ee_row15_col5\" class=\"data row15 col5\" >324</td>\n                        <td id=\"T_634ee_row15_col6\" class=\"data row15 col6\" >2.500000</td>\n                        <td id=\"T_634ee_row15_col7\" class=\"data row15 col7\" >0.025000</td>\n            </tr>\n            <tr>\n                                <td id=\"T_634ee_row16_col0\" class=\"data row16 col0\" >CE</td>\n                        <td id=\"T_634ee_row16_col1\" class=\"data row16 col1\" >12</td>\n                        <td id=\"T_634ee_row16_col2\" class=\"data row16 col2\" >2.000000</td>\n                        <td id=\"T_634ee_row16_col3\" class=\"data row16 col3\" >15.000000</td>\n                        <td id=\"T_634ee_row16_col4\" class=\"data row16 col4\" >20914</td>\n                        <td id=\"T_634ee_row16_col5\" class=\"data row16 col5\" >227</td>\n                        <td id=\"T_634ee_row16_col6\" class=\"data row16 col6\" >2.530000</td>\n                        <td id=\"T_634ee_row16_col7\" class=\"data row16 col7\" >0.025300</td>\n            </tr>\n            <tr>\n                                <td id=\"T_634ee_row17_col0\" class=\"data row17 col0\" >MG</td>\n                        <td id=\"T_634ee_row17_col1\" class=\"data row17 col1\" >9</td>\n                        <td id=\"T_634ee_row17_col2\" class=\"data row17 col2\" >2.000000</td>\n                        <td id=\"T_634ee_row17_col3\" class=\"data row17 col3\" >11.000000</td>\n                        <td id=\"T_634ee_row17_col4\" class=\"data row17 col4\" >41673</td>\n                        <td id=\"T_634ee_row17_col5\" class=\"data row17 col5\" >195</td>\n                        <td id=\"T_634ee_row17_col6\" class=\"data row17 col6\" >2.570000</td>\n                        <td id=\"T_634ee_row17_col7\" class=\"data row17 col7\" >0.025700</td>\n            </tr>\n            <tr>\n                                <td id=\"T_634ee_row18_col0\" class=\"data row18 col0\" >RS</td>\n                        <td id=\"T_634ee_row18_col1\" class=\"data row18 col1\" >15</td>\n                        <td id=\"T_634ee_row18_col2\" class=\"data row18 col2\" >2.000000</td>\n                        <td id=\"T_634ee_row18_col3\" class=\"data row18 col3\" >19.000000</td>\n                        <td id=\"T_634ee_row18_col4\" class=\"data row18 col4\" >28866</td>\n                        <td id=\"T_634ee_row18_col5\" class=\"data row18 col5\" >252</td>\n                        <td id=\"T_634ee_row18_col6\" class=\"data row18 col6\" >2.580000</td>\n                        <td id=\"T_634ee_row18_col7\" class=\"data row18 col7\" >0.025800</td>\n            </tr>\n            <tr>\n                                <td id=\"T_634ee_row19_col0\" class=\"data row19 col0\" >MT</td>\n                        <td id=\"T_634ee_row19_col1\" class=\"data row19 col1\" >19</td>\n                        <td id=\"T_634ee_row19_col2\" class=\"data row19 col2\" >2.000000</td>\n                        <td id=\"T_634ee_row19_col3\" class=\"data row19 col3\" >26.000000</td>\n                        <td id=\"T_634ee_row19_col4\" class=\"data row19 col4\" >11209</td>\n                        <td id=\"T_634ee_row19_col5\" class=\"data row19 col5\" >317</td>\n                        <td id=\"T_634ee_row19_col6\" class=\"data row19 col6\" >2.680000</td>\n                        <td id=\"T_634ee_row19_col7\" class=\"data row19 col7\" >0.026800</td>\n            </tr>\n    </tbody></table>"
     },
     "metadata": {},
     "execution_count": 23
    }
   ],
   "source": [
    "tabela_estado_reversa('Letalidade',20)"
   ]
  },
  {
   "source": [
    "## Top  20 piores cidades do brasil com +500 Obitos"
   ],
   "cell_type": "markdown",
   "metadata": {}
  },
  {
   "cell_type": "code",
   "execution_count": 24,
   "metadata": {},
   "outputs": [
    {
     "output_type": "execute_result",
     "data": {
      "text/plain": [
       "<pandas.io.formats.style.Styler at 0x236d7b07bb0>"
      ],
      "text/html": "<style  type=\"text/css\" >\n#T_fc685_row0_col0,#T_fc685_row0_col1,#T_fc685_row1_col0,#T_fc685_row1_col1,#T_fc685_row2_col0,#T_fc685_row2_col1,#T_fc685_row3_col0,#T_fc685_row3_col1,#T_fc685_row4_col0,#T_fc685_row4_col1,#T_fc685_row5_col0,#T_fc685_row5_col1,#T_fc685_row6_col0,#T_fc685_row6_col1,#T_fc685_row7_col0,#T_fc685_row7_col1,#T_fc685_row8_col0,#T_fc685_row8_col1,#T_fc685_row9_col0,#T_fc685_row9_col1,#T_fc685_row10_col0,#T_fc685_row10_col1,#T_fc685_row11_col0,#T_fc685_row11_col1,#T_fc685_row12_col0,#T_fc685_row12_col1,#T_fc685_row13_col0,#T_fc685_row13_col1,#T_fc685_row14_col0,#T_fc685_row14_col1,#T_fc685_row15_col0,#T_fc685_row15_col1,#T_fc685_row16_col0,#T_fc685_row16_col1,#T_fc685_row17_col0,#T_fc685_row17_col1,#T_fc685_row18_col0,#T_fc685_row18_col1,#T_fc685_row19_col0,#T_fc685_row19_col1{\n            text-align:  right;\n        }#T_fc685_row0_col2,#T_fc685_row5_col6{\n            text-align:  right;\n            background-color:  #f96d6d;\n            color:  #000000;\n        }#T_fc685_row0_col3,#T_fc685_row0_col7,#T_fc685_row0_col8,#T_fc685_row1_col2,#T_fc685_row4_col2,#T_fc685_row4_col5,#T_fc685_row19_col4,#T_fc685_row19_col6{\n            text-align:  right;\n            background-color:  #ff0000;\n            color:  #f1f1f1;\n        }#T_fc685_row0_col4,#T_fc685_row12_col6{\n            text-align:  right;\n            background-color:  #f97a7a;\n            color:  #000000;\n        }#T_fc685_row0_col5,#T_fc685_row16_col5,#T_fc685_row18_col7,#T_fc685_row18_col8{\n            text-align:  right;\n            background-color:  #f3ecec;\n            color:  #000000;\n        }#T_fc685_row0_col6{\n            text-align:  right;\n            background-color:  #f6b4b4;\n            color:  #000000;\n        }#T_fc685_row1_col3{\n            text-align:  right;\n            background-color:  #ff0606;\n            color:  #f1f1f1;\n        }#T_fc685_row1_col4{\n            text-align:  right;\n            background-color:  #ff0404;\n            color:  #f1f1f1;\n        }#T_fc685_row1_col5{\n            text-align:  right;\n            background-color:  #f3ebeb;\n            color:  #000000;\n        }#T_fc685_row1_col6{\n            text-align:  right;\n            background-color:  #fe1818;\n            color:  #f1f1f1;\n        }#T_fc685_row1_col7,#T_fc685_row1_col8{\n            text-align:  right;\n            background-color:  #fe0f0f;\n            color:  #f1f1f1;\n        }#T_fc685_row2_col2{\n            text-align:  right;\n            background-color:  #f79c9c;\n            color:  #000000;\n        }#T_fc685_row2_col3{\n            text-align:  right;\n            background-color:  #fe1b1b;\n            color:  #f1f1f1;\n        }#T_fc685_row2_col4,#T_fc685_row7_col7,#T_fc685_row7_col8{\n            text-align:  right;\n            background-color:  #f7a8a7;\n            color:  #000000;\n        }#T_fc685_row2_col5,#T_fc685_row14_col7,#T_fc685_row14_col8,#T_fc685_row15_col7,#T_fc685_row15_col8,#T_fc685_row18_col3{\n            text-align:  right;\n            background-color:  #f3e8e7;\n            color:  #000000;\n        }#T_fc685_row2_col6{\n            text-align:  right;\n            background-color:  #f5cece;\n            color:  #000000;\n        }#T_fc685_row2_col7,#T_fc685_row2_col8{\n            text-align:  right;\n            background-color:  #fb5151;\n            color:  #000000;\n        }#T_fc685_row3_col2,#T_fc685_row6_col3,#T_fc685_row9_col4{\n            text-align:  right;\n            background-color:  #fc3e3e;\n            color:  #f1f1f1;\n        }#T_fc685_row3_col3{\n            text-align:  right;\n            background-color:  #fd2323;\n            color:  #f1f1f1;\n        }#T_fc685_row3_col4,#T_fc685_row18_col2{\n            text-align:  right;\n            background-color:  #fb4b4b;\n            color:  #000000;\n        }#T_fc685_row3_col5,#T_fc685_row7_col5,#T_fc685_row8_col2,#T_fc685_row8_col4,#T_fc685_row8_col6,#T_fc685_row11_col5,#T_fc685_row13_col5,#T_fc685_row19_col3,#T_fc685_row19_col7,#T_fc685_row19_col8{\n            text-align:  right;\n            background-color:  #f3f0f0;\n            color:  #000000;\n        }#T_fc685_row3_col6,#T_fc685_row18_col6{\n            text-align:  right;\n            background-color:  #f88f8f;\n            color:  #000000;\n        }#T_fc685_row3_col7,#T_fc685_row3_col8{\n            text-align:  right;\n            background-color:  #f97171;\n            color:  #000000;\n        }#T_fc685_row4_col3{\n            text-align:  right;\n            background-color:  #fd2626;\n            color:  #f1f1f1;\n        }#T_fc685_row4_col4{\n            text-align:  right;\n            background-color:  #ff0101;\n            color:  #f1f1f1;\n        }#T_fc685_row4_col6{\n            text-align:  right;\n            background-color:  #ff0808;\n            color:  #f1f1f1;\n        }#T_fc685_row4_col7,#T_fc685_row4_col8{\n            text-align:  right;\n            background-color:  #f97575;\n            color:  #000000;\n        }#T_fc685_row5_col2{\n            text-align:  right;\n            background-color:  #fe1c1c;\n            color:  #f1f1f1;\n        }#T_fc685_row5_col3{\n            text-align:  right;\n            background-color:  #fc3b3b;\n            color:  #f1f1f1;\n        }#T_fc685_row5_col4{\n            text-align:  right;\n            background-color:  #fd2929;\n            color:  #f1f1f1;\n        }#T_fc685_row5_col5{\n            text-align:  right;\n            background-color:  #f4d1d1;\n            color:  #000000;\n        }#T_fc685_row5_col7,#T_fc685_row5_col8{\n            text-align:  right;\n            background-color:  #f89090;\n            color:  #000000;\n        }#T_fc685_row6_col2{\n            text-align:  right;\n            background-color:  #f97777;\n            color:  #000000;\n        }#T_fc685_row6_col4{\n            text-align:  right;\n            background-color:  #f98080;\n            color:  #000000;\n        }#T_fc685_row6_col5{\n            text-align:  right;\n            background-color:  #f3efef;\n            color:  #000000;\n        }#T_fc685_row6_col6,#T_fc685_row12_col3{\n            text-align:  right;\n            background-color:  #f6b7b7;\n            color:  #000000;\n        }#T_fc685_row6_col7,#T_fc685_row6_col8{\n            text-align:  right;\n            background-color:  #f79696;\n            color:  #000000;\n        }#T_fc685_row7_col2{\n            text-align:  right;\n            background-color:  #fd2828;\n            color:  #f1f1f1;\n        }#T_fc685_row7_col3{\n            text-align:  right;\n            background-color:  #fb5757;\n            color:  #000000;\n        }#T_fc685_row7_col4{\n            text-align:  right;\n            background-color:  #fc3434;\n            color:  #f1f1f1;\n        }#T_fc685_row7_col6,#T_fc685_row15_col2,#T_fc685_row15_col4{\n            text-align:  right;\n            background-color:  #f97878;\n            color:  #000000;\n        }#T_fc685_row8_col3{\n            text-align:  right;\n            background-color:  #f96e6e;\n            color:  #000000;\n        }#T_fc685_row8_col5,#T_fc685_row12_col5,#T_fc685_row16_col7,#T_fc685_row16_col8,#T_fc685_row17_col7,#T_fc685_row17_col8,#T_fc685_row18_col5{\n            text-align:  right;\n            background-color:  #f3e9e9;\n            color:  #000000;\n        }#T_fc685_row8_col7,#T_fc685_row8_col8{\n            text-align:  right;\n            background-color:  #f6b5b5;\n            color:  #000000;\n        }#T_fc685_row9_col2{\n            text-align:  right;\n            background-color:  #fc3838;\n            color:  #f1f1f1;\n        }#T_fc685_row9_col3{\n            text-align:  right;\n            background-color:  #f89191;\n            color:  #000000;\n        }#T_fc685_row9_col5{\n            text-align:  right;\n            background-color:  #f3eded;\n            color:  #000000;\n        }#T_fc685_row9_col6{\n            text-align:  right;\n            background-color:  #f88484;\n            color:  #000000;\n        }#T_fc685_row9_col7,#T_fc685_row9_col8{\n            text-align:  right;\n            background-color:  #f5c8c7;\n            color:  #000000;\n        }#T_fc685_row10_col2{\n            text-align:  right;\n            background-color:  #fe1a1a;\n            color:  #f1f1f1;\n        }#T_fc685_row10_col3{\n            text-align:  right;\n            background-color:  #f6a9a9;\n            color:  #000000;\n        }#T_fc685_row10_col4{\n            text-align:  right;\n            background-color:  #fd2121;\n            color:  #f1f1f1;\n        }#T_fc685_row10_col5,#T_fc685_row14_col5{\n            text-align:  right;\n            background-color:  #f4e2e2;\n            color:  #000000;\n        }#T_fc685_row10_col6{\n            text-align:  right;\n            background-color:  #fa6161;\n            color:  #000000;\n        }#T_fc685_row10_col7,#T_fc685_row10_col8,#T_fc685_row13_col3{\n            text-align:  right;\n            background-color:  #f4d4d4;\n            color:  #000000;\n        }#T_fc685_row11_col2{\n            text-align:  right;\n            background-color:  #fb5858;\n            color:  #000000;\n        }#T_fc685_row11_col3{\n            text-align:  right;\n            background-color:  #f6b0b0;\n            color:  #000000;\n        }#T_fc685_row11_col4{\n            text-align:  right;\n            background-color:  #fa5c5c;\n            color:  #000000;\n        }#T_fc685_row11_col6{\n            text-align:  right;\n            background-color:  #f79e9e;\n            color:  #000000;\n        }#T_fc685_row11_col7,#T_fc685_row11_col8,#T_fc685_row14_col3{\n            text-align:  right;\n            background-color:  #f4d5d5;\n            color:  #000000;\n        }#T_fc685_row12_col2,#T_fc685_row13_col2{\n            text-align:  right;\n            background-color:  #fc3232;\n            color:  #f1f1f1;\n        }#T_fc685_row12_col4{\n            text-align:  right;\n            background-color:  #fc3636;\n            color:  #f1f1f1;\n        }#T_fc685_row12_col7,#T_fc685_row12_col8{\n            text-align:  right;\n            background-color:  #f4d9d9;\n            color:  #000000;\n        }#T_fc685_row13_col4{\n            text-align:  right;\n            background-color:  #fc3535;\n            color:  #f1f1f1;\n        }#T_fc685_row13_col6{\n            text-align:  right;\n            background-color:  #f97979;\n            color:  #000000;\n        }#T_fc685_row13_col7,#T_fc685_row13_col8{\n            text-align:  right;\n            background-color:  #f3e7e7;\n            color:  #000000;\n        }#T_fc685_row14_col2,#T_fc685_row14_col4{\n            text-align:  right;\n            background-color:  #f79a9a;\n            color:  #000000;\n        }#T_fc685_row14_col6{\n            text-align:  right;\n            background-color:  #f5c6c6;\n            color:  #000000;\n        }#T_fc685_row15_col3{\n            text-align:  right;\n            background-color:  #f4d7d7;\n            color:  #000000;\n        }#T_fc685_row15_col5{\n            text-align:  right;\n            background-color:  #f3eeee;\n            color:  #000000;\n        }#T_fc685_row15_col6{\n            text-align:  right;\n            background-color:  #f6b3b3;\n            color:  #000000;\n        }#T_fc685_row16_col2{\n            text-align:  right;\n            background-color:  #fe1616;\n            color:  #f1f1f1;\n        }#T_fc685_row16_col3{\n            text-align:  right;\n            background-color:  #f4dcdc;\n            color:  #000000;\n        }#T_fc685_row16_col4{\n            text-align:  right;\n            background-color:  #fe1919;\n            color:  #f1f1f1;\n        }#T_fc685_row16_col6{\n            text-align:  right;\n            background-color:  #fb5555;\n            color:  #000000;\n        }#T_fc685_row17_col2,#T_fc685_row17_col4{\n            text-align:  right;\n            background-color:  #f97272;\n            color:  #000000;\n        }#T_fc685_row17_col3{\n            text-align:  right;\n            background-color:  #f4dede;\n            color:  #000000;\n        }#T_fc685_row17_col5{\n            text-align:  right;\n            background-color:  #f4e0e0;\n            color:  #000000;\n        }#T_fc685_row17_col6{\n            text-align:  right;\n            background-color:  #f6aeae;\n            color:  #000000;\n        }#T_fc685_row18_col4{\n            text-align:  right;\n            background-color:  #fb4c4c;\n            color:  #000000;\n        }#T_fc685_row19_col2{\n            text-align:  right;\n            background-color:  #ff0303;\n            color:  #f1f1f1;\n        }#T_fc685_row19_col5{\n            text-align:  right;\n            background-color:  #f7a3a3;\n            color:  #000000;\n        }</style><table id=\"T_fc685_\" ><thead>    <tr>        <th class=\"col_heading level0 col0\" >Cidade</th>        <th class=\"col_heading level0 col1\" >Estado</th>        <th class=\"col_heading level0 col2\" >rank</th>        <th class=\"col_heading level0 col3\" >Letalidade_rank</th>        <th class=\"col_heading level0 col4\" >Mortalidade_rank</th>        <th class=\"col_heading level0 col5\" >Mortes</th>        <th class=\"col_heading level0 col6\" >Mortalidade100k</th>        <th class=\"col_heading level0 col7\" >LetPerc</th>        <th class=\"col_heading level0 col8\" >Letalidade</th>    </tr></thead><tbody>\n                <tr>\n                                <td id=\"T_fc685_row0_col0\" class=\"data row0 col0\" >São João de Meriti</td>\n                        <td id=\"T_fc685_row0_col1\" class=\"data row0 col1\" >RJ</td>\n                        <td id=\"T_fc685_row0_col2\" class=\"data row0 col2\" >2799</td>\n                        <td id=\"T_fc685_row0_col3\" class=\"data row0 col3\" >640</td>\n                        <td id=\"T_fc685_row0_col4\" class=\"data row0 col4\" >3903</td>\n                        <td id=\"T_fc685_row0_col5\" class=\"data row0 col5\" >1009</td>\n                        <td id=\"T_fc685_row0_col6\" class=\"data row0 col6\" >213</td>\n                        <td id=\"T_fc685_row0_col7\" class=\"data row0 col7\" >10.880000</td>\n                        <td id=\"T_fc685_row0_col8\" class=\"data row0 col8\" >0.108800</td>\n            </tr>\n            <tr>\n                                <td id=\"T_fc685_row1_col0\" class=\"data row1 col0\" >Petrópolis</td>\n                        <td id=\"T_fc685_row1_col1\" class=\"data row1 col1\" >RJ</td>\n                        <td id=\"T_fc685_row1_col2\" class=\"data row1 col2\" >3505</td>\n                        <td id=\"T_fc685_row1_col3\" class=\"data row1 col3\" >636</td>\n                        <td id=\"T_fc685_row1_col4\" class=\"data row1 col4\" >5204</td>\n                        <td id=\"T_fc685_row1_col5\" class=\"data row1 col5\" >1162</td>\n                        <td id=\"T_fc685_row1_col6\" class=\"data row1 col6\" >378</td>\n                        <td id=\"T_fc685_row1_col7\" class=\"data row1 col7\" >10.500000</td>\n                        <td id=\"T_fc685_row1_col8\" class=\"data row1 col8\" >0.105000</td>\n            </tr>\n            <tr>\n                                <td id=\"T_fc685_row2_col0\" class=\"data row2 col0\" >Nova Iguaçu</td>\n                        <td id=\"T_fc685_row2_col1\" class=\"data row2 col1\" >RJ</td>\n                        <td id=\"T_fc685_row2_col2\" class=\"data row2 col2\" >2493</td>\n                        <td id=\"T_fc685_row2_col3\" class=\"data row2 col3\" >622</td>\n                        <td id=\"T_fc685_row2_col4\" class=\"data row2 col4\" >3415</td>\n                        <td id=\"T_fc685_row2_col5\" class=\"data row2 col5\" >1531</td>\n                        <td id=\"T_fc685_row2_col6\" class=\"data row2 col6\" >185</td>\n                        <td id=\"T_fc685_row2_col7\" class=\"data row2 col7\" >8.910000</td>\n                        <td id=\"T_fc685_row2_col8\" class=\"data row2 col8\" >0.089100</td>\n            </tr>\n            <tr>\n                                <td id=\"T_fc685_row3_col0\" class=\"data row3 col0\" >Viamão</td>\n                        <td id=\"T_fc685_row3_col1\" class=\"data row3 col1\" >RS</td>\n                        <td id=\"T_fc685_row3_col2\" class=\"data row3 col2\" >3099</td>\n                        <td id=\"T_fc685_row3_col3\" class=\"data row3 col3\" >617</td>\n                        <td id=\"T_fc685_row3_col4\" class=\"data row3 col4\" >4422</td>\n                        <td id=\"T_fc685_row3_col5\" class=\"data row3 col5\" >648</td>\n                        <td id=\"T_fc685_row3_col6\" class=\"data row3 col6\" >252</td>\n                        <td id=\"T_fc685_row3_col7\" class=\"data row3 col7\" >8.140000</td>\n                        <td id=\"T_fc685_row3_col8\" class=\"data row3 col8\" >0.081400</td>\n            </tr>\n            <tr>\n                                <td id=\"T_fc685_row4_col0\" class=\"data row4 col0\" >Rio de Janeiro</td>\n                        <td id=\"T_fc685_row4_col1\" class=\"data row4 col1\" >RJ</td>\n                        <td id=\"T_fc685_row4_col2\" class=\"data row4 col2\" >3507</td>\n                        <td id=\"T_fc685_row4_col3\" class=\"data row4 col3\" >615</td>\n                        <td id=\"T_fc685_row4_col4\" class=\"data row4 col4\" >5239</td>\n                        <td id=\"T_fc685_row4_col5\" class=\"data row4 col5\" >26689</td>\n                        <td id=\"T_fc685_row4_col6\" class=\"data row4 col6\" >395</td>\n                        <td id=\"T_fc685_row4_col7\" class=\"data row4 col7\" >8.050000</td>\n                        <td id=\"T_fc685_row4_col8\" class=\"data row4 col8\" >0.080500</td>\n            </tr>\n            <tr>\n                                <td id=\"T_fc685_row5_col0\" class=\"data row5 col0\" >Guarulhos</td>\n                        <td id=\"T_fc685_row5_col1\" class=\"data row5 col1\" >SP</td>\n                        <td id=\"T_fc685_row5_col2\" class=\"data row5 col2\" >3321</td>\n                        <td id=\"T_fc685_row5_col3\" class=\"data row5 col3\" >601</td>\n                        <td id=\"T_fc685_row5_col4\" class=\"data row5 col4\" >4790</td>\n                        <td id=\"T_fc685_row5_col5\" class=\"data row5 col5\" >4018</td>\n                        <td id=\"T_fc685_row5_col6\" class=\"data row5 col6\" >288</td>\n                        <td id=\"T_fc685_row5_col7\" class=\"data row5 col7\" >7.390000</td>\n                        <td id=\"T_fc685_row5_col8\" class=\"data row5 col8\" >0.073900</td>\n            </tr>\n            <tr>\n                                <td id=\"T_fc685_row6_col0\" class=\"data row6 col0\" >Paulista</td>\n                        <td id=\"T_fc685_row6_col1\" class=\"data row6 col1\" >PE</td>\n                        <td id=\"T_fc685_row6_col2\" class=\"data row6 col2\" >2739</td>\n                        <td id=\"T_fc685_row6_col3\" class=\"data row6 col3\" >599</td>\n                        <td id=\"T_fc685_row6_col4\" class=\"data row6 col4\" >3842</td>\n                        <td id=\"T_fc685_row6_col5\" class=\"data row6 col5\" >703</td>\n                        <td id=\"T_fc685_row6_col6\" class=\"data row6 col6\" >210</td>\n                        <td id=\"T_fc685_row6_col7\" class=\"data row6 col7\" >7.260000</td>\n                        <td id=\"T_fc685_row6_col8\" class=\"data row6 col8\" >0.072600</td>\n            </tr>\n            <tr>\n                                <td id=\"T_fc685_row7_col0\" class=\"data row7 col0\" >Itaboraí</td>\n                        <td id=\"T_fc685_row7_col1\" class=\"data row7 col1\" >RJ</td>\n                        <td id=\"T_fc685_row7_col2\" class=\"data row7 col2\" >3244</td>\n                        <td id=\"T_fc685_row7_col3\" class=\"data row7 col3\" >583</td>\n                        <td id=\"T_fc685_row7_col4\" class=\"data row7 col4\" >4681</td>\n                        <td id=\"T_fc685_row7_col5\" class=\"data row7 col5\" >672</td>\n                        <td id=\"T_fc685_row7_col6\" class=\"data row7 col6\" >277</td>\n                        <td id=\"T_fc685_row7_col7\" class=\"data row7 col7\" >6.830000</td>\n                        <td id=\"T_fc685_row7_col8\" class=\"data row7 col8\" >0.068300</td>\n            </tr>\n            <tr>\n                                <td id=\"T_fc685_row8_col0\" class=\"data row8 col0\" >Duque de Caxias</td>\n                        <td id=\"T_fc685_row8_col1\" class=\"data row8 col1\" >RJ</td>\n                        <td id=\"T_fc685_row8_col2\" class=\"data row8 col2\" >1948</td>\n                        <td id=\"T_fc685_row8_col3\" class=\"data row8 col3\" >568</td>\n                        <td id=\"T_fc685_row8_col4\" class=\"data row8 col4\" >2611</td>\n                        <td id=\"T_fc685_row8_col5\" class=\"data row8 col5\" >1380</td>\n                        <td id=\"T_fc685_row8_col6\" class=\"data row8 col6\" >149</td>\n                        <td id=\"T_fc685_row8_col7\" class=\"data row8 col7\" >6.510000</td>\n                        <td id=\"T_fc685_row8_col8\" class=\"data row8 col8\" >0.065100</td>\n            </tr>\n            <tr>\n                                <td id=\"T_fc685_row9_col0\" class=\"data row9 col0\" >São Vicente</td>\n                        <td id=\"T_fc685_row9_col1\" class=\"data row9 col1\" >SP</td>\n                        <td id=\"T_fc685_row9_col2\" class=\"data row9 col2\" >3142</td>\n                        <td id=\"T_fc685_row9_col3\" class=\"data row9 col3\" >545</td>\n                        <td id=\"T_fc685_row9_col4\" class=\"data row9 col4\" >4565</td>\n                        <td id=\"T_fc685_row9_col5\" class=\"data row9 col5\" >976</td>\n                        <td id=\"T_fc685_row9_col6\" class=\"data row9 col6\" >264</td>\n                        <td id=\"T_fc685_row9_col7\" class=\"data row9 col7\" >6.050000</td>\n                        <td id=\"T_fc685_row9_col8\" class=\"data row9 col8\" >0.060500</td>\n            </tr>\n            <tr>\n                                <td id=\"T_fc685_row10_col0\" class=\"data row10 col0\" >Osasco</td>\n                        <td id=\"T_fc685_row10_col1\" class=\"data row10 col1\" >SP</td>\n                        <td id=\"T_fc685_row10_col2\" class=\"data row10 col2\" >3331</td>\n                        <td id=\"T_fc685_row10_col3\" class=\"data row10 col3\" >529</td>\n                        <td id=\"T_fc685_row10_col4\" class=\"data row10 col4\" >4885</td>\n                        <td id=\"T_fc685_row10_col5\" class=\"data row10 col5\" >2110</td>\n                        <td id=\"T_fc685_row10_col6\" class=\"data row10 col6\" >301</td>\n                        <td id=\"T_fc685_row10_col7\" class=\"data row10 col7\" >5.770000</td>\n                        <td id=\"T_fc685_row10_col8\" class=\"data row10 col8\" >0.057700</td>\n            </tr>\n            <tr>\n                                <td id=\"T_fc685_row11_col0\" class=\"data row11 col0\" >Itapevi</td>\n                        <td id=\"T_fc685_row11_col1\" class=\"data row11 col1\" >SP</td>\n                        <td id=\"T_fc685_row11_col2\" class=\"data row11 col2\" >2935</td>\n                        <td id=\"T_fc685_row11_col3\" class=\"data row11 col3\" >525</td>\n                        <td id=\"T_fc685_row11_col4\" class=\"data row11 col4\" >4239</td>\n                        <td id=\"T_fc685_row11_col5\" class=\"data row11 col5\" >570</td>\n                        <td id=\"T_fc685_row11_col6\" class=\"data row11 col6\" >236</td>\n                        <td id=\"T_fc685_row11_col7\" class=\"data row11 col7\" >5.730000</td>\n                        <td id=\"T_fc685_row11_col8\" class=\"data row11 col8\" >0.057300</td>\n            </tr>\n            <tr>\n                                <td id=\"T_fc685_row12_col0\" class=\"data row12 col0\" >Mauá</td>\n                        <td id=\"T_fc685_row12_col1\" class=\"data row12 col1\" >SP</td>\n                        <td id=\"T_fc685_row12_col2\" class=\"data row12 col2\" >3184</td>\n                        <td id=\"T_fc685_row12_col3\" class=\"data row12 col3\" >521</td>\n                        <td id=\"T_fc685_row12_col4\" class=\"data row12 col4\" >4655</td>\n                        <td id=\"T_fc685_row12_col5\" class=\"data row12 col5\" >1312</td>\n                        <td id=\"T_fc685_row12_col6\" class=\"data row12 col6\" >274</td>\n                        <td id=\"T_fc685_row12_col7\" class=\"data row12 col7\" >5.620000</td>\n                        <td id=\"T_fc685_row12_col8\" class=\"data row12 col8\" >0.056200</td>\n            </tr>\n            <tr>\n                                <td id=\"T_fc685_row13_col0\" class=\"data row13 col0\" >Cabo Frio</td>\n                        <td id=\"T_fc685_row13_col1\" class=\"data row13 col1\" >RJ</td>\n                        <td id=\"T_fc685_row13_col2\" class=\"data row13 col2\" >3180</td>\n                        <td id=\"T_fc685_row13_col3\" class=\"data row13 col3\" >502</td>\n                        <td id=\"T_fc685_row13_col4\" class=\"data row13 col4\" >4666</td>\n                        <td id=\"T_fc685_row13_col5\" class=\"data row13 col5\" >635</td>\n                        <td id=\"T_fc685_row13_col6\" class=\"data row13 col6\" >275</td>\n                        <td id=\"T_fc685_row13_col7\" class=\"data row13 col7\" >5.300000</td>\n                        <td id=\"T_fc685_row13_col8\" class=\"data row13 col8\" >0.053000</td>\n            </tr>\n            <tr>\n                                <td id=\"T_fc685_row14_col0\" class=\"data row14 col0\" >São Luís</td>\n                        <td id=\"T_fc685_row14_col1\" class=\"data row14 col1\" >MA</td>\n                        <td id=\"T_fc685_row14_col2\" class=\"data row14 col2\" >2503</td>\n                        <td id=\"T_fc685_row14_col3\" class=\"data row14 col3\" >501</td>\n                        <td id=\"T_fc685_row14_col4\" class=\"data row14 col4\" >3551</td>\n                        <td id=\"T_fc685_row14_col5\" class=\"data row14 col5\" >2158</td>\n                        <td id=\"T_fc685_row14_col6\" class=\"data row14 col6\" >194</td>\n                        <td id=\"T_fc685_row14_col7\" class=\"data row14 col7\" >5.290000</td>\n                        <td id=\"T_fc685_row14_col8\" class=\"data row14 col8\" >0.052900</td>\n            </tr>\n            <tr>\n                                <td id=\"T_fc685_row15_col0\" class=\"data row15 col0\" >Itaquaquecetuba</td>\n                        <td id=\"T_fc685_row15_col1\" class=\"data row15 col1\" >SP</td>\n                        <td id=\"T_fc685_row15_col2\" class=\"data row15 col2\" >2729</td>\n                        <td id=\"T_fc685_row15_col3\" class=\"data row15 col3\" >500</td>\n                        <td id=\"T_fc685_row15_col4\" class=\"data row15 col4\" >3924</td>\n                        <td id=\"T_fc685_row15_col5\" class=\"data row15 col5\" >804</td>\n                        <td id=\"T_fc685_row15_col6\" class=\"data row15 col6\" >214</td>\n                        <td id=\"T_fc685_row15_col7\" class=\"data row15 col7\" >5.280000</td>\n                        <td id=\"T_fc685_row15_col8\" class=\"data row15 col8\" >0.052800</td>\n            </tr>\n            <tr>\n                                <td id=\"T_fc685_row16_col0\" class=\"data row16 col0\" >Guarujá</td>\n                        <td id=\"T_fc685_row16_col1\" class=\"data row16 col1\" >SP</td>\n                        <td id=\"T_fc685_row16_col2\" class=\"data row16 col2\" >3366</td>\n                        <td id=\"T_fc685_row16_col3\" class=\"data row16 col3\" >496</td>\n                        <td id=\"T_fc685_row16_col4\" class=\"data row16 col4\" >4969</td>\n                        <td id=\"T_fc685_row16_col5\" class=\"data row16 col5\" >1016</td>\n                        <td id=\"T_fc685_row16_col6\" class=\"data row16 col6\" >314</td>\n                        <td id=\"T_fc685_row16_col7\" class=\"data row16 col7\" >5.240000</td>\n                        <td id=\"T_fc685_row16_col8\" class=\"data row16 col8\" >0.052400</td>\n            </tr>\n            <tr>\n                                <td id=\"T_fc685_row17_col0\" class=\"data row17 col0\" >São Gonçalo</td>\n                        <td id=\"T_fc685_row17_col1\" class=\"data row17 col1\" >RJ</td>\n                        <td id=\"T_fc685_row17_col2\" class=\"data row17 col2\" >2770</td>\n                        <td id=\"T_fc685_row17_col3\" class=\"data row17 col3\" >495</td>\n                        <td id=\"T_fc685_row17_col4\" class=\"data row17 col4\" >4003</td>\n                        <td id=\"T_fc685_row17_col5\" class=\"data row17 col5\" >2398</td>\n                        <td id=\"T_fc685_row17_col6\" class=\"data row17 col6\" >219</td>\n                        <td id=\"T_fc685_row17_col7\" class=\"data row17 col7\" >5.230000</td>\n                        <td id=\"T_fc685_row17_col8\" class=\"data row17 col8\" >0.052300</td>\n            </tr>\n            <tr>\n                                <td id=\"T_fc685_row18_col0\" class=\"data row18 col0\" >Campos dos Goytacazes</td>\n                        <td id=\"T_fc685_row18_col1\" class=\"data row18 col1\" >RJ</td>\n                        <td id=\"T_fc685_row18_col2\" class=\"data row18 col2\" >3017</td>\n                        <td id=\"T_fc685_row18_col3\" class=\"data row18 col3\" >489</td>\n                        <td id=\"T_fc685_row18_col4\" class=\"data row18 col4\" >4414</td>\n                        <td id=\"T_fc685_row18_col5\" class=\"data row18 col5\" >1289</td>\n                        <td id=\"T_fc685_row18_col6\" class=\"data row18 col6\" >252</td>\n                        <td id=\"T_fc685_row18_col7\" class=\"data row18 col7\" >5.170000</td>\n                        <td id=\"T_fc685_row18_col8\" class=\"data row18 col8\" >0.051700</td>\n            </tr>\n            <tr>\n                                <td id=\"T_fc685_row19_col0\" class=\"data row19 col0\" >Manaus</td>\n                        <td id=\"T_fc685_row19_col1\" class=\"data row19 col1\" >AM</td>\n                        <td id=\"T_fc685_row19_col2\" class=\"data row19 col2\" >3487</td>\n                        <td id=\"T_fc685_row19_col3\" class=\"data row19 col3\" >483</td>\n                        <td id=\"T_fc685_row19_col4\" class=\"data row19 col4\" >5253</td>\n                        <td id=\"T_fc685_row19_col5\" class=\"data row19 col5\" >8971</td>\n                        <td id=\"T_fc685_row19_col6\" class=\"data row19 col6\" >404</td>\n                        <td id=\"T_fc685_row19_col7\" class=\"data row19 col7\" >5.070000</td>\n                        <td id=\"T_fc685_row19_col8\" class=\"data row19 col8\" >0.050700</td>\n            </tr>\n    </tbody></table>"
     },
     "metadata": {},
     "execution_count": 24
    }
   ],
   "source": [
    "tabela_cidade('Letalidade',20, corte=500)"
   ]
  },
  {
   "source": [
    "## Top 20 Cidades do Brasil"
   ],
   "cell_type": "markdown",
   "metadata": {}
  },
  {
   "cell_type": "code",
   "execution_count": 25,
   "metadata": {},
   "outputs": [
    {
     "output_type": "execute_result",
     "data": {
      "text/plain": [
       "<pandas.io.formats.style.Styler at 0x236d43b4520>"
      ],
      "text/html": "<style  type=\"text/css\" >\n#T_ee6da_row0_col0,#T_ee6da_row0_col1,#T_ee6da_row1_col0,#T_ee6da_row1_col1,#T_ee6da_row2_col0,#T_ee6da_row2_col1,#T_ee6da_row3_col0,#T_ee6da_row3_col1,#T_ee6da_row4_col0,#T_ee6da_row4_col1,#T_ee6da_row5_col0,#T_ee6da_row5_col1,#T_ee6da_row6_col0,#T_ee6da_row6_col1,#T_ee6da_row7_col0,#T_ee6da_row7_col1,#T_ee6da_row8_col0,#T_ee6da_row8_col1,#T_ee6da_row9_col0,#T_ee6da_row9_col1,#T_ee6da_row10_col0,#T_ee6da_row10_col1,#T_ee6da_row11_col0,#T_ee6da_row11_col1,#T_ee6da_row12_col0,#T_ee6da_row12_col1,#T_ee6da_row13_col0,#T_ee6da_row13_col1,#T_ee6da_row14_col0,#T_ee6da_row14_col1,#T_ee6da_row15_col0,#T_ee6da_row15_col1,#T_ee6da_row16_col0,#T_ee6da_row16_col1,#T_ee6da_row17_col0,#T_ee6da_row17_col1,#T_ee6da_row18_col0,#T_ee6da_row18_col1,#T_ee6da_row19_col0,#T_ee6da_row19_col1{\n            text-align:  right;\n        }#T_ee6da_row0_col2{\n            text-align:  right;\n            background-color:  #1b8d1b;\n            color:  #000000;\n        }#T_ee6da_row0_col3,#T_ee6da_row0_col7,#T_ee6da_row0_col8,#T_ee6da_row8_col5,#T_ee6da_row11_col2,#T_ee6da_row11_col4,#T_ee6da_row11_col6{\n            text-align:  right;\n            background-color:  #008000;\n            color:  #f1f1f1;\n        }#T_ee6da_row0_col4{\n            text-align:  right;\n            background-color:  #209020;\n            color:  #000000;\n        }#T_ee6da_row0_col5,#T_ee6da_row7_col5{\n            text-align:  right;\n            background-color:  #058205;\n            color:  #f1f1f1;\n        }#T_ee6da_row0_col6,#T_ee6da_row8_col6{\n            text-align:  right;\n            background-color:  #128912;\n            color:  #f1f1f1;\n        }#T_ee6da_row1_col2{\n            text-align:  right;\n            background-color:  #48a348;\n            color:  #000000;\n        }#T_ee6da_row1_col3,#T_ee6da_row1_col7,#T_ee6da_row1_col8,#T_ee6da_row8_col2{\n            text-align:  right;\n            background-color:  #1d8e1d;\n            color:  #000000;\n        }#T_ee6da_row1_col4{\n            text-align:  right;\n            background-color:  #4ba54a;\n            color:  #000000;\n        }#T_ee6da_row1_col5,#T_ee6da_row3_col5,#T_ee6da_row5_col5{\n            text-align:  right;\n            background-color:  #028102;\n            color:  #f1f1f1;\n        }#T_ee6da_row1_col6{\n            text-align:  right;\n            background-color:  #2f972f;\n            color:  #000000;\n        }#T_ee6da_row2_col2,#T_ee6da_row14_col6{\n            text-align:  right;\n            background-color:  #6eb66e;\n            color:  #000000;\n        }#T_ee6da_row2_col3,#T_ee6da_row2_col7,#T_ee6da_row2_col8{\n            text-align:  right;\n            background-color:  #2a952a;\n            color:  #000000;\n        }#T_ee6da_row2_col4{\n            text-align:  right;\n            background-color:  #70b770;\n            color:  #000000;\n        }#T_ee6da_row2_col5{\n            text-align:  right;\n            background-color:  #47a347;\n            color:  #000000;\n        }#T_ee6da_row2_col6,#T_ee6da_row17_col6{\n            text-align:  right;\n            background-color:  #4da64d;\n            color:  #000000;\n        }#T_ee6da_row3_col2,#T_ee6da_row3_col4{\n            text-align:  right;\n            background-color:  #afd6af;\n            color:  #000000;\n        }#T_ee6da_row3_col3,#T_ee6da_row3_col7,#T_ee6da_row3_col8{\n            text-align:  right;\n            background-color:  #61b061;\n            color:  #000000;\n        }#T_ee6da_row3_col6{\n            text-align:  right;\n            background-color:  #88c388;\n            color:  #000000;\n        }#T_ee6da_row4_col2{\n            text-align:  right;\n            background-color:  #e3efe3;\n            color:  #000000;\n        }#T_ee6da_row4_col3,#T_ee6da_row4_col7,#T_ee6da_row4_col8,#T_ee6da_row5_col3,#T_ee6da_row5_col7,#T_ee6da_row5_col8,#T_ee6da_row17_col4{\n            text-align:  right;\n            background-color:  #6fb76f;\n            color:  #000000;\n        }#T_ee6da_row4_col4{\n            text-align:  right;\n            background-color:  #e5f0e5;\n            color:  #000000;\n        }#T_ee6da_row4_col5{\n            text-align:  right;\n            background-color:  #71b771;\n            color:  #000000;\n        }#T_ee6da_row4_col6{\n            text-align:  right;\n            background-color:  #dbebdb;\n            color:  #000000;\n        }#T_ee6da_row5_col2,#T_ee6da_row5_col4{\n            text-align:  right;\n            background-color:  #a8d2a8;\n            color:  #000000;\n        }#T_ee6da_row5_col6{\n            text-align:  right;\n            background-color:  #7fbe7f;\n            color:  #000000;\n        }#T_ee6da_row6_col2,#T_ee6da_row15_col2{\n            text-align:  right;\n            background-color:  #b8dab8;\n            color:  #000000;\n        }#T_ee6da_row6_col3,#T_ee6da_row6_col7,#T_ee6da_row6_col8{\n            text-align:  right;\n            background-color:  #77ba77;\n            color:  #000000;\n        }#T_ee6da_row6_col4{\n            text-align:  right;\n            background-color:  #b9dbb9;\n            color:  #000000;\n        }#T_ee6da_row6_col5{\n            text-align:  right;\n            background-color:  #92c892;\n            color:  #000000;\n        }#T_ee6da_row6_col6{\n            text-align:  right;\n            background-color:  #96c996;\n            color:  #000000;\n        }#T_ee6da_row7_col2,#T_ee6da_row7_col4,#T_ee6da_row9_col3,#T_ee6da_row9_col7,#T_ee6da_row9_col8,#T_ee6da_row16_col4{\n            text-align:  right;\n            background-color:  #95c995;\n            color:  #000000;\n        }#T_ee6da_row7_col3,#T_ee6da_row7_col7,#T_ee6da_row7_col8{\n            text-align:  right;\n            background-color:  #7bbc7b;\n            color:  #000000;\n        }#T_ee6da_row7_col6,#T_ee6da_row16_col6{\n            text-align:  right;\n            background-color:  #6cb56c;\n            color:  #000000;\n        }#T_ee6da_row8_col3,#T_ee6da_row8_col7,#T_ee6da_row8_col8{\n            text-align:  right;\n            background-color:  #80bf80;\n            color:  #000000;\n        }#T_ee6da_row8_col4{\n            text-align:  right;\n            background-color:  #1e8f1e;\n            color:  #000000;\n        }#T_ee6da_row9_col2,#T_ee6da_row19_col4{\n            text-align:  right;\n            background-color:  #bbdcbb;\n            color:  #000000;\n        }#T_ee6da_row9_col4{\n            text-align:  right;\n            background-color:  #badbba;\n            color:  #000000;\n        }#T_ee6da_row9_col5{\n            text-align:  right;\n            background-color:  #018001;\n            color:  #f1f1f1;\n        }#T_ee6da_row9_col6,#T_ee6da_row14_col4,#T_ee6da_row19_col6{\n            text-align:  right;\n            background-color:  #98ca98;\n            color:  #000000;\n        }#T_ee6da_row10_col2,#T_ee6da_row10_col4{\n            text-align:  right;\n            background-color:  #d4e8d4;\n            color:  #000000;\n        }#T_ee6da_row10_col3,#T_ee6da_row10_col7,#T_ee6da_row10_col8{\n            text-align:  right;\n            background-color:  #a6d2a6;\n            color:  #000000;\n        }#T_ee6da_row10_col5{\n            text-align:  right;\n            background-color:  #118911;\n            color:  #f1f1f1;\n        }#T_ee6da_row10_col6{\n            text-align:  right;\n            background-color:  #bddcbd;\n            color:  #000000;\n        }#T_ee6da_row11_col3,#T_ee6da_row11_col7,#T_ee6da_row11_col8{\n            text-align:  right;\n            background-color:  #add5ad;\n            color:  #000000;\n        }#T_ee6da_row11_col5{\n            text-align:  right;\n            background-color:  #319831;\n            color:  #000000;\n        }#T_ee6da_row12_col2,#T_ee6da_row12_col4,#T_ee6da_row12_col5,#T_ee6da_row12_col6,#T_ee6da_row19_col3,#T_ee6da_row19_col7,#T_ee6da_row19_col8{\n            text-align:  right;\n            background-color:  #ebf3eb;\n            color:  #000000;\n        }#T_ee6da_row12_col3,#T_ee6da_row12_col7,#T_ee6da_row12_col8{\n            text-align:  right;\n            background-color:  #b2d7b1;\n            color:  #000000;\n        }#T_ee6da_row13_col2{\n            text-align:  right;\n            background-color:  #d7e9d7;\n            color:  #000000;\n        }#T_ee6da_row13_col3,#T_ee6da_row13_col7,#T_ee6da_row13_col8{\n            text-align:  right;\n            background-color:  #bdddbd;\n            color:  #000000;\n        }#T_ee6da_row13_col4{\n            text-align:  right;\n            background-color:  #d6e9d6;\n            color:  #000000;\n        }#T_ee6da_row13_col5{\n            text-align:  right;\n            background-color:  #0e870e;\n            color:  #f1f1f1;\n        }#T_ee6da_row13_col6,#T_ee6da_row19_col2{\n            text-align:  right;\n            background-color:  #beddbe;\n            color:  #000000;\n        }#T_ee6da_row14_col2{\n            text-align:  right;\n            background-color:  #9bcc9b;\n            color:  #000000;\n        }#T_ee6da_row14_col3,#T_ee6da_row14_col7,#T_ee6da_row14_col8{\n            text-align:  right;\n            background-color:  #c9e3c9;\n            color:  #000000;\n        }#T_ee6da_row14_col5{\n            text-align:  right;\n            background-color:  #75b975;\n            color:  #000000;\n        }#T_ee6da_row15_col3,#T_ee6da_row15_col7,#T_ee6da_row15_col8{\n            text-align:  right;\n            background-color:  #d1e6d1;\n            color:  #000000;\n        }#T_ee6da_row15_col4{\n            text-align:  right;\n            background-color:  #b5d9b5;\n            color:  #000000;\n        }#T_ee6da_row15_col5{\n            text-align:  right;\n            background-color:  #49a449;\n            color:  #000000;\n        }#T_ee6da_row15_col6{\n            text-align:  right;\n            background-color:  #90c790;\n            color:  #000000;\n        }#T_ee6da_row16_col2{\n            text-align:  right;\n            background-color:  #99cb99;\n            color:  #000000;\n        }#T_ee6da_row16_col3,#T_ee6da_row16_col7,#T_ee6da_row16_col8{\n            text-align:  right;\n            background-color:  #d5e9d5;\n            color:  #000000;\n        }#T_ee6da_row16_col5{\n            text-align:  right;\n            background-color:  #1f8f1f;\n            color:  #000000;\n        }#T_ee6da_row17_col2{\n            text-align:  right;\n            background-color:  #74b974;\n            color:  #000000;\n        }#T_ee6da_row17_col3,#T_ee6da_row17_col7,#T_ee6da_row17_col8,#T_ee6da_row18_col3,#T_ee6da_row18_col7,#T_ee6da_row18_col8{\n            text-align:  right;\n            background-color:  #e0eedf;\n            color:  #000000;\n        }#T_ee6da_row17_col5{\n            text-align:  right;\n            background-color:  #4aa44a;\n            color:  #000000;\n        }#T_ee6da_row18_col2{\n            text-align:  right;\n            background-color:  #91c791;\n            color:  #000000;\n        }#T_ee6da_row18_col4{\n            text-align:  right;\n            background-color:  #8dc58d;\n            color:  #000000;\n        }#T_ee6da_row18_col5{\n            text-align:  right;\n            background-color:  #9acb9a;\n            color:  #000000;\n        }#T_ee6da_row18_col6{\n            text-align:  right;\n            background-color:  #65b265;\n            color:  #000000;\n        }#T_ee6da_row19_col5{\n            text-align:  right;\n            background-color:  #038103;\n            color:  #f1f1f1;\n        }</style><table id=\"T_ee6da_\" ><thead>    <tr>        <th class=\"col_heading level0 col0\" >Cidade</th>        <th class=\"col_heading level0 col1\" >Estado</th>        <th class=\"col_heading level0 col2\" >rank</th>        <th class=\"col_heading level0 col3\" >Letalidade_rank</th>        <th class=\"col_heading level0 col4\" >Mortalidade_rank</th>        <th class=\"col_heading level0 col5\" >Mortes</th>        <th class=\"col_heading level0 col6\" >Mortalidade100k</th>        <th class=\"col_heading level0 col7\" >LetPerc</th>        <th class=\"col_heading level0 col8\" >Letalidade</th>    </tr></thead><tbody>\n                <tr>\n                                <td id=\"T_ee6da_row0_col0\" class=\"data row0 col0\" >Blumenau</td>\n                        <td id=\"T_ee6da_row0_col1\" class=\"data row0 col1\" >SC</td>\n                        <td id=\"T_ee6da_row0_col2\" class=\"data row0 col2\" >1638</td>\n                        <td id=\"T_ee6da_row0_col3\" class=\"data row0 col3\" >93</td>\n                        <td id=\"T_ee6da_row0_col4\" class=\"data row0 col4\" >2602</td>\n                        <td id=\"T_ee6da_row0_col5\" class=\"data row0 col5\" >539</td>\n                        <td id=\"T_ee6da_row0_col6\" class=\"data row0 col6\" >148</td>\n                        <td id=\"T_ee6da_row0_col7\" class=\"data row0 col7\" >1.120000</td>\n                        <td id=\"T_ee6da_row0_col8\" class=\"data row0 col8\" >0.011200</td>\n            </tr>\n            <tr>\n                                <td id=\"T_ee6da_row1_col0\" class=\"data row1 col0\" >Palmas</td>\n                        <td id=\"T_ee6da_row1_col1\" class=\"data row1 col1\" >TO</td>\n                        <td id=\"T_ee6da_row1_col2\" class=\"data row1 col2\" >1960</td>\n                        <td id=\"T_ee6da_row1_col3\" class=\"data row1 col3\" >105</td>\n                        <td id=\"T_ee6da_row1_col4\" class=\"data row1 col4\" >3094</td>\n                        <td id=\"T_ee6da_row1_col5\" class=\"data row1 col5\" >523</td>\n                        <td id=\"T_ee6da_row1_col6\" class=\"data row1 col6\" >170</td>\n                        <td id=\"T_ee6da_row1_col7\" class=\"data row1 col7\" >1.240000</td>\n                        <td id=\"T_ee6da_row1_col8\" class=\"data row1 col8\" >0.012400</td>\n            </tr>\n            <tr>\n                                <td id=\"T_ee6da_row2_col0\" class=\"data row2 col0\" >Florianópolis</td>\n                        <td id=\"T_ee6da_row2_col1\" class=\"data row2 col1\" >SC</td>\n                        <td id=\"T_ee6da_row2_col2\" class=\"data row2 col2\" >2245</td>\n                        <td id=\"T_ee6da_row2_col3\" class=\"data row2 col3\" >111</td>\n                        <td id=\"T_ee6da_row2_col4\" class=\"data row2 col4\" >3529</td>\n                        <td id=\"T_ee6da_row2_col5\" class=\"data row2 col5\" >985</td>\n                        <td id=\"T_ee6da_row2_col6\" class=\"data row2 col6\" >193</td>\n                        <td id=\"T_ee6da_row2_col7\" class=\"data row2 col7\" >1.300000</td>\n                        <td id=\"T_ee6da_row2_col8\" class=\"data row2 col8\" >0.013000</td>\n            </tr>\n            <tr>\n                                <td id=\"T_ee6da_row3_col0\" class=\"data row3 col0\" >Criciúma</td>\n                        <td id=\"T_ee6da_row3_col1\" class=\"data row3 col1\" >SC</td>\n                        <td id=\"T_ee6da_row3_col2\" class=\"data row3 col2\" >2712</td>\n                        <td id=\"T_ee6da_row3_col3\" class=\"data row3 col3\" >134</td>\n                        <td id=\"T_ee6da_row3_col4\" class=\"data row3 col4\" >4260</td>\n                        <td id=\"T_ee6da_row3_col5\" class=\"data row3 col5\" >518</td>\n                        <td id=\"T_ee6da_row3_col6\" class=\"data row3 col6\" >238</td>\n                        <td id=\"T_ee6da_row3_col7\" class=\"data row3 col7\" >1.530000</td>\n                        <td id=\"T_ee6da_row3_col8\" class=\"data row3 col8\" >0.015300</td>\n            </tr>\n            <tr>\n                                <td id=\"T_ee6da_row4_col0\" class=\"data row4 col0\" >Boa Vista</td>\n                        <td id=\"T_ee6da_row4_col1\" class=\"data row4 col1\" >RR</td>\n                        <td id=\"T_ee6da_row4_col2\" class=\"data row4 col2\" >3094</td>\n                        <td id=\"T_ee6da_row4_col3\" class=\"data row4 col3\" >140</td>\n                        <td id=\"T_ee6da_row4_col4\" class=\"data row4 col4\" >4890</td>\n                        <td id=\"T_ee6da_row4_col5\" class=\"data row4 col5\" >1266</td>\n                        <td id=\"T_ee6da_row4_col6\" class=\"data row4 col6\" >301</td>\n                        <td id=\"T_ee6da_row4_col7\" class=\"data row4 col7\" >1.590000</td>\n                        <td id=\"T_ee6da_row4_col8\" class=\"data row4 col8\" >0.015900</td>\n            </tr>\n            <tr>\n                                <td id=\"T_ee6da_row5_col0\" class=\"data row5 col0\" >Dourados</td>\n                        <td id=\"T_ee6da_row5_col1\" class=\"data row5 col1\" >MS</td>\n                        <td id=\"T_ee6da_row5_col2\" class=\"data row5 col2\" >2668</td>\n                        <td id=\"T_ee6da_row5_col3\" class=\"data row5 col3\" >140</td>\n                        <td id=\"T_ee6da_row5_col4\" class=\"data row5 col4\" >4179</td>\n                        <td id=\"T_ee6da_row5_col5\" class=\"data row5 col5\" >523</td>\n                        <td id=\"T_ee6da_row5_col6\" class=\"data row5 col6\" >231</td>\n                        <td id=\"T_ee6da_row5_col7\" class=\"data row5 col7\" >1.590000</td>\n                        <td id=\"T_ee6da_row5_col8\" class=\"data row5 col8\" >0.015900</td>\n            </tr>\n            <tr>\n                                <td id=\"T_ee6da_row6_col0\" class=\"data row6 col0\" >Joinville</td>\n                        <td id=\"T_ee6da_row6_col1\" class=\"data row6 col1\" >SC</td>\n                        <td id=\"T_ee6da_row6_col2\" class=\"data row6 col2\" >2782</td>\n                        <td id=\"T_ee6da_row6_col3\" class=\"data row6 col3\" >143</td>\n                        <td id=\"T_ee6da_row6_col4\" class=\"data row6 col4\" >4372</td>\n                        <td id=\"T_ee6da_row6_col5\" class=\"data row6 col5\" >1486</td>\n                        <td id=\"T_ee6da_row6_col6\" class=\"data row6 col6\" >248</td>\n                        <td id=\"T_ee6da_row6_col7\" class=\"data row6 col7\" >1.620000</td>\n                        <td id=\"T_ee6da_row6_col8\" class=\"data row6 col8\" >0.016200</td>\n            </tr>\n            <tr>\n                                <td id=\"T_ee6da_row7_col0\" class=\"data row7 col0\" >São José</td>\n                        <td id=\"T_ee6da_row7_col1\" class=\"data row7 col1\" >SC</td>\n                        <td id=\"T_ee6da_row7_col2\" class=\"data row7 col2\" >2528</td>\n                        <td id=\"T_ee6da_row7_col3\" class=\"data row7 col3\" >145</td>\n                        <td id=\"T_ee6da_row7_col4\" class=\"data row7 col4\" >3960</td>\n                        <td id=\"T_ee6da_row7_col5\" class=\"data row7 col5\" >542</td>\n                        <td id=\"T_ee6da_row7_col6\" class=\"data row7 col6\" >216</td>\n                        <td id=\"T_ee6da_row7_col7\" class=\"data row7 col7\" >1.640000</td>\n                        <td id=\"T_ee6da_row7_col8\" class=\"data row7 col8\" >0.016400</td>\n            </tr>\n            <tr>\n                                <td id=\"T_ee6da_row8_col0\" class=\"data row8 col0\" >Vitória da Conquista</td>\n                        <td id=\"T_ee6da_row8_col1\" class=\"data row8 col1\" >BA</td>\n                        <td id=\"T_ee6da_row8_col2\" class=\"data row8 col2\" >1656</td>\n                        <td id=\"T_ee6da_row8_col3\" class=\"data row8 col3\" >147</td>\n                        <td id=\"T_ee6da_row8_col4\" class=\"data row8 col4\" >2575</td>\n                        <td id=\"T_ee6da_row8_col5\" class=\"data row8 col5\" >505</td>\n                        <td id=\"T_ee6da_row8_col6\" class=\"data row8 col6\" >148</td>\n                        <td id=\"T_ee6da_row8_col7\" class=\"data row8 col7\" >1.660000</td>\n                        <td id=\"T_ee6da_row8_col8\" class=\"data row8 col8\" >0.016600</td>\n            </tr>\n            <tr>\n                                <td id=\"T_ee6da_row9_col0\" class=\"data row9 col0\" >Passo Fundo</td>\n                        <td id=\"T_ee6da_row9_col1\" class=\"data row9 col1\" >RS</td>\n                        <td id=\"T_ee6da_row9_col2\" class=\"data row9 col2\" >2800</td>\n                        <td id=\"T_ee6da_row9_col3\" class=\"data row9 col3\" >156</td>\n                        <td id=\"T_ee6da_row9_col4\" class=\"data row9 col4\" >4388</td>\n                        <td id=\"T_ee6da_row9_col5\" class=\"data row9 col5\" >512</td>\n                        <td id=\"T_ee6da_row9_col6\" class=\"data row9 col6\" >250</td>\n                        <td id=\"T_ee6da_row9_col7\" class=\"data row9 col7\" >1.750000</td>\n                        <td id=\"T_ee6da_row9_col8\" class=\"data row9 col8\" >0.017500</td>\n            </tr>\n            <tr>\n                                <td id=\"T_ee6da_row10_col0\" class=\"data row10 col0\" >Chapecó</td>\n                        <td id=\"T_ee6da_row10_col1\" class=\"data row10 col1\" >SC</td>\n                        <td id=\"T_ee6da_row10_col2\" class=\"data row10 col2\" >2986</td>\n                        <td id=\"T_ee6da_row10_col3\" class=\"data row10 col3\" >163</td>\n                        <td id=\"T_ee6da_row10_col4\" class=\"data row10 col4\" >4688</td>\n                        <td id=\"T_ee6da_row10_col5\" class=\"data row10 col5\" >623</td>\n                        <td id=\"T_ee6da_row10_col6\" class=\"data row10 col6\" >278</td>\n                        <td id=\"T_ee6da_row10_col7\" class=\"data row10 col7\" >1.820000</td>\n                        <td id=\"T_ee6da_row10_col8\" class=\"data row10 col8\" >0.018200</td>\n            </tr>\n            <tr>\n                                <td id=\"T_ee6da_row11_col0\" class=\"data row11 col0\" >Feira de Santana</td>\n                        <td id=\"T_ee6da_row11_col1\" class=\"data row11 col1\" >BA</td>\n                        <td id=\"T_ee6da_row11_col2\" class=\"data row11 col2\" >1438</td>\n                        <td id=\"T_ee6da_row11_col3\" class=\"data row11 col3\" >166</td>\n                        <td id=\"T_ee6da_row11_col4\" class=\"data row11 col4\" >2221</td>\n                        <td id=\"T_ee6da_row11_col5\" class=\"data row11 col5\" >832</td>\n                        <td id=\"T_ee6da_row11_col6\" class=\"data row11 col6\" >134</td>\n                        <td id=\"T_ee6da_row11_col7\" class=\"data row11 col7\" >1.850000</td>\n                        <td id=\"T_ee6da_row11_col8\" class=\"data row11 col8\" >0.018500</td>\n            </tr>\n            <tr>\n                                <td id=\"T_ee6da_row12_col0\" class=\"data row12 col0\" >Aracaju</td>\n                        <td id=\"T_ee6da_row12_col1\" class=\"data row12 col1\" >SE</td>\n                        <td id=\"T_ee6da_row12_col2\" class=\"data row12 col2\" >3150</td>\n                        <td id=\"T_ee6da_row12_col3\" class=\"data row12 col3\" >168</td>\n                        <td id=\"T_ee6da_row12_col4\" class=\"data row12 col4\" >4956</td>\n                        <td id=\"T_ee6da_row12_col5\" class=\"data row12 col5\" >2084</td>\n                        <td id=\"T_ee6da_row12_col6\" class=\"data row12 col6\" >313</td>\n                        <td id=\"T_ee6da_row12_col7\" class=\"data row12 col7\" >1.870000</td>\n                        <td id=\"T_ee6da_row12_col8\" class=\"data row12 col8\" >0.018700</td>\n            </tr>\n            <tr>\n                                <td id=\"T_ee6da_row13_col0\" class=\"data row13 col0\" >Itabuna</td>\n                        <td id=\"T_ee6da_row13_col1\" class=\"data row13 col1\" >BA</td>\n                        <td id=\"T_ee6da_row13_col2\" class=\"data row13 col2\" >3007</td>\n                        <td id=\"T_ee6da_row13_col3\" class=\"data row13 col3\" >173</td>\n                        <td id=\"T_ee6da_row13_col4\" class=\"data row13 col4\" >4712</td>\n                        <td id=\"T_ee6da_row13_col5\" class=\"data row13 col5\" >598</td>\n                        <td id=\"T_ee6da_row13_col6\" class=\"data row13 col6\" >279</td>\n                        <td id=\"T_ee6da_row13_col7\" class=\"data row13 col7\" >1.920000</td>\n                        <td id=\"T_ee6da_row13_col8\" class=\"data row13 col8\" >0.019200</td>\n            </tr>\n            <tr>\n                                <td id=\"T_ee6da_row14_col0\" class=\"data row14 col0\" >Aparecida de Goiânia</td>\n                        <td id=\"T_ee6da_row14_col1\" class=\"data row14 col1\" >GO</td>\n                        <td id=\"T_ee6da_row14_col2\" class=\"data row14 col2\" >2573</td>\n                        <td id=\"T_ee6da_row14_col3\" class=\"data row14 col3\" >178</td>\n                        <td id=\"T_ee6da_row14_col4\" class=\"data row14 col4\" >3994</td>\n                        <td id=\"T_ee6da_row14_col5\" class=\"data row14 col5\" >1292</td>\n                        <td id=\"T_ee6da_row14_col6\" class=\"data row14 col6\" >218</td>\n                        <td id=\"T_ee6da_row14_col7\" class=\"data row14 col7\" >1.970000</td>\n                        <td id=\"T_ee6da_row14_col8\" class=\"data row14 col8\" >0.019700</td>\n            </tr>\n            <tr>\n                                <td id=\"T_ee6da_row15_col0\" class=\"data row15 col0\" >Piracicaba</td>\n                        <td id=\"T_ee6da_row15_col1\" class=\"data row15 col1\" >SP</td>\n                        <td id=\"T_ee6da_row15_col2\" class=\"data row15 col2\" >2781</td>\n                        <td id=\"T_ee6da_row15_col3\" class=\"data row15 col3\" >181</td>\n                        <td id=\"T_ee6da_row15_col4\" class=\"data row15 col4\" >4333</td>\n                        <td id=\"T_ee6da_row15_col5\" class=\"data row15 col5\" >996</td>\n                        <td id=\"T_ee6da_row15_col6\" class=\"data row15 col6\" >244</td>\n                        <td id=\"T_ee6da_row15_col7\" class=\"data row15 col7\" >2.000000</td>\n                        <td id=\"T_ee6da_row15_col8\" class=\"data row15 col8\" >0.020000</td>\n            </tr>\n            <tr>\n                                <td id=\"T_ee6da_row16_col0\" class=\"data row16 col0\" >Cascavel</td>\n                        <td id=\"T_ee6da_row16_col1\" class=\"data row16 col1\" >PR</td>\n                        <td id=\"T_ee6da_row16_col2\" class=\"data row16 col2\" >2553</td>\n                        <td id=\"T_ee6da_row16_col3\" class=\"data row16 col3\" >183</td>\n                        <td id=\"T_ee6da_row16_col4\" class=\"data row16 col4\" >3956</td>\n                        <td id=\"T_ee6da_row16_col5\" class=\"data row16 col5\" >719</td>\n                        <td id=\"T_ee6da_row16_col6\" class=\"data row16 col6\" >216</td>\n                        <td id=\"T_ee6da_row16_col7\" class=\"data row16 col7\" >2.020000</td>\n                        <td id=\"T_ee6da_row16_col8\" class=\"data row16 col8\" >0.020200</td>\n            </tr>\n            <tr>\n                                <td id=\"T_ee6da_row17_col0\" class=\"data row17 col0\" >Caxias do Sul</td>\n                        <td id=\"T_ee6da_row17_col1\" class=\"data row17 col1\" >RS</td>\n                        <td id=\"T_ee6da_row17_col2\" class=\"data row17 col2\" >2284</td>\n                        <td id=\"T_ee6da_row17_col3\" class=\"data row17 col3\" >187</td>\n                        <td id=\"T_ee6da_row17_col4\" class=\"data row17 col4\" >3520</td>\n                        <td id=\"T_ee6da_row17_col5\" class=\"data row17 col5\" >1000</td>\n                        <td id=\"T_ee6da_row17_col6\" class=\"data row17 col6\" >193</td>\n                        <td id=\"T_ee6da_row17_col7\" class=\"data row17 col7\" >2.060000</td>\n                        <td id=\"T_ee6da_row17_col8\" class=\"data row17 col8\" >0.020600</td>\n            </tr>\n            <tr>\n                                <td id=\"T_ee6da_row18_col0\" class=\"data row18 col0\" >São José dos Campos</td>\n                        <td id=\"T_ee6da_row18_col1\" class=\"data row18 col1\" >SP</td>\n                        <td id=\"T_ee6da_row18_col2\" class=\"data row18 col2\" >2496</td>\n                        <td id=\"T_ee6da_row18_col3\" class=\"data row18 col3\" >187</td>\n                        <td id=\"T_ee6da_row18_col4\" class=\"data row18 col4\" >3856</td>\n                        <td id=\"T_ee6da_row18_col5\" class=\"data row18 col5\" >1540</td>\n                        <td id=\"T_ee6da_row18_col6\" class=\"data row18 col6\" >211</td>\n                        <td id=\"T_ee6da_row18_col7\" class=\"data row18 col7\" >2.060000</td>\n                        <td id=\"T_ee6da_row18_col8\" class=\"data row18 col8\" >0.020600</td>\n            </tr>\n            <tr>\n                                <td id=\"T_ee6da_row19_col0\" class=\"data row19 col0\" >Cachoeiro de Itapemirim</td>\n                        <td id=\"T_ee6da_row19_col1\" class=\"data row19 col1\" >ES</td>\n                        <td id=\"T_ee6da_row19_col2\" class=\"data row19 col2\" >2828</td>\n                        <td id=\"T_ee6da_row19_col3\" class=\"data row19 col3\" >192</td>\n                        <td id=\"T_ee6da_row19_col4\" class=\"data row19 col4\" >4396</td>\n                        <td id=\"T_ee6da_row19_col5\" class=\"data row19 col5\" >528</td>\n                        <td id=\"T_ee6da_row19_col6\" class=\"data row19 col6\" >250</td>\n                        <td id=\"T_ee6da_row19_col7\" class=\"data row19 col7\" >2.110000</td>\n                        <td id=\"T_ee6da_row19_col8\" class=\"data row19 col8\" >0.021100</td>\n            </tr>\n    </tbody></table>"
     },
     "metadata": {},
     "execution_count": 25
    }
   ],
   "source": [
    "tabela_cidade_reversa('Letalidade',20,corte=500)"
   ]
  },
  {
   "cell_type": "markdown",
   "id": "extreme-fountain",
   "metadata": {},
   "source": [
    "## Top 10 menor letalidade "
   ]
  },
  {
   "cell_type": "code",
   "execution_count": 26,
   "id": "interim-stephen",
   "metadata": {},
   "outputs": [
    {
     "output_type": "display_data",
     "data": {
      "application/vnd.plotly.v1+json": {
       "config": {
        "plotlyServerURL": "https://plot.ly"
       },
       "data": [
        {
         "hovertemplate": "Estado=%{text}<br>Mortalidade100k=%{marker.size}<extra></extra>",
         "legendgroup": "MA",
         "marker": {
          "color": "#636efa",
          "size": [
           117.09726958571657
          ],
          "sizemode": "area",
          "sizeref": 0.024093665191647164,
          "symbol": "circle"
         },
         "mode": "markers+text",
         "name": "MA",
         "orientation": "v",
         "showlegend": true,
         "text": [
          "MA"
         ],
         "type": "scatter",
         "x": [
          "MA"
         ],
         "xaxis": "x",
         "y": [
          117.09726958571657
         ],
         "yaxis": "y"
        },
        {
         "hovertemplate": "Estado=%{text}<br>Mortalidade100k=%{marker.size}<extra></extra>",
         "legendgroup": "AL",
         "marker": {
          "color": "#EF553B",
          "size": [
           145.60457675763075
          ],
          "sizemode": "area",
          "sizeref": 0.024093665191647164,
          "symbol": "circle"
         },
         "mode": "markers+text",
         "name": "AL",
         "orientation": "v",
         "showlegend": true,
         "text": [
          "AL"
         ],
         "type": "scatter",
         "x": [
          "AL"
         ],
         "xaxis": "x",
         "y": [
          145.60457675763075
         ],
         "yaxis": "y"
        },
        {
         "hovertemplate": "Estado=%{text}<br>Mortalidade100k=%{marker.size}<extra></extra>",
         "legendgroup": "BA",
         "marker": {
          "color": "#00cc96",
          "size": [
           146.2027667411846
          ],
          "sizemode": "area",
          "sizeref": 0.024093665191647164,
          "symbol": "circle"
         },
         "mode": "markers+text",
         "name": "BA",
         "orientation": "v",
         "showlegend": true,
         "text": [
          "BA"
         ],
         "type": "scatter",
         "x": [
          "BA"
         ],
         "xaxis": "x",
         "y": [
          146.2027667411846
         ],
         "yaxis": "y"
        },
        {
         "hovertemplate": "Estado=%{text}<br>Mortalidade100k=%{marker.size}<extra></extra>",
         "legendgroup": "PA",
         "marker": {
          "color": "#ab63fa",
          "size": [
           169.8818685854895
          ],
          "sizemode": "area",
          "sizeref": 0.024093665191647164,
          "symbol": "circle"
         },
         "mode": "markers+text",
         "name": "PA",
         "orientation": "v",
         "showlegend": true,
         "text": [
          "PA"
         ],
         "type": "scatter",
         "x": [
          "PA"
         ],
         "xaxis": "x",
         "y": [
          169.8818685854895
         ],
         "yaxis": "y"
        },
        {
         "hovertemplate": "Estado=%{text}<br>Mortalidade100k=%{marker.size}<extra></extra>",
         "legendgroup": "PE",
         "marker": {
          "color": "#FFA15A",
          "size": [
           170.09092902798187
          ],
          "sizemode": "area",
          "sizeref": 0.024093665191647164,
          "symbol": "circle"
         },
         "mode": "markers+text",
         "name": "PE",
         "orientation": "v",
         "showlegend": true,
         "text": [
          "PE"
         ],
         "type": "scatter",
         "x": [
          "PE"
         ],
         "xaxis": "x",
         "y": [
          170.09092902798187
         ],
         "yaxis": "y"
        },
        {
         "hovertemplate": "Estado=%{text}<br>Mortalidade100k=%{marker.size}<extra></extra>",
         "legendgroup": "RN",
         "marker": {
          "color": "#19d3f3",
          "size": [
           178.11845230768796
          ],
          "sizemode": "area",
          "sizeref": 0.024093665191647164,
          "symbol": "circle"
         },
         "mode": "markers+text",
         "name": "RN",
         "orientation": "v",
         "showlegend": true,
         "text": [
          "RN"
         ],
         "type": "scatter",
         "x": [
          "RN"
         ],
         "xaxis": "x",
         "y": [
          178.11845230768796
         ],
         "yaxis": "y"
        },
        {
         "hovertemplate": "Estado=%{text}<br>Mortalidade100k=%{marker.size}<extra></extra>",
         "legendgroup": "TO",
         "marker": {
          "color": "#FF6692",
          "size": [
           185.69430679994568
          ],
          "sizemode": "area",
          "sizeref": 0.024093665191647164,
          "symbol": "circle"
         },
         "mode": "markers+text",
         "name": "TO",
         "orientation": "v",
         "showlegend": true,
         "text": [
          "TO"
         ],
         "type": "scatter",
         "x": [
          "TO"
         ],
         "xaxis": "x",
         "y": [
          185.69430679994568
         ],
         "yaxis": "y"
        },
        {
         "hovertemplate": "Estado=%{text}<br>Mortalidade100k=%{marker.size}<extra></extra>",
         "legendgroup": "PI",
         "marker": {
          "color": "#B6E880",
          "size": [
           186.37931664980437
          ],
          "sizemode": "area",
          "sizeref": 0.024093665191647164,
          "symbol": "circle"
         },
         "mode": "markers+text",
         "name": "PI",
         "orientation": "v",
         "showlegend": true,
         "text": [
          "PI"
         ],
         "type": "scatter",
         "x": [
          "PI"
         ],
         "xaxis": "x",
         "y": [
          186.37931664980437
         ],
         "yaxis": "y"
        },
        {
         "hovertemplate": "Estado=%{text}<br>Mortalidade100k=%{marker.size}<extra></extra>",
         "legendgroup": "AC",
         "marker": {
          "color": "#FF97FF",
          "size": [
           189.16229722629043
          ],
          "sizemode": "area",
          "sizeref": 0.024093665191647164,
          "symbol": "circle"
         },
         "mode": "markers+text",
         "name": "AC",
         "orientation": "v",
         "showlegend": true,
         "text": [
          "AC"
         ],
         "type": "scatter",
         "x": [
          "AC"
         ],
         "xaxis": "x",
         "y": [
          189.16229722629043
         ],
         "yaxis": "y"
        },
        {
         "hovertemplate": "Estado=%{text}<br>Mortalidade100k=%{marker.size}<extra></extra>",
         "legendgroup": "PB",
         "marker": {
          "color": "#FECB52",
          "size": [
           195.15868805234203
          ],
          "sizemode": "area",
          "sizeref": 0.024093665191647164,
          "symbol": "circle"
         },
         "mode": "markers+text",
         "name": "PB",
         "orientation": "v",
         "showlegend": true,
         "text": [
          "PB"
         ],
         "type": "scatter",
         "x": [
          "PB"
         ],
         "xaxis": "x",
         "y": [
          195.15868805234203
         ],
         "yaxis": "y"
        }
       ],
       "layout": {
        "legend": {
         "itemsizing": "constant",
         "title": {
          "text": "Estado"
         },
         "tracegroupgap": 0
        },
        "margin": {
         "t": 60
        },
        "template": {
         "data": {
          "bar": [
           {
            "error_x": {
             "color": "#2a3f5f"
            },
            "error_y": {
             "color": "#2a3f5f"
            },
            "marker": {
             "line": {
              "color": "#E5ECF6",
              "width": 0.5
             }
            },
            "type": "bar"
           }
          ],
          "barpolar": [
           {
            "marker": {
             "line": {
              "color": "#E5ECF6",
              "width": 0.5
             }
            },
            "type": "barpolar"
           }
          ],
          "carpet": [
           {
            "aaxis": {
             "endlinecolor": "#2a3f5f",
             "gridcolor": "white",
             "linecolor": "white",
             "minorgridcolor": "white",
             "startlinecolor": "#2a3f5f"
            },
            "baxis": {
             "endlinecolor": "#2a3f5f",
             "gridcolor": "white",
             "linecolor": "white",
             "minorgridcolor": "white",
             "startlinecolor": "#2a3f5f"
            },
            "type": "carpet"
           }
          ],
          "choropleth": [
           {
            "colorbar": {
             "outlinewidth": 0,
             "ticks": ""
            },
            "type": "choropleth"
           }
          ],
          "contour": [
           {
            "colorbar": {
             "outlinewidth": 0,
             "ticks": ""
            },
            "colorscale": [
             [
              0,
              "#0d0887"
             ],
             [
              0.1111111111111111,
              "#46039f"
             ],
             [
              0.2222222222222222,
              "#7201a8"
             ],
             [
              0.3333333333333333,
              "#9c179e"
             ],
             [
              0.4444444444444444,
              "#bd3786"
             ],
             [
              0.5555555555555556,
              "#d8576b"
             ],
             [
              0.6666666666666666,
              "#ed7953"
             ],
             [
              0.7777777777777778,
              "#fb9f3a"
             ],
             [
              0.8888888888888888,
              "#fdca26"
             ],
             [
              1,
              "#f0f921"
             ]
            ],
            "type": "contour"
           }
          ],
          "contourcarpet": [
           {
            "colorbar": {
             "outlinewidth": 0,
             "ticks": ""
            },
            "type": "contourcarpet"
           }
          ],
          "heatmap": [
           {
            "colorbar": {
             "outlinewidth": 0,
             "ticks": ""
            },
            "colorscale": [
             [
              0,
              "#0d0887"
             ],
             [
              0.1111111111111111,
              "#46039f"
             ],
             [
              0.2222222222222222,
              "#7201a8"
             ],
             [
              0.3333333333333333,
              "#9c179e"
             ],
             [
              0.4444444444444444,
              "#bd3786"
             ],
             [
              0.5555555555555556,
              "#d8576b"
             ],
             [
              0.6666666666666666,
              "#ed7953"
             ],
             [
              0.7777777777777778,
              "#fb9f3a"
             ],
             [
              0.8888888888888888,
              "#fdca26"
             ],
             [
              1,
              "#f0f921"
             ]
            ],
            "type": "heatmap"
           }
          ],
          "heatmapgl": [
           {
            "colorbar": {
             "outlinewidth": 0,
             "ticks": ""
            },
            "colorscale": [
             [
              0,
              "#0d0887"
             ],
             [
              0.1111111111111111,
              "#46039f"
             ],
             [
              0.2222222222222222,
              "#7201a8"
             ],
             [
              0.3333333333333333,
              "#9c179e"
             ],
             [
              0.4444444444444444,
              "#bd3786"
             ],
             [
              0.5555555555555556,
              "#d8576b"
             ],
             [
              0.6666666666666666,
              "#ed7953"
             ],
             [
              0.7777777777777778,
              "#fb9f3a"
             ],
             [
              0.8888888888888888,
              "#fdca26"
             ],
             [
              1,
              "#f0f921"
             ]
            ],
            "type": "heatmapgl"
           }
          ],
          "histogram": [
           {
            "marker": {
             "colorbar": {
              "outlinewidth": 0,
              "ticks": ""
             }
            },
            "type": "histogram"
           }
          ],
          "histogram2d": [
           {
            "colorbar": {
             "outlinewidth": 0,
             "ticks": ""
            },
            "colorscale": [
             [
              0,
              "#0d0887"
             ],
             [
              0.1111111111111111,
              "#46039f"
             ],
             [
              0.2222222222222222,
              "#7201a8"
             ],
             [
              0.3333333333333333,
              "#9c179e"
             ],
             [
              0.4444444444444444,
              "#bd3786"
             ],
             [
              0.5555555555555556,
              "#d8576b"
             ],
             [
              0.6666666666666666,
              "#ed7953"
             ],
             [
              0.7777777777777778,
              "#fb9f3a"
             ],
             [
              0.8888888888888888,
              "#fdca26"
             ],
             [
              1,
              "#f0f921"
             ]
            ],
            "type": "histogram2d"
           }
          ],
          "histogram2dcontour": [
           {
            "colorbar": {
             "outlinewidth": 0,
             "ticks": ""
            },
            "colorscale": [
             [
              0,
              "#0d0887"
             ],
             [
              0.1111111111111111,
              "#46039f"
             ],
             [
              0.2222222222222222,
              "#7201a8"
             ],
             [
              0.3333333333333333,
              "#9c179e"
             ],
             [
              0.4444444444444444,
              "#bd3786"
             ],
             [
              0.5555555555555556,
              "#d8576b"
             ],
             [
              0.6666666666666666,
              "#ed7953"
             ],
             [
              0.7777777777777778,
              "#fb9f3a"
             ],
             [
              0.8888888888888888,
              "#fdca26"
             ],
             [
              1,
              "#f0f921"
             ]
            ],
            "type": "histogram2dcontour"
           }
          ],
          "mesh3d": [
           {
            "colorbar": {
             "outlinewidth": 0,
             "ticks": ""
            },
            "type": "mesh3d"
           }
          ],
          "parcoords": [
           {
            "line": {
             "colorbar": {
              "outlinewidth": 0,
              "ticks": ""
             }
            },
            "type": "parcoords"
           }
          ],
          "pie": [
           {
            "automargin": true,
            "type": "pie"
           }
          ],
          "scatter": [
           {
            "marker": {
             "colorbar": {
              "outlinewidth": 0,
              "ticks": ""
             }
            },
            "type": "scatter"
           }
          ],
          "scatter3d": [
           {
            "line": {
             "colorbar": {
              "outlinewidth": 0,
              "ticks": ""
             }
            },
            "marker": {
             "colorbar": {
              "outlinewidth": 0,
              "ticks": ""
             }
            },
            "type": "scatter3d"
           }
          ],
          "scattercarpet": [
           {
            "marker": {
             "colorbar": {
              "outlinewidth": 0,
              "ticks": ""
             }
            },
            "type": "scattercarpet"
           }
          ],
          "scattergeo": [
           {
            "marker": {
             "colorbar": {
              "outlinewidth": 0,
              "ticks": ""
             }
            },
            "type": "scattergeo"
           }
          ],
          "scattergl": [
           {
            "marker": {
             "colorbar": {
              "outlinewidth": 0,
              "ticks": ""
             }
            },
            "type": "scattergl"
           }
          ],
          "scattermapbox": [
           {
            "marker": {
             "colorbar": {
              "outlinewidth": 0,
              "ticks": ""
             }
            },
            "type": "scattermapbox"
           }
          ],
          "scatterpolar": [
           {
            "marker": {
             "colorbar": {
              "outlinewidth": 0,
              "ticks": ""
             }
            },
            "type": "scatterpolar"
           }
          ],
          "scatterpolargl": [
           {
            "marker": {
             "colorbar": {
              "outlinewidth": 0,
              "ticks": ""
             }
            },
            "type": "scatterpolargl"
           }
          ],
          "scatterternary": [
           {
            "marker": {
             "colorbar": {
              "outlinewidth": 0,
              "ticks": ""
             }
            },
            "type": "scatterternary"
           }
          ],
          "surface": [
           {
            "colorbar": {
             "outlinewidth": 0,
             "ticks": ""
            },
            "colorscale": [
             [
              0,
              "#0d0887"
             ],
             [
              0.1111111111111111,
              "#46039f"
             ],
             [
              0.2222222222222222,
              "#7201a8"
             ],
             [
              0.3333333333333333,
              "#9c179e"
             ],
             [
              0.4444444444444444,
              "#bd3786"
             ],
             [
              0.5555555555555556,
              "#d8576b"
             ],
             [
              0.6666666666666666,
              "#ed7953"
             ],
             [
              0.7777777777777778,
              "#fb9f3a"
             ],
             [
              0.8888888888888888,
              "#fdca26"
             ],
             [
              1,
              "#f0f921"
             ]
            ],
            "type": "surface"
           }
          ],
          "table": [
           {
            "cells": {
             "fill": {
              "color": "#EBF0F8"
             },
             "line": {
              "color": "white"
             }
            },
            "header": {
             "fill": {
              "color": "#C8D4E3"
             },
             "line": {
              "color": "white"
             }
            },
            "type": "table"
           }
          ]
         },
         "layout": {
          "annotationdefaults": {
           "arrowcolor": "#2a3f5f",
           "arrowhead": 0,
           "arrowwidth": 1
          },
          "autotypenumbers": "strict",
          "coloraxis": {
           "colorbar": {
            "outlinewidth": 0,
            "ticks": ""
           }
          },
          "colorscale": {
           "diverging": [
            [
             0,
             "#8e0152"
            ],
            [
             0.1,
             "#c51b7d"
            ],
            [
             0.2,
             "#de77ae"
            ],
            [
             0.3,
             "#f1b6da"
            ],
            [
             0.4,
             "#fde0ef"
            ],
            [
             0.5,
             "#f7f7f7"
            ],
            [
             0.6,
             "#e6f5d0"
            ],
            [
             0.7,
             "#b8e186"
            ],
            [
             0.8,
             "#7fbc41"
            ],
            [
             0.9,
             "#4d9221"
            ],
            [
             1,
             "#276419"
            ]
           ],
           "sequential": [
            [
             0,
             "#0d0887"
            ],
            [
             0.1111111111111111,
             "#46039f"
            ],
            [
             0.2222222222222222,
             "#7201a8"
            ],
            [
             0.3333333333333333,
             "#9c179e"
            ],
            [
             0.4444444444444444,
             "#bd3786"
            ],
            [
             0.5555555555555556,
             "#d8576b"
            ],
            [
             0.6666666666666666,
             "#ed7953"
            ],
            [
             0.7777777777777778,
             "#fb9f3a"
            ],
            [
             0.8888888888888888,
             "#fdca26"
            ],
            [
             1,
             "#f0f921"
            ]
           ],
           "sequentialminus": [
            [
             0,
             "#0d0887"
            ],
            [
             0.1111111111111111,
             "#46039f"
            ],
            [
             0.2222222222222222,
             "#7201a8"
            ],
            [
             0.3333333333333333,
             "#9c179e"
            ],
            [
             0.4444444444444444,
             "#bd3786"
            ],
            [
             0.5555555555555556,
             "#d8576b"
            ],
            [
             0.6666666666666666,
             "#ed7953"
            ],
            [
             0.7777777777777778,
             "#fb9f3a"
            ],
            [
             0.8888888888888888,
             "#fdca26"
            ],
            [
             1,
             "#f0f921"
            ]
           ]
          },
          "colorway": [
           "#636efa",
           "#EF553B",
           "#00cc96",
           "#ab63fa",
           "#FFA15A",
           "#19d3f3",
           "#FF6692",
           "#B6E880",
           "#FF97FF",
           "#FECB52"
          ],
          "font": {
           "color": "#2a3f5f"
          },
          "geo": {
           "bgcolor": "white",
           "lakecolor": "white",
           "landcolor": "#E5ECF6",
           "showlakes": true,
           "showland": true,
           "subunitcolor": "white"
          },
          "hoverlabel": {
           "align": "left"
          },
          "hovermode": "closest",
          "mapbox": {
           "style": "light"
          },
          "paper_bgcolor": "white",
          "plot_bgcolor": "#E5ECF6",
          "polar": {
           "angularaxis": {
            "gridcolor": "white",
            "linecolor": "white",
            "ticks": ""
           },
           "bgcolor": "#E5ECF6",
           "radialaxis": {
            "gridcolor": "white",
            "linecolor": "white",
            "ticks": ""
           }
          },
          "scene": {
           "xaxis": {
            "backgroundcolor": "#E5ECF6",
            "gridcolor": "white",
            "gridwidth": 2,
            "linecolor": "white",
            "showbackground": true,
            "ticks": "",
            "zerolinecolor": "white"
           },
           "yaxis": {
            "backgroundcolor": "#E5ECF6",
            "gridcolor": "white",
            "gridwidth": 2,
            "linecolor": "white",
            "showbackground": true,
            "ticks": "",
            "zerolinecolor": "white"
           },
           "zaxis": {
            "backgroundcolor": "#E5ECF6",
            "gridcolor": "white",
            "gridwidth": 2,
            "linecolor": "white",
            "showbackground": true,
            "ticks": "",
            "zerolinecolor": "white"
           }
          },
          "shapedefaults": {
           "line": {
            "color": "#2a3f5f"
           }
          },
          "ternary": {
           "aaxis": {
            "gridcolor": "white",
            "linecolor": "white",
            "ticks": ""
           },
           "baxis": {
            "gridcolor": "white",
            "linecolor": "white",
            "ticks": ""
           },
           "bgcolor": "#E5ECF6",
           "caxis": {
            "gridcolor": "white",
            "linecolor": "white",
            "ticks": ""
           }
          },
          "title": {
           "x": 0.05
          },
          "xaxis": {
           "automargin": true,
           "gridcolor": "white",
           "linecolor": "white",
           "ticks": "",
           "title": {
            "standoff": 15
           },
           "zerolinecolor": "white",
           "zerolinewidth": 2
          },
          "yaxis": {
           "automargin": true,
           "gridcolor": "white",
           "linecolor": "white",
           "ticks": "",
           "title": {
            "standoff": 15
           },
           "zerolinecolor": "white",
           "zerolinewidth": 2
          }
         }
        },
        "title": {
         "text": "Os top 10 piores estados por Mortalidade100k"
        },
        "width": 700,
        "xaxis": {
         "anchor": "y",
         "categoryarray": [
          "MA",
          "AL",
          "BA",
          "PA",
          "PE",
          "RN",
          "TO",
          "PI",
          "AC",
          "PB"
         ],
         "categoryorder": "array",
         "domain": [
          0,
          1
         ],
         "title": {
          "text": "Estados"
         }
        },
        "yaxis": {
         "anchor": "x",
         "domain": [
          0,
          1
         ],
         "title": {
          "text": "Mortalidade100k"
         }
        }
       }
      }
     },
     "metadata": {}
    }
   ],
   "source": [
    "def covid_bubble_chart(df, column, n, asc=False):\n",
    "    df = df.sort_values(column,ascending=asc).copy().head(n)\n",
    "    fig = px.scatter(df, x=\"Estado\", y=column, size=column, color=\"Estado\",\n",
    "               text=\"Estado\", size_max=90)\n",
    "    fig.update_layout(\n",
    "    title=\"Os top \" + str(n) + ' piores estados por '  + column,\n",
    "    xaxis_title=\"Estados\",\n",
    "    yaxis_title=column,\n",
    "    width = 700\n",
    "    )\n",
    "    fig.show();\n",
    "    \n",
    "covid_bubble_chart(df_states, 'Mortalidade100k',10, True)\n"
   ]
  },
  {
   "cell_type": "code",
   "execution_count": 27,
   "id": "owned-little",
   "metadata": {},
   "outputs": [
    {
     "output_type": "display_data",
     "data": {
      "application/vnd.plotly.v1+json": {
       "config": {
        "plotlyServerURL": "https://plot.ly"
       },
       "data": [
        {
         "hovertemplate": "Estado=%{text}<br>Mortes=%{marker.size}<extra></extra>",
         "legendgroup": "SP",
         "marker": {
          "color": "#636efa",
          "size": [
           114542
          ],
          "sizemode": "area",
          "sizeref": 14.140987654320988,
          "symbol": "circle"
         },
         "mode": "markers+text",
         "name": "SP",
         "orientation": "v",
         "showlegend": true,
         "text": [
          "SP"
         ],
         "type": "scatter",
         "x": [
          "SP"
         ],
         "xaxis": "x",
         "y": [
          114542
         ],
         "yaxis": "y"
        },
        {
         "hovertemplate": "Estado=%{text}<br>Mortes=%{marker.size}<extra></extra>",
         "legendgroup": "RJ",
         "marker": {
          "color": "#EF553B",
          "size": [
           51540
          ],
          "sizemode": "area",
          "sizeref": 14.140987654320988,
          "symbol": "circle"
         },
         "mode": "markers+text",
         "name": "RJ",
         "orientation": "v",
         "showlegend": true,
         "text": [
          "RJ"
         ],
         "type": "scatter",
         "x": [
          "RJ"
         ],
         "xaxis": "x",
         "y": [
          51540
         ],
         "yaxis": "y"
        },
        {
         "hovertemplate": "Estado=%{text}<br>Mortes=%{marker.size}<extra></extra>",
         "legendgroup": "MG",
         "marker": {
          "color": "#00cc96",
          "size": [
           41673
          ],
          "sizemode": "area",
          "sizeref": 14.140987654320988,
          "symbol": "circle"
         },
         "mode": "markers+text",
         "name": "MG",
         "orientation": "v",
         "showlegend": true,
         "text": [
          "MG"
         ],
         "type": "scatter",
         "x": [
          "MG"
         ],
         "xaxis": "x",
         "y": [
          41673
         ],
         "yaxis": "y"
        },
        {
         "hovertemplate": "Estado=%{text}<br>Mortes=%{marker.size}<extra></extra>",
         "legendgroup": "RS",
         "marker": {
          "color": "#ab63fa",
          "size": [
           28866
          ],
          "sizemode": "area",
          "sizeref": 14.140987654320988,
          "symbol": "circle"
         },
         "mode": "markers+text",
         "name": "RS",
         "orientation": "v",
         "showlegend": true,
         "text": [
          "RS"
         ],
         "type": "scatter",
         "x": [
          "RS"
         ],
         "xaxis": "x",
         "y": [
          28866
         ],
         "yaxis": "y"
        },
        {
         "hovertemplate": "Estado=%{text}<br>Mortes=%{marker.size}<extra></extra>",
         "legendgroup": "PR",
         "marker": {
          "color": "#FFA15A",
          "size": [
           27168
          ],
          "sizemode": "area",
          "sizeref": 14.140987654320988,
          "symbol": "circle"
         },
         "mode": "markers+text",
         "name": "PR",
         "orientation": "v",
         "showlegend": true,
         "text": [
          "PR"
         ],
         "type": "scatter",
         "x": [
          "PR"
         ],
         "xaxis": "x",
         "y": [
          27168
         ],
         "yaxis": "y"
        },
        {
         "hovertemplate": "Estado=%{text}<br>Mortes=%{marker.size}<extra></extra>",
         "legendgroup": "BA",
         "marker": {
          "color": "#19d3f3",
          "size": [
           21829
          ],
          "sizemode": "area",
          "sizeref": 14.140987654320988,
          "symbol": "circle"
         },
         "mode": "markers+text",
         "name": "BA",
         "orientation": "v",
         "showlegend": true,
         "text": [
          "BA"
         ],
         "type": "scatter",
         "x": [
          "BA"
         ],
         "xaxis": "x",
         "y": [
          21829
         ],
         "yaxis": "y"
        },
        {
         "hovertemplate": "Estado=%{text}<br>Mortes=%{marker.size}<extra></extra>",
         "legendgroup": "CE",
         "marker": {
          "color": "#FF6692",
          "size": [
           20914
          ],
          "sizemode": "area",
          "sizeref": 14.140987654320988,
          "symbol": "circle"
         },
         "mode": "markers+text",
         "name": "CE",
         "orientation": "v",
         "showlegend": true,
         "text": [
          "CE"
         ],
         "type": "scatter",
         "x": [
          "CE"
         ],
         "xaxis": "x",
         "y": [
          20914
         ],
         "yaxis": "y"
        },
        {
         "hovertemplate": "Estado=%{text}<br>Mortes=%{marker.size}<extra></extra>",
         "legendgroup": "GO",
         "marker": {
          "color": "#B6E880",
          "size": [
           17572
          ],
          "sizemode": "area",
          "sizeref": 14.140987654320988,
          "symbol": "circle"
         },
         "mode": "markers+text",
         "name": "GO",
         "orientation": "v",
         "showlegend": true,
         "text": [
          "GO"
         ],
         "type": "scatter",
         "x": [
          "GO"
         ],
         "xaxis": "x",
         "y": [
          17572
         ],
         "yaxis": "y"
        },
        {
         "hovertemplate": "Estado=%{text}<br>Mortes=%{marker.size}<extra></extra>",
         "legendgroup": "PE",
         "marker": {
          "color": "#FF97FF",
          "size": [
           16357
          ],
          "sizemode": "area",
          "sizeref": 14.140987654320988,
          "symbol": "circle"
         },
         "mode": "markers+text",
         "name": "PE",
         "orientation": "v",
         "showlegend": true,
         "text": [
          "PE"
         ],
         "type": "scatter",
         "x": [
          "PE"
         ],
         "xaxis": "x",
         "y": [
          16357
         ],
         "yaxis": "y"
        },
        {
         "hovertemplate": "Estado=%{text}<br>Mortes=%{marker.size}<extra></extra>",
         "legendgroup": "SC",
         "marker": {
          "color": "#FECB52",
          "size": [
           15663
          ],
          "sizemode": "area",
          "sizeref": 14.140987654320988,
          "symbol": "circle"
         },
         "mode": "markers+text",
         "name": "SC",
         "orientation": "v",
         "showlegend": true,
         "text": [
          "SC"
         ],
         "type": "scatter",
         "x": [
          "SC"
         ],
         "xaxis": "x",
         "y": [
          15663
         ],
         "yaxis": "y"
        }
       ],
       "layout": {
        "legend": {
         "itemsizing": "constant",
         "title": {
          "text": "Estado"
         },
         "tracegroupgap": 0
        },
        "margin": {
         "t": 60
        },
        "template": {
         "data": {
          "bar": [
           {
            "error_x": {
             "color": "#2a3f5f"
            },
            "error_y": {
             "color": "#2a3f5f"
            },
            "marker": {
             "line": {
              "color": "#E5ECF6",
              "width": 0.5
             }
            },
            "type": "bar"
           }
          ],
          "barpolar": [
           {
            "marker": {
             "line": {
              "color": "#E5ECF6",
              "width": 0.5
             }
            },
            "type": "barpolar"
           }
          ],
          "carpet": [
           {
            "aaxis": {
             "endlinecolor": "#2a3f5f",
             "gridcolor": "white",
             "linecolor": "white",
             "minorgridcolor": "white",
             "startlinecolor": "#2a3f5f"
            },
            "baxis": {
             "endlinecolor": "#2a3f5f",
             "gridcolor": "white",
             "linecolor": "white",
             "minorgridcolor": "white",
             "startlinecolor": "#2a3f5f"
            },
            "type": "carpet"
           }
          ],
          "choropleth": [
           {
            "colorbar": {
             "outlinewidth": 0,
             "ticks": ""
            },
            "type": "choropleth"
           }
          ],
          "contour": [
           {
            "colorbar": {
             "outlinewidth": 0,
             "ticks": ""
            },
            "colorscale": [
             [
              0,
              "#0d0887"
             ],
             [
              0.1111111111111111,
              "#46039f"
             ],
             [
              0.2222222222222222,
              "#7201a8"
             ],
             [
              0.3333333333333333,
              "#9c179e"
             ],
             [
              0.4444444444444444,
              "#bd3786"
             ],
             [
              0.5555555555555556,
              "#d8576b"
             ],
             [
              0.6666666666666666,
              "#ed7953"
             ],
             [
              0.7777777777777778,
              "#fb9f3a"
             ],
             [
              0.8888888888888888,
              "#fdca26"
             ],
             [
              1,
              "#f0f921"
             ]
            ],
            "type": "contour"
           }
          ],
          "contourcarpet": [
           {
            "colorbar": {
             "outlinewidth": 0,
             "ticks": ""
            },
            "type": "contourcarpet"
           }
          ],
          "heatmap": [
           {
            "colorbar": {
             "outlinewidth": 0,
             "ticks": ""
            },
            "colorscale": [
             [
              0,
              "#0d0887"
             ],
             [
              0.1111111111111111,
              "#46039f"
             ],
             [
              0.2222222222222222,
              "#7201a8"
             ],
             [
              0.3333333333333333,
              "#9c179e"
             ],
             [
              0.4444444444444444,
              "#bd3786"
             ],
             [
              0.5555555555555556,
              "#d8576b"
             ],
             [
              0.6666666666666666,
              "#ed7953"
             ],
             [
              0.7777777777777778,
              "#fb9f3a"
             ],
             [
              0.8888888888888888,
              "#fdca26"
             ],
             [
              1,
              "#f0f921"
             ]
            ],
            "type": "heatmap"
           }
          ],
          "heatmapgl": [
           {
            "colorbar": {
             "outlinewidth": 0,
             "ticks": ""
            },
            "colorscale": [
             [
              0,
              "#0d0887"
             ],
             [
              0.1111111111111111,
              "#46039f"
             ],
             [
              0.2222222222222222,
              "#7201a8"
             ],
             [
              0.3333333333333333,
              "#9c179e"
             ],
             [
              0.4444444444444444,
              "#bd3786"
             ],
             [
              0.5555555555555556,
              "#d8576b"
             ],
             [
              0.6666666666666666,
              "#ed7953"
             ],
             [
              0.7777777777777778,
              "#fb9f3a"
             ],
             [
              0.8888888888888888,
              "#fdca26"
             ],
             [
              1,
              "#f0f921"
             ]
            ],
            "type": "heatmapgl"
           }
          ],
          "histogram": [
           {
            "marker": {
             "colorbar": {
              "outlinewidth": 0,
              "ticks": ""
             }
            },
            "type": "histogram"
           }
          ],
          "histogram2d": [
           {
            "colorbar": {
             "outlinewidth": 0,
             "ticks": ""
            },
            "colorscale": [
             [
              0,
              "#0d0887"
             ],
             [
              0.1111111111111111,
              "#46039f"
             ],
             [
              0.2222222222222222,
              "#7201a8"
             ],
             [
              0.3333333333333333,
              "#9c179e"
             ],
             [
              0.4444444444444444,
              "#bd3786"
             ],
             [
              0.5555555555555556,
              "#d8576b"
             ],
             [
              0.6666666666666666,
              "#ed7953"
             ],
             [
              0.7777777777777778,
              "#fb9f3a"
             ],
             [
              0.8888888888888888,
              "#fdca26"
             ],
             [
              1,
              "#f0f921"
             ]
            ],
            "type": "histogram2d"
           }
          ],
          "histogram2dcontour": [
           {
            "colorbar": {
             "outlinewidth": 0,
             "ticks": ""
            },
            "colorscale": [
             [
              0,
              "#0d0887"
             ],
             [
              0.1111111111111111,
              "#46039f"
             ],
             [
              0.2222222222222222,
              "#7201a8"
             ],
             [
              0.3333333333333333,
              "#9c179e"
             ],
             [
              0.4444444444444444,
              "#bd3786"
             ],
             [
              0.5555555555555556,
              "#d8576b"
             ],
             [
              0.6666666666666666,
              "#ed7953"
             ],
             [
              0.7777777777777778,
              "#fb9f3a"
             ],
             [
              0.8888888888888888,
              "#fdca26"
             ],
             [
              1,
              "#f0f921"
             ]
            ],
            "type": "histogram2dcontour"
           }
          ],
          "mesh3d": [
           {
            "colorbar": {
             "outlinewidth": 0,
             "ticks": ""
            },
            "type": "mesh3d"
           }
          ],
          "parcoords": [
           {
            "line": {
             "colorbar": {
              "outlinewidth": 0,
              "ticks": ""
             }
            },
            "type": "parcoords"
           }
          ],
          "pie": [
           {
            "automargin": true,
            "type": "pie"
           }
          ],
          "scatter": [
           {
            "marker": {
             "colorbar": {
              "outlinewidth": 0,
              "ticks": ""
             }
            },
            "type": "scatter"
           }
          ],
          "scatter3d": [
           {
            "line": {
             "colorbar": {
              "outlinewidth": 0,
              "ticks": ""
             }
            },
            "marker": {
             "colorbar": {
              "outlinewidth": 0,
              "ticks": ""
             }
            },
            "type": "scatter3d"
           }
          ],
          "scattercarpet": [
           {
            "marker": {
             "colorbar": {
              "outlinewidth": 0,
              "ticks": ""
             }
            },
            "type": "scattercarpet"
           }
          ],
          "scattergeo": [
           {
            "marker": {
             "colorbar": {
              "outlinewidth": 0,
              "ticks": ""
             }
            },
            "type": "scattergeo"
           }
          ],
          "scattergl": [
           {
            "marker": {
             "colorbar": {
              "outlinewidth": 0,
              "ticks": ""
             }
            },
            "type": "scattergl"
           }
          ],
          "scattermapbox": [
           {
            "marker": {
             "colorbar": {
              "outlinewidth": 0,
              "ticks": ""
             }
            },
            "type": "scattermapbox"
           }
          ],
          "scatterpolar": [
           {
            "marker": {
             "colorbar": {
              "outlinewidth": 0,
              "ticks": ""
             }
            },
            "type": "scatterpolar"
           }
          ],
          "scatterpolargl": [
           {
            "marker": {
             "colorbar": {
              "outlinewidth": 0,
              "ticks": ""
             }
            },
            "type": "scatterpolargl"
           }
          ],
          "scatterternary": [
           {
            "marker": {
             "colorbar": {
              "outlinewidth": 0,
              "ticks": ""
             }
            },
            "type": "scatterternary"
           }
          ],
          "surface": [
           {
            "colorbar": {
             "outlinewidth": 0,
             "ticks": ""
            },
            "colorscale": [
             [
              0,
              "#0d0887"
             ],
             [
              0.1111111111111111,
              "#46039f"
             ],
             [
              0.2222222222222222,
              "#7201a8"
             ],
             [
              0.3333333333333333,
              "#9c179e"
             ],
             [
              0.4444444444444444,
              "#bd3786"
             ],
             [
              0.5555555555555556,
              "#d8576b"
             ],
             [
              0.6666666666666666,
              "#ed7953"
             ],
             [
              0.7777777777777778,
              "#fb9f3a"
             ],
             [
              0.8888888888888888,
              "#fdca26"
             ],
             [
              1,
              "#f0f921"
             ]
            ],
            "type": "surface"
           }
          ],
          "table": [
           {
            "cells": {
             "fill": {
              "color": "#EBF0F8"
             },
             "line": {
              "color": "white"
             }
            },
            "header": {
             "fill": {
              "color": "#C8D4E3"
             },
             "line": {
              "color": "white"
             }
            },
            "type": "table"
           }
          ]
         },
         "layout": {
          "annotationdefaults": {
           "arrowcolor": "#2a3f5f",
           "arrowhead": 0,
           "arrowwidth": 1
          },
          "autotypenumbers": "strict",
          "coloraxis": {
           "colorbar": {
            "outlinewidth": 0,
            "ticks": ""
           }
          },
          "colorscale": {
           "diverging": [
            [
             0,
             "#8e0152"
            ],
            [
             0.1,
             "#c51b7d"
            ],
            [
             0.2,
             "#de77ae"
            ],
            [
             0.3,
             "#f1b6da"
            ],
            [
             0.4,
             "#fde0ef"
            ],
            [
             0.5,
             "#f7f7f7"
            ],
            [
             0.6,
             "#e6f5d0"
            ],
            [
             0.7,
             "#b8e186"
            ],
            [
             0.8,
             "#7fbc41"
            ],
            [
             0.9,
             "#4d9221"
            ],
            [
             1,
             "#276419"
            ]
           ],
           "sequential": [
            [
             0,
             "#0d0887"
            ],
            [
             0.1111111111111111,
             "#46039f"
            ],
            [
             0.2222222222222222,
             "#7201a8"
            ],
            [
             0.3333333333333333,
             "#9c179e"
            ],
            [
             0.4444444444444444,
             "#bd3786"
            ],
            [
             0.5555555555555556,
             "#d8576b"
            ],
            [
             0.6666666666666666,
             "#ed7953"
            ],
            [
             0.7777777777777778,
             "#fb9f3a"
            ],
            [
             0.8888888888888888,
             "#fdca26"
            ],
            [
             1,
             "#f0f921"
            ]
           ],
           "sequentialminus": [
            [
             0,
             "#0d0887"
            ],
            [
             0.1111111111111111,
             "#46039f"
            ],
            [
             0.2222222222222222,
             "#7201a8"
            ],
            [
             0.3333333333333333,
             "#9c179e"
            ],
            [
             0.4444444444444444,
             "#bd3786"
            ],
            [
             0.5555555555555556,
             "#d8576b"
            ],
            [
             0.6666666666666666,
             "#ed7953"
            ],
            [
             0.7777777777777778,
             "#fb9f3a"
            ],
            [
             0.8888888888888888,
             "#fdca26"
            ],
            [
             1,
             "#f0f921"
            ]
           ]
          },
          "colorway": [
           "#636efa",
           "#EF553B",
           "#00cc96",
           "#ab63fa",
           "#FFA15A",
           "#19d3f3",
           "#FF6692",
           "#B6E880",
           "#FF97FF",
           "#FECB52"
          ],
          "font": {
           "color": "#2a3f5f"
          },
          "geo": {
           "bgcolor": "white",
           "lakecolor": "white",
           "landcolor": "#E5ECF6",
           "showlakes": true,
           "showland": true,
           "subunitcolor": "white"
          },
          "hoverlabel": {
           "align": "left"
          },
          "hovermode": "closest",
          "mapbox": {
           "style": "light"
          },
          "paper_bgcolor": "white",
          "plot_bgcolor": "#E5ECF6",
          "polar": {
           "angularaxis": {
            "gridcolor": "white",
            "linecolor": "white",
            "ticks": ""
           },
           "bgcolor": "#E5ECF6",
           "radialaxis": {
            "gridcolor": "white",
            "linecolor": "white",
            "ticks": ""
           }
          },
          "scene": {
           "xaxis": {
            "backgroundcolor": "#E5ECF6",
            "gridcolor": "white",
            "gridwidth": 2,
            "linecolor": "white",
            "showbackground": true,
            "ticks": "",
            "zerolinecolor": "white"
           },
           "yaxis": {
            "backgroundcolor": "#E5ECF6",
            "gridcolor": "white",
            "gridwidth": 2,
            "linecolor": "white",
            "showbackground": true,
            "ticks": "",
            "zerolinecolor": "white"
           },
           "zaxis": {
            "backgroundcolor": "#E5ECF6",
            "gridcolor": "white",
            "gridwidth": 2,
            "linecolor": "white",
            "showbackground": true,
            "ticks": "",
            "zerolinecolor": "white"
           }
          },
          "shapedefaults": {
           "line": {
            "color": "#2a3f5f"
           }
          },
          "ternary": {
           "aaxis": {
            "gridcolor": "white",
            "linecolor": "white",
            "ticks": ""
           },
           "baxis": {
            "gridcolor": "white",
            "linecolor": "white",
            "ticks": ""
           },
           "bgcolor": "#E5ECF6",
           "caxis": {
            "gridcolor": "white",
            "linecolor": "white",
            "ticks": ""
           }
          },
          "title": {
           "x": 0.05
          },
          "xaxis": {
           "automargin": true,
           "gridcolor": "white",
           "linecolor": "white",
           "ticks": "",
           "title": {
            "standoff": 15
           },
           "zerolinecolor": "white",
           "zerolinewidth": 2
          },
          "yaxis": {
           "automargin": true,
           "gridcolor": "white",
           "linecolor": "white",
           "ticks": "",
           "title": {
            "standoff": 15
           },
           "zerolinecolor": "white",
           "zerolinewidth": 2
          }
         }
        },
        "title": {
         "text": "Os top 10 piores estados por Mortes"
        },
        "width": 700,
        "xaxis": {
         "anchor": "y",
         "categoryarray": [
          "SP",
          "RJ",
          "MG",
          "RS",
          "PR",
          "BA",
          "CE",
          "GO",
          "PE",
          "SC"
         ],
         "categoryorder": "array",
         "domain": [
          0,
          1
         ],
         "title": {
          "text": "Estados"
         }
        },
        "yaxis": {
         "anchor": "x",
         "domain": [
          0,
          1
         ],
         "title": {
          "text": "Mortes"
         }
        }
       }
      }
     },
     "metadata": {}
    }
   ],
   "source": [
    "covid_bubble_chart(df_states, 'Mortes',10)"
   ]
  },
  {
   "cell_type": "code",
   "execution_count": 28,
   "metadata": {},
   "outputs": [
    {
     "output_type": "stream",
     "name": "stderr",
     "text": [
      "<ipython-input-21-ae56beb4e606>:2: UserWarning:\n\nBoolean Series key will be reindexed to match DataFrame index.\n\n"
     ]
    },
    {
     "output_type": "execute_result",
     "data": {
      "text/plain": [
       "              Cidade Estado  Confirmados  Mortes  Letalidade  Mortalidade  \\\n",
       "1735971  Porto Feliz     SP         6255      97      0.0155     0.001816   \n",
       "\n",
       "         Mortalidade100k  Ltemp  Letalidade_rank  Mortalidade_rank  rank  \n",
       "1735971       181.641137   1.55              136              3328  2130  "
      ],
      "text/html": "<div>\n<style scoped>\n    .dataframe tbody tr th:only-of-type {\n        vertical-align: middle;\n    }\n\n    .dataframe tbody tr th {\n        vertical-align: top;\n    }\n\n    .dataframe thead th {\n        text-align: right;\n    }\n</style>\n<table border=\"1\" class=\"dataframe\">\n  <thead>\n    <tr style=\"text-align: right;\">\n      <th></th>\n      <th>Cidade</th>\n      <th>Estado</th>\n      <th>Confirmados</th>\n      <th>Mortes</th>\n      <th>Letalidade</th>\n      <th>Mortalidade</th>\n      <th>Mortalidade100k</th>\n      <th>Ltemp</th>\n      <th>Letalidade_rank</th>\n      <th>Mortalidade_rank</th>\n      <th>rank</th>\n    </tr>\n  </thead>\n  <tbody>\n    <tr>\n      <th>1735971</th>\n      <td>Porto Feliz</td>\n      <td>SP</td>\n      <td>6255</td>\n      <td>97</td>\n      <td>0.0155</td>\n      <td>0.001816</td>\n      <td>181.641137</td>\n      <td>1.55</td>\n      <td>136</td>\n      <td>3328</td>\n      <td>2130</td>\n    </tr>\n  </tbody>\n</table>\n</div>"
     },
     "metadata": {},
     "execution_count": 28
    }
   ],
   "source": [
    "search_city(\"Porto Feliz\")"
   ]
  },
  {
   "cell_type": "code",
   "execution_count": null,
   "metadata": {},
   "outputs": [],
   "source": []
  }
 ],
 "metadata": {
  "kernelspec": {
   "name": "python392jvsc74a57bd0bbe7680b2b30b216ed0cc3b9a3c8fc997d33d7b831405bc81c4b7bb7fbbb8edf",
   "display_name": "Python 3.9.2 64-bit"
  },
  "language_info": {
   "codemirror_mode": {
    "name": "ipython",
    "version": 3
   },
   "file_extension": ".py",
   "mimetype": "text/x-python",
   "name": "python",
   "nbconvert_exporter": "python",
   "pygments_lexer": "ipython3",
   "version": "3.9.2"
  }
 },
 "nbformat": 4,
 "nbformat_minor": 5
}