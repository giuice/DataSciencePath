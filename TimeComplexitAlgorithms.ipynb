{
 "cells": [
  {
   "cell_type": "markdown",
   "metadata": {},
   "source": [
    "# Time Complexit of Algorithms\n",
    "\n",
    "Being a good programmer is a big part of what makes a good data engineer. Even though programming is not strictly related to working with data, a study on LinkedIn job postings showed that about 50% of job postings for data engineering positions explicitly mention that they are looking for candidates that are good programmers. Moreover, most job interview processes have a generic coding interview and there, again, it is important to be a good programmer and problem solver.\n",
    "\n",
    "In this course, you will learn how to analyze how good an algorithm is in terms of speed and memory. Simply put, an algorithm is a program or function that solves some specific problem. For example, a sorting algorithm is an algorithm that, given a list of values, outputs that same list of values but rearranges them in increasing order. There are numerous ways to write a Python function that sorts data. After completing this course, you will be able to compare different solutions of the same problem, for instance, sorting, and select the best in each given context.\n",
    "\n",
    "Moore's law predicts that every two years, the speed of computers doubles. However, despite this, if our algorithms are poorly designed, these algorithms take longer to execute over time. The reason for this phenomena is that the speed of computers is not the only thing that is increasing over time: data is also growing, and it seems that it is growing at the same rate as the speed of computers!\n",
    "\n",
    "Since both speed and data are growing at the same rate, shouldn't the computation time remain the same? After all, we double the amount of data that we want to process every two years, but we do it on a computer that is twice as fast. Well, that depends on the algorithm.\n",
    "\n",
    "For some algorithms, the execution time is proportional to the amount of data that it processes. This means that for such algorithms, the execution time will remain somewhat the same over time. However, not all algorithms exhibit this property. The goal of this course, is to learn how to analyze the way the execution time of an algorithm changes with the data given to it.\n",
    "\n",
    "Let's start by writing an algorithm that, given a list of numbers, outputs the maximum value of that list. After all, before we can start analyzing algorithms, we need to have some algorithm to analyze."
   ]
  },
  {
   "cell_type": "code",
   "execution_count": 1,
   "metadata": {},
   "outputs": [
    {
     "data": {
      "text/plain": [
       "6"
      ]
     },
     "execution_count": 1,
     "metadata": {},
     "output_type": "execute_result"
    }
   ],
   "source": [
    "test_values = [4, 3, 5, 6, 2, 1]\n",
    "\n",
    "def maximum(values):\n",
    "    answer = None\n",
    "    for value in values:\n",
    "        if answer == None or answer < value:\n",
    "            answer = value\n",
    "    return answer\n",
    "max_value = maximum(test_values)\n",
    "max_value"
   ]
  },
  {
   "cell_type": "markdown",
   "metadata": {},
   "source": [
    "Intuitively, the more data an algorithm needs to process, the more time it will take to run. What we are interested in is building a model that tells us by how much the time grows. We call these models the time complexity of an algorithm. By analyzing the time complexity of an algorithm, we want to be able to answer questions like:\n",
    "\n",
    "If we double the data, do we double the execution time, do we quadruple it, or something else entirely?\n",
    "\n",
    "Our starting point will be measuring execution times because it will help us build valuable intuition. Let's start by learning how to measure the execution time of a Python function.\n",
    "\n",
    "Python offers a few different ways to do this. In this mission, we will use the time module. Calling the time.time() function we get total number of seconds that have passed from January 1, 1970, until now (depending on your OS, this date might change but that does not matter for what follows)."
   ]
  },
  {
   "cell_type": "code",
   "execution_count": 2,
   "metadata": {
    "scrolled": true
   },
   "outputs": [
    {
     "name": "stdout",
     "output_type": "stream",
     "text": [
      "1585764483.6162567\n"
     ]
    }
   ],
   "source": [
    "import time\n",
    "print(time.time())"
   ]
  },
  {
   "cell_type": "markdown",
   "metadata": {},
   "source": [
    "As we said, the number that we get is the total number of seconds that have passed between January 1, 1970, and now.\n",
    "\n",
    "Using the time.time() function, we can measure the time a Python function takes to execute by computing the difference between the time just after the function finishes executing and the time just before it started executing. If we call the time just before the execution start and the time just after end, then the execution time of the function will be end - start — as shown in blue on the following diagram:\n",
    "<img src='images/time.png' />\n",
    "Concretely, we can measure the execution time of a function f() in Python as follows:"
   ]
  },
  {
   "cell_type": "code",
   "execution_count": 6,
   "metadata": {},
   "outputs": [
    {
     "data": {
      "text/plain": [
       "0.0"
      ]
     },
     "execution_count": 6,
     "metadata": {},
     "output_type": "execute_result"
    }
   ],
   "source": [
    "import time                \n",
    "start = time.time()        \n",
    "max_value = maximum(test_values)\n",
    "end = time.time()          \n",
    "runtime = end - start\n",
    "runtime"
   ]
  },
  {
   "cell_type": "markdown",
   "metadata": {},
   "source": [
    "On the previous screen, we measured the execution time of the maximum() function on a list with 500 elements. Just a single measurement doesn't really help us understand how the maximum() function behaves in terms of execution time.\n",
    "\n",
    "Let's make the input vary from length 1 to 500 and collect the execution time for each of them. The goal is to have an insight of how the execution evolves as the length of the list grows.\n",
    "\n",
    "To do our experiment, we will need to have input lists with sizes 1 to 500 to execute the maximum() function on. One way to generate these inputs is to use the random module. This module provides, among other things, the random.randint() function that, given two integers a and b, outputs a random number between a and b (inclusive)."
   ]
  },
  {
   "cell_type": "code",
   "execution_count": 7,
   "metadata": {},
   "outputs": [
    {
     "name": "stdout",
     "output_type": "stream",
     "text": [
      "6\n",
      "5\n",
      "6\n",
      "10\n"
     ]
    }
   ],
   "source": [
    "import random\n",
    "print(random.randint(1, 10))\n",
    "print(random.randint(1, 10))\n",
    "print(random.randint(1, 10))\n",
    "print(random.randint(1, 10))"
   ]
  },
  {
   "cell_type": "markdown",
   "metadata": {},
   "source": [
    "Using list comprehensions, we can use the random.randint() function to generate a random list of length 500 with values, say, from -1,000 to 1,000, as follows:"
   ]
  },
  {
   "cell_type": "code",
   "execution_count": 11,
   "metadata": {},
   "outputs": [
    {
     "data": {
      "text/plain": [
       "[140, -754, 436, 408, 233]"
      ]
     },
     "execution_count": 11,
     "metadata": {},
     "output_type": "execute_result"
    }
   ],
   "source": [
    "values = [random.randint(-1000, 1000) for _ in range(500)]\n",
    "values[0:5]"
   ]
  },
  {
   "cell_type": "markdown",
   "metadata": {},
   "source": [
    "Notice that we used the _ notation in the above for loop. This is a notation that can be used when we do not use the iteration variable. It gives the exact same result that we would get using some variable name, but avoids having to find a name for something that we will not use.\n",
    "\n",
    "Since we want to be able to generate inputs of lengths 1 to 500, it is convenient to define a function that takes as input a length and outputs a random list of the given length:\n",
    "```python\n",
    "def gen_input(length):\n",
    "    return [random.randint(-1000, 1000) for _ in range(length)]\n",
    "```\n",
    "We can now evaluate the execution time of the maximum() function on inputs ranging from length 1 to 500 by following these steps:\n",
    "\n",
    "1. Using a for loop, make a variable length go over all values from 1 to 500\n",
    "2. For each value of length, use the gen_input() function to get a random list of that length.\n",
    "3. Use the time module to time the execution of the function on the generated input.\n",
    "4. Collect all the values in a list\n",
    "\n",
    "Let's measure the execution time of the maximum() function on random input lists from length 1 to 500."
   ]
  },
  {
   "cell_type": "code",
   "execution_count": 15,
   "metadata": {},
   "outputs": [
    {
     "name": "stdout",
     "output_type": "stream",
     "text": [
      "500\n",
      "[0.0, 0.0, 0.0, 0.0, 0.0, 0.0, 0.0, 0.0, 0.0, 0.0, 0.0, 0.0, 0.0, 0.0, 0.0, 0.0, 0.0, 0.0, 0.0, 0.0, 0.0, 0.0, 0.0, 0.0, 0.0, 0.0, 0.0, 0.0, 0.0, 0.0, 0.0, 0.0, 0.0, 0.0, 0.0, 0.0, 0.0, 0.0, 0.0, 0.0, 0.0, 0.0, 0.0, 0.0, 0.0, 0.0, 0.0, 0.0, 0.0, 0.0, 0.0, 0.0, 0.0, 0.0, 0.0, 0.0, 0.0, 0.0, 0.0, 0.0, 0.0, 0.0, 0.0, 0.0, 0.0, 0.0, 0.0, 0.0, 0.0, 0.0, 0.0, 0.0, 0.0, 0.0, 0.0, 0.0, 0.0, 0.0, 0.0, 0.0, 0.0, 0.0, 0.0, 0.0, 0.0, 0.0, 0.0, 0.0, 0.0, 0.0, 0.0, 0.0, 0.0, 0.0, 0.0, 0.0, 0.0, 0.0, 0.0, 0.0, 0.0, 0.0, 0.0, 0.0, 0.0, 0.0, 0.0, 0.0, 0.0, 0.0, 0.0, 0.0, 0.0, 0.0, 0.0, 0.0, 0.0, 0.0, 0.0, 0.0, 0.0, 0.0009982585906982422, 0.0, 0.0, 0.0, 0.0, 0.0, 0.0, 0.0010247230529785156, 0.0, 0.0, 0.0, 0.0, 0.0, 0.0, 0.0, 0.0, 0.0, 0.0, 0.0, 0.0, 0.0, 0.0, 0.0, 0.0, 0.0, 0.0, 0.0, 0.0, 0.0, 0.0, 0.0, 0.0, 0.0, 0.0, 0.0, 0.0, 0.0, 0.0, 0.0, 0.0, 0.0, 0.0, 0.0, 0.0, 0.0, 0.0, 0.0, 0.0, 0.0, 0.0, 0.0, 0.0, 0.0, 0.0, 0.0, 0.0, 0.0, 0.0, 0.0, 0.0, 0.0, 0.0, 0.0, 0.0, 0.0, 0.0, 0.0, 0.0, 0.0, 0.0, 0.0, 0.0, 0.0, 0.0, 0.0, 0.0, 0.0, 0.0, 0.0, 0.0, 0.0, 0.0, 0.0, 0.0, 0.0, 0.0, 0.0, 0.0, 0.0, 0.0, 0.0, 0.0, 0.0, 0.0, 0.0, 0.0, 0.0, 0.0, 0.0, 0.0, 0.0, 0.0, 0.0, 0.0, 0.0, 0.0, 0.0, 0.0, 0.0, 0.0, 0.0, 0.0, 0.0, 0.0, 0.0, 0.0, 0.0, 0.0, 0.0, 0.0, 0.0, 0.0, 0.0, 0.0, 0.0, 0.0, 0.0, 0.0, 0.0, 0.0, 0.0, 0.0, 0.0, 0.0, 0.0, 0.0, 0.0, 0.0, 0.0, 0.0, 0.0, 0.0, 0.0, 0.0, 0.0, 0.0, 0.0, 0.0, 0.0, 0.0, 0.0, 0.0, 0.0, 0.0, 0.0, 0.0, 0.0, 0.0, 0.0, 0.0, 0.0, 0.0, 0.0, 0.0, 0.0, 0.0, 0.0, 0.0, 0.0, 0.0, 0.0, 0.0, 0.0, 0.0, 0.0, 0.0, 0.0, 0.0, 0.0, 0.0, 0.0, 0.0, 0.0, 0.0, 0.0, 0.0, 0.0, 0.0, 0.0, 0.0, 0.0, 0.0, 0.0, 0.0, 0.0, 0.0, 0.0, 0.0, 0.0, 0.0, 0.0, 0.0, 0.0, 0.0, 0.0, 0.0, 0.0, 0.0, 0.0, 0.0, 0.0, 0.0, 0.0, 0.0, 0.0, 0.0, 0.0, 0.0, 0.0, 0.0, 0.0, 0.0, 0.0, 0.0, 0.0, 0.0, 0.0, 0.0, 0.0, 0.0, 0.0, 0.0, 0.0, 0.0, 0.0, 0.0, 0.0, 0.0, 0.0, 0.0, 0.0, 0.0, 0.0, 0.0, 0.0, 0.0, 0.0, 0.0, 0.0, 0.0, 0.0, 0.0, 0.0, 0.0, 0.0, 0.0, 0.0, 0.0, 0.0, 0.0, 0.0, 0.0, 0.0, 0.0, 0.0, 0.0, 0.0, 0.0, 0.0, 0.0, 0.0, 0.0, 0.0, 0.0, 0.0, 0.0, 0.0, 0.0, 0.0, 0.0, 0.0, 0.0, 0.0, 0.0, 0.0, 0.0, 0.0, 0.0, 0.0, 0.0, 0.0, 0.0, 0.0, 0.0, 0.0, 0.0, 0.0009970664978027344, 0.0, 0.0, 0.0, 0.0, 0.0, 0.0, 0.0, 0.0, 0.0, 0.0, 0.0, 0.0, 0.0, 0.0, 0.0, 0.0, 0.0, 0.0, 0.0, 0.0, 0.0, 0.000997304916381836, 0.0, 0.0, 0.0, 0.0, 0.0, 0.0, 0.0, 0.0, 0.0, 0.0, 0.0, 0.0, 0.0, 0.0, 0.0, 0.0, 0.0, 0.0010018348693847656, 0.0, 0.0, 0.0, 0.0, 0.0, 0.0, 0.0, 0.0, 0.0, 0.0, 0.0, 0.0, 0.0, 0.0, 0.0, 0.0, 0.0, 0.0, 0.0, 0.0, 0.0, 0.0, 0.0, 0.0, 0.0, 0.0, 0.0, 0.0, 0.0, 0.0, 0.0, 0.0, 0.0, 0.0, 0.0, 0.0, 0.0, 0.0, 0.0, 0.0, 0.0, 0.0]\n"
     ]
    }
   ],
   "source": [
    "import time\n",
    "import random\n",
    "\n",
    "def maximum(values):\n",
    "    answer = None\n",
    "    for value in values:\n",
    "        if answer == None or answer < value:\n",
    "            answer = value\n",
    "    return answer\n",
    "\n",
    "def gen_input(length):\n",
    "    return [random.randint(-1000, 1000) for _ in range(length)]\n",
    "\n",
    "# add your code below\n",
    "times = []\n",
    "for length in range(1,501):\n",
    "    values = gen_input(length)\n",
    "    start = time.time()\n",
    "    maximum(values)\n",
    "    end = time.time()\n",
    "    times.append(end-start)\n",
    "print(len(times))\n",
    "print(times)\n"
   ]
  },
  {
   "cell_type": "markdown",
   "metadata": {},
   "source": [
    "On the previous screen, we evaluated the execution time of the maximum() function on input lists ranging from length 1 to length 500. The printed results are hard to read, so let's plot these times for visualizing how they are growing:\n",
    "<img src='images/plot1.png' />\n",
    "runtime tendency plot\n",
    "We can see some spikes on the execution times at some points. These are due to the external factors such as CPU load, memory management, among others. However, despite the lack of accuracy of these measures, we can see a line forming underneath, which roughly describes how the execution time is increasing. This is shown in red in the the following plot:\n",
    "<img src='images/plot2.png' />\n",
    "runtime tendency plot\n",
    "We can see that as the data increases, so does the execution time. This is not surprising since there is more data to process. However this tells us more. It gives us an insight on the rate at which it is increasing. The red line is a straight line which means that the time is growing somewhat proportionally with the data.\n",
    "\n",
    "This is good news, because it means that the execution time grows as the same rate as the data. Doubling the amount of data will double the amount of time needed to process it.\n",
    "\n",
    "The purpose of this mission is to learn how to look at an algorithm and derive a mathematical expression for the red line. As mentioned before, we call such an expression the time complexity of the algorithm:\n",
    "<img src='images/real_vs_model.png' />\n",
    "runtime tendency plot\n",
    "With the time complexity model, we are able to plug in a list length and get an idea of the execution time of the algorithm for that input length without needing to actually run the code. In general, the time complexity can have several behaviors, it does not always grow as a straight line. We will learn several types of growth throughout this course. By the end of this course, you'll be able to analyze an algorithm and provide a time complexity model:\n",
    "<img src='images/model.png' />\n",
    "model"
   ]
  },
  {
   "cell_type": "markdown",
   "metadata": {},
   "source": [
    "```python\n",
    "def sum_values(values):\n",
    "    total = 0            # c1, 1 time\n",
    "    for value in values: # c2, N times\n",
    "        total += value   # c3, N times\n",
    "    return total         # c4, 1 time\n",
    "```\n",
    "Now we multiply the execution time of each line by the number of times it is executed, and add those together:\n",
    "\\begin{equation}\n",
    "c_1 + c_2 \\times N + c_3 \\times N + c_4 = (c_2 + c_3) \\times N + (c_1 + c_4)\n",
    "\\end{equation}\n",
    "We can simplify a bit further by renaming c2 + c3 as another constant — let's say a — and c1 + c4 as b. By doing so, we obtain a cleaner expression for the execution time in terms of the size of the input (N):\n",
    "\\begin{equation}\n",
    "a \\times N + b\n",
    "\\end{equation}\n",
    "The following figure shows the plot of aN + b for the different a, b value pairs:\n",
    "<img src='images/ab.png' />\n",
    "\n",
    "As you can see, regardless of the values of a and b, the function aN + b is a straight line. We call an algorithm whose time complexity is a straight line a linear time algorithm. These algorithms have the property that the execution times grows proportionally to the data:\n",
    "<img src='images/linear_time.png' />\n",
    "\n",
    "Let's measure the execution of sum_values() on inputs of length 1 to 500 to confirm our analysis. We expect our experiment to also result in a straight line, in the same way as it did for the maximum() function."
   ]
  },
  {
   "cell_type": "code",
   "execution_count": 1,
   "metadata": {
    "scrolled": true
   },
   "outputs": [
    {
     "data": {
      "image/png": "[encoded data removed]",
      "text/plain": [
       "<Figure size 432x288 with 1 Axes>"
      ]
     },
     "metadata": {},
     "output_type": "display_data"
    }
   ],
   "source": [
    "import time\n",
    "import random\n",
    "import matplotlib.pyplot as plt\n",
    "\n",
    "def plot_times(times):\n",
    "    plt.plot(times)\n",
    "    plt.ylabel('runtime')\n",
    "    plt.xlabel('size')\n",
    "    plt.show()\n",
    "\n",
    "def sum_values(values):\n",
    "    total = 0            \n",
    "    for value in values: \n",
    "        total += value   \n",
    "    return total  \n",
    "\n",
    "def gen_input(length):\n",
    "    return [random.randint(-1000, 1000) for _ in range(length)]\n",
    "\n",
    "# add your code below\n",
    "times = []\n",
    "for length in range(1,501):\n",
    "    values = gen_input(length)\n",
    "    start = time.time()\n",
    "    sum_values(values)\n",
    "    end = time.time()\n",
    "    times.append(end-start)\n",
    "    \n",
    "plot_times(times)"
   ]
  },
  {
   "cell_type": "markdown",
   "metadata": {},
   "source": [
    "In our analysis on the previous screen, we needed to count how many times each line of code was executed. However, we cannot always do that. Consider for instance the maximum() function from before:\n",
    "\n",
    "def maximum(values):\n",
    "    answer = None\n",
    "    for value in values:\n",
    "        if answer == None or answer < value:\n",
    "            answer = value\n",
    "    return answer\n",
    "How many times is the line answer = value executed? Well, that depends on the values list. The first time, it is always executed because answer is initially set to None. After that, it depends on the order of the elements in values.\n",
    "\n",
    "For example, if values = [1, 2, 3, 4, 5] then, at every subsequent iteration, answer < value will be true, so the line will be executed one time for each value. On the other hand, if values = [5, 4, 3, 2, 1] then, the first time answer will be set to 5 and then the line will never be executed again.\n",
    "\n",
    "We say that the first is a worst case execution analysis and the latter a best case execution analysis. When building a model for the execution time of an algorithm, we often focus on the worst case. There a few reasons for doing so:\n",
    "\n",
    "We usually want to process data from a lot of different sources and, consequently, it turns out that the worst case actually occurs quite often.\n",
    "It provides an upper bound. By focusing on the worst case when building the execution time model, we can guarantee that the executions times will always behave at most as badly as the models predicts. Imagine that your are selling an algorithm that 1% of the time takes one second and 99% takes over a one year. If you advertise it as taking one second (best case), your customers will not be very pleased.\n",
    "In practice, this means that when building the model, the number of executions that we set for each line of code is the maximum number of times that it can possibly be executed.\n",
    "\n",
    "With this in mind, let's build a model for the maximum() function and see whether it matches our experimental prediction.\n",
    "```python\n",
    "def maximum(values):\n",
    "    answer = None                            # c1, 1 time,  c1\n",
    "    for value in values:                     # c2, N times, c2*N\n",
    "        if answer == None or answer < value: # c3, N times, c3*N\n",
    "            answer = value                   # c4, N times, c4*N\n",
    "    return answer                            # c5, 1 time,  c5\n",
    "```\n",
    "\\begin{align}\n",
    "\\color{orange}c_\\color{orange}1 + \\color{red}c_\\color{red}2 \\times N + \\color{red}c_\\color{red}3 \\times N + \\color{red}c_\\color{red}4 \\times N + \\color{orange}c_\\color{orange}5 & = \\\n",
    "(\\color{red}c_\\color{red}2 + \\color{red}c_\\color{red}3 + \\color{red}c_\\color{red}4) \\times N + (\\color{orange}c_\\color{orange}1 + \\color{orange}c_\\color{orange}5)\n",
    "\\end{align}\n",
    "\n",
    "leaning up the constants by renaming c2 + c3 + c4 as a and c1 + c5 as b, we again obtain a linear model aN + b , as expected. This confirms our previous experimental results on the maximum() function.\n"
   ]
  },
  {
   "cell_type": "code",
   "execution_count": 1,
   "metadata": {},
   "outputs": [],
   "source": [
    "def count_zeros(values):\n",
    "    count = 0            # c1\n",
    "    for value in values: # c2\n",
    "        if value == 0:   # c3\n",
    "            count += 1   # c4\n",
    "    return count         # c5\n",
    "\n",
    "model1 = '(c1 + c2) * N + (c3 + c4 + c5)'\n",
    "model2 = '(c2 + c3) * N + (c1 + c4 + c5)'\n",
    "model3 = '(c2 + c3 + c4) * N + (c1 + c5)'\n",
    "correct = model3"
   ]
  },
  {
   "cell_type": "markdown",
   "metadata": {},
   "source": [
    "So far, all the concrete functions that we analyzed had an execution time model that was linear, that is, of the form aN + b. Let's see an example where this is not the case. Consider the following zero_sum() function that counts the number of pairs of indexes whose values add up to 0.\n",
    "\n",
    "For example, if values = [1, 3, 2, -3] there there are two pairs (1, 3) and (3, 1) because\n",
    "```python\n",
    "def zero_sum(values):\n",
    "    N = len(values)                          \n",
    "    count = 0                               \n",
    "    for i in range(N):                     \n",
    "        for j in range(N):                    \n",
    "            if values[i] + values[j] == 0: \n",
    "                count += 1                    \n",
    "    return count\n",
    "```\n",
    "We will proceed in the same way as we've been doing so far to build the execution time model.\n",
    "\n",
    "Step 1: Assign an unknown constant to each line of code.\n",
    "```python\n",
    "def maximum(values):\n",
    "    answer = None                            # c1, 1 time,  c1\n",
    "    for value in values:                     # c2, N times, c2*N\n",
    "        if answer == None or answer < value: # c3, N times, c3*N\n",
    "            answer = value                   # c4, N times, c4*N\n",
    "    return answer                            # c5, 1 time,  c5\n",
    "def zero_sum(values):\n",
    "    N = len(values)                        # c1                     \n",
    "    count = 0                              # c2\n",
    "    for i in range(N):                     # c3\n",
    "        for j in range(N):                 # c4\n",
    "            if values[i] + values[j] == 0: # c5\n",
    "                count += 1                 # c6\n",
    "    return count                           # c7\n",
    "```\n",
    "Step 2: Count how many times each line is executed. Let N denote the number of elements in the values list. Remember that we now consider worst cases. In this case we'll assume that the if condition is always true.\n",
    "\n",
    ", N\n",
    "```python\n",
    "def zero_sum(values):\n",
    "    N = len(values)                        # c1, 1 time                     \n",
    "    count = 0                              # c2, 1 time\n",
    "    for i in range(N):                     # c3, N times\n",
    "        for j in range(N):                 # c4, N * N times\n",
    "            if values[i] + values[j] == 0: # c5, N * N times\n",
    "                count += 1                 # c6, N * N times\n",
    "    return count                           # c7, 1 time\n",
    "```\n",
    "Before we take the next step, let's make sure we understand why the for loop on j and inner lines are executed N2 times. By itself, the for loop on j is executed N times since it loops over N values. However, it is wrapped inside the for loop on i, which is also executed N times. Therefore, the total number of executions of the line containing the for loop on j is N × N = N2.\n",
    "\n",
    "A general rule of thumb is that a for loop inside another will be executed N2 times, a for loop inside two others will be executed N3 times, and so on.\n",
    "\n",
    "Step 3: Multiply the constant execution time of each line by the number of times the line is executed.\n",
    "```python\n",
    "def zero_sum(values):\n",
    "    N = len(values)                        # c1, 1 time,      c1                     \n",
    "    count = 0                              # c2, 1 time,      c2\n",
    "    for i in range(N):                     # c3, N times,     c3 * N\n",
    "        for j in range(N):                 # c4, N * N times, c4 * N^2\n",
    "            if values[i] + values[j] == 0: # c5, N * N times, c5 * N^2\n",
    "                count += 1                 # c6, N * N times, c6 * N^2\n",
    "    return count                           # c7, 1 time,      c7\n",
    "```\n",
    "Step 4: Add all values together and group terms together.\n",
    "\\begin{equation}\n",
    "\\color{orange}c_\\color{orange}1 + \\color{orange}c_\\color{orange}2 + \\color{red}c_\\color{red}3 \\times N + \\color{blue}c_\\color{blue}4 \\times N^2 + \\color{blue}c_\\color{blue}5 \\times N^2 + \\color{blue}c_\\color{blue}6 \\times N^2 + \\color{orange}c_\\color{orange}7 =\n",
    "\\end{equation}\n",
    "\\begin{equation}\n",
    "(\\color{blue}c_\\color{blue}4 + \\color{blue}c_\\color{blue}5 + \\color{blue}c_\\color{blue}6) \\times N^2 + \\color{red}c_\\color{red}3 \\times N + (\\color{orange}c_\\color{orange}1 + \\color{orange}c_\\color{orange}2 + \\color{orange}c_\\color{orange}7)\n",
    "\\end{equation}\n",
    "Let's simplify this by denoting c4 + c5 + c6 as a, c3 as b and c1 + c2 + c7 as c. Doing so, we obtain the following execution time model:\n",
    "\\begin{equation}\n",
    "a \\times N^2 + b \\times N + c\n",
    "\\end{equation}\n",
    "<img src='images/quadratic_time.png' />\n",
    "As the code becomes more complex, the analysis can become quite messy. In the next screen we'll simplify things further so that it becomes simpler to derive an execution time model.\n",
    "\n",
    "Before that, let's practice identifying the execution time model of a more complex algorithm."
   ]
  }
 ],
 "metadata": {
  "kernelspec": {
   "display_name": "Python 3",
   "language": "python",
   "name": "python3"
  },
  "language_info": {
   "codemirror_mode": {
    "name": "ipython",
    "version": 3
   },
   "file_extension": ".py",
   "mimetype": "text/x-python",
   "name": "python",
   "nbconvert_exporter": "python",
   "pygments_lexer": "ipython3",
   "version": "3.7.3"
  }
 },
 "nbformat": 4,
 "nbformat_minor": 4
}
